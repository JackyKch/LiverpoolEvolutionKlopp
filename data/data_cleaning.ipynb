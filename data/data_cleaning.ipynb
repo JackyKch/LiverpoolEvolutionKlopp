{
 "cells": [
  {
   "cell_type": "code",
   "execution_count": 76,
   "metadata": {},
   "outputs": [],
   "source": [
    "import pandas as pd\n",
    "import numpy as np"
   ]
  },
  {
   "cell_type": "code",
   "execution_count": 86,
   "metadata": {},
   "outputs": [],
   "source": [
    "df_goalz = pd.read_csv('goalzz_merged_all_cols_details_archive_from_2012.csv')"
   ]
  },
  {
   "cell_type": "code",
   "execution_count": 87,
   "metadata": {},
   "outputs": [],
   "source": [
    "df_all_data = pd.read_excel('Liverpool_data_all_v5.xlsx')"
   ]
  },
  {
   "cell_type": "code",
   "execution_count": 88,
   "metadata": {},
   "outputs": [],
   "source": [
    "df_goalz = df_goalz.drop_duplicates(subset=['date_match'])"
   ]
  },
  {
   "cell_type": "code",
   "execution_count": 90,
   "metadata": {},
   "outputs": [],
   "source": [
    "df_all_data['Date'] = pd.to_datetime(df_all_data['Date'].dt.strftime(\"%m/%d/%y\"))"
   ]
  },
  {
   "cell_type": "code",
   "execution_count": 91,
   "metadata": {},
   "outputs": [],
   "source": [
    "df_goalz['date_match'] = pd.to_datetime(df_goalz['date_match'])"
   ]
  },
  {
   "cell_type": "code",
   "execution_count": 92,
   "metadata": {},
   "outputs": [],
   "source": [
    "test = pd.merge(df_goalz,df_all_data,right_on=\"Date\",left_on='date_match',how='inner')"
   ]
  },
  {
   "cell_type": "code",
   "execution_count": 113,
   "metadata": {},
   "outputs": [],
   "source": [
    "res_pl = test[['season','contests','date_match','home_team','away_team','at_anfield','Goals', 'Assists', 'Formation', 'Shots', 'Shots On Target', 'Saves',\n",
    "       'Penalties won', 'Penalties scored', 'Crosses', 'Fouls', 'Offsides',\n",
    "       'Corners', 'Yellow Card', 'Red Cards', 'Balls touched', 'Passes','liverpool_score',\n",
    "       'Interceptions', 'Blocks', 'Catches', 'Tackles', 'Possession','Elo_Liverpool', 'Elo_Opponent', 'Elo_Diff', 'Rest_Days',\n",
    "        'HTHG (Half Time Home Team Goals)', 'HTAG (Half Time Away Team Goals)','FTHG (Full Time Home Team Goals)', 'FTAG (Full Time Away Team Goals)']]"
   ]
  },
  {
   "cell_type": "code",
   "execution_count": 114,
   "metadata": {},
   "outputs": [
    {
     "name": "stderr",
     "output_type": "stream",
     "text": [
      "C:\\Users\\ibrah\\anaconda3\\lib\\site-packages\\ipykernel_launcher.py:1: SettingWithCopyWarning: \n",
      "A value is trying to be set on a copy of a slice from a DataFrame.\n",
      "Try using .loc[row_indexer,col_indexer] = value instead\n",
      "\n",
      "See the caveats in the documentation: https://pandas.pydata.org/pandas-docs/stable/user_guide/indexing.html#returning-a-view-versus-a-copy\n",
      "  \"\"\"Entry point for launching an IPython kernel.\n"
     ]
    }
   ],
   "source": [
    "res_pl['liverpool_score_ft'] = np.where(res_pl['at_anfield'] , res_pl['FTHG (Full Time Home Team Goals)'],res_pl['FTAG (Full Time Away Team Goals)'])"
   ]
  },
  {
   "cell_type": "code",
   "execution_count": 115,
   "metadata": {},
   "outputs": [
    {
     "name": "stderr",
     "output_type": "stream",
     "text": [
      "C:\\Users\\ibrah\\anaconda3\\lib\\site-packages\\ipykernel_launcher.py:1: SettingWithCopyWarning: \n",
      "A value is trying to be set on a copy of a slice from a DataFrame.\n",
      "Try using .loc[row_indexer,col_indexer] = value instead\n",
      "\n",
      "See the caveats in the documentation: https://pandas.pydata.org/pandas-docs/stable/user_guide/indexing.html#returning-a-view-versus-a-copy\n",
      "  \"\"\"Entry point for launching an IPython kernel.\n"
     ]
    }
   ],
   "source": [
    "res_pl['liverpool_score_ht'] = np.where(res_pl['at_anfield'],res_pl['HTHG (Half Time Home Team Goals)'],res_pl['HTAG (Half Time Away Team Goals)'])"
   ]
  },
  {
   "cell_type": "code",
   "execution_count": 116,
   "metadata": {},
   "outputs": [
    {
     "name": "stderr",
     "output_type": "stream",
     "text": [
      "C:\\Users\\ibrah\\anaconda3\\lib\\site-packages\\ipykernel_launcher.py:1: SettingWithCopyWarning: \n",
      "A value is trying to be set on a copy of a slice from a DataFrame.\n",
      "Try using .loc[row_indexer,col_indexer] = value instead\n",
      "\n",
      "See the caveats in the documentation: https://pandas.pydata.org/pandas-docs/stable/user_guide/indexing.html#returning-a-view-versus-a-copy\n",
      "  \"\"\"Entry point for launching an IPython kernel.\n"
     ]
    }
   ],
   "source": [
    "res_pl['opponent_score_ft'] = np.where(res_pl['at_anfield'] == False , res_pl['FTHG (Full Time Home Team Goals)'],res_pl['FTAG (Full Time Away Team Goals)'])"
   ]
  },
  {
   "cell_type": "code",
   "execution_count": 117,
   "metadata": {},
   "outputs": [
    {
     "name": "stderr",
     "output_type": "stream",
     "text": [
      "C:\\Users\\ibrah\\anaconda3\\lib\\site-packages\\ipykernel_launcher.py:1: SettingWithCopyWarning: \n",
      "A value is trying to be set on a copy of a slice from a DataFrame.\n",
      "Try using .loc[row_indexer,col_indexer] = value instead\n",
      "\n",
      "See the caveats in the documentation: https://pandas.pydata.org/pandas-docs/stable/user_guide/indexing.html#returning-a-view-versus-a-copy\n",
      "  \"\"\"Entry point for launching an IPython kernel.\n"
     ]
    }
   ],
   "source": [
    "res_pl['opponent_score_ht'] = np.where(res_pl['at_anfield'] == False,res_pl['HTHG (Half Time Home Team Goals)'],res_pl['HTAG (Half Time Away Team Goals)'])"
   ]
  },
  {
   "cell_type": "code",
   "execution_count": 118,
   "metadata": {},
   "outputs": [
    {
     "name": "stderr",
     "output_type": "stream",
     "text": [
      "C:\\Users\\ibrah\\anaconda3\\lib\\site-packages\\ipykernel_launcher.py:1: SettingWithCopyWarning: \n",
      "A value is trying to be set on a copy of a slice from a DataFrame.\n",
      "Try using .loc[row_indexer,col_indexer] = value instead\n",
      "\n",
      "See the caveats in the documentation: https://pandas.pydata.org/pandas-docs/stable/user_guide/indexing.html#returning-a-view-versus-a-copy\n",
      "  \"\"\"Entry point for launching an IPython kernel.\n"
     ]
    }
   ],
   "source": [
    "res_pl['liverpool_result_ft'] = res_pl['liverpool_score']"
   ]
  },
  {
   "cell_type": "code",
   "execution_count": 120,
   "metadata": {},
   "outputs": [
    {
     "name": "stderr",
     "output_type": "stream",
     "text": [
      "C:\\Users\\ibrah\\anaconda3\\lib\\site-packages\\ipykernel_launcher.py:2: SettingWithCopyWarning: \n",
      "A value is trying to be set on a copy of a slice from a DataFrame.\n",
      "Try using .loc[row_indexer,col_indexer] = value instead\n",
      "\n",
      "See the caveats in the documentation: https://pandas.pydata.org/pandas-docs/stable/user_guide/indexing.html#returning-a-view-versus-a-copy\n",
      "  \n"
     ]
    }
   ],
   "source": [
    "res_pl['liverpool_result_ht'] = np.where(res_pl['liverpool_score_ht'] > res_pl['opponent_score_ht'],'V',\n",
    "                                         np.where(res_pl['liverpool_score_ht'] < res_pl['opponent_score_ht'],'D','N'))"
   ]
  },
  {
   "cell_type": "code",
   "execution_count": 123,
   "metadata": {},
   "outputs": [],
   "source": [
    "res_pl = res_pl.drop(columns=['HTHG (Half Time Home Team Goals)',\n",
    "       'HTAG (Half Time Away Team Goals)', 'FTHG (Full Time Home Team Goals)',\n",
    "       'FTAG (Full Time Away Team Goals)'])"
   ]
  },
  {
   "cell_type": "code",
   "execution_count": 126,
   "metadata": {},
   "outputs": [],
   "source": [
    "res_pl.to_csv('Liverpool_data_epl_match_details.csv',index=False)"
   ]
  },
  {
   "cell_type": "code",
   "execution_count": 101,
   "metadata": {},
   "outputs": [],
   "source": [
    "res_pl.to_csv('all_data_pl_with_elo.csv',index=False)"
   ]
  },
  {
   "cell_type": "code",
   "execution_count": null,
   "metadata": {},
   "outputs": [],
   "source": [
    "['season','contests','date_match','home_team','away_team','at_anfield','liverpool_score_ft','liverpool_score_ht','opponent_score_ft','opponent_score_ht','liverpool_result_ft','liverpool_result_ht','shots','shots_on_target','']"
   ]
  },
  {
   "cell_type": "code",
   "execution_count": 48,
   "metadata": {},
   "outputs": [],
   "source": [
    "line_1 = [0,0,'4-3-3',10,3,3,0,0,8,12,1,6,2,0,733,639,2,9,3,20,70,'2020-06-21','English Premier League','Everton FC',0,0,'Liverpool','N',False,'2019 - 2020',102]\n",
    "line_2 = [4,3,'4-3-3',21,7,0,0,0,18,9,0,6,0,0,1025,929,4,8,0,15,73,'2020-06-24','English Premier League','Liverpool',4,0,'Crystal Palace','V',True,'2019 - 2020',3]\n",
    "line_3 = [5,3,'4-3-2-1',13,7,1,0,0,24,14,4,3,1,0,707,334,13,10,1,23,54,'2016-01-23','English Premier League','Norwich City',4,5,'Liverpool','V',False,'2015 - 2016',3]"
   ]
  },
  {
   "cell_type": "code",
   "execution_count": 53,
   "metadata": {},
   "outputs": [],
   "source": [
    "df_goalz.loc[343] = line_1"
   ]
  },
  {
   "cell_type": "code",
   "execution_count": 55,
   "metadata": {},
   "outputs": [],
   "source": [
    "df_goalz.loc[344] = line_2"
   ]
  },
  {
   "cell_type": "code",
   "execution_count": 56,
   "metadata": {},
   "outputs": [],
   "source": [
    "df_goalz.loc[345] = line_3"
   ]
  },
  {
   "cell_type": "code",
   "execution_count": 59,
   "metadata": {},
   "outputs": [],
   "source": [
    "df_goalz['date_match'] = pd.to_datetime(df_goalz['date_match'])"
   ]
  },
  {
   "cell_type": "code",
   "execution_count": null,
   "metadata": {},
   "outputs": [],
   "source": []
  },
  {
   "cell_type": "markdown",
   "metadata": {},
   "source": [
    "## Europe"
   ]
  },
  {
   "cell_type": "code",
   "execution_count": 129,
   "metadata": {},
   "outputs": [],
   "source": [
    "df_ldc = pd.read_excel('Liverpool_data_all_v5.xlsx',sheet_name=2)"
   ]
  },
  {
   "cell_type": "code",
   "execution_count": 132,
   "metadata": {},
   "outputs": [],
   "source": [
    "testldc = pd.merge(df_goalz,df_ldc,right_on=\"date_match\",left_on='date_match',how='inner')"
   ]
  },
  {
   "cell_type": "code",
   "execution_count": 135,
   "metadata": {},
   "outputs": [],
   "source": [
    "for col in testldc.columns:\n",
    "    if col.endswith('_x'):\n",
    "        new_col = col.replace('_x','')\n",
    "        testldc = testldc.rename(columns={col : new_col})\n",
    "    if col.endswith('_y'):\n",
    "        testldc = testldc.drop(columns=[col])"
   ]
  },
  {
   "cell_type": "code",
   "execution_count": 137,
   "metadata": {},
   "outputs": [],
   "source": [
    "testldc['liverpool_score_ft'] = np.where(testldc['at_anfield'],testldc['home_score'],testldc['away_score']) "
   ]
  },
  {
   "cell_type": "code",
   "execution_count": 138,
   "metadata": {},
   "outputs": [],
   "source": [
    "testldc['opponent_score_ft'] = np.where(testldc['at_anfield'],testldc['away_score'],testldc['home_score']) "
   ]
  },
  {
   "cell_type": "code",
   "execution_count": 139,
   "metadata": {},
   "outputs": [],
   "source": [
    "testldc = testldc.rename(columns={'liverpool_score':'liverpool_result'})"
   ]
  },
  {
   "cell_type": "code",
   "execution_count": 141,
   "metadata": {},
   "outputs": [],
   "source": [
    "testldc = testldc.drop(columns=['home_score', 'away_score'])"
   ]
  },
  {
   "cell_type": "code",
   "execution_count": 143,
   "metadata": {},
   "outputs": [],
   "source": [
    "testldc.to_csv('Liverpool_data_ldc_match_details.csv',index= False)"
   ]
  },
  {
   "cell_type": "code",
   "execution_count": null,
   "metadata": {},
   "outputs": [],
   "source": []
  },
  {
   "cell_type": "code",
   "execution_count": 147,
   "metadata": {},
   "outputs": [],
   "source": [
    "for i in testldc.season.unique():\n",
    "    df_tmp = testldc[testldc['season'] == i]\n",
    "    df_tmp.to_csv(f'Liverpool_data_ldc_match_details_{i}.csv',index= False)"
   ]
  },
  {
   "cell_type": "code",
   "execution_count": 148,
   "metadata": {},
   "outputs": [],
   "source": [
    "for i in res_pl.season.unique():\n",
    "    df_tmp = res_pl[res_pl['season'] == i]\n",
    "    df_tmp.to_csv(f'Liverpool_data_epl_match_details_{i}.csv',index= False)"
   ]
  }
 ],
 "metadata": {
  "kernelspec": {
   "display_name": "Python 3",
   "language": "python",
   "name": "python3"
  },
  "language_info": {
   "codemirror_mode": {
    "name": "ipython",
    "version": 3
   },
   "file_extension": ".py",
   "mimetype": "text/x-python",
   "name": "python",
   "nbconvert_exporter": "python",
   "pygments_lexer": "ipython3",
   "version": "3.7.1"
  }
 },
 "nbformat": 4,
 "nbformat_minor": 4
}
