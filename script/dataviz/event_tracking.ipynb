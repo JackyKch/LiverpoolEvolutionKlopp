{
 "metadata": {
  "language_info": {
   "codemirror_mode": {
    "name": "ipython",
    "version": 3
   },
   "file_extension": ".py",
   "mimetype": "text/x-python",
   "name": "python",
   "nbconvert_exporter": "python",
   "pygments_lexer": "ipython3",
   "version": "3.9.0"
  },
  "orig_nbformat": 2,
  "kernelspec": {
   "name": "python390jvsc74a57bd06f63aac4862f49defdc0ab97c706aeed6401f5109f2f5eb8ddfd96c2030351e5",
   "display_name": "Python 3.9.0 64-bit"
  },
  "metadata": {
   "interpreter": {
    "hash": "6f63aac4862f49defdc0ab97c706aeed6401f5109f2f5eb8ddfd96c2030351e5"
   }
  }
 },
 "nbformat": 4,
 "nbformat_minor": 2,
 "cells": [
  {
   "source": [
    "# Plot Liverpool player goal involvements totals in a bar chart"
   ],
   "cell_type": "markdown",
   "metadata": {}
  },
  {
   "source": [
    "## Imports"
   ],
   "cell_type": "markdown",
   "metadata": {}
  },
  {
   "cell_type": "code",
   "execution_count": 2,
   "metadata": {},
   "outputs": [],
   "source": [
    "import pandas as pd \n",
    "import matplotlib.pyplot as plt \n",
    "import matplotlib.patheffects as path_effects\n",
    "import numpy as np "
   ]
  },
  {
   "source": [
    "## Retrieve Data"
   ],
   "cell_type": "markdown",
   "metadata": {}
  },
  {
   "cell_type": "code",
   "execution_count": 3,
   "metadata": {},
   "outputs": [],
   "source": [
    "data = pd.read_csv(\"../../data/all_season/Liverpool_data_epl_match_details.csv\")"
   ]
  },
  {
   "cell_type": "code",
   "execution_count": 4,
   "metadata": {},
   "outputs": [],
   "source": [
    "# Add Champions League data\n",
    "data_ldc = pd.read_csv(\"../../data/all_season/Liverpool_data_ldc_match_details.csv\")"
   ]
  },
  {
   "cell_type": "code",
   "execution_count": 5,
   "metadata": {},
   "outputs": [],
   "source": [
    "# Rename Elo column before appending the data\n",
    "data_ldc.rename(columns={\"elo_liverpool\": \"Elo_Liverpool\"}, inplace=True)"
   ]
  },
  {
   "cell_type": "code",
   "execution_count": 6,
   "metadata": {},
   "outputs": [],
   "source": [
    "data = data.append(data_ldc, ignore_index=True)"
   ]
  },
  {
   "cell_type": "code",
   "execution_count": 7,
   "metadata": {},
   "outputs": [],
   "source": [
    "# Sort the data chronologically\n",
    "data = data.sort_values(by=['date_match'])"
   ]
  },
  {
   "cell_type": "code",
   "execution_count": 9,
   "metadata": {},
   "outputs": [],
   "source": [
    "data = data.reset_index()"
   ]
  },
  {
   "source": [
    "## Creat a column summing number of assists and "
   ],
   "cell_type": "markdown",
   "metadata": {}
  },
  {
   "cell_type": "code",
   "execution_count": 11,
   "metadata": {},
   "outputs": [
    {
     "output_type": "execute_result",
     "data": {
      "text/plain": [
       "Index(['index', 'season', 'contests', 'date_match', 'home_team', 'away_team',\n",
       "       'at_anfield', 'Goals', 'Assists', 'Formation', 'Shots',\n",
       "       'Shots On Target', 'Saves', 'Penalties won', 'Penalties scored',\n",
       "       'Crosses', 'Fouls', 'Offsides', 'Corners', 'Yellow Card', 'Red Cards',\n",
       "       'Balls touched', 'Passes', 'liverpool_score', 'Interceptions', 'Blocks',\n",
       "       'Catches', 'Tackles', 'Possession', 'Elo_Liverpool', 'Elo_Opponent',\n",
       "       'Elo_Diff', 'Rest_Days', 'liverpool_score_ft', 'liverpool_score_ht',\n",
       "       'opponent_score_ft', 'opponent_score_ht', 'liverpool_result_ft',\n",
       "       'liverpool_result_ht', 'liverpool_result', 'rest_days', 'elo_opponent',\n",
       "       'Diff_elo'],\n",
       "      dtype='object')"
      ]
     },
     "metadata": {},
     "execution_count": 11
    }
   ],
   "source": [
    "data.columns"
   ]
  },
  {
   "cell_type": "code",
   "execution_count": null,
   "metadata": {},
   "outputs": [],
   "source": []
  }
 ]
}