{
 "cells": [
  {
   "cell_type": "code",
   "execution_count": 1,
   "metadata": {},
   "outputs": [],
   "source": [
    "import pandas as pd\n",
    "import numpy as np\n",
    "import seaborn as sns\n",
    "from numpy import mean,inf,arange\n",
    "from numpy import std,var\n",
    "from pandas import read_csv\n",
    "from matplotlib import pyplot as plt\n",
    "from sklearn.discriminant_analysis import LinearDiscriminantAnalysis\n",
    "from sklearn.preprocessing import StandardScaler\n",
    "from sklearn.model_selection import RepeatedStratifiedKFold,cross_val_score,GridSearchCV,train_test_split"
   ]
  },
  {
   "cell_type": "code",
   "execution_count": 2,
   "metadata": {},
   "outputs": [],
   "source": [
    "scaler = StandardScaler()"
   ]
  },
  {
   "cell_type": "code",
   "execution_count": 3,
   "metadata": {},
   "outputs": [],
   "source": [
    "df = pd.read_csv('../../../data/dataset.csv')"
   ]
  },
  {
   "cell_type": "code",
   "execution_count": 9,
   "metadata": {},
   "outputs": [],
   "source": [
    "def get_new_target(col):\n",
    "    return 1 if col == 'V' else 0"
   ]
  },
  {
   "cell_type": "code",
   "execution_count": 10,
   "metadata": {},
   "outputs": [],
   "source": [
    "df['new_target'] = df['liverpool_result_ft'].apply(get_new_target)"
   ]
  },
  {
   "cell_type": "code",
   "execution_count": 11,
   "metadata": {},
   "outputs": [],
   "source": [
    "x = df.drop(columns=['liverpool_result_ft'])"
   ]
  },
  {
   "cell_type": "code",
   "execution_count": 12,
   "metadata": {},
   "outputs": [],
   "source": [
    "y = df['liverpool_result_ft']"
   ]
  },
  {
   "cell_type": "code",
   "execution_count": 13,
   "metadata": {},
   "outputs": [],
   "source": [
    "x_scaled = pd.DataFrame(scaler.fit_transform(x), columns=x.columns)"
   ]
  },
  {
   "cell_type": "code",
   "execution_count": 14,
   "metadata": {},
   "outputs": [],
   "source": [
    "y_new = df['new_target']"
   ]
  },
  {
   "cell_type": "code",
   "execution_count": 19,
   "metadata": {},
   "outputs": [
    {
     "name": "stdout",
     "output_type": "stream",
     "text": [
      "Mean Accuracy: 0.685 (0.048)\n"
     ]
    }
   ],
   "source": [
    "model = LinearDiscriminantAnalysis()\n",
    "# define model evaluation method\n",
    "cv = RepeatedStratifiedKFold(n_splits=5, n_repeats=100, random_state=1)\n",
    "# evaluate model\n",
    "scores = cross_val_score(model, x, y_new, scoring='accuracy', cv=cv, n_jobs=-1)\n",
    "# summarize result\n",
    "print('Mean Accuracy: %.3f (%.3f)' % (mean(scores), std(scores)))"
   ]
  },
  {
   "cell_type": "code",
   "execution_count": null,
   "metadata": {},
   "outputs": [],
   "source": []
  },
  {
   "cell_type": "code",
   "execution_count": 12,
   "metadata": {},
   "outputs": [],
   "source": [
    "# define grid\n",
    "grid = dict()\n",
    "grid['solver'] = ['lsqr']\n",
    "grid['shrinkage'] = arange(0, 1, 0.01)\n",
    "grid['n_components'] = arange(2,6,1)\n",
    "# define search\n",
    "search = GridSearchCV(model, grid, scoring='accuracy', cv=cv, n_jobs=-1)"
   ]
  },
  {
   "cell_type": "code",
   "execution_count": 13,
   "metadata": {},
   "outputs": [
    {
     "data": {
      "text/plain": [
       "GridSearchCV(cv=RepeatedStratifiedKFold(n_repeats=3, n_splits=5, random_state=1),\n",
       "             estimator=LinearDiscriminantAnalysis(), n_jobs=-1,\n",
       "             param_grid={'n_components': array([2, 3, 4, 5]),\n",
       "                         'shrinkage': array([0.  , 0.01, 0.02, 0.03, 0.04, 0.05, 0.06, 0.07, 0.08, 0.09, 0.1 ,\n",
       "       0.11, 0.12, 0.13, 0.14, 0.15, 0.16, 0.17, 0.18, 0.19, 0.2 , 0.21,\n",
       "       0.22, 0.23, 0.24, 0.25, 0.26, 0.27, 0.28, 0.29, 0.3 , 0.31, 0.32,\n",
       "       0.33, 0.34, 0.35, 0.36, 0.37, 0.38, 0.39, 0.4 , 0.41, 0.42, 0.43,\n",
       "       0.44, 0.45, 0.46, 0.47, 0.48, 0.49, 0.5 , 0.51, 0.52, 0.53, 0.54,\n",
       "       0.55, 0.56, 0.57, 0.58, 0.59, 0.6 , 0.61, 0.62, 0.63, 0.64, 0.65,\n",
       "       0.66, 0.67, 0.68, 0.69, 0.7 , 0.71, 0.72, 0.73, 0.74, 0.75, 0.76,\n",
       "       0.77, 0.78, 0.79, 0.8 , 0.81, 0.82, 0.83, 0.84, 0.85, 0.86, 0.87,\n",
       "       0.88, 0.89, 0.9 , 0.91, 0.92, 0.93, 0.94, 0.95, 0.96, 0.97, 0.98,\n",
       "       0.99]),\n",
       "                         'solver': ['lsqr']},\n",
       "             scoring='accuracy')"
      ]
     },
     "execution_count": 13,
     "metadata": {},
     "output_type": "execute_result"
    }
   ],
   "source": [
    "search.fit(x_scaled, y)"
   ]
  },
  {
   "cell_type": "code",
   "execution_count": 14,
   "metadata": {},
   "outputs": [],
   "source": [
    "res = pd.DataFrame(search.cv_results_).sort_values('rank_test_score')"
   ]
  },
  {
   "cell_type": "code",
   "execution_count": 15,
   "metadata": {},
   "outputs": [
    {
     "data": {
      "text/html": [
       "<div>\n",
       "<style scoped>\n",
       "    .dataframe tbody tr th:only-of-type {\n",
       "        vertical-align: middle;\n",
       "    }\n",
       "\n",
       "    .dataframe tbody tr th {\n",
       "        vertical-align: top;\n",
       "    }\n",
       "\n",
       "    .dataframe thead th {\n",
       "        text-align: right;\n",
       "    }\n",
       "</style>\n",
       "<table border=\"1\" class=\"dataframe\">\n",
       "  <thead>\n",
       "    <tr style=\"text-align: right;\">\n",
       "      <th></th>\n",
       "      <th>mean_fit_time</th>\n",
       "      <th>std_fit_time</th>\n",
       "      <th>mean_score_time</th>\n",
       "      <th>std_score_time</th>\n",
       "      <th>param_n_components</th>\n",
       "      <th>param_shrinkage</th>\n",
       "      <th>param_solver</th>\n",
       "      <th>params</th>\n",
       "      <th>split0_test_score</th>\n",
       "      <th>split1_test_score</th>\n",
       "      <th>...</th>\n",
       "      <th>split8_test_score</th>\n",
       "      <th>split9_test_score</th>\n",
       "      <th>split10_test_score</th>\n",
       "      <th>split11_test_score</th>\n",
       "      <th>split12_test_score</th>\n",
       "      <th>split13_test_score</th>\n",
       "      <th>split14_test_score</th>\n",
       "      <th>mean_test_score</th>\n",
       "      <th>std_test_score</th>\n",
       "      <th>rank_test_score</th>\n",
       "    </tr>\n",
       "  </thead>\n",
       "  <tbody>\n",
       "    <tr>\n",
       "      <th>8</th>\n",
       "      <td>0.010828</td>\n",
       "      <td>0.004789</td>\n",
       "      <td>0.006670</td>\n",
       "      <td>0.004526</td>\n",
       "      <td>2</td>\n",
       "      <td>0.08</td>\n",
       "      <td>lsqr</td>\n",
       "      <td>{'n_components': 2, 'shrinkage': 0.08, 'solver...</td>\n",
       "      <td>0.642857</td>\n",
       "      <td>0.623188</td>\n",
       "      <td>...</td>\n",
       "      <td>0.623188</td>\n",
       "      <td>0.579710</td>\n",
       "      <td>0.685714</td>\n",
       "      <td>0.652174</td>\n",
       "      <td>0.637681</td>\n",
       "      <td>0.550725</td>\n",
       "      <td>0.550725</td>\n",
       "      <td>0.608737</td>\n",
       "      <td>0.041107</td>\n",
       "      <td>1</td>\n",
       "    </tr>\n",
       "    <tr>\n",
       "      <th>10</th>\n",
       "      <td>0.012197</td>\n",
       "      <td>0.007733</td>\n",
       "      <td>0.005345</td>\n",
       "      <td>0.003546</td>\n",
       "      <td>2</td>\n",
       "      <td>0.1</td>\n",
       "      <td>lsqr</td>\n",
       "      <td>{'n_components': 2, 'shrinkage': 0.1, 'solver'...</td>\n",
       "      <td>0.642857</td>\n",
       "      <td>0.623188</td>\n",
       "      <td>...</td>\n",
       "      <td>0.623188</td>\n",
       "      <td>0.565217</td>\n",
       "      <td>0.685714</td>\n",
       "      <td>0.652174</td>\n",
       "      <td>0.637681</td>\n",
       "      <td>0.550725</td>\n",
       "      <td>0.550725</td>\n",
       "      <td>0.607785</td>\n",
       "      <td>0.042152</td>\n",
       "      <td>2</td>\n",
       "    </tr>\n",
       "    <tr>\n",
       "      <th>9</th>\n",
       "      <td>0.010600</td>\n",
       "      <td>0.006171</td>\n",
       "      <td>0.004698</td>\n",
       "      <td>0.002222</td>\n",
       "      <td>2</td>\n",
       "      <td>0.09</td>\n",
       "      <td>lsqr</td>\n",
       "      <td>{'n_components': 2, 'shrinkage': 0.09, 'solver...</td>\n",
       "      <td>0.642857</td>\n",
       "      <td>0.623188</td>\n",
       "      <td>...</td>\n",
       "      <td>0.623188</td>\n",
       "      <td>0.565217</td>\n",
       "      <td>0.685714</td>\n",
       "      <td>0.652174</td>\n",
       "      <td>0.637681</td>\n",
       "      <td>0.550725</td>\n",
       "      <td>0.550725</td>\n",
       "      <td>0.607785</td>\n",
       "      <td>0.042152</td>\n",
       "      <td>2</td>\n",
       "    </tr>\n",
       "    <tr>\n",
       "      <th>5</th>\n",
       "      <td>0.011497</td>\n",
       "      <td>0.003494</td>\n",
       "      <td>0.006186</td>\n",
       "      <td>0.003860</td>\n",
       "      <td>2</td>\n",
       "      <td>0.05</td>\n",
       "      <td>lsqr</td>\n",
       "      <td>{'n_components': 2, 'shrinkage': 0.05, 'solver...</td>\n",
       "      <td>0.642857</td>\n",
       "      <td>0.623188</td>\n",
       "      <td>...</td>\n",
       "      <td>0.623188</td>\n",
       "      <td>0.579710</td>\n",
       "      <td>0.685714</td>\n",
       "      <td>0.652174</td>\n",
       "      <td>0.637681</td>\n",
       "      <td>0.550725</td>\n",
       "      <td>0.550725</td>\n",
       "      <td>0.607771</td>\n",
       "      <td>0.041605</td>\n",
       "      <td>4</td>\n",
       "    </tr>\n",
       "    <tr>\n",
       "      <th>6</th>\n",
       "      <td>0.010571</td>\n",
       "      <td>0.002958</td>\n",
       "      <td>0.003999</td>\n",
       "      <td>0.000891</td>\n",
       "      <td>2</td>\n",
       "      <td>0.06</td>\n",
       "      <td>lsqr</td>\n",
       "      <td>{'n_components': 2, 'shrinkage': 0.06, 'solver...</td>\n",
       "      <td>0.642857</td>\n",
       "      <td>0.623188</td>\n",
       "      <td>...</td>\n",
       "      <td>0.623188</td>\n",
       "      <td>0.579710</td>\n",
       "      <td>0.685714</td>\n",
       "      <td>0.652174</td>\n",
       "      <td>0.637681</td>\n",
       "      <td>0.550725</td>\n",
       "      <td>0.550725</td>\n",
       "      <td>0.607771</td>\n",
       "      <td>0.041605</td>\n",
       "      <td>4</td>\n",
       "    </tr>\n",
       "    <tr>\n",
       "      <th>...</th>\n",
       "      <td>...</td>\n",
       "      <td>...</td>\n",
       "      <td>...</td>\n",
       "      <td>...</td>\n",
       "      <td>...</td>\n",
       "      <td>...</td>\n",
       "      <td>...</td>\n",
       "      <td>...</td>\n",
       "      <td>...</td>\n",
       "      <td>...</td>\n",
       "      <td>...</td>\n",
       "      <td>...</td>\n",
       "      <td>...</td>\n",
       "      <td>...</td>\n",
       "      <td>...</td>\n",
       "      <td>...</td>\n",
       "      <td>...</td>\n",
       "      <td>...</td>\n",
       "      <td>...</td>\n",
       "      <td>...</td>\n",
       "      <td>...</td>\n",
       "    </tr>\n",
       "    <tr>\n",
       "      <th>196</th>\n",
       "      <td>0.006980</td>\n",
       "      <td>0.002399</td>\n",
       "      <td>0.000000</td>\n",
       "      <td>0.000000</td>\n",
       "      <td>3</td>\n",
       "      <td>0.96</td>\n",
       "      <td>lsqr</td>\n",
       "      <td>{'n_components': 3, 'shrinkage': 0.96, 'solver...</td>\n",
       "      <td>NaN</td>\n",
       "      <td>NaN</td>\n",
       "      <td>...</td>\n",
       "      <td>NaN</td>\n",
       "      <td>NaN</td>\n",
       "      <td>NaN</td>\n",
       "      <td>NaN</td>\n",
       "      <td>NaN</td>\n",
       "      <td>NaN</td>\n",
       "      <td>NaN</td>\n",
       "      <td>NaN</td>\n",
       "      <td>NaN</td>\n",
       "      <td>396</td>\n",
       "    </tr>\n",
       "    <tr>\n",
       "      <th>195</th>\n",
       "      <td>0.007152</td>\n",
       "      <td>0.002621</td>\n",
       "      <td>0.000000</td>\n",
       "      <td>0.000000</td>\n",
       "      <td>3</td>\n",
       "      <td>0.95</td>\n",
       "      <td>lsqr</td>\n",
       "      <td>{'n_components': 3, 'shrinkage': 0.95000000000...</td>\n",
       "      <td>NaN</td>\n",
       "      <td>NaN</td>\n",
       "      <td>...</td>\n",
       "      <td>NaN</td>\n",
       "      <td>NaN</td>\n",
       "      <td>NaN</td>\n",
       "      <td>NaN</td>\n",
       "      <td>NaN</td>\n",
       "      <td>NaN</td>\n",
       "      <td>NaN</td>\n",
       "      <td>NaN</td>\n",
       "      <td>NaN</td>\n",
       "      <td>397</td>\n",
       "    </tr>\n",
       "    <tr>\n",
       "      <th>194</th>\n",
       "      <td>0.006780</td>\n",
       "      <td>0.001183</td>\n",
       "      <td>0.000000</td>\n",
       "      <td>0.000000</td>\n",
       "      <td>3</td>\n",
       "      <td>0.94</td>\n",
       "      <td>lsqr</td>\n",
       "      <td>{'n_components': 3, 'shrinkage': 0.94000000000...</td>\n",
       "      <td>NaN</td>\n",
       "      <td>NaN</td>\n",
       "      <td>...</td>\n",
       "      <td>NaN</td>\n",
       "      <td>NaN</td>\n",
       "      <td>NaN</td>\n",
       "      <td>NaN</td>\n",
       "      <td>NaN</td>\n",
       "      <td>NaN</td>\n",
       "      <td>NaN</td>\n",
       "      <td>NaN</td>\n",
       "      <td>NaN</td>\n",
       "      <td>398</td>\n",
       "    </tr>\n",
       "    <tr>\n",
       "      <th>192</th>\n",
       "      <td>0.006271</td>\n",
       "      <td>0.001765</td>\n",
       "      <td>0.000000</td>\n",
       "      <td>0.000000</td>\n",
       "      <td>3</td>\n",
       "      <td>0.92</td>\n",
       "      <td>lsqr</td>\n",
       "      <td>{'n_components': 3, 'shrinkage': 0.92, 'solver...</td>\n",
       "      <td>NaN</td>\n",
       "      <td>NaN</td>\n",
       "      <td>...</td>\n",
       "      <td>NaN</td>\n",
       "      <td>NaN</td>\n",
       "      <td>NaN</td>\n",
       "      <td>NaN</td>\n",
       "      <td>NaN</td>\n",
       "      <td>NaN</td>\n",
       "      <td>NaN</td>\n",
       "      <td>NaN</td>\n",
       "      <td>NaN</td>\n",
       "      <td>399</td>\n",
       "    </tr>\n",
       "    <tr>\n",
       "      <th>399</th>\n",
       "      <td>0.004673</td>\n",
       "      <td>0.001959</td>\n",
       "      <td>0.000000</td>\n",
       "      <td>0.000000</td>\n",
       "      <td>5</td>\n",
       "      <td>0.99</td>\n",
       "      <td>lsqr</td>\n",
       "      <td>{'n_components': 5, 'shrinkage': 0.99, 'solver...</td>\n",
       "      <td>NaN</td>\n",
       "      <td>NaN</td>\n",
       "      <td>...</td>\n",
       "      <td>NaN</td>\n",
       "      <td>NaN</td>\n",
       "      <td>NaN</td>\n",
       "      <td>NaN</td>\n",
       "      <td>NaN</td>\n",
       "      <td>NaN</td>\n",
       "      <td>NaN</td>\n",
       "      <td>NaN</td>\n",
       "      <td>NaN</td>\n",
       "      <td>400</td>\n",
       "    </tr>\n",
       "  </tbody>\n",
       "</table>\n",
       "<p>400 rows × 26 columns</p>\n",
       "</div>"
      ],
      "text/plain": [
       "     mean_fit_time  std_fit_time  mean_score_time  std_score_time  \\\n",
       "8         0.010828      0.004789         0.006670        0.004526   \n",
       "10        0.012197      0.007733         0.005345        0.003546   \n",
       "9         0.010600      0.006171         0.004698        0.002222   \n",
       "5         0.011497      0.003494         0.006186        0.003860   \n",
       "6         0.010571      0.002958         0.003999        0.000891   \n",
       "..             ...           ...              ...             ...   \n",
       "196       0.006980      0.002399         0.000000        0.000000   \n",
       "195       0.007152      0.002621         0.000000        0.000000   \n",
       "194       0.006780      0.001183         0.000000        0.000000   \n",
       "192       0.006271      0.001765         0.000000        0.000000   \n",
       "399       0.004673      0.001959         0.000000        0.000000   \n",
       "\n",
       "    param_n_components param_shrinkage param_solver  \\\n",
       "8                    2            0.08         lsqr   \n",
       "10                   2             0.1         lsqr   \n",
       "9                    2            0.09         lsqr   \n",
       "5                    2            0.05         lsqr   \n",
       "6                    2            0.06         lsqr   \n",
       "..                 ...             ...          ...   \n",
       "196                  3            0.96         lsqr   \n",
       "195                  3            0.95         lsqr   \n",
       "194                  3            0.94         lsqr   \n",
       "192                  3            0.92         lsqr   \n",
       "399                  5            0.99         lsqr   \n",
       "\n",
       "                                                params  split0_test_score  \\\n",
       "8    {'n_components': 2, 'shrinkage': 0.08, 'solver...           0.642857   \n",
       "10   {'n_components': 2, 'shrinkage': 0.1, 'solver'...           0.642857   \n",
       "9    {'n_components': 2, 'shrinkage': 0.09, 'solver...           0.642857   \n",
       "5    {'n_components': 2, 'shrinkage': 0.05, 'solver...           0.642857   \n",
       "6    {'n_components': 2, 'shrinkage': 0.06, 'solver...           0.642857   \n",
       "..                                                 ...                ...   \n",
       "196  {'n_components': 3, 'shrinkage': 0.96, 'solver...                NaN   \n",
       "195  {'n_components': 3, 'shrinkage': 0.95000000000...                NaN   \n",
       "194  {'n_components': 3, 'shrinkage': 0.94000000000...                NaN   \n",
       "192  {'n_components': 3, 'shrinkage': 0.92, 'solver...                NaN   \n",
       "399  {'n_components': 5, 'shrinkage': 0.99, 'solver...                NaN   \n",
       "\n",
       "     split1_test_score  ...  split8_test_score  split9_test_score  \\\n",
       "8             0.623188  ...           0.623188           0.579710   \n",
       "10            0.623188  ...           0.623188           0.565217   \n",
       "9             0.623188  ...           0.623188           0.565217   \n",
       "5             0.623188  ...           0.623188           0.579710   \n",
       "6             0.623188  ...           0.623188           0.579710   \n",
       "..                 ...  ...                ...                ...   \n",
       "196                NaN  ...                NaN                NaN   \n",
       "195                NaN  ...                NaN                NaN   \n",
       "194                NaN  ...                NaN                NaN   \n",
       "192                NaN  ...                NaN                NaN   \n",
       "399                NaN  ...                NaN                NaN   \n",
       "\n",
       "     split10_test_score  split11_test_score  split12_test_score  \\\n",
       "8              0.685714            0.652174            0.637681   \n",
       "10             0.685714            0.652174            0.637681   \n",
       "9              0.685714            0.652174            0.637681   \n",
       "5              0.685714            0.652174            0.637681   \n",
       "6              0.685714            0.652174            0.637681   \n",
       "..                  ...                 ...                 ...   \n",
       "196                 NaN                 NaN                 NaN   \n",
       "195                 NaN                 NaN                 NaN   \n",
       "194                 NaN                 NaN                 NaN   \n",
       "192                 NaN                 NaN                 NaN   \n",
       "399                 NaN                 NaN                 NaN   \n",
       "\n",
       "     split13_test_score  split14_test_score  mean_test_score  std_test_score  \\\n",
       "8              0.550725            0.550725         0.608737        0.041107   \n",
       "10             0.550725            0.550725         0.607785        0.042152   \n",
       "9              0.550725            0.550725         0.607785        0.042152   \n",
       "5              0.550725            0.550725         0.607771        0.041605   \n",
       "6              0.550725            0.550725         0.607771        0.041605   \n",
       "..                  ...                 ...              ...             ...   \n",
       "196                 NaN                 NaN              NaN             NaN   \n",
       "195                 NaN                 NaN              NaN             NaN   \n",
       "194                 NaN                 NaN              NaN             NaN   \n",
       "192                 NaN                 NaN              NaN             NaN   \n",
       "399                 NaN                 NaN              NaN             NaN   \n",
       "\n",
       "     rank_test_score  \n",
       "8                  1  \n",
       "10                 2  \n",
       "9                  2  \n",
       "5                  4  \n",
       "6                  4  \n",
       "..               ...  \n",
       "196              396  \n",
       "195              397  \n",
       "194              398  \n",
       "192              399  \n",
       "399              400  \n",
       "\n",
       "[400 rows x 26 columns]"
      ]
     },
     "execution_count": 15,
     "metadata": {},
     "output_type": "execute_result"
    }
   ],
   "source": [
    "res"
   ]
  },
  {
   "cell_type": "code",
   "execution_count": 28,
   "metadata": {},
   "outputs": [],
   "source": [
    "res_non_null = res[~res['mean_test_score'].isnull()]"
   ]
  },
  {
   "cell_type": "code",
   "execution_count": 34,
   "metadata": {},
   "outputs": [
    {
     "data": {
      "text/plain": [
       "Text(0, 0.5, 'Accuracy')"
      ]
     },
     "execution_count": 34,
     "metadata": {},
     "output_type": "execute_result"
    },
    {
     "data": {
      "image/png": "[encoded data removed]",
      "text/plain": [
       "<Figure size 720x720 with 1 Axes>"
      ]
     },
     "metadata": {
      "needs_background": "light"
     },
     "output_type": "display_data"
    }
   ],
   "source": [
    "f, axs = plt.subplots(1,1,figsize=(10,10))\n",
    "sns.set_context(\"poster\")\n",
    "sns.lineplot(x= 'param_shrinkage', y='mean_test_score',data=res_non_null,markers='o')\n",
    "plt.xlabel('Shrinkage')\n",
    "plt.ylabel('Accuracy')"
   ]
  },
  {
   "cell_type": "code",
   "execution_count": 19,
   "metadata": {},
   "outputs": [
    {
     "name": "stderr",
     "output_type": "stream",
     "text": [
      "c:\\users\\ibrah\\appdata\\local\\programs\\python\\python38\\lib\\site-packages\\seaborn\\_decorators.py:36: FutureWarning: Pass the following variables as keyword args: x, y. From version 0.12, the only valid positional argument will be `data`, and passing other arguments without an explicit keyword will result in an error or misinterpretation.\n",
      "  warnings.warn(\n"
     ]
    },
    {
     "data": {
      "text/plain": [
       "<AxesSubplot:xlabel='param_shrinkage', ylabel='mean_test_score'>"
      ]
     },
     "execution_count": 19,
     "metadata": {},
     "output_type": "execute_result"
    },
    {
     "data": {
      "image/png": "[encoded data removed]",
      "text/plain": [
       "<Figure size 432x288 with 1 Axes>"
      ]
     },
     "metadata": {
      "needs_background": "light"
     },
     "output_type": "display_data"
    }
   ],
   "source": [
    "sns.lineplot(res['param_shrinkage'],res['mean_test_score'])"
   ]
  },
  {
   "cell_type": "code",
   "execution_count": 39,
   "metadata": {},
   "outputs": [],
   "source": [
    "res_svd = res[res['param_solver'] == 'svd']"
   ]
  },
  {
   "cell_type": "code",
   "execution_count": 40,
   "metadata": {},
   "outputs": [],
   "source": [
    "res_lsqr = res[res['param_solver'] == 'lsqr']"
   ]
  },
  {
   "cell_type": "code",
   "execution_count": 41,
   "metadata": {},
   "outputs": [],
   "source": [
    "res_eigen = res[res['param_solver'] == 'eigen']"
   ]
  },
  {
   "cell_type": "code",
   "execution_count": 42,
   "metadata": {},
   "outputs": [
    {
     "data": {
      "text/plain": [
       "<AxesSubplot:xlabel='param_shrinkage', ylabel='mean_test_score'>"
      ]
     },
     "execution_count": 42,
     "metadata": {},
     "output_type": "execute_result"
    },
    {
     "data": {
      "image/png": "[encoded data removed]",
      "text/plain": [
       "<Figure size 432x288 with 1 Axes>"
      ]
     },
     "metadata": {
      "needs_background": "light"
     },
     "output_type": "display_data"
    }
   ],
   "source": [
    "sns.lineplot(y='mean_test_score',x='param_shrinkage',data=res_eigen)"
   ]
  },
  {
   "cell_type": "code",
   "execution_count": 43,
   "metadata": {},
   "outputs": [
    {
     "data": {
      "text/plain": [
       "<AxesSubplot:xlabel='param_shrinkage', ylabel='mean_test_score'>"
      ]
     },
     "execution_count": 43,
     "metadata": {},
     "output_type": "execute_result"
    },
    {
     "data": {
      "image/png": "[encoded data removed]",
      "text/plain": [
       "<Figure size 432x288 with 1 Axes>"
      ]
     },
     "metadata": {
      "needs_background": "light"
     },
     "output_type": "display_data"
    }
   ],
   "source": [
    "sns.lineplot(y='mean_test_score',x='param_shrinkage',data=res_lsqr)"
   ]
  },
  {
   "cell_type": "code",
   "execution_count": 44,
   "metadata": {},
   "outputs": [
    {
     "data": {
      "text/plain": [
       "<AxesSubplot:xlabel='param_shrinkage'>"
      ]
     },
     "execution_count": 44,
     "metadata": {},
     "output_type": "execute_result"
    },
    {
     "data": {
      "image/png": "[encoded data removed]",
      "text/plain": [
       "<Figure size 432x288 with 1 Axes>"
      ]
     },
     "metadata": {
      "needs_background": "light"
     },
     "output_type": "display_data"
    }
   ],
   "source": [
    "sns.lineplot(y='mean_test_score',x='param_shrinkage',data=res_svd)"
   ]
  },
  {
   "cell_type": "code",
   "execution_count": 49,
   "metadata": {},
   "outputs": [
    {
     "data": {
      "text/html": [
       "<div>\n",
       "<style scoped>\n",
       "    .dataframe tbody tr th:only-of-type {\n",
       "        vertical-align: middle;\n",
       "    }\n",
       "\n",
       "    .dataframe tbody tr th {\n",
       "        vertical-align: top;\n",
       "    }\n",
       "\n",
       "    .dataframe thead th {\n",
       "        text-align: right;\n",
       "    }\n",
       "</style>\n",
       "<table border=\"1\" class=\"dataframe\">\n",
       "  <thead>\n",
       "    <tr style=\"text-align: right;\">\n",
       "      <th></th>\n",
       "      <th>mean_fit_time</th>\n",
       "      <th>std_fit_time</th>\n",
       "      <th>mean_score_time</th>\n",
       "      <th>std_score_time</th>\n",
       "      <th>param_n_components</th>\n",
       "      <th>param_shrinkage</th>\n",
       "      <th>param_solver</th>\n",
       "      <th>params</th>\n",
       "      <th>split0_test_score</th>\n",
       "      <th>split1_test_score</th>\n",
       "      <th>...</th>\n",
       "      <th>split8_test_score</th>\n",
       "      <th>split9_test_score</th>\n",
       "      <th>split10_test_score</th>\n",
       "      <th>split11_test_score</th>\n",
       "      <th>split12_test_score</th>\n",
       "      <th>split13_test_score</th>\n",
       "      <th>split14_test_score</th>\n",
       "      <th>mean_test_score</th>\n",
       "      <th>std_test_score</th>\n",
       "      <th>rank_test_score</th>\n",
       "    </tr>\n",
       "  </thead>\n",
       "  <tbody>\n",
       "    <tr>\n",
       "      <th>25</th>\n",
       "      <td>0.009133</td>\n",
       "      <td>0.000881</td>\n",
       "      <td>0.004201</td>\n",
       "      <td>0.000542</td>\n",
       "      <td>2</td>\n",
       "      <td>0.08</td>\n",
       "      <td>lsqr</td>\n",
       "      <td>{'n_components': 2, 'shrinkage': 0.08, 'solver...</td>\n",
       "      <td>0.642857</td>\n",
       "      <td>0.623188</td>\n",
       "      <td>...</td>\n",
       "      <td>0.623188</td>\n",
       "      <td>0.579710</td>\n",
       "      <td>0.685714</td>\n",
       "      <td>0.652174</td>\n",
       "      <td>0.637681</td>\n",
       "      <td>0.550725</td>\n",
       "      <td>0.550725</td>\n",
       "      <td>0.608737</td>\n",
       "      <td>0.041107</td>\n",
       "      <td>1</td>\n",
       "    </tr>\n",
       "    <tr>\n",
       "      <th>26</th>\n",
       "      <td>0.009402</td>\n",
       "      <td>0.001957</td>\n",
       "      <td>0.003530</td>\n",
       "      <td>0.000500</td>\n",
       "      <td>2</td>\n",
       "      <td>0.08</td>\n",
       "      <td>eigen</td>\n",
       "      <td>{'n_components': 2, 'shrinkage': 0.08, 'solver...</td>\n",
       "      <td>0.642857</td>\n",
       "      <td>0.623188</td>\n",
       "      <td>...</td>\n",
       "      <td>0.623188</td>\n",
       "      <td>0.579710</td>\n",
       "      <td>0.685714</td>\n",
       "      <td>0.652174</td>\n",
       "      <td>0.637681</td>\n",
       "      <td>0.550725</td>\n",
       "      <td>0.550725</td>\n",
       "      <td>0.608737</td>\n",
       "      <td>0.041107</td>\n",
       "      <td>1</td>\n",
       "    </tr>\n",
       "    <tr>\n",
       "      <th>32</th>\n",
       "      <td>0.008999</td>\n",
       "      <td>0.001156</td>\n",
       "      <td>0.003934</td>\n",
       "      <td>0.000772</td>\n",
       "      <td>2</td>\n",
       "      <td>0.1</td>\n",
       "      <td>eigen</td>\n",
       "      <td>{'n_components': 2, 'shrinkage': 0.1, 'solver'...</td>\n",
       "      <td>0.642857</td>\n",
       "      <td>0.623188</td>\n",
       "      <td>...</td>\n",
       "      <td>0.623188</td>\n",
       "      <td>0.565217</td>\n",
       "      <td>0.685714</td>\n",
       "      <td>0.652174</td>\n",
       "      <td>0.637681</td>\n",
       "      <td>0.550725</td>\n",
       "      <td>0.550725</td>\n",
       "      <td>0.607785</td>\n",
       "      <td>0.042152</td>\n",
       "      <td>3</td>\n",
       "    </tr>\n",
       "    <tr>\n",
       "      <th>31</th>\n",
       "      <td>0.008938</td>\n",
       "      <td>0.000997</td>\n",
       "      <td>0.004596</td>\n",
       "      <td>0.001016</td>\n",
       "      <td>2</td>\n",
       "      <td>0.1</td>\n",
       "      <td>lsqr</td>\n",
       "      <td>{'n_components': 2, 'shrinkage': 0.1, 'solver'...</td>\n",
       "      <td>0.642857</td>\n",
       "      <td>0.623188</td>\n",
       "      <td>...</td>\n",
       "      <td>0.623188</td>\n",
       "      <td>0.565217</td>\n",
       "      <td>0.685714</td>\n",
       "      <td>0.652174</td>\n",
       "      <td>0.637681</td>\n",
       "      <td>0.550725</td>\n",
       "      <td>0.550725</td>\n",
       "      <td>0.607785</td>\n",
       "      <td>0.042152</td>\n",
       "      <td>3</td>\n",
       "    </tr>\n",
       "    <tr>\n",
       "      <th>29</th>\n",
       "      <td>0.009265</td>\n",
       "      <td>0.000856</td>\n",
       "      <td>0.004135</td>\n",
       "      <td>0.001082</td>\n",
       "      <td>2</td>\n",
       "      <td>0.09</td>\n",
       "      <td>eigen</td>\n",
       "      <td>{'n_components': 2, 'shrinkage': 0.09, 'solver...</td>\n",
       "      <td>0.642857</td>\n",
       "      <td>0.623188</td>\n",
       "      <td>...</td>\n",
       "      <td>0.623188</td>\n",
       "      <td>0.565217</td>\n",
       "      <td>0.685714</td>\n",
       "      <td>0.652174</td>\n",
       "      <td>0.637681</td>\n",
       "      <td>0.550725</td>\n",
       "      <td>0.550725</td>\n",
       "      <td>0.607785</td>\n",
       "      <td>0.042152</td>\n",
       "      <td>3</td>\n",
       "    </tr>\n",
       "    <tr>\n",
       "      <th>...</th>\n",
       "      <td>...</td>\n",
       "      <td>...</td>\n",
       "      <td>...</td>\n",
       "      <td>...</td>\n",
       "      <td>...</td>\n",
       "      <td>...</td>\n",
       "      <td>...</td>\n",
       "      <td>...</td>\n",
       "      <td>...</td>\n",
       "      <td>...</td>\n",
       "      <td>...</td>\n",
       "      <td>...</td>\n",
       "      <td>...</td>\n",
       "      <td>...</td>\n",
       "      <td>...</td>\n",
       "      <td>...</td>\n",
       "      <td>...</td>\n",
       "      <td>...</td>\n",
       "      <td>...</td>\n",
       "      <td>...</td>\n",
       "      <td>...</td>\n",
       "    </tr>\n",
       "    <tr>\n",
       "      <th>539</th>\n",
       "      <td>0.005734</td>\n",
       "      <td>0.000931</td>\n",
       "      <td>0.000000</td>\n",
       "      <td>0.000000</td>\n",
       "      <td>3</td>\n",
       "      <td>0.79</td>\n",
       "      <td>eigen</td>\n",
       "      <td>{'n_components': 3, 'shrinkage': 0.79, 'solver...</td>\n",
       "      <td>NaN</td>\n",
       "      <td>NaN</td>\n",
       "      <td>...</td>\n",
       "      <td>NaN</td>\n",
       "      <td>NaN</td>\n",
       "      <td>NaN</td>\n",
       "      <td>NaN</td>\n",
       "      <td>NaN</td>\n",
       "      <td>NaN</td>\n",
       "      <td>NaN</td>\n",
       "      <td>NaN</td>\n",
       "      <td>NaN</td>\n",
       "      <td>1196</td>\n",
       "    </tr>\n",
       "    <tr>\n",
       "      <th>540</th>\n",
       "      <td>0.005931</td>\n",
       "      <td>0.000770</td>\n",
       "      <td>0.000000</td>\n",
       "      <td>0.000000</td>\n",
       "      <td>3</td>\n",
       "      <td>0.8</td>\n",
       "      <td>svd</td>\n",
       "      <td>{'n_components': 3, 'shrinkage': 0.8, 'solver'...</td>\n",
       "      <td>NaN</td>\n",
       "      <td>NaN</td>\n",
       "      <td>...</td>\n",
       "      <td>NaN</td>\n",
       "      <td>NaN</td>\n",
       "      <td>NaN</td>\n",
       "      <td>NaN</td>\n",
       "      <td>NaN</td>\n",
       "      <td>NaN</td>\n",
       "      <td>NaN</td>\n",
       "      <td>NaN</td>\n",
       "      <td>NaN</td>\n",
       "      <td>1197</td>\n",
       "    </tr>\n",
       "    <tr>\n",
       "      <th>541</th>\n",
       "      <td>0.005469</td>\n",
       "      <td>0.000719</td>\n",
       "      <td>0.000000</td>\n",
       "      <td>0.000000</td>\n",
       "      <td>3</td>\n",
       "      <td>0.8</td>\n",
       "      <td>lsqr</td>\n",
       "      <td>{'n_components': 3, 'shrinkage': 0.8, 'solver'...</td>\n",
       "      <td>NaN</td>\n",
       "      <td>NaN</td>\n",
       "      <td>...</td>\n",
       "      <td>NaN</td>\n",
       "      <td>NaN</td>\n",
       "      <td>NaN</td>\n",
       "      <td>NaN</td>\n",
       "      <td>NaN</td>\n",
       "      <td>NaN</td>\n",
       "      <td>NaN</td>\n",
       "      <td>NaN</td>\n",
       "      <td>NaN</td>\n",
       "      <td>1198</td>\n",
       "    </tr>\n",
       "    <tr>\n",
       "      <th>528</th>\n",
       "      <td>0.005604</td>\n",
       "      <td>0.000708</td>\n",
       "      <td>0.000000</td>\n",
       "      <td>0.000000</td>\n",
       "      <td>3</td>\n",
       "      <td>0.76</td>\n",
       "      <td>svd</td>\n",
       "      <td>{'n_components': 3, 'shrinkage': 0.76, 'solver...</td>\n",
       "      <td>NaN</td>\n",
       "      <td>NaN</td>\n",
       "      <td>...</td>\n",
       "      <td>NaN</td>\n",
       "      <td>NaN</td>\n",
       "      <td>NaN</td>\n",
       "      <td>NaN</td>\n",
       "      <td>NaN</td>\n",
       "      <td>NaN</td>\n",
       "      <td>NaN</td>\n",
       "      <td>NaN</td>\n",
       "      <td>NaN</td>\n",
       "      <td>1199</td>\n",
       "    </tr>\n",
       "    <tr>\n",
       "      <th>1199</th>\n",
       "      <td>0.004199</td>\n",
       "      <td>0.000749</td>\n",
       "      <td>0.000000</td>\n",
       "      <td>0.000000</td>\n",
       "      <td>5</td>\n",
       "      <td>0.99</td>\n",
       "      <td>eigen</td>\n",
       "      <td>{'n_components': 5, 'shrinkage': 0.99, 'solver...</td>\n",
       "      <td>NaN</td>\n",
       "      <td>NaN</td>\n",
       "      <td>...</td>\n",
       "      <td>NaN</td>\n",
       "      <td>NaN</td>\n",
       "      <td>NaN</td>\n",
       "      <td>NaN</td>\n",
       "      <td>NaN</td>\n",
       "      <td>NaN</td>\n",
       "      <td>NaN</td>\n",
       "      <td>NaN</td>\n",
       "      <td>NaN</td>\n",
       "      <td>1200</td>\n",
       "    </tr>\n",
       "  </tbody>\n",
       "</table>\n",
       "<p>1200 rows × 26 columns</p>\n",
       "</div>"
      ],
      "text/plain": [
       "      mean_fit_time  std_fit_time  mean_score_time  std_score_time  \\\n",
       "25         0.009133      0.000881         0.004201        0.000542   \n",
       "26         0.009402      0.001957         0.003530        0.000500   \n",
       "32         0.008999      0.001156         0.003934        0.000772   \n",
       "31         0.008938      0.000997         0.004596        0.001016   \n",
       "29         0.009265      0.000856         0.004135        0.001082   \n",
       "...             ...           ...              ...             ...   \n",
       "539        0.005734      0.000931         0.000000        0.000000   \n",
       "540        0.005931      0.000770         0.000000        0.000000   \n",
       "541        0.005469      0.000719         0.000000        0.000000   \n",
       "528        0.005604      0.000708         0.000000        0.000000   \n",
       "1199       0.004199      0.000749         0.000000        0.000000   \n",
       "\n",
       "     param_n_components param_shrinkage param_solver  \\\n",
       "25                    2            0.08         lsqr   \n",
       "26                    2            0.08        eigen   \n",
       "32                    2             0.1        eigen   \n",
       "31                    2             0.1         lsqr   \n",
       "29                    2            0.09        eigen   \n",
       "...                 ...             ...          ...   \n",
       "539                   3            0.79        eigen   \n",
       "540                   3             0.8          svd   \n",
       "541                   3             0.8         lsqr   \n",
       "528                   3            0.76          svd   \n",
       "1199                  5            0.99        eigen   \n",
       "\n",
       "                                                 params  split0_test_score  \\\n",
       "25    {'n_components': 2, 'shrinkage': 0.08, 'solver...           0.642857   \n",
       "26    {'n_components': 2, 'shrinkage': 0.08, 'solver...           0.642857   \n",
       "32    {'n_components': 2, 'shrinkage': 0.1, 'solver'...           0.642857   \n",
       "31    {'n_components': 2, 'shrinkage': 0.1, 'solver'...           0.642857   \n",
       "29    {'n_components': 2, 'shrinkage': 0.09, 'solver...           0.642857   \n",
       "...                                                 ...                ...   \n",
       "539   {'n_components': 3, 'shrinkage': 0.79, 'solver...                NaN   \n",
       "540   {'n_components': 3, 'shrinkage': 0.8, 'solver'...                NaN   \n",
       "541   {'n_components': 3, 'shrinkage': 0.8, 'solver'...                NaN   \n",
       "528   {'n_components': 3, 'shrinkage': 0.76, 'solver...                NaN   \n",
       "1199  {'n_components': 5, 'shrinkage': 0.99, 'solver...                NaN   \n",
       "\n",
       "      split1_test_score  ...  split8_test_score  split9_test_score  \\\n",
       "25             0.623188  ...           0.623188           0.579710   \n",
       "26             0.623188  ...           0.623188           0.579710   \n",
       "32             0.623188  ...           0.623188           0.565217   \n",
       "31             0.623188  ...           0.623188           0.565217   \n",
       "29             0.623188  ...           0.623188           0.565217   \n",
       "...                 ...  ...                ...                ...   \n",
       "539                 NaN  ...                NaN                NaN   \n",
       "540                 NaN  ...                NaN                NaN   \n",
       "541                 NaN  ...                NaN                NaN   \n",
       "528                 NaN  ...                NaN                NaN   \n",
       "1199                NaN  ...                NaN                NaN   \n",
       "\n",
       "      split10_test_score  split11_test_score  split12_test_score  \\\n",
       "25              0.685714            0.652174            0.637681   \n",
       "26              0.685714            0.652174            0.637681   \n",
       "32              0.685714            0.652174            0.637681   \n",
       "31              0.685714            0.652174            0.637681   \n",
       "29              0.685714            0.652174            0.637681   \n",
       "...                  ...                 ...                 ...   \n",
       "539                  NaN                 NaN                 NaN   \n",
       "540                  NaN                 NaN                 NaN   \n",
       "541                  NaN                 NaN                 NaN   \n",
       "528                  NaN                 NaN                 NaN   \n",
       "1199                 NaN                 NaN                 NaN   \n",
       "\n",
       "      split13_test_score  split14_test_score  mean_test_score  std_test_score  \\\n",
       "25              0.550725            0.550725         0.608737        0.041107   \n",
       "26              0.550725            0.550725         0.608737        0.041107   \n",
       "32              0.550725            0.550725         0.607785        0.042152   \n",
       "31              0.550725            0.550725         0.607785        0.042152   \n",
       "29              0.550725            0.550725         0.607785        0.042152   \n",
       "...                  ...                 ...              ...             ...   \n",
       "539                  NaN                 NaN              NaN             NaN   \n",
       "540                  NaN                 NaN              NaN             NaN   \n",
       "541                  NaN                 NaN              NaN             NaN   \n",
       "528                  NaN                 NaN              NaN             NaN   \n",
       "1199                 NaN                 NaN              NaN             NaN   \n",
       "\n",
       "      rank_test_score  \n",
       "25                  1  \n",
       "26                  1  \n",
       "32                  3  \n",
       "31                  3  \n",
       "29                  3  \n",
       "...               ...  \n",
       "539              1196  \n",
       "540              1197  \n",
       "541              1198  \n",
       "528              1199  \n",
       "1199             1200  \n",
       "\n",
       "[1200 rows x 26 columns]"
      ]
     },
     "execution_count": 49,
     "metadata": {},
     "output_type": "execute_result"
    }
   ],
   "source": [
    "pd.DataFrame(search.cv_results_).sort_values('rank_test_score')"
   ]
  },
  {
   "cell_type": "code",
   "execution_count": 8,
   "metadata": {},
   "outputs": [],
   "source": [
    "def evaluate_model(X, y, model):\n",
    "\t# define evaluation procedure\n",
    "\tcv = RepeatedStratifiedKFold(n_splits=5, n_repeats=3, random_state=1)\n",
    "\t# evaluate model\n",
    "\tscores = cross_val_score(model, X, y, scoring='accuracy', cv=cv, n_jobs=-1)\n",
    "\treturn scores"
   ]
  },
  {
   "cell_type": "code",
   "execution_count": 41,
   "metadata": {},
   "outputs": [],
   "source": [
    "part = []\n",
    "mean_acc = []\n",
    "for i in np.linspace(0.05,0.5,num=100):\n",
    "    i=round(i,3)\n",
    "    part.append(i)\n",
    "    x_train, x_test, y_train, y_test = train_test_split(x_scaled,y,test_size = i)\n",
    "    model = LinearDiscriminantAnalysis()\n",
    "    acc = evaluate_model(x_train,y_train,model)\n",
    "    mean_acc.append(np.mean(acc))"
   ]
  },
  {
   "cell_type": "code",
   "execution_count": 44,
   "metadata": {},
   "outputs": [
    {
     "data": {
      "text/plain": [
       "<AxesSubplot:>"
      ]
     },
     "execution_count": 44,
     "metadata": {},
     "output_type": "execute_result"
    },
    {
     "data": {
      "image/png": "[encoded data removed]",
      "text/plain": [
       "<Figure size 432x288 with 1 Axes>"
      ]
     },
     "metadata": {
      "needs_background": "light"
     },
     "output_type": "display_data"
    }
   ],
   "source": [
    "sns.lineplot(x=part,y=mean_acc)"
   ]
  },
  {
   "cell_type": "code",
   "execution_count": 40,
   "metadata": {},
   "outputs": [
    {
     "data": {
      "text/plain": [
       "['0.4818181818181818 : 0.6387301587301586',\n",
       " '0.48636363636363633 : 0.6480423280423279',\n",
       " '0.49090909090909085 : 0.5814814814814814',\n",
       " '0.4954545454545454 : 0.6667226890756301',\n",
       " '0.5 : 0.5953501400560224']"
      ]
     },
     "execution_count": 40,
     "metadata": {},
     "output_type": "execute_result"
    }
   ],
   "source": [
    "[f'{str(i)} : {str(j)}' for i,j in zip(part[-5:],mean_acc[-5:])]"
   ]
  },
  {
   "cell_type": "code",
   "execution_count": 15,
   "metadata": {},
   "outputs": [
    {
     "data": {
      "text/plain": [
       "array([0.2 , 0.25, 0.3 , 0.35, 0.4 , 0.45, 0.5 ])"
      ]
     },
     "execution_count": 15,
     "metadata": {},
     "output_type": "execute_result"
    }
   ],
   "source": [
    "np.linspace(0.2,0.5,num=7)"
   ]
  }
 ],
 "metadata": {
  "kernelspec": {
   "display_name": "Python 3",
   "language": "python",
   "name": "python3"
  },
  "language_info": {
   "codemirror_mode": {
    "name": "ipython",
    "version": 3
   },
   "file_extension": ".py",
   "mimetype": "text/x-python",
   "name": "python",
   "nbconvert_exporter": "python",
   "pygments_lexer": "ipython3",
   "version": "3.8.6"
  }
 },
 "nbformat": 4,
 "nbformat_minor": 4
}
