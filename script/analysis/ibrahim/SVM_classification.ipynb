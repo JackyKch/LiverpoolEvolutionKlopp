{
 "cells": [
  {
   "cell_type": "code",
   "execution_count": 24,
   "metadata": {},
   "outputs": [],
   "source": [
    "import pandas as pd\n",
    "from sklearn.model_selection import train_test_split\n",
    "from sklearn.svm import SVC\n",
    "from sklearn.model_selection import GridSearchCV\n",
    "import matplotlib.pyplot as plt\n",
    "from sklearn.metrics import plot_confusion_matrix,accuracy_score,f1_score,classification_report\n",
    "from sklearn.preprocessing import StandardScaler"
   ]
  },
  {
   "cell_type": "code",
   "execution_count": 2,
   "metadata": {},
   "outputs": [],
   "source": [
    "df_pl = pd.read_csv('../../../data/all_season/Liverpool_data_epl_match_details.csv')"
   ]
  },
  {
   "cell_type": "code",
   "execution_count": 3,
   "metadata": {},
   "outputs": [],
   "source": [
    "df_ldc = pd.read_csv('../../../data/all_season/Liverpool_data_ldc_match_details.csv')"
   ]
  },
  {
   "cell_type": "code",
   "execution_count": 4,
   "metadata": {},
   "outputs": [],
   "source": [
    "df_ldc = df_ldc.rename(columns={'Diff_elo':'Elo_Diff',\n",
    "                               'elo_liverpool':'Elo_Liverpool',\n",
    "                               'elo_opponent':'Elo_Opponent',\n",
    "                               'liverpool_result':'liverpool_result_ft',\n",
    "                               'rest_days' : 'Rest_Days'})"
   ]
  },
  {
   "cell_type": "code",
   "execution_count": 5,
   "metadata": {},
   "outputs": [],
   "source": [
    "df = df_ldc.append(df_pl[df_ldc.columns])"
   ]
  },
  {
   "cell_type": "code",
   "execution_count": 6,
   "metadata": {},
   "outputs": [],
   "source": [
    "df = df.reset_index(drop=True)"
   ]
  },
  {
   "cell_type": "code",
   "execution_count": 7,
   "metadata": {},
   "outputs": [],
   "source": [
    "df['home_0_away_1'] = df['at_anfield'].apply(lambda x : 0 if x else 1)"
   ]
  },
  {
   "cell_type": "code",
   "execution_count": 8,
   "metadata": {},
   "outputs": [],
   "source": [
    "df['Possession']=df['Possession'].str.replace('%','')\n",
    "df['Possession']=df['Possession'].astype(int)"
   ]
  },
  {
   "cell_type": "code",
   "execution_count": 9,
   "metadata": {},
   "outputs": [],
   "source": [
    "target = df['liverpool_result_ft']"
   ]
  },
  {
   "cell_type": "markdown",
   "metadata": {},
   "source": [
    "# Scaled Data"
   ]
  },
  {
   "cell_type": "markdown",
   "metadata": {},
   "source": [
    " "
   ]
  },
  {
   "cell_type": "code",
   "execution_count": 24,
   "metadata": {},
   "outputs": [],
   "source": [
    "all_features = df.drop(columns=['liverpool_result_ft','date_match','home_team','away_team','season','liverpool_score_ft','opponent_score_ft',\n",
    "                               'Goals','Assists','Penalties scored','Penalties won','at_anfield','Formation','contests'])"
   ]
  },
  {
   "cell_type": "code",
   "execution_count": 25,
   "metadata": {},
   "outputs": [],
   "source": [
    "all_features = all_features.drop(columns=['Possession','Shots On Target','Elo_Opponent','Elo_Liverpool','Balls touched'])"
   ]
  },
  {
   "cell_type": "code",
   "execution_count": 26,
   "metadata": {},
   "outputs": [],
   "source": [
    "x_train, x_test, y_train, y_test = train_test_split(all_features,target,test_size = 0.25)"
   ]
  },
  {
   "cell_type": "code",
   "execution_count": 27,
   "metadata": {},
   "outputs": [
    {
     "data": {
      "text/plain": [
       "Index(['Shots', 'Saves', 'Crosses', 'Fouls', 'Offsides', 'Corners',\n",
       "       'Yellow Card', 'Red Cards', 'Passes', 'Interceptions', 'Blocks',\n",
       "       'Catches', 'Tackles', 'Rest_Days', 'Elo_Diff', 'home_0_away_1'],\n",
       "      dtype='object')"
      ]
     },
     "execution_count": 27,
     "metadata": {},
     "output_type": "execute_result"
    }
   ],
   "source": [
    "x_train.columns"
   ]
  },
  {
   "cell_type": "code",
   "execution_count": 28,
   "metadata": {},
   "outputs": [],
   "source": [
    "col_scaler = StandardScaler()"
   ]
  },
  {
   "cell_type": "code",
   "execution_count": 29,
   "metadata": {},
   "outputs": [],
   "source": [
    "x_scale = col_scaler.fit_transform(x_train)"
   ]
  },
  {
   "cell_type": "code",
   "execution_count": 30,
   "metadata": {},
   "outputs": [],
   "source": [
    "y_scale = col_scaler.fit_transform(x_test)"
   ]
  },
  {
   "cell_type": "code",
   "execution_count": null,
   "metadata": {},
   "outputs": [],
   "source": []
  },
  {
   "cell_type": "code",
   "execution_count": 31,
   "metadata": {},
   "outputs": [],
   "source": [
    "model = SVC(kernel='linear',C=3,degree=3)"
   ]
  },
  {
   "cell_type": "code",
   "execution_count": 32,
   "metadata": {},
   "outputs": [
    {
     "data": {
      "text/plain": [
       "SVC(C=3, kernel='linear')"
      ]
     },
     "execution_count": 32,
     "metadata": {},
     "output_type": "execute_result"
    }
   ],
   "source": [
    "model.fit(x_scale,y_train)"
   ]
  },
  {
   "cell_type": "code",
   "execution_count": 33,
   "metadata": {},
   "outputs": [
    {
     "data": {
      "text/plain": [
       "0.6436781609195402"
      ]
     },
     "execution_count": 33,
     "metadata": {},
     "output_type": "execute_result"
    }
   ],
   "source": [
    "model.score(y_scale,y_test)"
   ]
  },
  {
   "cell_type": "code",
   "execution_count": 34,
   "metadata": {},
   "outputs": [
    {
     "data": {
      "image/png": "[encoded data removed]",
      "text/plain": [
       "<Figure size 432x288 with 2 Axes>"
      ]
     },
     "metadata": {
      "needs_background": "light"
     },
     "output_type": "display_data"
    }
   ],
   "source": [
    "plot_confusion_matrix(model,y_scale,y_test)\n",
    "plt.show()"
   ]
  },
  {
   "cell_type": "code",
   "execution_count": 70,
   "metadata": {},
   "outputs": [
    {
     "data": {
      "text/plain": [
       "0.6091954022988506"
      ]
     },
     "execution_count": 70,
     "metadata": {},
     "output_type": "execute_result"
    }
   ],
   "source": [
    "f1_score(y_test,model.predict(x_test),average='micro')"
   ]
  },
  {
   "cell_type": "code",
   "execution_count": null,
   "metadata": {},
   "outputs": [],
   "source": []
  },
  {
   "cell_type": "code",
   "execution_count": 30,
   "metadata": {},
   "outputs": [],
   "source": [
    "params = {'C':list(range(1,6)),\n",
    "         'degree':[3,4,5],\n",
    "         'kernel' : ['linear', 'poly', 'rbf', 'sigmoid']}"
   ]
  },
  {
   "cell_type": "code",
   "execution_count": 31,
   "metadata": {},
   "outputs": [],
   "source": [
    "gs = GridSearchCV(model,params,cv=5,return_train_score=False)"
   ]
  },
  {
   "cell_type": "code",
   "execution_count": null,
   "metadata": {},
   "outputs": [],
   "source": [
    "gs.fit(x_train,y_train)"
   ]
  },
  {
   "cell_type": "code",
   "execution_count": null,
   "metadata": {},
   "outputs": [],
   "source": [
    "pd.DataFrame(gs.cv_results_).sort_values('rank_test_score')"
   ]
  },
  {
   "cell_type": "code",
   "execution_count": null,
   "metadata": {},
   "outputs": [],
   "source": []
  },
  {
   "cell_type": "markdown",
   "metadata": {},
   "source": [
    "# Non Scaled Data"
   ]
  },
  {
   "cell_type": "markdown",
   "metadata": {},
   "source": [
    " "
   ]
  },
  {
   "cell_type": "code",
   "execution_count": 10,
   "metadata": {},
   "outputs": [],
   "source": [
    "all_features = df.drop(columns=['liverpool_result_ft','date_match','home_team','away_team','season','liverpool_score_ft','opponent_score_ft',\n",
    "                               'Goals','Assists','Penalties scored','Penalties won','at_anfield','Formation','contests'])"
   ]
  },
  {
   "cell_type": "code",
   "execution_count": 11,
   "metadata": {},
   "outputs": [],
   "source": [
    "all_features = all_features.drop(columns=['Possession','Shots On Target','Elo_Opponent','Elo_Liverpool','Balls touched'])"
   ]
  },
  {
   "cell_type": "code",
   "execution_count": 12,
   "metadata": {},
   "outputs": [],
   "source": [
    "x_train, x_test, y_train, y_test = train_test_split(all_features,target,test_size = 0.25)"
   ]
  },
  {
   "cell_type": "code",
   "execution_count": 13,
   "metadata": {},
   "outputs": [],
   "source": [
    "model = SVC()"
   ]
  },
  {
   "cell_type": "code",
   "execution_count": 15,
   "metadata": {},
   "outputs": [],
   "source": [
    "params = {'C':list(range(1,2)),\n",
    "         'degree':[3,4,5],\n",
    "         'kernel' : ['linear', 'poly', 'rbf', 'sigmoid']}"
   ]
  },
  {
   "cell_type": "code",
   "execution_count": 16,
   "metadata": {},
   "outputs": [],
   "source": [
    "gs = GridSearchCV(model,params,cv=5,return_train_score=False)"
   ]
  },
  {
   "cell_type": "code",
   "execution_count": 17,
   "metadata": {},
   "outputs": [
    {
     "data": {
      "text/plain": [
       "GridSearchCV(cv=5, estimator=SVC(),\n",
       "             param_grid={'C': [1], 'degree': [3, 4, 5],\n",
       "                         'kernel': ['linear', 'poly', 'rbf', 'sigmoid']})"
      ]
     },
     "execution_count": 17,
     "metadata": {},
     "output_type": "execute_result"
    }
   ],
   "source": [
    "gs.fit(x_train,y_train)"
   ]
  },
  {
   "cell_type": "code",
   "execution_count": 18,
   "metadata": {},
   "outputs": [
    {
     "data": {
      "text/html": [
       "<div>\n",
       "<style scoped>\n",
       "    .dataframe tbody tr th:only-of-type {\n",
       "        vertical-align: middle;\n",
       "    }\n",
       "\n",
       "    .dataframe tbody tr th {\n",
       "        vertical-align: top;\n",
       "    }\n",
       "\n",
       "    .dataframe thead th {\n",
       "        text-align: right;\n",
       "    }\n",
       "</style>\n",
       "<table border=\"1\" class=\"dataframe\">\n",
       "  <thead>\n",
       "    <tr style=\"text-align: right;\">\n",
       "      <th></th>\n",
       "      <th>mean_fit_time</th>\n",
       "      <th>std_fit_time</th>\n",
       "      <th>mean_score_time</th>\n",
       "      <th>std_score_time</th>\n",
       "      <th>param_C</th>\n",
       "      <th>param_degree</th>\n",
       "      <th>param_kernel</th>\n",
       "      <th>params</th>\n",
       "      <th>split0_test_score</th>\n",
       "      <th>split1_test_score</th>\n",
       "      <th>split2_test_score</th>\n",
       "      <th>split3_test_score</th>\n",
       "      <th>split4_test_score</th>\n",
       "      <th>mean_test_score</th>\n",
       "      <th>std_test_score</th>\n",
       "      <th>rank_test_score</th>\n",
       "    </tr>\n",
       "  </thead>\n",
       "  <tbody>\n",
       "    <tr>\n",
       "      <th>1</th>\n",
       "      <td>0.006248</td>\n",
       "      <td>0.007653</td>\n",
       "      <td>0.000000</td>\n",
       "      <td>0.000000</td>\n",
       "      <td>1</td>\n",
       "      <td>3</td>\n",
       "      <td>poly</td>\n",
       "      <td>{'C': 1, 'degree': 3, 'kernel': 'poly'}</td>\n",
       "      <td>0.596154</td>\n",
       "      <td>0.615385</td>\n",
       "      <td>0.576923</td>\n",
       "      <td>0.576923</td>\n",
       "      <td>0.588235</td>\n",
       "      <td>0.590724</td>\n",
       "      <td>0.014316</td>\n",
       "      <td>1</td>\n",
       "    </tr>\n",
       "    <tr>\n",
       "      <th>5</th>\n",
       "      <td>0.009375</td>\n",
       "      <td>0.007655</td>\n",
       "      <td>0.000000</td>\n",
       "      <td>0.000000</td>\n",
       "      <td>1</td>\n",
       "      <td>4</td>\n",
       "      <td>poly</td>\n",
       "      <td>{'C': 1, 'degree': 4, 'kernel': 'poly'}</td>\n",
       "      <td>0.596154</td>\n",
       "      <td>0.615385</td>\n",
       "      <td>0.576923</td>\n",
       "      <td>0.576923</td>\n",
       "      <td>0.588235</td>\n",
       "      <td>0.590724</td>\n",
       "      <td>0.014316</td>\n",
       "      <td>1</td>\n",
       "    </tr>\n",
       "    <tr>\n",
       "      <th>0</th>\n",
       "      <td>6.564887</td>\n",
       "      <td>2.398340</td>\n",
       "      <td>0.006252</td>\n",
       "      <td>0.007657</td>\n",
       "      <td>1</td>\n",
       "      <td>3</td>\n",
       "      <td>linear</td>\n",
       "      <td>{'C': 1, 'degree': 3, 'kernel': 'linear'}</td>\n",
       "      <td>0.538462</td>\n",
       "      <td>0.673077</td>\n",
       "      <td>0.557692</td>\n",
       "      <td>0.615385</td>\n",
       "      <td>0.568627</td>\n",
       "      <td>0.590649</td>\n",
       "      <td>0.048375</td>\n",
       "      <td>3</td>\n",
       "    </tr>\n",
       "    <tr>\n",
       "      <th>4</th>\n",
       "      <td>6.728543</td>\n",
       "      <td>2.469953</td>\n",
       "      <td>0.003086</td>\n",
       "      <td>0.006171</td>\n",
       "      <td>1</td>\n",
       "      <td>4</td>\n",
       "      <td>linear</td>\n",
       "      <td>{'C': 1, 'degree': 4, 'kernel': 'linear'}</td>\n",
       "      <td>0.538462</td>\n",
       "      <td>0.673077</td>\n",
       "      <td>0.557692</td>\n",
       "      <td>0.615385</td>\n",
       "      <td>0.568627</td>\n",
       "      <td>0.590649</td>\n",
       "      <td>0.048375</td>\n",
       "      <td>3</td>\n",
       "    </tr>\n",
       "    <tr>\n",
       "      <th>8</th>\n",
       "      <td>6.662832</td>\n",
       "      <td>2.479206</td>\n",
       "      <td>0.003728</td>\n",
       "      <td>0.006068</td>\n",
       "      <td>1</td>\n",
       "      <td>5</td>\n",
       "      <td>linear</td>\n",
       "      <td>{'C': 1, 'degree': 5, 'kernel': 'linear'}</td>\n",
       "      <td>0.538462</td>\n",
       "      <td>0.673077</td>\n",
       "      <td>0.557692</td>\n",
       "      <td>0.615385</td>\n",
       "      <td>0.568627</td>\n",
       "      <td>0.590649</td>\n",
       "      <td>0.048375</td>\n",
       "      <td>3</td>\n",
       "    </tr>\n",
       "    <tr>\n",
       "      <th>9</th>\n",
       "      <td>0.006250</td>\n",
       "      <td>0.007654</td>\n",
       "      <td>0.000000</td>\n",
       "      <td>0.000000</td>\n",
       "      <td>1</td>\n",
       "      <td>5</td>\n",
       "      <td>poly</td>\n",
       "      <td>{'C': 1, 'degree': 5, 'kernel': 'poly'}</td>\n",
       "      <td>0.596154</td>\n",
       "      <td>0.596154</td>\n",
       "      <td>0.576923</td>\n",
       "      <td>0.576923</td>\n",
       "      <td>0.588235</td>\n",
       "      <td>0.586878</td>\n",
       "      <td>0.008627</td>\n",
       "      <td>6</td>\n",
       "    </tr>\n",
       "    <tr>\n",
       "      <th>2</th>\n",
       "      <td>0.003126</td>\n",
       "      <td>0.006251</td>\n",
       "      <td>0.000000</td>\n",
       "      <td>0.000000</td>\n",
       "      <td>1</td>\n",
       "      <td>3</td>\n",
       "      <td>rbf</td>\n",
       "      <td>{'C': 1, 'degree': 3, 'kernel': 'rbf'}</td>\n",
       "      <td>0.596154</td>\n",
       "      <td>0.576923</td>\n",
       "      <td>0.576923</td>\n",
       "      <td>0.576923</td>\n",
       "      <td>0.588235</td>\n",
       "      <td>0.583032</td>\n",
       "      <td>0.007889</td>\n",
       "      <td>7</td>\n",
       "    </tr>\n",
       "    <tr>\n",
       "      <th>6</th>\n",
       "      <td>0.003126</td>\n",
       "      <td>0.006252</td>\n",
       "      <td>0.003125</td>\n",
       "      <td>0.006249</td>\n",
       "      <td>1</td>\n",
       "      <td>4</td>\n",
       "      <td>rbf</td>\n",
       "      <td>{'C': 1, 'degree': 4, 'kernel': 'rbf'}</td>\n",
       "      <td>0.596154</td>\n",
       "      <td>0.576923</td>\n",
       "      <td>0.576923</td>\n",
       "      <td>0.576923</td>\n",
       "      <td>0.588235</td>\n",
       "      <td>0.583032</td>\n",
       "      <td>0.007889</td>\n",
       "      <td>7</td>\n",
       "    </tr>\n",
       "    <tr>\n",
       "      <th>10</th>\n",
       "      <td>0.006254</td>\n",
       "      <td>0.007660</td>\n",
       "      <td>0.000000</td>\n",
       "      <td>0.000000</td>\n",
       "      <td>1</td>\n",
       "      <td>5</td>\n",
       "      <td>rbf</td>\n",
       "      <td>{'C': 1, 'degree': 5, 'kernel': 'rbf'}</td>\n",
       "      <td>0.596154</td>\n",
       "      <td>0.576923</td>\n",
       "      <td>0.576923</td>\n",
       "      <td>0.576923</td>\n",
       "      <td>0.588235</td>\n",
       "      <td>0.583032</td>\n",
       "      <td>0.007889</td>\n",
       "      <td>7</td>\n",
       "    </tr>\n",
       "    <tr>\n",
       "      <th>3</th>\n",
       "      <td>0.003125</td>\n",
       "      <td>0.006251</td>\n",
       "      <td>0.003125</td>\n",
       "      <td>0.006250</td>\n",
       "      <td>1</td>\n",
       "      <td>3</td>\n",
       "      <td>sigmoid</td>\n",
       "      <td>{'C': 1, 'degree': 3, 'kernel': 'sigmoid'}</td>\n",
       "      <td>0.557692</td>\n",
       "      <td>0.461538</td>\n",
       "      <td>0.423077</td>\n",
       "      <td>0.576923</td>\n",
       "      <td>0.470588</td>\n",
       "      <td>0.497964</td>\n",
       "      <td>0.059138</td>\n",
       "      <td>10</td>\n",
       "    </tr>\n",
       "    <tr>\n",
       "      <th>7</th>\n",
       "      <td>0.000000</td>\n",
       "      <td>0.000000</td>\n",
       "      <td>0.003124</td>\n",
       "      <td>0.006247</td>\n",
       "      <td>1</td>\n",
       "      <td>4</td>\n",
       "      <td>sigmoid</td>\n",
       "      <td>{'C': 1, 'degree': 4, 'kernel': 'sigmoid'}</td>\n",
       "      <td>0.557692</td>\n",
       "      <td>0.461538</td>\n",
       "      <td>0.423077</td>\n",
       "      <td>0.576923</td>\n",
       "      <td>0.470588</td>\n",
       "      <td>0.497964</td>\n",
       "      <td>0.059138</td>\n",
       "      <td>10</td>\n",
       "    </tr>\n",
       "    <tr>\n",
       "      <th>11</th>\n",
       "      <td>0.006245</td>\n",
       "      <td>0.007649</td>\n",
       "      <td>0.000000</td>\n",
       "      <td>0.000000</td>\n",
       "      <td>1</td>\n",
       "      <td>5</td>\n",
       "      <td>sigmoid</td>\n",
       "      <td>{'C': 1, 'degree': 5, 'kernel': 'sigmoid'}</td>\n",
       "      <td>0.557692</td>\n",
       "      <td>0.461538</td>\n",
       "      <td>0.423077</td>\n",
       "      <td>0.576923</td>\n",
       "      <td>0.470588</td>\n",
       "      <td>0.497964</td>\n",
       "      <td>0.059138</td>\n",
       "      <td>10</td>\n",
       "    </tr>\n",
       "  </tbody>\n",
       "</table>\n",
       "</div>"
      ],
      "text/plain": [
       "    mean_fit_time  std_fit_time  mean_score_time  std_score_time param_C  \\\n",
       "1        0.006248      0.007653         0.000000        0.000000       1   \n",
       "5        0.009375      0.007655         0.000000        0.000000       1   \n",
       "0        6.564887      2.398340         0.006252        0.007657       1   \n",
       "4        6.728543      2.469953         0.003086        0.006171       1   \n",
       "8        6.662832      2.479206         0.003728        0.006068       1   \n",
       "9        0.006250      0.007654         0.000000        0.000000       1   \n",
       "2        0.003126      0.006251         0.000000        0.000000       1   \n",
       "6        0.003126      0.006252         0.003125        0.006249       1   \n",
       "10       0.006254      0.007660         0.000000        0.000000       1   \n",
       "3        0.003125      0.006251         0.003125        0.006250       1   \n",
       "7        0.000000      0.000000         0.003124        0.006247       1   \n",
       "11       0.006245      0.007649         0.000000        0.000000       1   \n",
       "\n",
       "   param_degree param_kernel                                      params  \\\n",
       "1             3         poly     {'C': 1, 'degree': 3, 'kernel': 'poly'}   \n",
       "5             4         poly     {'C': 1, 'degree': 4, 'kernel': 'poly'}   \n",
       "0             3       linear   {'C': 1, 'degree': 3, 'kernel': 'linear'}   \n",
       "4             4       linear   {'C': 1, 'degree': 4, 'kernel': 'linear'}   \n",
       "8             5       linear   {'C': 1, 'degree': 5, 'kernel': 'linear'}   \n",
       "9             5         poly     {'C': 1, 'degree': 5, 'kernel': 'poly'}   \n",
       "2             3          rbf      {'C': 1, 'degree': 3, 'kernel': 'rbf'}   \n",
       "6             4          rbf      {'C': 1, 'degree': 4, 'kernel': 'rbf'}   \n",
       "10            5          rbf      {'C': 1, 'degree': 5, 'kernel': 'rbf'}   \n",
       "3             3      sigmoid  {'C': 1, 'degree': 3, 'kernel': 'sigmoid'}   \n",
       "7             4      sigmoid  {'C': 1, 'degree': 4, 'kernel': 'sigmoid'}   \n",
       "11            5      sigmoid  {'C': 1, 'degree': 5, 'kernel': 'sigmoid'}   \n",
       "\n",
       "    split0_test_score  split1_test_score  split2_test_score  \\\n",
       "1            0.596154           0.615385           0.576923   \n",
       "5            0.596154           0.615385           0.576923   \n",
       "0            0.538462           0.673077           0.557692   \n",
       "4            0.538462           0.673077           0.557692   \n",
       "8            0.538462           0.673077           0.557692   \n",
       "9            0.596154           0.596154           0.576923   \n",
       "2            0.596154           0.576923           0.576923   \n",
       "6            0.596154           0.576923           0.576923   \n",
       "10           0.596154           0.576923           0.576923   \n",
       "3            0.557692           0.461538           0.423077   \n",
       "7            0.557692           0.461538           0.423077   \n",
       "11           0.557692           0.461538           0.423077   \n",
       "\n",
       "    split3_test_score  split4_test_score  mean_test_score  std_test_score  \\\n",
       "1            0.576923           0.588235         0.590724        0.014316   \n",
       "5            0.576923           0.588235         0.590724        0.014316   \n",
       "0            0.615385           0.568627         0.590649        0.048375   \n",
       "4            0.615385           0.568627         0.590649        0.048375   \n",
       "8            0.615385           0.568627         0.590649        0.048375   \n",
       "9            0.576923           0.588235         0.586878        0.008627   \n",
       "2            0.576923           0.588235         0.583032        0.007889   \n",
       "6            0.576923           0.588235         0.583032        0.007889   \n",
       "10           0.576923           0.588235         0.583032        0.007889   \n",
       "3            0.576923           0.470588         0.497964        0.059138   \n",
       "7            0.576923           0.470588         0.497964        0.059138   \n",
       "11           0.576923           0.470588         0.497964        0.059138   \n",
       "\n",
       "    rank_test_score  \n",
       "1                 1  \n",
       "5                 1  \n",
       "0                 3  \n",
       "4                 3  \n",
       "8                 3  \n",
       "9                 6  \n",
       "2                 7  \n",
       "6                 7  \n",
       "10                7  \n",
       "3                10  \n",
       "7                10  \n",
       "11               10  "
      ]
     },
     "execution_count": 18,
     "metadata": {},
     "output_type": "execute_result"
    }
   ],
   "source": [
    "pd.DataFrame(gs.cv_results_).sort_values('rank_test_score')"
   ]
  },
  {
   "cell_type": "code",
   "execution_count": 20,
   "metadata": {},
   "outputs": [
    {
     "data": {
      "image/png": "[encoded data removed]",
      "text/plain": [
       "<Figure size 432x288 with 2 Axes>"
      ]
     },
     "metadata": {
      "needs_background": "light"
     },
     "output_type": "display_data"
    }
   ],
   "source": [
    "plot_confusion_matrix(gs.best_estimator_,x_test,y_test)\n",
    "plt.show()"
   ]
  },
  {
   "cell_type": "code",
   "execution_count": 22,
   "metadata": {},
   "outputs": [
    {
     "data": {
      "text/plain": [
       "0.6091954022988506"
      ]
     },
     "execution_count": 22,
     "metadata": {},
     "output_type": "execute_result"
    }
   ],
   "source": [
    "f1_score(y_test,gs.best_estimator_.predict(x_test),average='micro')"
   ]
  },
  {
   "cell_type": "code",
   "execution_count": 25,
   "metadata": {},
   "outputs": [
    {
     "name": "stdout",
     "output_type": "stream",
     "text": [
      "              precision    recall  f1-score   support\n",
      "\n",
      "           D       0.50      0.06      0.11        16\n",
      "           N       0.00      0.00      0.00        19\n",
      "           V       0.61      1.00      0.76        52\n",
      "\n",
      "    accuracy                           0.61        87\n",
      "   macro avg       0.37      0.35      0.29        87\n",
      "weighted avg       0.46      0.61      0.47        87\n",
      "\n"
     ]
    },
    {
     "name": "stderr",
     "output_type": "stream",
     "text": [
      "c:\\users\\ibrah\\appdata\\local\\programs\\python\\python38\\lib\\site-packages\\sklearn\\metrics\\_classification.py:1221: UndefinedMetricWarning: Precision and F-score are ill-defined and being set to 0.0 in labels with no predicted samples. Use `zero_division` parameter to control this behavior.\n",
      "  _warn_prf(average, modifier, msg_start, len(result))\n"
     ]
    }
   ],
   "source": [
    "print(classification_report(y_test, gs.best_estimator_.predict(x_test)))"
   ]
  }
 ],
 "metadata": {
  "kernelspec": {
   "display_name": "Python 3",
   "language": "python",
   "name": "python3"
  },
  "language_info": {
   "codemirror_mode": {
    "name": "ipython",
    "version": 3
   },
   "file_extension": ".py",
   "mimetype": "text/x-python",
   "name": "python",
   "nbconvert_exporter": "python",
   "pygments_lexer": "ipython3",
   "version": "3.8.6"
  }
 },
 "nbformat": 4,
 "nbformat_minor": 4
}
