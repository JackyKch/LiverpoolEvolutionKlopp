{
 "cells": [
  {
   "cell_type": "code",
   "execution_count": 2,
   "metadata": {
    "id": "CMTLyTWKqZiA"
   },
   "outputs": [],
   "source": [
    "import pandas as pd\n",
    "import numpy as np\n",
    "import seaborn as sns\n",
    "from numpy import mean,inf,arange\n",
    "from numpy import std,var\n",
    "from pandas import read_csv\n",
    "from matplotlib import pyplot as plt\n",
    "from collections import Counter\n",
    "from sklearn.ensemble import RandomForestClassifier,ExtraTreesClassifier\n",
    "from sklearn.naive_bayes import GaussianNB \n",
    "from sklearn.preprocessing import StandardScaler\n",
    "from sklearn.model_selection import RepeatedStratifiedKFold,cross_val_score,GridSearchCV,train_test_split\n",
    "from sklearn.metrics import roc_curve, auc, classification_report, plot_confusion_matrix, accuracy_score"
   ]
  },
  {
   "cell_type": "code",
   "execution_count": null,
   "metadata": {
    "id": "i0M2go0xqZiD"
   },
   "outputs": [],
   "source": [
    "scaler = StandardScaler()"
   ]
  },
  {
   "cell_type": "code",
   "execution_count": null,
   "metadata": {
    "id": "ZVLPhdGOqZiF"
   },
   "outputs": [],
   "source": [
    "df = pd.read_csv('../../../data/dataset.csv')"
   ]
  },
  {
   "cell_type": "code",
   "execution_count": null,
   "metadata": {
    "id": "j5kOU49WqZiF"
   },
   "outputs": [],
   "source": [
    "def get_new_target(col):\n",
    "    return 1 if col == 'V' else 0"
   ]
  },
  {
   "cell_type": "code",
   "execution_count": null,
   "metadata": {
    "id": "GcC9saImqZiG"
   },
   "outputs": [],
   "source": [
    "df['new_target'] = df['liverpool_result_ft'].apply(get_new_target)"
   ]
  },
  {
   "cell_type": "code",
   "execution_count": null,
   "metadata": {
    "id": "mMDa-QpMqZiG"
   },
   "outputs": [],
   "source": [
    "y = df['liverpool_result_ft']"
   ]
  },
  {
   "cell_type": "code",
   "execution_count": null,
   "metadata": {
    "id": "cKHl1pJxqZiH"
   },
   "outputs": [],
   "source": [
    "y_new = df['new_target']"
   ]
  },
  {
   "cell_type": "code",
   "execution_count": null,
   "metadata": {
    "id": "YFRMMZ9HqZiH"
   },
   "outputs": [],
   "source": [
    "x = df.drop(columns=['liverpool_result_ft','new_target'])"
   ]
  },
  {
   "cell_type": "code",
   "execution_count": null,
   "metadata": {
    "id": "3a5SRPVhqZiH"
   },
   "outputs": [],
   "source": [
    "x_scaled = pd.DataFrame(scaler.fit_transform(x), columns=x.columns)"
   ]
  },
  {
   "cell_type": "code",
   "execution_count": null,
   "metadata": {
    "id": "dR-WNklgqZiI"
   },
   "outputs": [],
   "source": [
    "x_train, x_test, y_train, y_test = train_test_split(x_scaled,y,test_size = 0.3)"
   ]
  },
  {
   "cell_type": "markdown",
   "metadata": {
    "id": "Ima499yuqZiI"
   },
   "source": [
    "# Random Forest"
   ]
  },
  {
   "cell_type": "markdown",
   "metadata": {
    "id": "VGyj6oVow3YC"
   },
   "source": [
    "## Trees Number"
   ]
  },
  {
   "cell_type": "code",
   "execution_count": null,
   "metadata": {
    "colab": {
     "base_uri": "https://localhost:8080/"
    },
    "id": "xw2HsxjIqZiI",
    "outputId": "77af3f42-c878-4add-d514-66248a2200d1"
   },
   "outputs": [
    {
     "name": "stdout",
     "output_type": "stream",
     "text": [
      "Mean Accuracy: 0.580 (0.041)\n"
     ]
    }
   ],
   "source": [
    "model = RandomForestClassifier()\n",
    "# define model evaluation method\n",
    "cv = RepeatedStratifiedKFold(n_splits=5, n_repeats=3, random_state=1)\n",
    "# evaluate model\n",
    "scores = cross_val_score(model, x_scaled, y, scoring='accuracy', cv=cv, n_jobs=-1)\n",
    "# summarize result\n",
    "print('Mean Accuracy: %.3f (%.3f)' % (mean(scores), std(scores)))"
   ]
  },
  {
   "cell_type": "code",
   "execution_count": null,
   "metadata": {
    "id": "9jiXgnZlqZiJ"
   },
   "outputs": [],
   "source": [
    "params = {'n_estimators' : np.linspace(10,200,10).astype(int), \n",
    "         \n",
    "        }"
   ]
  },
  {
   "cell_type": "code",
   "execution_count": null,
   "metadata": {
    "id": "3TLoPce_qZiK"
   },
   "outputs": [],
   "source": [
    "search = GridSearchCV(model, params, scoring='accuracy', cv=cv, n_jobs=-1)"
   ]
  },
  {
   "cell_type": "code",
   "execution_count": null,
   "metadata": {
    "colab": {
     "base_uri": "https://localhost:8080/"
    },
    "id": "hoqE9CdsqZiK",
    "outputId": "d7463e4f-f26d-4e47-e13b-fe52f7b87416"
   },
   "outputs": [
    {
     "data": {
      "text/plain": [
       "GridSearchCV(cv=RepeatedStratifiedKFold(n_repeats=3, n_splits=5, random_state=1),\n",
       "             error_score=nan,\n",
       "             estimator=RandomForestClassifier(bootstrap=True, ccp_alpha=0.0,\n",
       "                                              class_weight=None,\n",
       "                                              criterion='gini', max_depth=None,\n",
       "                                              max_features='auto',\n",
       "                                              max_leaf_nodes=None,\n",
       "                                              max_samples=None,\n",
       "                                              min_impurity_decrease=0.0,\n",
       "                                              min_impurity_split=None,\n",
       "                                              min_samples_leaf=1,\n",
       "                                              min_samples_split=2,\n",
       "                                              min_weight_fraction_leaf=0.0,\n",
       "                                              n_estimators=100, n_jobs=None,\n",
       "                                              oob_score=False,\n",
       "                                              random_state=None, verbose=0,\n",
       "                                              warm_start=False),\n",
       "             iid='deprecated', n_jobs=-1,\n",
       "             param_grid={'n_estimators': array([ 10,  31,  52,  73,  94, 115, 136, 157, 178, 200])},\n",
       "             pre_dispatch='2*n_jobs', refit=True, return_train_score=False,\n",
       "             scoring='accuracy', verbose=0)"
      ]
     },
     "execution_count": 159,
     "metadata": {
      "tags": []
     },
     "output_type": "execute_result"
    }
   ],
   "source": [
    "search.fit(x_train,y_train)"
   ]
  },
  {
   "cell_type": "code",
   "execution_count": null,
   "metadata": {
    "id": "9-JB3sDhqZiL"
   },
   "outputs": [],
   "source": [
    "res =pd.DataFrame(search.cv_results_).sort_values('rank_test_score')"
   ]
  },
  {
   "cell_type": "code",
   "execution_count": null,
   "metadata": {
    "colab": {
     "base_uri": "https://localhost:8080/",
     "height": 655
    },
    "id": "gWH04KghwZW7",
    "outputId": "f91742f4-b12f-451f-dfc8-be74765fc479"
   },
   "outputs": [
    {
     "data": {
      "text/plain": [
       "Text(0, 0.5, 'Accuracy')"
      ]
     },
     "execution_count": 161,
     "metadata": {
      "tags": []
     },
     "output_type": "execute_result"
    },
    {
     "data": {
      "image/png": "[encoded data removed]",
      "text/plain": [
       "<Figure size 720x720 with 1 Axes>"
      ]
     },
     "metadata": {
      "needs_background": "light",
      "tags": []
     },
     "output_type": "display_data"
    }
   ],
   "source": [
    "f, axs = plt.subplots(1,1,figsize=(10,10))\r\n",
    "sns.set_context(\"poster\")\r\n",
    "sns.lineplot(x= 'param_n_estimators', y='mean_test_score',data=res,markers='o')\r\n",
    "plt.xlabel('Trees Number')\r\n",
    "plt.ylabel('Accuracy')"
   ]
  },
  {
   "cell_type": "code",
   "execution_count": null,
   "metadata": {
    "colab": {
     "base_uri": "https://localhost:8080/",
     "height": 213
    },
    "id": "NOTvW2g5xpYZ",
    "outputId": "8f0c5eb8-3c7b-4993-b0c1-92569113cea3"
   },
   "outputs": [
    {
     "data": {
      "text/html": [
       "<div>\n",
       "<style scoped>\n",
       "    .dataframe tbody tr th:only-of-type {\n",
       "        vertical-align: middle;\n",
       "    }\n",
       "\n",
       "    .dataframe tbody tr th {\n",
       "        vertical-align: top;\n",
       "    }\n",
       "\n",
       "    .dataframe thead th {\n",
       "        text-align: right;\n",
       "    }\n",
       "</style>\n",
       "<table border=\"1\" class=\"dataframe\">\n",
       "  <thead>\n",
       "    <tr style=\"text-align: right;\">\n",
       "      <th></th>\n",
       "      <th>mean_fit_time</th>\n",
       "      <th>std_fit_time</th>\n",
       "      <th>mean_score_time</th>\n",
       "      <th>std_score_time</th>\n",
       "      <th>param_n_estimators</th>\n",
       "      <th>params</th>\n",
       "      <th>split0_test_score</th>\n",
       "      <th>split1_test_score</th>\n",
       "      <th>split2_test_score</th>\n",
       "      <th>split3_test_score</th>\n",
       "      <th>split4_test_score</th>\n",
       "      <th>split5_test_score</th>\n",
       "      <th>split6_test_score</th>\n",
       "      <th>split7_test_score</th>\n",
       "      <th>split8_test_score</th>\n",
       "      <th>split9_test_score</th>\n",
       "      <th>split10_test_score</th>\n",
       "      <th>split11_test_score</th>\n",
       "      <th>split12_test_score</th>\n",
       "      <th>split13_test_score</th>\n",
       "      <th>split14_test_score</th>\n",
       "      <th>mean_test_score</th>\n",
       "      <th>std_test_score</th>\n",
       "      <th>rank_test_score</th>\n",
       "    </tr>\n",
       "  </thead>\n",
       "  <tbody>\n",
       "    <tr>\n",
       "      <th>7</th>\n",
       "      <td>0.424852</td>\n",
       "      <td>0.013362</td>\n",
       "      <td>0.027127</td>\n",
       "      <td>0.003065</td>\n",
       "      <td>157</td>\n",
       "      <td>{'n_estimators': 157}</td>\n",
       "      <td>0.510204</td>\n",
       "      <td>0.551020</td>\n",
       "      <td>0.458333</td>\n",
       "      <td>0.666667</td>\n",
       "      <td>0.583333</td>\n",
       "      <td>0.591837</td>\n",
       "      <td>0.612245</td>\n",
       "      <td>0.604167</td>\n",
       "      <td>0.562500</td>\n",
       "      <td>0.541667</td>\n",
       "      <td>0.571429</td>\n",
       "      <td>0.571429</td>\n",
       "      <td>0.604167</td>\n",
       "      <td>0.604167</td>\n",
       "      <td>0.604167</td>\n",
       "      <td>0.575822</td>\n",
       "      <td>0.047055</td>\n",
       "      <td>1</td>\n",
       "    </tr>\n",
       "    <tr>\n",
       "      <th>3</th>\n",
       "      <td>0.196522</td>\n",
       "      <td>0.006619</td>\n",
       "      <td>0.012903</td>\n",
       "      <td>0.000494</td>\n",
       "      <td>73</td>\n",
       "      <td>{'n_estimators': 73}</td>\n",
       "      <td>0.510204</td>\n",
       "      <td>0.510204</td>\n",
       "      <td>0.583333</td>\n",
       "      <td>0.666667</td>\n",
       "      <td>0.645833</td>\n",
       "      <td>0.591837</td>\n",
       "      <td>0.591837</td>\n",
       "      <td>0.625000</td>\n",
       "      <td>0.541667</td>\n",
       "      <td>0.500000</td>\n",
       "      <td>0.612245</td>\n",
       "      <td>0.551020</td>\n",
       "      <td>0.583333</td>\n",
       "      <td>0.583333</td>\n",
       "      <td>0.500000</td>\n",
       "      <td>0.573101</td>\n",
       "      <td>0.051226</td>\n",
       "      <td>2</td>\n",
       "    </tr>\n",
       "    <tr>\n",
       "      <th>8</th>\n",
       "      <td>0.474690</td>\n",
       "      <td>0.006358</td>\n",
       "      <td>0.030135</td>\n",
       "      <td>0.002202</td>\n",
       "      <td>178</td>\n",
       "      <td>{'n_estimators': 178}</td>\n",
       "      <td>0.551020</td>\n",
       "      <td>0.510204</td>\n",
       "      <td>0.583333</td>\n",
       "      <td>0.687500</td>\n",
       "      <td>0.562500</td>\n",
       "      <td>0.591837</td>\n",
       "      <td>0.612245</td>\n",
       "      <td>0.604167</td>\n",
       "      <td>0.562500</td>\n",
       "      <td>0.500000</td>\n",
       "      <td>0.571429</td>\n",
       "      <td>0.571429</td>\n",
       "      <td>0.604167</td>\n",
       "      <td>0.583333</td>\n",
       "      <td>0.500000</td>\n",
       "      <td>0.573044</td>\n",
       "      <td>0.046527</td>\n",
       "      <td>3</td>\n",
       "    </tr>\n",
       "  </tbody>\n",
       "</table>\n",
       "</div>"
      ],
      "text/plain": [
       "   mean_fit_time  std_fit_time  ...  std_test_score  rank_test_score\n",
       "7       0.424852      0.013362  ...        0.047055                1\n",
       "3       0.196522      0.006619  ...        0.051226                2\n",
       "8       0.474690      0.006358  ...        0.046527                3\n",
       "\n",
       "[3 rows x 24 columns]"
      ]
     },
     "execution_count": 162,
     "metadata": {
      "tags": []
     },
     "output_type": "execute_result"
    }
   ],
   "source": [
    "res.head(3)"
   ]
  },
  {
   "cell_type": "code",
   "execution_count": null,
   "metadata": {
    "id": "rmxRt9fQzFqm"
   },
   "outputs": [],
   "source": [
    "model_1 = search.best_estimator_"
   ]
  },
  {
   "cell_type": "code",
   "execution_count": null,
   "metadata": {
    "id": "ScCd3zCJy1A-"
   },
   "outputs": [],
   "source": [
    "model_pred_1 = model_1.predict(x_test)"
   ]
  },
  {
   "cell_type": "code",
   "execution_count": null,
   "metadata": {
    "colab": {
     "base_uri": "https://localhost:8080/",
     "height": 329
    },
    "id": "SsoKZlR5yz_K",
    "outputId": "fc74ca9d-91bd-4edc-8783-f147b953e39e"
   },
   "outputs": [
    {
     "data": {
      "text/plain": [
       "<sklearn.metrics._plot.confusion_matrix.ConfusionMatrixDisplay at 0x7f7e1ee11f50>"
      ]
     },
     "execution_count": 165,
     "metadata": {
      "tags": []
     },
     "output_type": "execute_result"
    },
    {
     "data": {
      "image/png": "[encoded data removed]",
      "text/plain": [
       "<Figure size 432x288 with 2 Axes>"
      ]
     },
     "metadata": {
      "needs_background": "light",
      "tags": []
     },
     "output_type": "display_data"
    }
   ],
   "source": [
    "plot_confusion_matrix(model_1,x_test,y_test)"
   ]
  },
  {
   "cell_type": "code",
   "execution_count": null,
   "metadata": {
    "colab": {
     "base_uri": "https://localhost:8080/"
    },
    "id": "gnAmRSAYzOQB",
    "outputId": "a78a376b-053a-4932-8657-242e4e60bea6"
   },
   "outputs": [
    {
     "data": {
      "text/plain": [
       "0.5961538461538461"
      ]
     },
     "execution_count": 166,
     "metadata": {
      "tags": []
     },
     "output_type": "execute_result"
    }
   ],
   "source": [
    "accuracy_score(y_test,model_pred_1)"
   ]
  },
  {
   "cell_type": "code",
   "execution_count": null,
   "metadata": {
    "colab": {
     "base_uri": "https://localhost:8080/"
    },
    "id": "QgBf3ZdRzTup",
    "outputId": "b6dcea64-ed8d-4084-fb74-7de28474ec04"
   },
   "outputs": [
    {
     "name": "stdout",
     "output_type": "stream",
     "text": [
      "              precision    recall  f1-score   support\n",
      "\n",
      "           D       0.30      0.16      0.21        19\n",
      "           N       0.25      0.05      0.08        20\n",
      "           V       0.64      0.89      0.75        65\n",
      "\n",
      "    accuracy                           0.60       104\n",
      "   macro avg       0.40      0.37      0.35       104\n",
      "weighted avg       0.51      0.60      0.52       104\n",
      "\n"
     ]
    }
   ],
   "source": [
    "print(classification_report(y_test,model_pred_1))"
   ]
  },
  {
   "cell_type": "code",
   "execution_count": null,
   "metadata": {
    "id": "CkPZqC-bzB0Q"
   },
   "outputs": [],
   "source": []
  },
  {
   "cell_type": "markdown",
   "metadata": {
    "id": "rKmx2nPhxhm1"
   },
   "source": [
    "## Depth"
   ]
  },
  {
   "cell_type": "code",
   "execution_count": null,
   "metadata": {
    "colab": {
     "base_uri": "https://localhost:8080/"
    },
    "id": "5sXUFRWTxky1",
    "outputId": "2e0d03e4-aa04-439d-b88f-d0ae4bcf358e"
   },
   "outputs": [
    {
     "name": "stdout",
     "output_type": "stream",
     "text": [
      "Mean Accuracy: 0.573 (0.020)\n"
     ]
    }
   ],
   "source": [
    "model = RandomForestClassifier(n_estimators=94)\n",
    "# define model evaluation method\n",
    "cv = RepeatedStratifiedKFold(n_splits=5, n_repeats=3, random_state=1)\n",
    "# evaluate model\n",
    "scores = cross_val_score(model, x_scaled, y, scoring='accuracy', cv=cv, n_jobs=-1)\n",
    "# summarize result\n",
    "print('Mean Accuracy: %.3f (%.3f)' % (mean(scores), std(scores)))"
   ]
  },
  {
   "cell_type": "code",
   "execution_count": null,
   "metadata": {
    "id": "tBIQV8aGxky2"
   },
   "outputs": [],
   "source": [
    "params = {'max_depth' : np.linspace(3,30,10).astype(int)\n",
    "        }"
   ]
  },
  {
   "cell_type": "code",
   "execution_count": null,
   "metadata": {
    "id": "WUGG8skFxky2"
   },
   "outputs": [],
   "source": [
    "search = GridSearchCV(model, params, scoring='accuracy', cv=cv, n_jobs=-1)"
   ]
  },
  {
   "cell_type": "code",
   "execution_count": null,
   "metadata": {
    "colab": {
     "base_uri": "https://localhost:8080/"
    },
    "id": "zRfD5J5jxky2",
    "outputId": "37d6d685-2922-4cfe-e57e-b4309faae828"
   },
   "outputs": [
    {
     "data": {
      "text/plain": [
       "GridSearchCV(cv=RepeatedStratifiedKFold(n_repeats=3, n_splits=5, random_state=1),\n",
       "             error_score=nan,\n",
       "             estimator=RandomForestClassifier(bootstrap=True, ccp_alpha=0.0,\n",
       "                                              class_weight=None,\n",
       "                                              criterion='gini', max_depth=None,\n",
       "                                              max_features='auto',\n",
       "                                              max_leaf_nodes=None,\n",
       "                                              max_samples=None,\n",
       "                                              min_impurity_decrease=0.0,\n",
       "                                              min_impurity_split=None,\n",
       "                                              min_samples_leaf=1,\n",
       "                                              min_samples_split=2,\n",
       "                                              min_weight_fraction_leaf=0.0,\n",
       "                                              n_estimators=94, n_jobs=None,\n",
       "                                              oob_score=False,\n",
       "                                              random_state=None, verbose=0,\n",
       "                                              warm_start=False),\n",
       "             iid='deprecated', n_jobs=-1,\n",
       "             param_grid={'max_depth': array([ 3,  6,  9, 12, 15, 18, 21, 24, 27, 30])},\n",
       "             pre_dispatch='2*n_jobs', refit=True, return_train_score=False,\n",
       "             scoring='accuracy', verbose=0)"
      ]
     },
     "execution_count": 171,
     "metadata": {
      "tags": []
     },
     "output_type": "execute_result"
    }
   ],
   "source": [
    "search.fit(x_train,y_train)"
   ]
  },
  {
   "cell_type": "code",
   "execution_count": null,
   "metadata": {
    "id": "3d37C-F6xky3"
   },
   "outputs": [],
   "source": [
    "res =pd.DataFrame(search.cv_results_).sort_values('rank_test_score')"
   ]
  },
  {
   "cell_type": "code",
   "execution_count": null,
   "metadata": {
    "colab": {
     "base_uri": "https://localhost:8080/",
     "height": 655
    },
    "id": "60e8bwrUxky3",
    "outputId": "00fa6f50-be75-47fd-a83a-4c9466c9c95b"
   },
   "outputs": [
    {
     "data": {
      "text/plain": [
       "Text(0, 0.5, 'Accuracy')"
      ]
     },
     "execution_count": 173,
     "metadata": {
      "tags": []
     },
     "output_type": "execute_result"
    },
    {
     "data": {
      "image/png": "[encoded data removed]",
      "text/plain": [
       "<Figure size 720x720 with 1 Axes>"
      ]
     },
     "metadata": {
      "needs_background": "light",
      "tags": []
     },
     "output_type": "display_data"
    }
   ],
   "source": [
    "f, axs = plt.subplots(1,1,figsize=(10,10))\r\n",
    "sns.set_context(\"poster\")\r\n",
    "sns.lineplot(x= 'param_max_depth', y='mean_test_score',data=res,markers='o')\r\n",
    "plt.xlabel('Max depth')\r\n",
    "plt.ylabel('Accuracy')"
   ]
  },
  {
   "cell_type": "code",
   "execution_count": null,
   "metadata": {
    "colab": {
     "base_uri": "https://localhost:8080/",
     "height": 213
    },
    "id": "bCxzfTuqzpqu",
    "outputId": "2b6cfaea-1462-4306-f5a6-7bf4d7ffdb10"
   },
   "outputs": [
    {
     "data": {
      "text/html": [
       "<div>\n",
       "<style scoped>\n",
       "    .dataframe tbody tr th:only-of-type {\n",
       "        vertical-align: middle;\n",
       "    }\n",
       "\n",
       "    .dataframe tbody tr th {\n",
       "        vertical-align: top;\n",
       "    }\n",
       "\n",
       "    .dataframe thead th {\n",
       "        text-align: right;\n",
       "    }\n",
       "</style>\n",
       "<table border=\"1\" class=\"dataframe\">\n",
       "  <thead>\n",
       "    <tr style=\"text-align: right;\">\n",
       "      <th></th>\n",
       "      <th>mean_fit_time</th>\n",
       "      <th>std_fit_time</th>\n",
       "      <th>mean_score_time</th>\n",
       "      <th>std_score_time</th>\n",
       "      <th>param_max_depth</th>\n",
       "      <th>params</th>\n",
       "      <th>split0_test_score</th>\n",
       "      <th>split1_test_score</th>\n",
       "      <th>split2_test_score</th>\n",
       "      <th>split3_test_score</th>\n",
       "      <th>split4_test_score</th>\n",
       "      <th>split5_test_score</th>\n",
       "      <th>split6_test_score</th>\n",
       "      <th>split7_test_score</th>\n",
       "      <th>split8_test_score</th>\n",
       "      <th>split9_test_score</th>\n",
       "      <th>split10_test_score</th>\n",
       "      <th>split11_test_score</th>\n",
       "      <th>split12_test_score</th>\n",
       "      <th>split13_test_score</th>\n",
       "      <th>split14_test_score</th>\n",
       "      <th>mean_test_score</th>\n",
       "      <th>std_test_score</th>\n",
       "      <th>rank_test_score</th>\n",
       "    </tr>\n",
       "  </thead>\n",
       "  <tbody>\n",
       "    <tr>\n",
       "      <th>2</th>\n",
       "      <td>0.252747</td>\n",
       "      <td>0.005228</td>\n",
       "      <td>0.017077</td>\n",
       "      <td>0.002125</td>\n",
       "      <td>9</td>\n",
       "      <td>{'max_depth': 9}</td>\n",
       "      <td>0.551020</td>\n",
       "      <td>0.489796</td>\n",
       "      <td>0.562500</td>\n",
       "      <td>0.625000</td>\n",
       "      <td>0.625000</td>\n",
       "      <td>0.612245</td>\n",
       "      <td>0.612245</td>\n",
       "      <td>0.604167</td>\n",
       "      <td>0.520833</td>\n",
       "      <td>0.541667</td>\n",
       "      <td>0.571429</td>\n",
       "      <td>0.551020</td>\n",
       "      <td>0.604167</td>\n",
       "      <td>0.645833</td>\n",
       "      <td>0.520833</td>\n",
       "      <td>0.575850</td>\n",
       "      <td>0.044751</td>\n",
       "      <td>1</td>\n",
       "    </tr>\n",
       "    <tr>\n",
       "      <th>9</th>\n",
       "      <td>0.249860</td>\n",
       "      <td>0.019546</td>\n",
       "      <td>0.016888</td>\n",
       "      <td>0.005937</td>\n",
       "      <td>30</td>\n",
       "      <td>{'max_depth': 30}</td>\n",
       "      <td>0.530612</td>\n",
       "      <td>0.510204</td>\n",
       "      <td>0.562500</td>\n",
       "      <td>0.625000</td>\n",
       "      <td>0.583333</td>\n",
       "      <td>0.571429</td>\n",
       "      <td>0.612245</td>\n",
       "      <td>0.645833</td>\n",
       "      <td>0.541667</td>\n",
       "      <td>0.541667</td>\n",
       "      <td>0.591837</td>\n",
       "      <td>0.571429</td>\n",
       "      <td>0.604167</td>\n",
       "      <td>0.562500</td>\n",
       "      <td>0.541667</td>\n",
       "      <td>0.573073</td>\n",
       "      <td>0.036417</td>\n",
       "      <td>2</td>\n",
       "    </tr>\n",
       "    <tr>\n",
       "      <th>6</th>\n",
       "      <td>0.254560</td>\n",
       "      <td>0.006710</td>\n",
       "      <td>0.018331</td>\n",
       "      <td>0.002080</td>\n",
       "      <td>21</td>\n",
       "      <td>{'max_depth': 21}</td>\n",
       "      <td>0.489796</td>\n",
       "      <td>0.530612</td>\n",
       "      <td>0.583333</td>\n",
       "      <td>0.645833</td>\n",
       "      <td>0.562500</td>\n",
       "      <td>0.591837</td>\n",
       "      <td>0.632653</td>\n",
       "      <td>0.583333</td>\n",
       "      <td>0.520833</td>\n",
       "      <td>0.520833</td>\n",
       "      <td>0.612245</td>\n",
       "      <td>0.551020</td>\n",
       "      <td>0.645833</td>\n",
       "      <td>0.625000</td>\n",
       "      <td>0.479167</td>\n",
       "      <td>0.571655</td>\n",
       "      <td>0.053238</td>\n",
       "      <td>3</td>\n",
       "    </tr>\n",
       "  </tbody>\n",
       "</table>\n",
       "</div>"
      ],
      "text/plain": [
       "   mean_fit_time  std_fit_time  ...  std_test_score  rank_test_score\n",
       "2       0.252747      0.005228  ...        0.044751                1\n",
       "9       0.249860      0.019546  ...        0.036417                2\n",
       "6       0.254560      0.006710  ...        0.053238                3\n",
       "\n",
       "[3 rows x 24 columns]"
      ]
     },
     "execution_count": 174,
     "metadata": {
      "tags": []
     },
     "output_type": "execute_result"
    }
   ],
   "source": [
    "res.head(3)"
   ]
  },
  {
   "cell_type": "code",
   "execution_count": null,
   "metadata": {
    "id": "aokmFHhazpq7"
   },
   "outputs": [],
   "source": [
    "model_2 = search.best_estimator_"
   ]
  },
  {
   "cell_type": "code",
   "execution_count": null,
   "metadata": {
    "id": "xSAnyrIJzpq7"
   },
   "outputs": [],
   "source": [
    "model_pred_2 = model_2.predict(x_test)"
   ]
  },
  {
   "cell_type": "code",
   "execution_count": null,
   "metadata": {
    "colab": {
     "base_uri": "https://localhost:8080/",
     "height": 329
    },
    "id": "9K0i4aWczpq7",
    "outputId": "2745fb26-a954-4936-d555-964411fd8860"
   },
   "outputs": [
    {
     "data": {
      "text/plain": [
       "<sklearn.metrics._plot.confusion_matrix.ConfusionMatrixDisplay at 0x7f7e1ec18c10>"
      ]
     },
     "execution_count": 177,
     "metadata": {
      "tags": []
     },
     "output_type": "execute_result"
    },
    {
     "data": {
      "image/png": "[encoded data removed]",
      "text/plain": [
       "<Figure size 432x288 with 2 Axes>"
      ]
     },
     "metadata": {
      "needs_background": "light",
      "tags": []
     },
     "output_type": "display_data"
    }
   ],
   "source": [
    "plot_confusion_matrix(model_2,x_test,y_test)"
   ]
  },
  {
   "cell_type": "code",
   "execution_count": null,
   "metadata": {
    "colab": {
     "base_uri": "https://localhost:8080/"
    },
    "id": "ct2D5-Tkzpq8",
    "outputId": "6528fd9e-d8d9-4339-ba51-c7e6f2f7c1c9"
   },
   "outputs": [
    {
     "data": {
      "text/plain": [
       "0.5961538461538461"
      ]
     },
     "execution_count": 178,
     "metadata": {
      "tags": []
     },
     "output_type": "execute_result"
    }
   ],
   "source": [
    "accuracy_score(y_test,model_pred_2)"
   ]
  },
  {
   "cell_type": "code",
   "execution_count": null,
   "metadata": {
    "colab": {
     "base_uri": "https://localhost:8080/"
    },
    "id": "eTl0txA3zpq8",
    "outputId": "69778e4c-829e-413e-f408-265a1fb29bda"
   },
   "outputs": [
    {
     "name": "stdout",
     "output_type": "stream",
     "text": [
      "              precision    recall  f1-score   support\n",
      "\n",
      "           D       0.36      0.21      0.27        19\n",
      "           N       0.25      0.05      0.08        20\n",
      "           V       0.64      0.88      0.74        65\n",
      "\n",
      "    accuracy                           0.60       104\n",
      "   macro avg       0.42      0.38      0.36       104\n",
      "weighted avg       0.51      0.60      0.53       104\n",
      "\n"
     ]
    }
   ],
   "source": [
    "print(classification_report(y_test,model_pred_2))"
   ]
  },
  {
   "cell_type": "markdown",
   "metadata": {
    "id": "sSwPA5rRyWVN"
   },
   "source": [
    "## Split Node"
   ]
  },
  {
   "cell_type": "code",
   "execution_count": null,
   "metadata": {
    "colab": {
     "base_uri": "https://localhost:8080/"
    },
    "id": "4UhfqEK6yfaC",
    "outputId": "26fdfc12-1c77-4460-f5d1-35331fbc94b9"
   },
   "outputs": [
    {
     "name": "stdout",
     "output_type": "stream",
     "text": [
      "Mean Accuracy: 0.601 (0.020)\n"
     ]
    }
   ],
   "source": [
    "model = RandomForestClassifier(n_estimators=94,max_depth=6)\n",
    "# define model evaluation method\n",
    "cv = RepeatedStratifiedKFold(n_splits=5, n_repeats=3, random_state=1)\n",
    "# evaluate model\n",
    "scores = cross_val_score(model, x_scaled, y, scoring='accuracy', cv=cv, n_jobs=-1)\n",
    "# summarize result\n",
    "print('Mean Accuracy: %.3f (%.3f)' % (mean(scores), std(scores)))"
   ]
  },
  {
   "cell_type": "code",
   "execution_count": null,
   "metadata": {
    "id": "m8OSg1VQyfaM"
   },
   "outputs": [],
   "source": [
    "params = {\n",
    "        \n",
    "         'min_samples_split':np.linspace(1,10,10).astype(int),\n",
    "         \n",
    "        }"
   ]
  },
  {
   "cell_type": "code",
   "execution_count": null,
   "metadata": {
    "id": "nxyaMrdHyfaN"
   },
   "outputs": [],
   "source": [
    "search = GridSearchCV(model, params, scoring='accuracy', cv=cv, n_jobs=-1)"
   ]
  },
  {
   "cell_type": "code",
   "execution_count": null,
   "metadata": {
    "colab": {
     "base_uri": "https://localhost:8080/"
    },
    "id": "iXYGY1nUyfaN",
    "outputId": "55c4ec2d-4bb1-4276-f57d-064704341ca4"
   },
   "outputs": [
    {
     "data": {
      "text/plain": [
       "GridSearchCV(cv=RepeatedStratifiedKFold(n_repeats=3, n_splits=5, random_state=1),\n",
       "             error_score=nan,\n",
       "             estimator=RandomForestClassifier(bootstrap=True, ccp_alpha=0.0,\n",
       "                                              class_weight=None,\n",
       "                                              criterion='gini', max_depth=6,\n",
       "                                              max_features='auto',\n",
       "                                              max_leaf_nodes=None,\n",
       "                                              max_samples=None,\n",
       "                                              min_impurity_decrease=0.0,\n",
       "                                              min_impurity_split=None,\n",
       "                                              min_samples_leaf=1,\n",
       "                                              min_samples_split=2,\n",
       "                                              min_weight_fraction_leaf=0.0,\n",
       "                                              n_estimators=94, n_jobs=None,\n",
       "                                              oob_score=False,\n",
       "                                              random_state=None, verbose=0,\n",
       "                                              warm_start=False),\n",
       "             iid='deprecated', n_jobs=-1,\n",
       "             param_grid={'min_samples_split': array([ 1,  2,  3,  4,  5,  6,  7,  8,  9, 10])},\n",
       "             pre_dispatch='2*n_jobs', refit=True, return_train_score=False,\n",
       "             scoring='accuracy', verbose=0)"
      ]
     },
     "execution_count": 183,
     "metadata": {
      "tags": []
     },
     "output_type": "execute_result"
    }
   ],
   "source": [
    "search.fit(x_train,y_train)"
   ]
  },
  {
   "cell_type": "code",
   "execution_count": null,
   "metadata": {
    "id": "p4X-DpxkyfaO"
   },
   "outputs": [],
   "source": [
    "res =pd.DataFrame(search.cv_results_).sort_values('rank_test_score')"
   ]
  },
  {
   "cell_type": "code",
   "execution_count": null,
   "metadata": {
    "colab": {
     "base_uri": "https://localhost:8080/",
     "height": 655
    },
    "id": "GE29Vs6XyfaO",
    "outputId": "544e40c1-e907-4936-b786-29063342bea0"
   },
   "outputs": [
    {
     "data": {
      "text/plain": [
       "Text(0, 0.5, 'Accuracy')"
      ]
     },
     "execution_count": 185,
     "metadata": {
      "tags": []
     },
     "output_type": "execute_result"
    },
    {
     "data": {
      "image/png": "[encoded data removed]",
      "text/plain": [
       "<Figure size 720x720 with 1 Axes>"
      ]
     },
     "metadata": {
      "needs_background": "light",
      "tags": []
     },
     "output_type": "display_data"
    }
   ],
   "source": [
    "f, axs = plt.subplots(1,1,figsize=(10,10))\r\n",
    "sns.set_context(\"poster\")\r\n",
    "sns.lineplot(x= 'param_min_samples_split', y='mean_test_score',data=res,markers='o')\r\n",
    "plt.xlabel('Min Samples split')\r\n",
    "plt.ylabel('Accuracy')"
   ]
  },
  {
   "cell_type": "code",
   "execution_count": null,
   "metadata": {
    "colab": {
     "base_uri": "https://localhost:8080/",
     "height": 213
    },
    "id": "MuTaOHrrztSR",
    "outputId": "c364cc85-1129-4ef6-df94-0dfc1322e641"
   },
   "outputs": [
    {
     "data": {
      "text/html": [
       "<div>\n",
       "<style scoped>\n",
       "    .dataframe tbody tr th:only-of-type {\n",
       "        vertical-align: middle;\n",
       "    }\n",
       "\n",
       "    .dataframe tbody tr th {\n",
       "        vertical-align: top;\n",
       "    }\n",
       "\n",
       "    .dataframe thead th {\n",
       "        text-align: right;\n",
       "    }\n",
       "</style>\n",
       "<table border=\"1\" class=\"dataframe\">\n",
       "  <thead>\n",
       "    <tr style=\"text-align: right;\">\n",
       "      <th></th>\n",
       "      <th>mean_fit_time</th>\n",
       "      <th>std_fit_time</th>\n",
       "      <th>mean_score_time</th>\n",
       "      <th>std_score_time</th>\n",
       "      <th>param_min_samples_split</th>\n",
       "      <th>params</th>\n",
       "      <th>split0_test_score</th>\n",
       "      <th>split1_test_score</th>\n",
       "      <th>split2_test_score</th>\n",
       "      <th>split3_test_score</th>\n",
       "      <th>split4_test_score</th>\n",
       "      <th>split5_test_score</th>\n",
       "      <th>split6_test_score</th>\n",
       "      <th>split7_test_score</th>\n",
       "      <th>split8_test_score</th>\n",
       "      <th>split9_test_score</th>\n",
       "      <th>split10_test_score</th>\n",
       "      <th>split11_test_score</th>\n",
       "      <th>split12_test_score</th>\n",
       "      <th>split13_test_score</th>\n",
       "      <th>split14_test_score</th>\n",
       "      <th>mean_test_score</th>\n",
       "      <th>std_test_score</th>\n",
       "      <th>rank_test_score</th>\n",
       "    </tr>\n",
       "  </thead>\n",
       "  <tbody>\n",
       "    <tr>\n",
       "      <th>3</th>\n",
       "      <td>0.248152</td>\n",
       "      <td>0.012694</td>\n",
       "      <td>0.016515</td>\n",
       "      <td>0.001590</td>\n",
       "      <td>4</td>\n",
       "      <td>{'min_samples_split': 4}</td>\n",
       "      <td>0.551020</td>\n",
       "      <td>0.510204</td>\n",
       "      <td>0.562500</td>\n",
       "      <td>0.645833</td>\n",
       "      <td>0.625000</td>\n",
       "      <td>0.612245</td>\n",
       "      <td>0.591837</td>\n",
       "      <td>0.625000</td>\n",
       "      <td>0.562500</td>\n",
       "      <td>0.583333</td>\n",
       "      <td>0.693878</td>\n",
       "      <td>0.551020</td>\n",
       "      <td>0.625000</td>\n",
       "      <td>0.583333</td>\n",
       "      <td>0.583333</td>\n",
       "      <td>0.593736</td>\n",
       "      <td>0.043912</td>\n",
       "      <td>1</td>\n",
       "    </tr>\n",
       "    <tr>\n",
       "      <th>1</th>\n",
       "      <td>0.245343</td>\n",
       "      <td>0.007726</td>\n",
       "      <td>0.016608</td>\n",
       "      <td>0.002101</td>\n",
       "      <td>2</td>\n",
       "      <td>{'min_samples_split': 2}</td>\n",
       "      <td>0.489796</td>\n",
       "      <td>0.551020</td>\n",
       "      <td>0.541667</td>\n",
       "      <td>0.666667</td>\n",
       "      <td>0.604167</td>\n",
       "      <td>0.632653</td>\n",
       "      <td>0.571429</td>\n",
       "      <td>0.645833</td>\n",
       "      <td>0.541667</td>\n",
       "      <td>0.604167</td>\n",
       "      <td>0.632653</td>\n",
       "      <td>0.571429</td>\n",
       "      <td>0.583333</td>\n",
       "      <td>0.562500</td>\n",
       "      <td>0.500000</td>\n",
       "      <td>0.579932</td>\n",
       "      <td>0.049892</td>\n",
       "      <td>2</td>\n",
       "    </tr>\n",
       "    <tr>\n",
       "      <th>5</th>\n",
       "      <td>0.241445</td>\n",
       "      <td>0.006920</td>\n",
       "      <td>0.016057</td>\n",
       "      <td>0.000674</td>\n",
       "      <td>6</td>\n",
       "      <td>{'min_samples_split': 6}</td>\n",
       "      <td>0.571429</td>\n",
       "      <td>0.510204</td>\n",
       "      <td>0.583333</td>\n",
       "      <td>0.645833</td>\n",
       "      <td>0.562500</td>\n",
       "      <td>0.632653</td>\n",
       "      <td>0.591837</td>\n",
       "      <td>0.604167</td>\n",
       "      <td>0.541667</td>\n",
       "      <td>0.562500</td>\n",
       "      <td>0.612245</td>\n",
       "      <td>0.571429</td>\n",
       "      <td>0.562500</td>\n",
       "      <td>0.604167</td>\n",
       "      <td>0.541667</td>\n",
       "      <td>0.579875</td>\n",
       "      <td>0.034968</td>\n",
       "      <td>3</td>\n",
       "    </tr>\n",
       "  </tbody>\n",
       "</table>\n",
       "</div>"
      ],
      "text/plain": [
       "   mean_fit_time  std_fit_time  ...  std_test_score  rank_test_score\n",
       "3       0.248152      0.012694  ...        0.043912                1\n",
       "1       0.245343      0.007726  ...        0.049892                2\n",
       "5       0.241445      0.006920  ...        0.034968                3\n",
       "\n",
       "[3 rows x 24 columns]"
      ]
     },
     "execution_count": 186,
     "metadata": {
      "tags": []
     },
     "output_type": "execute_result"
    }
   ],
   "source": [
    "res.head(3)"
   ]
  },
  {
   "cell_type": "code",
   "execution_count": null,
   "metadata": {
    "id": "u5cogV6GztSS"
   },
   "outputs": [],
   "source": [
    "model_3 = search.best_estimator_"
   ]
  },
  {
   "cell_type": "code",
   "execution_count": null,
   "metadata": {
    "id": "hFE3WDbOztST"
   },
   "outputs": [],
   "source": [
    "model_pred_3 = model_1.predict(x_test)"
   ]
  },
  {
   "cell_type": "code",
   "execution_count": null,
   "metadata": {
    "colab": {
     "base_uri": "https://localhost:8080/",
     "height": 333
    },
    "id": "YKVjVJVIztSU",
    "outputId": "5bf7fe86-3eeb-461f-9aae-f1f5cd68c1f4"
   },
   "outputs": [
    {
     "data": {
      "text/plain": [
       "<sklearn.metrics._plot.confusion_matrix.ConfusionMatrixDisplay at 0x7f7e1f5ae7d0>"
      ]
     },
     "execution_count": 189,
     "metadata": {
      "tags": []
     },
     "output_type": "execute_result"
    },
    {
     "data": {
      "image/png": "[encoded data removed]",
      "text/plain": [
       "<Figure size 432x288 with 2 Axes>"
      ]
     },
     "metadata": {
      "needs_background": "light",
      "tags": []
     },
     "output_type": "display_data"
    }
   ],
   "source": [
    "plot_confusion_matrix(model_3,x_test,y_test)"
   ]
  },
  {
   "cell_type": "code",
   "execution_count": null,
   "metadata": {
    "colab": {
     "base_uri": "https://localhost:8080/"
    },
    "id": "E1P08qqtztSU",
    "outputId": "5d476998-f410-45a0-91f9-ae269080d11f"
   },
   "outputs": [
    {
     "data": {
      "text/plain": [
       "0.5961538461538461"
      ]
     },
     "execution_count": 190,
     "metadata": {
      "tags": []
     },
     "output_type": "execute_result"
    }
   ],
   "source": [
    "accuracy_score(y_test,model_pred_3)"
   ]
  },
  {
   "cell_type": "code",
   "execution_count": null,
   "metadata": {
    "colab": {
     "base_uri": "https://localhost:8080/"
    },
    "id": "_W3MLGP-ztSV",
    "outputId": "7017bcf7-7c48-4242-ce3e-49472aa303e4"
   },
   "outputs": [
    {
     "name": "stdout",
     "output_type": "stream",
     "text": [
      "              precision    recall  f1-score   support\n",
      "\n",
      "           D       0.30      0.16      0.21        19\n",
      "           N       0.25      0.05      0.08        20\n",
      "           V       0.64      0.89      0.75        65\n",
      "\n",
      "    accuracy                           0.60       104\n",
      "   macro avg       0.40      0.37      0.35       104\n",
      "weighted avg       0.51      0.60      0.52       104\n",
      "\n"
     ]
    }
   ],
   "source": [
    "print(classification_report(y_test,model_pred_3))"
   ]
  },
  {
   "cell_type": "code",
   "execution_count": null,
   "metadata": {
    "id": "L2ikw4jKsYpm"
   },
   "outputs": [],
   "source": []
  },
  {
   "cell_type": "markdown",
   "metadata": {
    "id": "COhcRg7H1kGf"
   },
   "source": [
    "## Sample Leaf"
   ]
  },
  {
   "cell_type": "code",
   "execution_count": null,
   "metadata": {
    "colab": {
     "base_uri": "https://localhost:8080/"
    },
    "id": "p2IThaeW1nPO",
    "outputId": "b6a7cfbd-17e0-4851-d143-be9683cb83bb"
   },
   "outputs": [
    {
     "name": "stdout",
     "output_type": "stream",
     "text": [
      "Mean Accuracy: nan (nan)\n"
     ]
    }
   ],
   "source": [
    "model = RandomForestClassifier(n_estimators=94,max_depth=6,min_samples_split=3)\n",
    "# define model evaluation method\n",
    "cv = RepeatedStratifiedKFold(n_splits=5, n_repeats=3, random_state=1)\n",
    "# evaluate model\n",
    "scores = cross_val_score(model, x_scaled, y, scoring='accuracy', cv=cv, n_jobs=-1)\n",
    "# summarize result\n",
    "print('Mean Accuracy: %.3f (%.3f)' % (mean(scores), std(scores)))"
   ]
  },
  {
   "cell_type": "code",
   "execution_count": null,
   "metadata": {
    "id": "LT6WBluB1nPO"
   },
   "outputs": [],
   "source": [
    "params = {\n",
    "        \n",
    "         'min_samples_leaf':np.linspace(1,10,10).astype(int),\n",
    "         \n",
    "        }"
   ]
  },
  {
   "cell_type": "code",
   "execution_count": null,
   "metadata": {
    "id": "dH98p4g91nPP"
   },
   "outputs": [],
   "source": [
    "search = GridSearchCV(model, params, scoring='accuracy', cv=cv, n_jobs=-1)"
   ]
  },
  {
   "cell_type": "code",
   "execution_count": null,
   "metadata": {
    "colab": {
     "base_uri": "https://localhost:8080/"
    },
    "id": "Kuf0vA-M1nPP",
    "outputId": "73fc2536-5ccf-4bc6-b3c3-f605bb23b0ac"
   },
   "outputs": [
    {
     "data": {
      "text/plain": [
       "GridSearchCV(cv=RepeatedStratifiedKFold(n_repeats=3, n_splits=5, random_state=1),\n",
       "             error_score=nan,\n",
       "             estimator=RandomForestClassifier(bootstrap=True, ccp_alpha=0.0,\n",
       "                                              class_weight='balanced_subsample',\n",
       "                                              criterion='gini', max_depth=6,\n",
       "                                              max_features='auto',\n",
       "                                              max_leaf_nodes=None,\n",
       "                                              max_samples=None,\n",
       "                                              min_impurity_decrease=0.0,\n",
       "                                              min_impurity_split=None,\n",
       "                                              min_samples_leaf=1,\n",
       "                                              min_samples_split=3,\n",
       "                                              min_weight_fraction_leaf=0.0,\n",
       "                                              n_estimators=94, n_jobs=None,\n",
       "                                              oob_score=False,\n",
       "                                              random_state=None, verbose=0,\n",
       "                                              warm_start=False),\n",
       "             iid='deprecated', n_jobs=-1,\n",
       "             param_grid={'min_samples_leaf': array([ 1,  2,  3,  4,  5,  6,  7,  8,  9, 10])},\n",
       "             pre_dispatch='2*n_jobs', refit=True, return_train_score=False,\n",
       "             scoring='accuracy', verbose=0)"
      ]
     },
     "execution_count": 259,
     "metadata": {
      "tags": []
     },
     "output_type": "execute_result"
    }
   ],
   "source": [
    "search.fit(x_train,y_train)"
   ]
  },
  {
   "cell_type": "code",
   "execution_count": null,
   "metadata": {
    "id": "bCa6bIzi1nPQ"
   },
   "outputs": [],
   "source": [
    "res =pd.DataFrame(search.cv_results_).sort_values('rank_test_score')"
   ]
  },
  {
   "cell_type": "code",
   "execution_count": null,
   "metadata": {
    "colab": {
     "base_uri": "https://localhost:8080/",
     "height": 655
    },
    "id": "esncWBZT1nPQ",
    "outputId": "9d51e494-d931-47c8-864b-ec0ad4975e37"
   },
   "outputs": [
    {
     "data": {
      "text/plain": [
       "Text(0, 0.5, 'Accuracy')"
      ]
     },
     "execution_count": 261,
     "metadata": {
      "tags": []
     },
     "output_type": "execute_result"
    },
    {
     "data": {
      "image/png": "[encoded data removed]",
      "text/plain": [
       "<Figure size 720x720 with 1 Axes>"
      ]
     },
     "metadata": {
      "needs_background": "light",
      "tags": []
     },
     "output_type": "display_data"
    }
   ],
   "source": [
    "f, axs = plt.subplots(1,1,figsize=(10,10))\r\n",
    "sns.set_context(\"poster\")\r\n",
    "sns.lineplot(x= 'param_min_samples_leaf', y='mean_test_score',data=res,markers='o')\r\n",
    "plt.xlabel('Min Samples leaf')\r\n",
    "plt.ylabel('Accuracy')"
   ]
  },
  {
   "cell_type": "code",
   "execution_count": null,
   "metadata": {
    "colab": {
     "base_uri": "https://localhost:8080/",
     "height": 213
    },
    "id": "oIjKETEe1nPQ",
    "outputId": "5ef7ca02-d7e4-47ff-84dd-0abeb87ac053"
   },
   "outputs": [
    {
     "data": {
      "text/html": [
       "<div>\n",
       "<style scoped>\n",
       "    .dataframe tbody tr th:only-of-type {\n",
       "        vertical-align: middle;\n",
       "    }\n",
       "\n",
       "    .dataframe tbody tr th {\n",
       "        vertical-align: top;\n",
       "    }\n",
       "\n",
       "    .dataframe thead th {\n",
       "        text-align: right;\n",
       "    }\n",
       "</style>\n",
       "<table border=\"1\" class=\"dataframe\">\n",
       "  <thead>\n",
       "    <tr style=\"text-align: right;\">\n",
       "      <th></th>\n",
       "      <th>mean_fit_time</th>\n",
       "      <th>std_fit_time</th>\n",
       "      <th>mean_score_time</th>\n",
       "      <th>std_score_time</th>\n",
       "      <th>param_min_samples_leaf</th>\n",
       "      <th>params</th>\n",
       "      <th>split0_test_score</th>\n",
       "      <th>split1_test_score</th>\n",
       "      <th>split2_test_score</th>\n",
       "      <th>split3_test_score</th>\n",
       "      <th>split4_test_score</th>\n",
       "      <th>split5_test_score</th>\n",
       "      <th>split6_test_score</th>\n",
       "      <th>split7_test_score</th>\n",
       "      <th>split8_test_score</th>\n",
       "      <th>split9_test_score</th>\n",
       "      <th>split10_test_score</th>\n",
       "      <th>split11_test_score</th>\n",
       "      <th>split12_test_score</th>\n",
       "      <th>split13_test_score</th>\n",
       "      <th>split14_test_score</th>\n",
       "      <th>mean_test_score</th>\n",
       "      <th>std_test_score</th>\n",
       "      <th>rank_test_score</th>\n",
       "    </tr>\n",
       "  </thead>\n",
       "  <tbody>\n",
       "    <tr>\n",
       "      <th>2</th>\n",
       "      <td>0.292978</td>\n",
       "      <td>0.013291</td>\n",
       "      <td>0.015957</td>\n",
       "      <td>0.000648</td>\n",
       "      <td>3</td>\n",
       "      <td>{'min_samples_leaf': 3}</td>\n",
       "      <td>0.571429</td>\n",
       "      <td>0.530612</td>\n",
       "      <td>0.583333</td>\n",
       "      <td>0.645833</td>\n",
       "      <td>0.562500</td>\n",
       "      <td>0.612245</td>\n",
       "      <td>0.571429</td>\n",
       "      <td>0.645833</td>\n",
       "      <td>0.583333</td>\n",
       "      <td>0.583333</td>\n",
       "      <td>0.673469</td>\n",
       "      <td>0.530612</td>\n",
       "      <td>0.625000</td>\n",
       "      <td>0.625000</td>\n",
       "      <td>0.500000</td>\n",
       "      <td>0.589598</td>\n",
       "      <td>0.046817</td>\n",
       "      <td>1</td>\n",
       "    </tr>\n",
       "    <tr>\n",
       "      <th>4</th>\n",
       "      <td>0.291812</td>\n",
       "      <td>0.007285</td>\n",
       "      <td>0.015848</td>\n",
       "      <td>0.000645</td>\n",
       "      <td>5</td>\n",
       "      <td>{'min_samples_leaf': 5}</td>\n",
       "      <td>0.530612</td>\n",
       "      <td>0.489796</td>\n",
       "      <td>0.541667</td>\n",
       "      <td>0.666667</td>\n",
       "      <td>0.500000</td>\n",
       "      <td>0.591837</td>\n",
       "      <td>0.612245</td>\n",
       "      <td>0.625000</td>\n",
       "      <td>0.520833</td>\n",
       "      <td>0.562500</td>\n",
       "      <td>0.612245</td>\n",
       "      <td>0.551020</td>\n",
       "      <td>0.687500</td>\n",
       "      <td>0.625000</td>\n",
       "      <td>0.500000</td>\n",
       "      <td>0.574461</td>\n",
       "      <td>0.060205</td>\n",
       "      <td>2</td>\n",
       "    </tr>\n",
       "    <tr>\n",
       "      <th>3</th>\n",
       "      <td>0.292327</td>\n",
       "      <td>0.008577</td>\n",
       "      <td>0.016480</td>\n",
       "      <td>0.001743</td>\n",
       "      <td>4</td>\n",
       "      <td>{'min_samples_leaf': 4}</td>\n",
       "      <td>0.530612</td>\n",
       "      <td>0.571429</td>\n",
       "      <td>0.500000</td>\n",
       "      <td>0.604167</td>\n",
       "      <td>0.541667</td>\n",
       "      <td>0.632653</td>\n",
       "      <td>0.612245</td>\n",
       "      <td>0.583333</td>\n",
       "      <td>0.604167</td>\n",
       "      <td>0.520833</td>\n",
       "      <td>0.612245</td>\n",
       "      <td>0.571429</td>\n",
       "      <td>0.604167</td>\n",
       "      <td>0.604167</td>\n",
       "      <td>0.479167</td>\n",
       "      <td>0.571485</td>\n",
       "      <td>0.044896</td>\n",
       "      <td>3</td>\n",
       "    </tr>\n",
       "  </tbody>\n",
       "</table>\n",
       "</div>"
      ],
      "text/plain": [
       "   mean_fit_time  std_fit_time  ...  std_test_score  rank_test_score\n",
       "2       0.292978      0.013291  ...        0.046817                1\n",
       "4       0.291812      0.007285  ...        0.060205                2\n",
       "3       0.292327      0.008577  ...        0.044896                3\n",
       "\n",
       "[3 rows x 24 columns]"
      ]
     },
     "execution_count": 262,
     "metadata": {
      "tags": []
     },
     "output_type": "execute_result"
    }
   ],
   "source": [
    "res.head(3)"
   ]
  },
  {
   "cell_type": "code",
   "execution_count": null,
   "metadata": {
    "id": "h3erPWVC1nPR"
   },
   "outputs": [],
   "source": [
    "model_4 = search.best_estimator_"
   ]
  },
  {
   "cell_type": "code",
   "execution_count": null,
   "metadata": {
    "id": "4rIyS-Kz1nPR"
   },
   "outputs": [],
   "source": [
    "model_pred_4 = model_4.predict(x_test)"
   ]
  },
  {
   "cell_type": "code",
   "execution_count": null,
   "metadata": {
    "colab": {
     "base_uri": "https://localhost:8080/",
     "height": 329
    },
    "id": "wqG9jOro1nPR",
    "outputId": "31e61b64-75d0-4a32-93e1-8b083f140cb5"
   },
   "outputs": [
    {
     "data": {
      "text/plain": [
       "<sklearn.metrics._plot.confusion_matrix.ConfusionMatrixDisplay at 0x7f7e1e7f9210>"
      ]
     },
     "execution_count": 265,
     "metadata": {
      "tags": []
     },
     "output_type": "execute_result"
    },
    {
     "data": {
      "image/png": "[encoded data removed]",
      "text/plain": [
       "<Figure size 432x288 with 2 Axes>"
      ]
     },
     "metadata": {
      "needs_background": "light",
      "tags": []
     },
     "output_type": "display_data"
    }
   ],
   "source": [
    "plot_confusion_matrix(model_4,x_test,y_test)"
   ]
  },
  {
   "cell_type": "code",
   "execution_count": null,
   "metadata": {
    "colab": {
     "base_uri": "https://localhost:8080/"
    },
    "id": "zbaaL6lM1nPS",
    "outputId": "8a1ed83c-819e-4203-af19-1df99b04525e"
   },
   "outputs": [
    {
     "data": {
      "text/plain": [
       "0.5384615384615384"
      ]
     },
     "execution_count": 266,
     "metadata": {
      "tags": []
     },
     "output_type": "execute_result"
    }
   ],
   "source": [
    "accuracy_score(y_test,model_pred_4)"
   ]
  },
  {
   "cell_type": "code",
   "execution_count": null,
   "metadata": {
    "colab": {
     "base_uri": "https://localhost:8080/"
    },
    "id": "0Nq-IMls1nPS",
    "outputId": "5fd6bd27-c0e1-4928-91f5-45b3ee3cde77"
   },
   "outputs": [
    {
     "name": "stdout",
     "output_type": "stream",
     "text": [
      "              precision    recall  f1-score   support\n",
      "\n",
      "           D       0.30      0.16      0.21        19\n",
      "           N       1.00      0.05      0.10        20\n",
      "           V       0.62      0.89      0.73        65\n",
      "\n",
      "    accuracy                           0.60       104\n",
      "   macro avg       0.64      0.37      0.35       104\n",
      "weighted avg       0.64      0.60      0.51       104\n",
      "\n"
     ]
    }
   ],
   "source": [
    "print(classification_report(y_test,model_pred_4))"
   ]
  },
  {
   "cell_type": "markdown",
   "metadata": {
    "id": "g1x10fR321zq"
   },
   "source": [
    "# Extra Trees"
   ]
  },
  {
   "cell_type": "markdown",
   "metadata": {
    "id": "34MlU8N721zx"
   },
   "source": [
    "## Trees Number"
   ]
  },
  {
   "cell_type": "code",
   "execution_count": null,
   "metadata": {
    "colab": {
     "base_uri": "https://localhost:8080/"
    },
    "id": "Dz7CThDH21zx",
    "outputId": "04243c53-11aa-4b5b-c968-d6f089bf52ff"
   },
   "outputs": [
    {
     "name": "stdout",
     "output_type": "stream",
     "text": [
      "Mean Accuracy: 0.607 (0.033)\n"
     ]
    }
   ],
   "source": [
    "model = ExtraTreesClassifier()\n",
    "# define model evaluation method\n",
    "cv = RepeatedStratifiedKFold(n_splits=5, n_repeats=3, random_state=1)\n",
    "# evaluate model\n",
    "scores = cross_val_score(model, x_scaled, y, scoring='accuracy', cv=cv, n_jobs=-1)\n",
    "# summarize result\n",
    "print('Mean Accuracy: %.3f (%.3f)' % (mean(scores), std(scores)))"
   ]
  },
  {
   "cell_type": "code",
   "execution_count": null,
   "metadata": {
    "id": "ai9lXyGU21zy"
   },
   "outputs": [],
   "source": [
    "params = {'n_estimators' : np.linspace(10,200,10).astype(int), \n",
    "         \n",
    "        }"
   ]
  },
  {
   "cell_type": "code",
   "execution_count": null,
   "metadata": {
    "id": "bTj0i22Q21zy"
   },
   "outputs": [],
   "source": [
    "search = GridSearchCV(model, params, scoring='accuracy', cv=cv, n_jobs=-1)"
   ]
  },
  {
   "cell_type": "code",
   "execution_count": null,
   "metadata": {
    "colab": {
     "base_uri": "https://localhost:8080/"
    },
    "id": "qOj9Tw9i21zy",
    "outputId": "b86b8443-be70-4816-c898-e9184971e932"
   },
   "outputs": [
    {
     "data": {
      "text/plain": [
       "GridSearchCV(cv=RepeatedStratifiedKFold(n_repeats=3, n_splits=5, random_state=1),\n",
       "             error_score=nan,\n",
       "             estimator=ExtraTreesClassifier(bootstrap=False, ccp_alpha=0.0,\n",
       "                                            class_weight=None, criterion='gini',\n",
       "                                            max_depth=None, max_features='auto',\n",
       "                                            max_leaf_nodes=None,\n",
       "                                            max_samples=None,\n",
       "                                            min_impurity_decrease=0.0,\n",
       "                                            min_impurity_split=None,\n",
       "                                            min_samples_leaf=1,\n",
       "                                            min_samples_split=2,\n",
       "                                            min_weight_fraction_leaf=0.0,\n",
       "                                            n_estimators=100, n_jobs=None,\n",
       "                                            oob_score=False, random_state=None,\n",
       "                                            verbose=0, warm_start=False),\n",
       "             iid='deprecated', n_jobs=-1,\n",
       "             param_grid={'n_estimators': array([ 10,  31,  52,  73,  94, 115, 136, 157, 178, 200])},\n",
       "             pre_dispatch='2*n_jobs', refit=True, return_train_score=False,\n",
       "             scoring='accuracy', verbose=0)"
      ]
     },
     "execution_count": 207,
     "metadata": {
      "tags": []
     },
     "output_type": "execute_result"
    }
   ],
   "source": [
    "search.fit(x_train,y_train)"
   ]
  },
  {
   "cell_type": "code",
   "execution_count": null,
   "metadata": {
    "id": "r3QgbjgN21zy"
   },
   "outputs": [],
   "source": [
    "res =pd.DataFrame(search.cv_results_).sort_values('rank_test_score')"
   ]
  },
  {
   "cell_type": "code",
   "execution_count": null,
   "metadata": {
    "colab": {
     "base_uri": "https://localhost:8080/",
     "height": 655
    },
    "id": "G3aFPljl21zz",
    "outputId": "7a1b3845-72ce-485c-bdb3-fc11bf61dee4"
   },
   "outputs": [
    {
     "data": {
      "text/plain": [
       "Text(0, 0.5, 'Accuracy')"
      ]
     },
     "execution_count": 209,
     "metadata": {
      "tags": []
     },
     "output_type": "execute_result"
    },
    {
     "data": {
      "image/png": "[encoded data removed]",
      "text/plain": [
       "<Figure size 720x720 with 1 Axes>"
      ]
     },
     "metadata": {
      "needs_background": "light",
      "tags": []
     },
     "output_type": "display_data"
    }
   ],
   "source": [
    "f, axs = plt.subplots(1,1,figsize=(10,10))\r\n",
    "sns.set_context(\"poster\")\r\n",
    "sns.lineplot(x= 'param_n_estimators', y='mean_test_score',data=res,markers='o')\r\n",
    "plt.xlabel('Trees Number (XT)')\r\n",
    "plt.ylabel('Accuracy')"
   ]
  },
  {
   "cell_type": "code",
   "execution_count": null,
   "metadata": {
    "colab": {
     "base_uri": "https://localhost:8080/",
     "height": 309
    },
    "id": "8Iu51HJ921zz",
    "outputId": "548fee51-54b8-4002-b224-69e9f645088c"
   },
   "outputs": [
    {
     "data": {
      "text/html": [
       "<div>\n",
       "<style scoped>\n",
       "    .dataframe tbody tr th:only-of-type {\n",
       "        vertical-align: middle;\n",
       "    }\n",
       "\n",
       "    .dataframe tbody tr th {\n",
       "        vertical-align: top;\n",
       "    }\n",
       "\n",
       "    .dataframe thead th {\n",
       "        text-align: right;\n",
       "    }\n",
       "</style>\n",
       "<table border=\"1\" class=\"dataframe\">\n",
       "  <thead>\n",
       "    <tr style=\"text-align: right;\">\n",
       "      <th></th>\n",
       "      <th>mean_fit_time</th>\n",
       "      <th>std_fit_time</th>\n",
       "      <th>mean_score_time</th>\n",
       "      <th>std_score_time</th>\n",
       "      <th>param_n_estimators</th>\n",
       "      <th>params</th>\n",
       "      <th>split0_test_score</th>\n",
       "      <th>split1_test_score</th>\n",
       "      <th>split2_test_score</th>\n",
       "      <th>split3_test_score</th>\n",
       "      <th>split4_test_score</th>\n",
       "      <th>split5_test_score</th>\n",
       "      <th>split6_test_score</th>\n",
       "      <th>split7_test_score</th>\n",
       "      <th>split8_test_score</th>\n",
       "      <th>split9_test_score</th>\n",
       "      <th>split10_test_score</th>\n",
       "      <th>split11_test_score</th>\n",
       "      <th>split12_test_score</th>\n",
       "      <th>split13_test_score</th>\n",
       "      <th>split14_test_score</th>\n",
       "      <th>mean_test_score</th>\n",
       "      <th>std_test_score</th>\n",
       "      <th>rank_test_score</th>\n",
       "    </tr>\n",
       "  </thead>\n",
       "  <tbody>\n",
       "    <tr>\n",
       "      <th>1</th>\n",
       "      <td>0.065051</td>\n",
       "      <td>0.009732</td>\n",
       "      <td>0.007046</td>\n",
       "      <td>0.000429</td>\n",
       "      <td>31</td>\n",
       "      <td>{'n_estimators': 31}</td>\n",
       "      <td>0.591837</td>\n",
       "      <td>0.591837</td>\n",
       "      <td>0.645833</td>\n",
       "      <td>0.645833</td>\n",
       "      <td>0.583333</td>\n",
       "      <td>0.571429</td>\n",
       "      <td>0.530612</td>\n",
       "      <td>0.541667</td>\n",
       "      <td>0.562500</td>\n",
       "      <td>0.583333</td>\n",
       "      <td>0.673469</td>\n",
       "      <td>0.571429</td>\n",
       "      <td>0.583333</td>\n",
       "      <td>0.666667</td>\n",
       "      <td>0.625000</td>\n",
       "      <td>0.597874</td>\n",
       "      <td>0.042288</td>\n",
       "      <td>1</td>\n",
       "    </tr>\n",
       "    <tr>\n",
       "      <th>2</th>\n",
       "      <td>0.100841</td>\n",
       "      <td>0.005387</td>\n",
       "      <td>0.010098</td>\n",
       "      <td>0.000175</td>\n",
       "      <td>52</td>\n",
       "      <td>{'n_estimators': 52}</td>\n",
       "      <td>0.510204</td>\n",
       "      <td>0.530612</td>\n",
       "      <td>0.687500</td>\n",
       "      <td>0.645833</td>\n",
       "      <td>0.583333</td>\n",
       "      <td>0.551020</td>\n",
       "      <td>0.591837</td>\n",
       "      <td>0.541667</td>\n",
       "      <td>0.583333</td>\n",
       "      <td>0.562500</td>\n",
       "      <td>0.591837</td>\n",
       "      <td>0.612245</td>\n",
       "      <td>0.583333</td>\n",
       "      <td>0.708333</td>\n",
       "      <td>0.583333</td>\n",
       "      <td>0.591128</td>\n",
       "      <td>0.052784</td>\n",
       "      <td>2</td>\n",
       "    </tr>\n",
       "    <tr>\n",
       "      <th>8</th>\n",
       "      <td>0.334680</td>\n",
       "      <td>0.005378</td>\n",
       "      <td>0.029565</td>\n",
       "      <td>0.000837</td>\n",
       "      <td>178</td>\n",
       "      <td>{'n_estimators': 178}</td>\n",
       "      <td>0.571429</td>\n",
       "      <td>0.530612</td>\n",
       "      <td>0.604167</td>\n",
       "      <td>0.604167</td>\n",
       "      <td>0.583333</td>\n",
       "      <td>0.551020</td>\n",
       "      <td>0.591837</td>\n",
       "      <td>0.604167</td>\n",
       "      <td>0.604167</td>\n",
       "      <td>0.604167</td>\n",
       "      <td>0.591837</td>\n",
       "      <td>0.612245</td>\n",
       "      <td>0.583333</td>\n",
       "      <td>0.645833</td>\n",
       "      <td>0.562500</td>\n",
       "      <td>0.589654</td>\n",
       "      <td>0.026903</td>\n",
       "      <td>3</td>\n",
       "    </tr>\n",
       "    <tr>\n",
       "      <th>3</th>\n",
       "      <td>0.141879</td>\n",
       "      <td>0.007031</td>\n",
       "      <td>0.013971</td>\n",
       "      <td>0.000612</td>\n",
       "      <td>73</td>\n",
       "      <td>{'n_estimators': 73}</td>\n",
       "      <td>0.530612</td>\n",
       "      <td>0.530612</td>\n",
       "      <td>0.604167</td>\n",
       "      <td>0.625000</td>\n",
       "      <td>0.625000</td>\n",
       "      <td>0.571429</td>\n",
       "      <td>0.510204</td>\n",
       "      <td>0.562500</td>\n",
       "      <td>0.604167</td>\n",
       "      <td>0.625000</td>\n",
       "      <td>0.673469</td>\n",
       "      <td>0.612245</td>\n",
       "      <td>0.583333</td>\n",
       "      <td>0.666667</td>\n",
       "      <td>0.500000</td>\n",
       "      <td>0.588294</td>\n",
       "      <td>0.051665</td>\n",
       "      <td>4</td>\n",
       "    </tr>\n",
       "    <tr>\n",
       "      <th>6</th>\n",
       "      <td>0.258994</td>\n",
       "      <td>0.004901</td>\n",
       "      <td>0.024128</td>\n",
       "      <td>0.003393</td>\n",
       "      <td>136</td>\n",
       "      <td>{'n_estimators': 136}</td>\n",
       "      <td>0.510204</td>\n",
       "      <td>0.551020</td>\n",
       "      <td>0.645833</td>\n",
       "      <td>0.666667</td>\n",
       "      <td>0.583333</td>\n",
       "      <td>0.551020</td>\n",
       "      <td>0.571429</td>\n",
       "      <td>0.562500</td>\n",
       "      <td>0.583333</td>\n",
       "      <td>0.625000</td>\n",
       "      <td>0.551020</td>\n",
       "      <td>0.653061</td>\n",
       "      <td>0.541667</td>\n",
       "      <td>0.645833</td>\n",
       "      <td>0.562500</td>\n",
       "      <td>0.586961</td>\n",
       "      <td>0.046464</td>\n",
       "      <td>5</td>\n",
       "    </tr>\n",
       "  </tbody>\n",
       "</table>\n",
       "</div>"
      ],
      "text/plain": [
       "   mean_fit_time  std_fit_time  ...  std_test_score  rank_test_score\n",
       "1       0.065051      0.009732  ...        0.042288                1\n",
       "2       0.100841      0.005387  ...        0.052784                2\n",
       "8       0.334680      0.005378  ...        0.026903                3\n",
       "3       0.141879      0.007031  ...        0.051665                4\n",
       "6       0.258994      0.004901  ...        0.046464                5\n",
       "\n",
       "[5 rows x 24 columns]"
      ]
     },
     "execution_count": 210,
     "metadata": {
      "tags": []
     },
     "output_type": "execute_result"
    }
   ],
   "source": [
    "res.head(5)"
   ]
  },
  {
   "cell_type": "code",
   "execution_count": null,
   "metadata": {
    "id": "EMAQwE8K21zz"
   },
   "outputs": [],
   "source": [
    "model_1 = search.best_estimator_"
   ]
  },
  {
   "cell_type": "code",
   "execution_count": null,
   "metadata": {
    "id": "2YNYRcMj21zz"
   },
   "outputs": [],
   "source": [
    "model_pred_1 = model_1.predict(x_test)"
   ]
  },
  {
   "cell_type": "code",
   "execution_count": null,
   "metadata": {
    "colab": {
     "base_uri": "https://localhost:8080/",
     "height": 329
    },
    "id": "2BoaPKnu21zz",
    "outputId": "cfe2c071-446f-4a7e-c0c8-7bade9c294d1"
   },
   "outputs": [
    {
     "data": {
      "text/plain": [
       "<sklearn.metrics._plot.confusion_matrix.ConfusionMatrixDisplay at 0x7f7e1e7ab8d0>"
      ]
     },
     "execution_count": 213,
     "metadata": {
      "tags": []
     },
     "output_type": "execute_result"
    },
    {
     "data": {
      "image/png": "[encoded data removed]",
      "text/plain": [
       "<Figure size 432x288 with 2 Axes>"
      ]
     },
     "metadata": {
      "needs_background": "light",
      "tags": []
     },
     "output_type": "display_data"
    }
   ],
   "source": [
    "plot_confusion_matrix(model_1,x_test,y_test)"
   ]
  },
  {
   "cell_type": "code",
   "execution_count": null,
   "metadata": {
    "colab": {
     "base_uri": "https://localhost:8080/"
    },
    "id": "FbM3oXVU21z0",
    "outputId": "07510b49-0251-4556-ef9c-6f0d9e5f7cd5"
   },
   "outputs": [
    {
     "data": {
      "text/plain": [
       "0.5865384615384616"
      ]
     },
     "execution_count": 214,
     "metadata": {
      "tags": []
     },
     "output_type": "execute_result"
    }
   ],
   "source": [
    "accuracy_score(y_test,model_pred_1)"
   ]
  },
  {
   "cell_type": "code",
   "execution_count": null,
   "metadata": {
    "colab": {
     "base_uri": "https://localhost:8080/"
    },
    "id": "f-v1mtuw21z0",
    "outputId": "e72a388b-5f77-482e-c86c-e21736ff31af"
   },
   "outputs": [
    {
     "name": "stdout",
     "output_type": "stream",
     "text": [
      "              precision    recall  f1-score   support\n",
      "\n",
      "           D       0.56      0.26      0.36        19\n",
      "           N       0.10      0.05      0.07        20\n",
      "           V       0.65      0.85      0.73        65\n",
      "\n",
      "    accuracy                           0.59       104\n",
      "   macro avg       0.43      0.39      0.39       104\n",
      "weighted avg       0.53      0.59      0.54       104\n",
      "\n"
     ]
    }
   ],
   "source": [
    "print(classification_report(y_test,model_pred_1))"
   ]
  },
  {
   "cell_type": "code",
   "execution_count": null,
   "metadata": {
    "id": "AQgJ9EYP21z0"
   },
   "outputs": [],
   "source": []
  },
  {
   "cell_type": "markdown",
   "metadata": {
    "id": "j8qgJrzA21z0"
   },
   "source": [
    "## Depth"
   ]
  },
  {
   "cell_type": "code",
   "execution_count": null,
   "metadata": {
    "colab": {
     "base_uri": "https://localhost:8080/"
    },
    "id": "JNN0LofR21z0",
    "outputId": "0f7eba8b-5702-4ff8-f3a6-2cfbbce52167"
   },
   "outputs": [
    {
     "name": "stdout",
     "output_type": "stream",
     "text": [
      "Mean Accuracy: 0.610 (0.039)\n"
     ]
    }
   ],
   "source": [
    "model = ExtraTreesClassifier(n_estimators=94)\n",
    "# define model evaluation method\n",
    "cv = RepeatedStratifiedKFold(n_splits=5, n_repeats=3, random_state=1)\n",
    "# evaluate model\n",
    "scores = cross_val_score(model, x_scaled, y, scoring='accuracy', cv=cv, n_jobs=-1)\n",
    "# summarize result\n",
    "print('Mean Accuracy: %.3f (%.3f)' % (mean(scores), std(scores)))"
   ]
  },
  {
   "cell_type": "code",
   "execution_count": null,
   "metadata": {
    "id": "glSGuTTc21z1"
   },
   "outputs": [],
   "source": [
    "params = {'max_depth' : np.linspace(3,30,10).astype(int)\n",
    "        }"
   ]
  },
  {
   "cell_type": "code",
   "execution_count": null,
   "metadata": {
    "id": "ub-Ugw4s21z1"
   },
   "outputs": [],
   "source": [
    "search = GridSearchCV(model, params, scoring='accuracy', cv=cv, n_jobs=-1)"
   ]
  },
  {
   "cell_type": "code",
   "execution_count": null,
   "metadata": {
    "colab": {
     "base_uri": "https://localhost:8080/"
    },
    "id": "J1O7Hcr521z1",
    "outputId": "7b4f3ba3-36f5-4818-c39e-4ca06d6d94ae"
   },
   "outputs": [
    {
     "data": {
      "text/plain": [
       "GridSearchCV(cv=RepeatedStratifiedKFold(n_repeats=3, n_splits=5, random_state=1),\n",
       "             error_score=nan,\n",
       "             estimator=ExtraTreesClassifier(bootstrap=False, ccp_alpha=0.0,\n",
       "                                            class_weight=None, criterion='gini',\n",
       "                                            max_depth=None, max_features='auto',\n",
       "                                            max_leaf_nodes=None,\n",
       "                                            max_samples=None,\n",
       "                                            min_impurity_decrease=0.0,\n",
       "                                            min_impurity_split=None,\n",
       "                                            min_samples_leaf=1,\n",
       "                                            min_samples_split=2,\n",
       "                                            min_weight_fraction_leaf=0.0,\n",
       "                                            n_estimators=94, n_jobs=None,\n",
       "                                            oob_score=False, random_state=None,\n",
       "                                            verbose=0, warm_start=False),\n",
       "             iid='deprecated', n_jobs=-1,\n",
       "             param_grid={'max_depth': array([ 3,  6,  9, 12, 15, 18, 21, 24, 27, 30])},\n",
       "             pre_dispatch='2*n_jobs', refit=True, return_train_score=False,\n",
       "             scoring='accuracy', verbose=0)"
      ]
     },
     "execution_count": 219,
     "metadata": {
      "tags": []
     },
     "output_type": "execute_result"
    }
   ],
   "source": [
    "search.fit(x_train,y_train)"
   ]
  },
  {
   "cell_type": "code",
   "execution_count": null,
   "metadata": {
    "id": "cyffPE-l21z1"
   },
   "outputs": [],
   "source": [
    "res =pd.DataFrame(search.cv_results_).sort_values('rank_test_score')"
   ]
  },
  {
   "cell_type": "code",
   "execution_count": null,
   "metadata": {
    "colab": {
     "base_uri": "https://localhost:8080/",
     "height": 655
    },
    "id": "7EFfV1xP21z1",
    "outputId": "101bc43d-46b3-43b2-af3e-a388586123e0"
   },
   "outputs": [
    {
     "data": {
      "text/plain": [
       "Text(0, 0.5, 'Accuracy')"
      ]
     },
     "execution_count": 221,
     "metadata": {
      "tags": []
     },
     "output_type": "execute_result"
    },
    {
     "data": {
      "image/png": "[encoded data removed]",
      "text/plain": [
       "<Figure size 720x720 with 1 Axes>"
      ]
     },
     "metadata": {
      "needs_background": "light",
      "tags": []
     },
     "output_type": "display_data"
    }
   ],
   "source": [
    "f, axs = plt.subplots(1,1,figsize=(10,10))\r\n",
    "sns.set_context(\"poster\")\r\n",
    "sns.lineplot(x= 'param_max_depth', y='mean_test_score',data=res,markers='o')\r\n",
    "plt.xlabel('Max depth')\r\n",
    "plt.ylabel('Accuracy')"
   ]
  },
  {
   "cell_type": "code",
   "execution_count": null,
   "metadata": {
    "colab": {
     "base_uri": "https://localhost:8080/",
     "height": 213
    },
    "id": "zhSRbldU21z3",
    "outputId": "9b6f6af5-ccab-42ff-fbfa-539e8158fcc3"
   },
   "outputs": [
    {
     "data": {
      "text/html": [
       "<div>\n",
       "<style scoped>\n",
       "    .dataframe tbody tr th:only-of-type {\n",
       "        vertical-align: middle;\n",
       "    }\n",
       "\n",
       "    .dataframe tbody tr th {\n",
       "        vertical-align: top;\n",
       "    }\n",
       "\n",
       "    .dataframe thead th {\n",
       "        text-align: right;\n",
       "    }\n",
       "</style>\n",
       "<table border=\"1\" class=\"dataframe\">\n",
       "  <thead>\n",
       "    <tr style=\"text-align: right;\">\n",
       "      <th></th>\n",
       "      <th>mean_fit_time</th>\n",
       "      <th>std_fit_time</th>\n",
       "      <th>mean_score_time</th>\n",
       "      <th>std_score_time</th>\n",
       "      <th>param_max_depth</th>\n",
       "      <th>params</th>\n",
       "      <th>split0_test_score</th>\n",
       "      <th>split1_test_score</th>\n",
       "      <th>split2_test_score</th>\n",
       "      <th>split3_test_score</th>\n",
       "      <th>split4_test_score</th>\n",
       "      <th>split5_test_score</th>\n",
       "      <th>split6_test_score</th>\n",
       "      <th>split7_test_score</th>\n",
       "      <th>split8_test_score</th>\n",
       "      <th>split9_test_score</th>\n",
       "      <th>split10_test_score</th>\n",
       "      <th>split11_test_score</th>\n",
       "      <th>split12_test_score</th>\n",
       "      <th>split13_test_score</th>\n",
       "      <th>split14_test_score</th>\n",
       "      <th>mean_test_score</th>\n",
       "      <th>std_test_score</th>\n",
       "      <th>rank_test_score</th>\n",
       "    </tr>\n",
       "  </thead>\n",
       "  <tbody>\n",
       "    <tr>\n",
       "      <th>9</th>\n",
       "      <td>0.176958</td>\n",
       "      <td>0.012200</td>\n",
       "      <td>0.016198</td>\n",
       "      <td>0.002010</td>\n",
       "      <td>30</td>\n",
       "      <td>{'max_depth': 30}</td>\n",
       "      <td>0.530612</td>\n",
       "      <td>0.591837</td>\n",
       "      <td>0.625000</td>\n",
       "      <td>0.666667</td>\n",
       "      <td>0.583333</td>\n",
       "      <td>0.571429</td>\n",
       "      <td>0.571429</td>\n",
       "      <td>0.562500</td>\n",
       "      <td>0.666667</td>\n",
       "      <td>0.645833</td>\n",
       "      <td>0.653061</td>\n",
       "      <td>0.632653</td>\n",
       "      <td>0.562500</td>\n",
       "      <td>0.666667</td>\n",
       "      <td>0.479167</td>\n",
       "      <td>0.600624</td>\n",
       "      <td>0.054246</td>\n",
       "      <td>1</td>\n",
       "    </tr>\n",
       "    <tr>\n",
       "      <th>3</th>\n",
       "      <td>0.179167</td>\n",
       "      <td>0.007645</td>\n",
       "      <td>0.017495</td>\n",
       "      <td>0.003926</td>\n",
       "      <td>12</td>\n",
       "      <td>{'max_depth': 12}</td>\n",
       "      <td>0.510204</td>\n",
       "      <td>0.489796</td>\n",
       "      <td>0.604167</td>\n",
       "      <td>0.666667</td>\n",
       "      <td>0.687500</td>\n",
       "      <td>0.551020</td>\n",
       "      <td>0.591837</td>\n",
       "      <td>0.604167</td>\n",
       "      <td>0.562500</td>\n",
       "      <td>0.604167</td>\n",
       "      <td>0.673469</td>\n",
       "      <td>0.612245</td>\n",
       "      <td>0.562500</td>\n",
       "      <td>0.645833</td>\n",
       "      <td>0.562500</td>\n",
       "      <td>0.595238</td>\n",
       "      <td>0.055590</td>\n",
       "      <td>2</td>\n",
       "    </tr>\n",
       "    <tr>\n",
       "      <th>4</th>\n",
       "      <td>0.178009</td>\n",
       "      <td>0.003371</td>\n",
       "      <td>0.016752</td>\n",
       "      <td>0.000362</td>\n",
       "      <td>15</td>\n",
       "      <td>{'max_depth': 15}</td>\n",
       "      <td>0.571429</td>\n",
       "      <td>0.551020</td>\n",
       "      <td>0.666667</td>\n",
       "      <td>0.666667</td>\n",
       "      <td>0.604167</td>\n",
       "      <td>0.571429</td>\n",
       "      <td>0.612245</td>\n",
       "      <td>0.604167</td>\n",
       "      <td>0.541667</td>\n",
       "      <td>0.604167</td>\n",
       "      <td>0.612245</td>\n",
       "      <td>0.571429</td>\n",
       "      <td>0.583333</td>\n",
       "      <td>0.666667</td>\n",
       "      <td>0.500000</td>\n",
       "      <td>0.595153</td>\n",
       "      <td>0.046088</td>\n",
       "      <td>3</td>\n",
       "    </tr>\n",
       "  </tbody>\n",
       "</table>\n",
       "</div>"
      ],
      "text/plain": [
       "   mean_fit_time  std_fit_time  ...  std_test_score  rank_test_score\n",
       "9       0.176958      0.012200  ...        0.054246                1\n",
       "3       0.179167      0.007645  ...        0.055590                2\n",
       "4       0.178009      0.003371  ...        0.046088                3\n",
       "\n",
       "[3 rows x 24 columns]"
      ]
     },
     "execution_count": 222,
     "metadata": {
      "tags": []
     },
     "output_type": "execute_result"
    }
   ],
   "source": [
    "res.head(3)"
   ]
  },
  {
   "cell_type": "code",
   "execution_count": null,
   "metadata": {
    "id": "GuFDxdb221z4"
   },
   "outputs": [],
   "source": [
    "model_2 = search.best_estimator_"
   ]
  },
  {
   "cell_type": "code",
   "execution_count": null,
   "metadata": {
    "id": "tnRLWUcx21z4"
   },
   "outputs": [],
   "source": [
    "model_pred_2 = model_2.predict(x_test)"
   ]
  },
  {
   "cell_type": "code",
   "execution_count": null,
   "metadata": {
    "colab": {
     "base_uri": "https://localhost:8080/",
     "height": 329
    },
    "id": "mYty5Rb121z5",
    "outputId": "211a5433-6682-4df2-b779-83852932967d"
   },
   "outputs": [
    {
     "data": {
      "text/plain": [
       "<sklearn.metrics._plot.confusion_matrix.ConfusionMatrixDisplay at 0x7f7e1e6defd0>"
      ]
     },
     "execution_count": 225,
     "metadata": {
      "tags": []
     },
     "output_type": "execute_result"
    },
    {
     "data": {
      "image/png": "[encoded data removed]",
      "text/plain": [
       "<Figure size 432x288 with 2 Axes>"
      ]
     },
     "metadata": {
      "needs_background": "light",
      "tags": []
     },
     "output_type": "display_data"
    }
   ],
   "source": [
    "plot_confusion_matrix(model_2,x_test,y_test)"
   ]
  },
  {
   "cell_type": "code",
   "execution_count": null,
   "metadata": {
    "colab": {
     "base_uri": "https://localhost:8080/"
    },
    "id": "qdD8KTjE21z5",
    "outputId": "12f0bc31-752d-4230-a03d-00685f4d966a"
   },
   "outputs": [
    {
     "data": {
      "text/plain": [
       "0.5865384615384616"
      ]
     },
     "execution_count": 226,
     "metadata": {
      "tags": []
     },
     "output_type": "execute_result"
    }
   ],
   "source": [
    "accuracy_score(y_test,model_pred_2)"
   ]
  },
  {
   "cell_type": "code",
   "execution_count": null,
   "metadata": {
    "colab": {
     "base_uri": "https://localhost:8080/"
    },
    "id": "sB_bHdQJ21z5",
    "outputId": "fecb6116-2217-44cf-e893-9705ebcd2707"
   },
   "outputs": [
    {
     "name": "stdout",
     "output_type": "stream",
     "text": [
      "              precision    recall  f1-score   support\n",
      "\n",
      "           D       0.45      0.26      0.33        19\n",
      "           N       0.00      0.00      0.00        20\n",
      "           V       0.66      0.86      0.75        65\n",
      "\n",
      "    accuracy                           0.59       104\n",
      "   macro avg       0.37      0.37      0.36       104\n",
      "weighted avg       0.49      0.59      0.53       104\n",
      "\n"
     ]
    }
   ],
   "source": [
    "print(classification_report(y_test,model_pred_2))"
   ]
  },
  {
   "cell_type": "markdown",
   "metadata": {
    "id": "0R0zA24121z6"
   },
   "source": [
    "## Split Node"
   ]
  },
  {
   "cell_type": "code",
   "execution_count": null,
   "metadata": {
    "colab": {
     "base_uri": "https://localhost:8080/"
    },
    "id": "JGQHIGbm21z6",
    "outputId": "3ca4d698-024d-4c3c-8c95-aeb4e9df9f1d"
   },
   "outputs": [
    {
     "name": "stdout",
     "output_type": "stream",
     "text": [
      "Mean Accuracy: 0.600 (0.025)\n"
     ]
    }
   ],
   "source": [
    "model = ExtraTreesClassifier(n_estimators=94,max_depth=9)\n",
    "# define model evaluation method\n",
    "cv = RepeatedStratifiedKFold(n_splits=5, n_repeats=3, random_state=1)\n",
    "# evaluate model\n",
    "scores = cross_val_score(model, x_scaled, y, scoring='accuracy', cv=cv, n_jobs=-1)\n",
    "# summarize result\n",
    "print('Mean Accuracy: %.3f (%.3f)' % (mean(scores), std(scores)))"
   ]
  },
  {
   "cell_type": "code",
   "execution_count": null,
   "metadata": {
    "id": "4tphxlc_21z6"
   },
   "outputs": [],
   "source": [
    "params = {\n",
    "        \n",
    "         'min_samples_split':np.linspace(1,10,10).astype(int),\n",
    "         \n",
    "        }"
   ]
  },
  {
   "cell_type": "code",
   "execution_count": null,
   "metadata": {
    "id": "g0OkejMo21z6"
   },
   "outputs": [],
   "source": [
    "search = GridSearchCV(model, params, scoring='accuracy', cv=cv, n_jobs=-1)"
   ]
  },
  {
   "cell_type": "code",
   "execution_count": null,
   "metadata": {
    "colab": {
     "base_uri": "https://localhost:8080/"
    },
    "id": "OiieATWj21z7",
    "outputId": "8b4fed25-0739-4e5d-eb11-66e4603bcaf4"
   },
   "outputs": [
    {
     "data": {
      "text/plain": [
       "GridSearchCV(cv=RepeatedStratifiedKFold(n_repeats=3, n_splits=5, random_state=1),\n",
       "             error_score=nan,\n",
       "             estimator=ExtraTreesClassifier(bootstrap=False, ccp_alpha=0.0,\n",
       "                                            class_weight=None, criterion='gini',\n",
       "                                            max_depth=9, max_features='auto',\n",
       "                                            max_leaf_nodes=None,\n",
       "                                            max_samples=None,\n",
       "                                            min_impurity_decrease=0.0,\n",
       "                                            min_impurity_split=None,\n",
       "                                            min_samples_leaf=1,\n",
       "                                            min_samples_split=2,\n",
       "                                            min_weight_fraction_leaf=0.0,\n",
       "                                            n_estimators=94, n_jobs=None,\n",
       "                                            oob_score=False, random_state=None,\n",
       "                                            verbose=0, warm_start=False),\n",
       "             iid='deprecated', n_jobs=-1,\n",
       "             param_grid={'min_samples_split': array([ 1,  2,  3,  4,  5,  6,  7,  8,  9, 10])},\n",
       "             pre_dispatch='2*n_jobs', refit=True, return_train_score=False,\n",
       "             scoring='accuracy', verbose=0)"
      ]
     },
     "execution_count": 231,
     "metadata": {
      "tags": []
     },
     "output_type": "execute_result"
    }
   ],
   "source": [
    "search.fit(x_train,y_train)"
   ]
  },
  {
   "cell_type": "code",
   "execution_count": null,
   "metadata": {
    "id": "pAIO_wpo21z7"
   },
   "outputs": [],
   "source": [
    "res =pd.DataFrame(search.cv_results_).sort_values('rank_test_score')"
   ]
  },
  {
   "cell_type": "code",
   "execution_count": null,
   "metadata": {
    "colab": {
     "base_uri": "https://localhost:8080/",
     "height": 655
    },
    "id": "OFjkXBxS21z7",
    "outputId": "374e41be-d67a-4549-d897-0bbf7ea6c128"
   },
   "outputs": [
    {
     "data": {
      "text/plain": [
       "Text(0, 0.5, 'Accuracy')"
      ]
     },
     "execution_count": 233,
     "metadata": {
      "tags": []
     },
     "output_type": "execute_result"
    },
    {
     "data": {
      "image/png": "[encoded data removed]",
      "text/plain": [
       "<Figure size 720x720 with 1 Axes>"
      ]
     },
     "metadata": {
      "needs_background": "light",
      "tags": []
     },
     "output_type": "display_data"
    }
   ],
   "source": [
    "f, axs = plt.subplots(1,1,figsize=(10,10))\r\n",
    "sns.set_context(\"poster\")\r\n",
    "sns.lineplot(x= 'param_min_samples_split', y='mean_test_score',data=res,markers='o')\r\n",
    "plt.xlabel('Min Samples split')\r\n",
    "plt.ylabel('Accuracy')"
   ]
  },
  {
   "cell_type": "code",
   "execution_count": null,
   "metadata": {
    "colab": {
     "base_uri": "https://localhost:8080/",
     "height": 213
    },
    "id": "uH32WEhY21z7",
    "outputId": "9b6de956-e937-44d5-b9da-c61f7707d5c0"
   },
   "outputs": [
    {
     "data": {
      "text/html": [
       "<div>\n",
       "<style scoped>\n",
       "    .dataframe tbody tr th:only-of-type {\n",
       "        vertical-align: middle;\n",
       "    }\n",
       "\n",
       "    .dataframe tbody tr th {\n",
       "        vertical-align: top;\n",
       "    }\n",
       "\n",
       "    .dataframe thead th {\n",
       "        text-align: right;\n",
       "    }\n",
       "</style>\n",
       "<table border=\"1\" class=\"dataframe\">\n",
       "  <thead>\n",
       "    <tr style=\"text-align: right;\">\n",
       "      <th></th>\n",
       "      <th>mean_fit_time</th>\n",
       "      <th>std_fit_time</th>\n",
       "      <th>mean_score_time</th>\n",
       "      <th>std_score_time</th>\n",
       "      <th>param_min_samples_split</th>\n",
       "      <th>params</th>\n",
       "      <th>split0_test_score</th>\n",
       "      <th>split1_test_score</th>\n",
       "      <th>split2_test_score</th>\n",
       "      <th>split3_test_score</th>\n",
       "      <th>split4_test_score</th>\n",
       "      <th>split5_test_score</th>\n",
       "      <th>split6_test_score</th>\n",
       "      <th>split7_test_score</th>\n",
       "      <th>split8_test_score</th>\n",
       "      <th>split9_test_score</th>\n",
       "      <th>split10_test_score</th>\n",
       "      <th>split11_test_score</th>\n",
       "      <th>split12_test_score</th>\n",
       "      <th>split13_test_score</th>\n",
       "      <th>split14_test_score</th>\n",
       "      <th>mean_test_score</th>\n",
       "      <th>std_test_score</th>\n",
       "      <th>rank_test_score</th>\n",
       "    </tr>\n",
       "  </thead>\n",
       "  <tbody>\n",
       "    <tr>\n",
       "      <th>5</th>\n",
       "      <td>0.169911</td>\n",
       "      <td>0.004781</td>\n",
       "      <td>0.017748</td>\n",
       "      <td>0.001444</td>\n",
       "      <td>6</td>\n",
       "      <td>{'min_samples_split': 6}</td>\n",
       "      <td>0.55102</td>\n",
       "      <td>0.510204</td>\n",
       "      <td>0.666667</td>\n",
       "      <td>0.666667</td>\n",
       "      <td>0.604167</td>\n",
       "      <td>0.612245</td>\n",
       "      <td>0.571429</td>\n",
       "      <td>0.583333</td>\n",
       "      <td>0.666667</td>\n",
       "      <td>0.562500</td>\n",
       "      <td>0.551020</td>\n",
       "      <td>0.571429</td>\n",
       "      <td>0.604167</td>\n",
       "      <td>0.645833</td>\n",
       "      <td>0.583333</td>\n",
       "      <td>0.596712</td>\n",
       "      <td>0.046125</td>\n",
       "      <td>1</td>\n",
       "    </tr>\n",
       "    <tr>\n",
       "      <th>2</th>\n",
       "      <td>0.172441</td>\n",
       "      <td>0.008213</td>\n",
       "      <td>0.016765</td>\n",
       "      <td>0.000647</td>\n",
       "      <td>3</td>\n",
       "      <td>{'min_samples_split': 3}</td>\n",
       "      <td>0.55102</td>\n",
       "      <td>0.530612</td>\n",
       "      <td>0.645833</td>\n",
       "      <td>0.645833</td>\n",
       "      <td>0.604167</td>\n",
       "      <td>0.612245</td>\n",
       "      <td>0.571429</td>\n",
       "      <td>0.604167</td>\n",
       "      <td>0.562500</td>\n",
       "      <td>0.604167</td>\n",
       "      <td>0.653061</td>\n",
       "      <td>0.612245</td>\n",
       "      <td>0.604167</td>\n",
       "      <td>0.625000</td>\n",
       "      <td>0.520833</td>\n",
       "      <td>0.596485</td>\n",
       "      <td>0.039606</td>\n",
       "      <td>2</td>\n",
       "    </tr>\n",
       "    <tr>\n",
       "      <th>4</th>\n",
       "      <td>0.169647</td>\n",
       "      <td>0.005161</td>\n",
       "      <td>0.016608</td>\n",
       "      <td>0.000865</td>\n",
       "      <td>5</td>\n",
       "      <td>{'min_samples_split': 5}</td>\n",
       "      <td>0.55102</td>\n",
       "      <td>0.551020</td>\n",
       "      <td>0.666667</td>\n",
       "      <td>0.645833</td>\n",
       "      <td>0.625000</td>\n",
       "      <td>0.571429</td>\n",
       "      <td>0.591837</td>\n",
       "      <td>0.604167</td>\n",
       "      <td>0.604167</td>\n",
       "      <td>0.562500</td>\n",
       "      <td>0.591837</td>\n",
       "      <td>0.551020</td>\n",
       "      <td>0.583333</td>\n",
       "      <td>0.645833</td>\n",
       "      <td>0.583333</td>\n",
       "      <td>0.595266</td>\n",
       "      <td>0.035663</td>\n",
       "      <td>3</td>\n",
       "    </tr>\n",
       "  </tbody>\n",
       "</table>\n",
       "</div>"
      ],
      "text/plain": [
       "   mean_fit_time  std_fit_time  ...  std_test_score  rank_test_score\n",
       "5       0.169911      0.004781  ...        0.046125                1\n",
       "2       0.172441      0.008213  ...        0.039606                2\n",
       "4       0.169647      0.005161  ...        0.035663                3\n",
       "\n",
       "[3 rows x 24 columns]"
      ]
     },
     "execution_count": 234,
     "metadata": {
      "tags": []
     },
     "output_type": "execute_result"
    }
   ],
   "source": [
    "res.head(3)"
   ]
  },
  {
   "cell_type": "code",
   "execution_count": null,
   "metadata": {
    "id": "8fwdfmH421z8"
   },
   "outputs": [],
   "source": [
    "model_3 = search.best_estimator_"
   ]
  },
  {
   "cell_type": "code",
   "execution_count": null,
   "metadata": {
    "id": "r6ZWk00m21z8"
   },
   "outputs": [],
   "source": [
    "model_pred_3 = model_3.predict(x_test)"
   ]
  },
  {
   "cell_type": "code",
   "execution_count": null,
   "metadata": {
    "colab": {
     "base_uri": "https://localhost:8080/",
     "height": 333
    },
    "id": "Cg1sQZAw21z8",
    "outputId": "96de594b-ca0b-4fe5-9c60-6ae3a8bc0a00"
   },
   "outputs": [
    {
     "data": {
      "text/plain": [
       "<sklearn.metrics._plot.confusion_matrix.ConfusionMatrixDisplay at 0x7f7e1e550d50>"
      ]
     },
     "execution_count": 237,
     "metadata": {
      "tags": []
     },
     "output_type": "execute_result"
    },
    {
     "data": {
      "image/png": "[encoded data removed]",
      "text/plain": [
       "<Figure size 432x288 with 2 Axes>"
      ]
     },
     "metadata": {
      "needs_background": "light",
      "tags": []
     },
     "output_type": "display_data"
    }
   ],
   "source": [
    "plot_confusion_matrix(model_3,x_test,y_test)"
   ]
  },
  {
   "cell_type": "code",
   "execution_count": null,
   "metadata": {
    "colab": {
     "base_uri": "https://localhost:8080/"
    },
    "id": "xEescMp821z8",
    "outputId": "b8315ac6-d3d9-420c-a3b6-f8d111d5480b"
   },
   "outputs": [
    {
     "data": {
      "text/plain": [
       "0.6153846153846154"
      ]
     },
     "execution_count": 238,
     "metadata": {
      "tags": []
     },
     "output_type": "execute_result"
    }
   ],
   "source": [
    "accuracy_score(y_test,model_pred_3)"
   ]
  },
  {
   "cell_type": "code",
   "execution_count": null,
   "metadata": {
    "colab": {
     "base_uri": "https://localhost:8080/"
    },
    "id": "BhM_lycu21z9",
    "outputId": "373cc623-3716-44e0-c75f-16e36605c5d8"
   },
   "outputs": [
    {
     "name": "stdout",
     "output_type": "stream",
     "text": [
      "              precision    recall  f1-score   support\n",
      "\n",
      "           D       0.60      0.16      0.25        19\n",
      "           N       0.00      0.00      0.00        20\n",
      "           V       0.64      0.94      0.76        65\n",
      "\n",
      "    accuracy                           0.62       104\n",
      "   macro avg       0.41      0.37      0.34       104\n",
      "weighted avg       0.51      0.62      0.52       104\n",
      "\n"
     ]
    }
   ],
   "source": [
    "print(classification_report(y_test,model_pred_3))"
   ]
  },
  {
   "cell_type": "code",
   "execution_count": null,
   "metadata": {
    "id": "KJcHTajY21z9"
   },
   "outputs": [],
   "source": []
  },
  {
   "cell_type": "markdown",
   "metadata": {
    "id": "iTATnCMW21z9"
   },
   "source": [
    "## Sample Leaf"
   ]
  },
  {
   "cell_type": "code",
   "execution_count": null,
   "metadata": {
    "colab": {
     "base_uri": "https://localhost:8080/"
    },
    "id": "Q222JKHm21z-",
    "outputId": "a683d311-f6b1-4db7-dce5-c323c6ba1cf1"
   },
   "outputs": [
    {
     "name": "stdout",
     "output_type": "stream",
     "text": [
      "Mean Accuracy: 0.552 (0.071)\n"
     ]
    }
   ],
   "source": [
    "model = ExtraTreesClassifier(n_estimators=94,max_depth=6,min_samples_split=2)\n",
    "# define model evaluation method\n",
    "cv = RepeatedStratifiedKFold(n_splits=5, n_repeats=3, random_state=1)\n",
    "# evaluate model\n",
    "scores = cross_val_score(model, x_scaled, y, scoring='accuracy', cv=cv, n_jobs=-1)\n",
    "# summarize result\n",
    "print('Mean Accuracy: %.3f (%.3f)' % (mean(scores), std(scores)))"
   ]
  },
  {
   "cell_type": "code",
   "execution_count": null,
   "metadata": {
    "id": "ukr0Ig9N21z-"
   },
   "outputs": [],
   "source": [
    "params = {\n",
    "        \n",
    "         'min_samples_leaf':np.linspace(1,10,10).astype(int),\n",
    "         \n",
    "        }"
   ]
  },
  {
   "cell_type": "code",
   "execution_count": null,
   "metadata": {
    "id": "oKwRug5221z-"
   },
   "outputs": [],
   "source": [
    "search = GridSearchCV(model, params, scoring='accuracy', cv=cv, n_jobs=-1)"
   ]
  },
  {
   "cell_type": "code",
   "execution_count": null,
   "metadata": {
    "colab": {
     "base_uri": "https://localhost:8080/"
    },
    "id": "5Hv11FlF21z-",
    "outputId": "fb522395-c230-4a34-ccad-35914cb2511e"
   },
   "outputs": [
    {
     "data": {
      "text/plain": [
       "GridSearchCV(cv=RepeatedStratifiedKFold(n_repeats=3, n_splits=5, random_state=1),\n",
       "             error_score=nan,\n",
       "             estimator=ExtraTreesClassifier(bootstrap=False, ccp_alpha=0.0,\n",
       "                                            class_weight=None, criterion='gini',\n",
       "                                            max_depth=6, max_features='auto',\n",
       "                                            max_leaf_nodes=None,\n",
       "                                            max_samples=None,\n",
       "                                            min_impurity_decrease=0.0,\n",
       "                                            min_impurity_split=None,\n",
       "                                            min_samples_leaf=1,\n",
       "                                            min_samples_split=2,\n",
       "                                            min_weight_fraction_leaf=0.0,\n",
       "                                            n_estimators=94, n_jobs=None,\n",
       "                                            oob_score=False, random_state=None,\n",
       "                                            verbose=0, warm_start=False),\n",
       "             iid='deprecated', n_jobs=-1,\n",
       "             param_grid={'min_samples_leaf': array([ 1,  2,  3,  4,  5,  6,  7,  8,  9, 10])},\n",
       "             pre_dispatch='2*n_jobs', refit=True, return_train_score=False,\n",
       "             scoring='accuracy', verbose=0)"
      ]
     },
     "execution_count": 243,
     "metadata": {
      "tags": []
     },
     "output_type": "execute_result"
    }
   ],
   "source": [
    "search.fit(x_train,y_train)"
   ]
  },
  {
   "cell_type": "code",
   "execution_count": null,
   "metadata": {
    "id": "8THQ77Qu21z_"
   },
   "outputs": [],
   "source": [
    "res =pd.DataFrame(search.cv_results_).sort_values('rank_test_score')"
   ]
  },
  {
   "cell_type": "code",
   "execution_count": null,
   "metadata": {
    "colab": {
     "base_uri": "https://localhost:8080/",
     "height": 655
    },
    "id": "COJPvkqG21z_",
    "outputId": "efef97bb-dd4f-4d6b-8875-0b5e5134e341"
   },
   "outputs": [
    {
     "data": {
      "text/plain": [
       "Text(0, 0.5, 'Accuracy')"
      ]
     },
     "execution_count": 245,
     "metadata": {
      "tags": []
     },
     "output_type": "execute_result"
    },
    {
     "data": {
      "image/png": "[encoded data removed]",
      "text/plain": [
       "<Figure size 720x720 with 1 Axes>"
      ]
     },
     "metadata": {
      "needs_background": "light",
      "tags": []
     },
     "output_type": "display_data"
    }
   ],
   "source": [
    "f, axs = plt.subplots(1,1,figsize=(10,10))\r\n",
    "sns.set_context(\"poster\")\r\n",
    "sns.lineplot(x= 'param_min_samples_leaf', y='mean_test_score',data=res,markers='o')\r\n",
    "plt.xlabel('Min Samples leaf')\r\n",
    "plt.ylabel('Accuracy')"
   ]
  },
  {
   "cell_type": "code",
   "execution_count": null,
   "metadata": {
    "colab": {
     "base_uri": "https://localhost:8080/",
     "height": 213
    },
    "id": "6vCvgqJk210A",
    "outputId": "dc2f6359-691c-4a92-e693-9878b924e97b"
   },
   "outputs": [
    {
     "data": {
      "text/html": [
       "<div>\n",
       "<style scoped>\n",
       "    .dataframe tbody tr th:only-of-type {\n",
       "        vertical-align: middle;\n",
       "    }\n",
       "\n",
       "    .dataframe tbody tr th {\n",
       "        vertical-align: top;\n",
       "    }\n",
       "\n",
       "    .dataframe thead th {\n",
       "        text-align: right;\n",
       "    }\n",
       "</style>\n",
       "<table border=\"1\" class=\"dataframe\">\n",
       "  <thead>\n",
       "    <tr style=\"text-align: right;\">\n",
       "      <th></th>\n",
       "      <th>mean_fit_time</th>\n",
       "      <th>std_fit_time</th>\n",
       "      <th>mean_score_time</th>\n",
       "      <th>std_score_time</th>\n",
       "      <th>param_min_samples_leaf</th>\n",
       "      <th>params</th>\n",
       "      <th>split0_test_score</th>\n",
       "      <th>split1_test_score</th>\n",
       "      <th>split2_test_score</th>\n",
       "      <th>split3_test_score</th>\n",
       "      <th>split4_test_score</th>\n",
       "      <th>split5_test_score</th>\n",
       "      <th>split6_test_score</th>\n",
       "      <th>split7_test_score</th>\n",
       "      <th>split8_test_score</th>\n",
       "      <th>split9_test_score</th>\n",
       "      <th>split10_test_score</th>\n",
       "      <th>split11_test_score</th>\n",
       "      <th>split12_test_score</th>\n",
       "      <th>split13_test_score</th>\n",
       "      <th>split14_test_score</th>\n",
       "      <th>mean_test_score</th>\n",
       "      <th>std_test_score</th>\n",
       "      <th>rank_test_score</th>\n",
       "    </tr>\n",
       "  </thead>\n",
       "  <tbody>\n",
       "    <tr>\n",
       "      <th>4</th>\n",
       "      <td>0.163412</td>\n",
       "      <td>0.005288</td>\n",
       "      <td>0.015963</td>\n",
       "      <td>0.000340</td>\n",
       "      <td>5</td>\n",
       "      <td>{'min_samples_leaf': 5}</td>\n",
       "      <td>0.612245</td>\n",
       "      <td>0.571429</td>\n",
       "      <td>0.604167</td>\n",
       "      <td>0.583333</td>\n",
       "      <td>0.604167</td>\n",
       "      <td>0.591837</td>\n",
       "      <td>0.551020</td>\n",
       "      <td>0.604167</td>\n",
       "      <td>0.562500</td>\n",
       "      <td>0.583333</td>\n",
       "      <td>0.571429</td>\n",
       "      <td>0.571429</td>\n",
       "      <td>0.604167</td>\n",
       "      <td>0.604167</td>\n",
       "      <td>0.604167</td>\n",
       "      <td>0.588237</td>\n",
       "      <td>0.018358</td>\n",
       "      <td>1</td>\n",
       "    </tr>\n",
       "    <tr>\n",
       "      <th>0</th>\n",
       "      <td>0.170827</td>\n",
       "      <td>0.007562</td>\n",
       "      <td>0.017466</td>\n",
       "      <td>0.002116</td>\n",
       "      <td>1</td>\n",
       "      <td>{'min_samples_leaf': 1}</td>\n",
       "      <td>0.551020</td>\n",
       "      <td>0.551020</td>\n",
       "      <td>0.583333</td>\n",
       "      <td>0.583333</td>\n",
       "      <td>0.562500</td>\n",
       "      <td>0.632653</td>\n",
       "      <td>0.530612</td>\n",
       "      <td>0.604167</td>\n",
       "      <td>0.604167</td>\n",
       "      <td>0.604167</td>\n",
       "      <td>0.591837</td>\n",
       "      <td>0.571429</td>\n",
       "      <td>0.625000</td>\n",
       "      <td>0.645833</td>\n",
       "      <td>0.541667</td>\n",
       "      <td>0.585516</td>\n",
       "      <td>0.033224</td>\n",
       "      <td>2</td>\n",
       "    </tr>\n",
       "    <tr>\n",
       "      <th>2</th>\n",
       "      <td>0.166957</td>\n",
       "      <td>0.010381</td>\n",
       "      <td>0.016233</td>\n",
       "      <td>0.000764</td>\n",
       "      <td>3</td>\n",
       "      <td>{'min_samples_leaf': 3}</td>\n",
       "      <td>0.551020</td>\n",
       "      <td>0.571429</td>\n",
       "      <td>0.625000</td>\n",
       "      <td>0.562500</td>\n",
       "      <td>0.562500</td>\n",
       "      <td>0.591837</td>\n",
       "      <td>0.571429</td>\n",
       "      <td>0.583333</td>\n",
       "      <td>0.562500</td>\n",
       "      <td>0.583333</td>\n",
       "      <td>0.612245</td>\n",
       "      <td>0.571429</td>\n",
       "      <td>0.583333</td>\n",
       "      <td>0.604167</td>\n",
       "      <td>0.562500</td>\n",
       "      <td>0.579904</td>\n",
       "      <td>0.020178</td>\n",
       "      <td>3</td>\n",
       "    </tr>\n",
       "  </tbody>\n",
       "</table>\n",
       "</div>"
      ],
      "text/plain": [
       "   mean_fit_time  std_fit_time  ...  std_test_score  rank_test_score\n",
       "4       0.163412      0.005288  ...        0.018358                1\n",
       "0       0.170827      0.007562  ...        0.033224                2\n",
       "2       0.166957      0.010381  ...        0.020178                3\n",
       "\n",
       "[3 rows x 24 columns]"
      ]
     },
     "execution_count": 246,
     "metadata": {
      "tags": []
     },
     "output_type": "execute_result"
    }
   ],
   "source": [
    "res.head(3)"
   ]
  },
  {
   "cell_type": "code",
   "execution_count": null,
   "metadata": {
    "id": "Ip__mTtd210A"
   },
   "outputs": [],
   "source": [
    "model_4 = search.best_estimator_"
   ]
  },
  {
   "cell_type": "code",
   "execution_count": null,
   "metadata": {
    "id": "kieVPzAp210A"
   },
   "outputs": [],
   "source": [
    "model_pred_4 = model_4.predict(x_test)"
   ]
  },
  {
   "cell_type": "code",
   "execution_count": null,
   "metadata": {
    "colab": {
     "base_uri": "https://localhost:8080/",
     "height": 329
    },
    "id": "oBXju6Yo210A",
    "outputId": "499df67d-a2ab-49f7-b56b-58025bb4fa4a"
   },
   "outputs": [
    {
     "data": {
      "text/plain": [
       "<sklearn.metrics._plot.confusion_matrix.ConfusionMatrixDisplay at 0x7f7e1e569150>"
      ]
     },
     "execution_count": 249,
     "metadata": {
      "tags": []
     },
     "output_type": "execute_result"
    },
    {
     "data": {
      "image/png": "[encoded data removed]",
      "text/plain": [
       "<Figure size 432x288 with 2 Axes>"
      ]
     },
     "metadata": {
      "needs_background": "light",
      "tags": []
     },
     "output_type": "display_data"
    }
   ],
   "source": [
    "plot_confusion_matrix(model_4,x_test,y_test)"
   ]
  },
  {
   "cell_type": "code",
   "execution_count": null,
   "metadata": {
    "colab": {
     "base_uri": "https://localhost:8080/"
    },
    "id": "bfPo8hf5210B",
    "outputId": "6732af54-0860-4115-ec23-7d618ef74e7d"
   },
   "outputs": [
    {
     "data": {
      "text/plain": [
       "0.6442307692307693"
      ]
     },
     "execution_count": 250,
     "metadata": {
      "tags": []
     },
     "output_type": "execute_result"
    }
   ],
   "source": [
    "accuracy_score(y_test,model_pred_4)"
   ]
  },
  {
   "cell_type": "code",
   "execution_count": null,
   "metadata": {
    "colab": {
     "base_uri": "https://localhost:8080/"
    },
    "id": "zpXFKHfq210B",
    "outputId": "c68b9087-9544-46e5-e9b5-7ff9a0112d9a"
   },
   "outputs": [
    {
     "name": "stdout",
     "output_type": "stream",
     "text": [
      "              precision    recall  f1-score   support\n",
      "\n",
      "           D       1.00      0.11      0.19        19\n",
      "           N       0.00      0.00      0.00        20\n",
      "           V       0.64      1.00      0.78        65\n",
      "\n",
      "    accuracy                           0.64       104\n",
      "   macro avg       0.55      0.37      0.32       104\n",
      "weighted avg       0.58      0.64      0.52       104\n",
      "\n"
     ]
    },
    {
     "name": "stderr",
     "output_type": "stream",
     "text": [
      "/usr/local/lib/python3.7/dist-packages/sklearn/metrics/_classification.py:1272: UndefinedMetricWarning: Precision and F-score are ill-defined and being set to 0.0 in labels with no predicted samples. Use `zero_division` parameter to control this behavior.\n",
      "  _warn_prf(average, modifier, msg_start, len(result))\n"
     ]
    }
   ],
   "source": [
    "print(classification_report(y_test,model_pred_4))"
   ]
  },
  {
   "cell_type": "code",
   "execution_count": null,
   "metadata": {
    "colab": {
     "base_uri": "https://localhost:8080/"
    },
    "id": "q6hCkCkT2zDG",
    "outputId": "717ac906-f353-405a-a112-257cb853e718"
   },
   "outputs": [
    {
     "name": "stdout",
     "output_type": "stream",
     "text": [
      "Shots : 0.11885464177632536\n",
      "Saves : 0.0403697740103374\n",
      "Crosses : 0.07259531210847397\n",
      "Fouls : 0.05924859233203427\n",
      "Offsides : 0.04057515344771731\n",
      "Corners : 0.06371023449567365\n",
      "Yellow Card : 0.049295437387303166\n",
      "Red Cards : 0.005388937727817298\n",
      "Passes : 0.08896890816992063\n",
      "Interceptions : 0.06016516413930162\n",
      "Blocks : 0.10305587943397734\n",
      "Catches : 0.03383155285038723\n",
      "Tackles : 0.04669159382207497\n",
      "Rest_Days : 0.041392444015426834\n",
      "Elo_Diff : 0.13098522987810832\n",
      "home_0_away_1 : 0.04487114440512054\n",
      "0.9999999999999999\n"
     ]
    }
   ],
   "source": [
    "j = 0\r\n",
    "for i in range(len(x_train.columns)):\r\n",
    "  print(f'{x_train.columns[i]} : {model_4.feature_importances_[i]}')\r\n",
    "  j+= model_4.feature_importances_[i]\r\n",
    "print(j)"
   ]
  },
  {
   "cell_type": "code",
   "execution_count": null,
   "metadata": {
    "colab": {
     "base_uri": "https://localhost:8080/",
     "height": 545
    },
    "id": "TJAZNDHL2pSS",
    "outputId": "14157853-cbae-4d8e-beda-ef185ec7211b"
   },
   "outputs": [
    {
     "data": {
      "text/html": [
       "<div>\n",
       "<style scoped>\n",
       "    .dataframe tbody tr th:only-of-type {\n",
       "        vertical-align: middle;\n",
       "    }\n",
       "\n",
       "    .dataframe tbody tr th {\n",
       "        vertical-align: top;\n",
       "    }\n",
       "\n",
       "    .dataframe thead th {\n",
       "        text-align: right;\n",
       "    }\n",
       "</style>\n",
       "<table border=\"1\" class=\"dataframe\">\n",
       "  <thead>\n",
       "    <tr style=\"text-align: right;\">\n",
       "      <th></th>\n",
       "      <th>col</th>\n",
       "      <th>importance</th>\n",
       "    </tr>\n",
       "  </thead>\n",
       "  <tbody>\n",
       "    <tr>\n",
       "      <th>7</th>\n",
       "      <td>Red Cards</td>\n",
       "      <td>0.005389</td>\n",
       "    </tr>\n",
       "    <tr>\n",
       "      <th>11</th>\n",
       "      <td>Catches</td>\n",
       "      <td>0.033832</td>\n",
       "    </tr>\n",
       "    <tr>\n",
       "      <th>1</th>\n",
       "      <td>Saves</td>\n",
       "      <td>0.040370</td>\n",
       "    </tr>\n",
       "    <tr>\n",
       "      <th>4</th>\n",
       "      <td>Offsides</td>\n",
       "      <td>0.040575</td>\n",
       "    </tr>\n",
       "    <tr>\n",
       "      <th>13</th>\n",
       "      <td>Rest_Days</td>\n",
       "      <td>0.041392</td>\n",
       "    </tr>\n",
       "    <tr>\n",
       "      <th>15</th>\n",
       "      <td>home_0_away_1</td>\n",
       "      <td>0.044871</td>\n",
       "    </tr>\n",
       "    <tr>\n",
       "      <th>12</th>\n",
       "      <td>Tackles</td>\n",
       "      <td>0.046692</td>\n",
       "    </tr>\n",
       "    <tr>\n",
       "      <th>6</th>\n",
       "      <td>Yellow Card</td>\n",
       "      <td>0.049295</td>\n",
       "    </tr>\n",
       "    <tr>\n",
       "      <th>3</th>\n",
       "      <td>Fouls</td>\n",
       "      <td>0.059249</td>\n",
       "    </tr>\n",
       "    <tr>\n",
       "      <th>9</th>\n",
       "      <td>Interceptions</td>\n",
       "      <td>0.060165</td>\n",
       "    </tr>\n",
       "    <tr>\n",
       "      <th>5</th>\n",
       "      <td>Corners</td>\n",
       "      <td>0.063710</td>\n",
       "    </tr>\n",
       "    <tr>\n",
       "      <th>2</th>\n",
       "      <td>Crosses</td>\n",
       "      <td>0.072595</td>\n",
       "    </tr>\n",
       "    <tr>\n",
       "      <th>8</th>\n",
       "      <td>Passes</td>\n",
       "      <td>0.088969</td>\n",
       "    </tr>\n",
       "    <tr>\n",
       "      <th>10</th>\n",
       "      <td>Blocks</td>\n",
       "      <td>0.103056</td>\n",
       "    </tr>\n",
       "    <tr>\n",
       "      <th>0</th>\n",
       "      <td>Shots</td>\n",
       "      <td>0.118855</td>\n",
       "    </tr>\n",
       "    <tr>\n",
       "      <th>14</th>\n",
       "      <td>Elo_Diff</td>\n",
       "      <td>0.130985</td>\n",
       "    </tr>\n",
       "  </tbody>\n",
       "</table>\n",
       "</div>"
      ],
      "text/plain": [
       "              col  importance\n",
       "7       Red Cards    0.005389\n",
       "11        Catches    0.033832\n",
       "1           Saves    0.040370\n",
       "4        Offsides    0.040575\n",
       "13      Rest_Days    0.041392\n",
       "15  home_0_away_1    0.044871\n",
       "12        Tackles    0.046692\n",
       "6     Yellow Card    0.049295\n",
       "3           Fouls    0.059249\n",
       "9   Interceptions    0.060165\n",
       "5         Corners    0.063710\n",
       "2         Crosses    0.072595\n",
       "8          Passes    0.088969\n",
       "10         Blocks    0.103056\n",
       "0           Shots    0.118855\n",
       "14       Elo_Diff    0.130985"
      ]
     },
     "execution_count": 277,
     "metadata": {
      "tags": []
     },
     "output_type": "execute_result"
    }
   ],
   "source": [
    "pd.DataFrame({'col' : x_train.columns,'importance':model_4.feature_importances_}).sort_values('importance')"
   ]
  }
 ],
 "metadata": {
  "colab": {
   "collapsed_sections": [],
   "name": "modeles_ensemblistes.ipynb",
   "provenance": [],
   "toc_visible": true
  },
  "kernelspec": {
   "display_name": "Python 3",
   "language": "python",
   "name": "python3"
  },
  "language_info": {
   "codemirror_mode": {
    "name": "ipython",
    "version": 3
   },
   "file_extension": ".py",
   "mimetype": "text/x-python",
   "name": "python",
   "nbconvert_exporter": "python",
   "pygments_lexer": "ipython3",
   "version": "3.8.6"
  }
 },
 "nbformat": 4,
 "nbformat_minor": 4
}
