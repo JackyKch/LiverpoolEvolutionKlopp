{
 "metadata": {
  "language_info": {
   "codemirror_mode": {
    "name": "ipython",
    "version": 3
   },
   "file_extension": ".py",
   "mimetype": "text/x-python",
   "name": "python",
   "nbconvert_exporter": "python",
   "pygments_lexer": "ipython3",
   "version": "3.9.0-final"
  },
  "orig_nbformat": 2,
  "kernelspec": {
   "name": "python3",
   "display_name": "Python 3.9.0 64-bit",
   "metadata": {
    "interpreter": {
     "hash": "6f63aac4862f49defdc0ab97c706aeed6401f5109f2f5eb8ddfd96c2030351e5"
    }
   }
  }
 },
 "nbformat": 4,
 "nbformat_minor": 2,
 "cells": [
  {
   "source": [
    "## Imports"
   ],
   "cell_type": "markdown",
   "metadata": {}
  },
  {
   "cell_type": "code",
   "execution_count": 2,
   "metadata": {},
   "outputs": [],
   "source": [
    "from sklearn.cluster import KMeans\n",
    "import pandas as pd \n",
    "import numpy as np\n",
    "from datetime import datetime"
   ]
  },
  {
   "source": [
    "## K-Means from a csv file"
   ],
   "cell_type": "markdown",
   "metadata": {}
  },
  {
   "cell_type": "code",
   "execution_count": 3,
   "metadata": {},
   "outputs": [],
   "source": [
    "def KMC (filename, n) :\n",
    "\n",
    "    data = pd.read_csv(filename)\n",
    "    kmeans = KMeans(n_clusters= n, random_state= 0)\n",
    "    kmeans.fit(data)\n",
    "    centers = kmeans.cluster_centers_\n",
    "\n",
    "    for c in range (len(centers)) :\n",
    "        print (\"---------------------- Values for Cluster ---------------\", c+1, \" ---------------------\")\n",
    "        for i in range (len(centers[c])) :\n",
    "            print ((data.columns.values[i]), \": \", np.round(centers[c][i], 4))\n",
    "        print (np.count_nonzero(kmeans.labels_ == c), \" Games included in this cluster\")\n",
    "    return"
   ]
  },
  {
   "source": [
    "## K-Means from a dataframe"
   ],
   "cell_type": "markdown",
   "metadata": {}
  },
  {
   "cell_type": "code",
   "execution_count": 4,
   "metadata": {},
   "outputs": [],
   "source": [
    "def KMC_df (df, n) :\n",
    "\n",
    "    data = df\n",
    "    kmeans = KMeans(n_clusters= n, random_state= 0)\n",
    "    kmeans.fit(data)\n",
    "    centers = kmeans.cluster_centers_\n",
    "\n",
    "    for c in range (len(centers)) :\n",
    "        print (\"---------------------- Values for Cluster ---------------\", c+1, \" ---------------------\")\n",
    "        for i in range (len(centers[c])) :\n",
    "            print ((data.columns.values[i]), \": \", np.round(centers[c][i], 4))\n",
    "        print (np.count_nonzero(kmeans.labels_ == c), \" Games included in this cluster\")\n",
    "    return"
   ]
  },
  {
   "source": [
    "## Select data from the Liverpool Premier League's games csv file"
   ],
   "cell_type": "markdown",
   "metadata": {}
  },
  {
   "cell_type": "code",
   "execution_count": 5,
   "metadata": {},
   "outputs": [],
   "source": [
    "liverpool_data = pd.read_csv(\"Liverpool_data_epl_match_details.csv\")"
   ]
  },
  {
   "source": [
    "### Transform the type of column 'date_match'"
   ],
   "cell_type": "markdown",
   "metadata": {}
  },
  {
   "cell_type": "code",
   "execution_count": 6,
   "metadata": {},
   "outputs": [],
   "source": [
    "liverpool_data['date_match'] = pd.to_datetime(liverpool_data['date_match'])"
   ]
  },
  {
   "source": [
    "### Create a column 'matchday' knowing that we have 38 games in a single season and we have 8 season in our dataset"
   ],
   "cell_type": "markdown",
   "metadata": {}
  },
  {
   "cell_type": "code",
   "execution_count": 7,
   "metadata": {},
   "outputs": [],
   "source": [
    "matchdays = [i for i in range(1,39)]*8"
   ]
  },
  {
   "cell_type": "code",
   "execution_count": 8,
   "metadata": {},
   "outputs": [],
   "source": [
    "liverpool_data['matchday'] = matchdays"
   ]
  },
  {
   "source": [
    "### Create a column 'points_won' based on that : 3pts for a win, 1 pts for a draw and 0 for a loss"
   ],
   "cell_type": "markdown",
   "metadata": {}
  },
  {
   "cell_type": "code",
   "execution_count": 9,
   "metadata": {},
   "outputs": [],
   "source": [
    "liverpool_data['points_won'] = liverpool_data['liverpool_result_ft'].apply(lambda x : 0 if x == \"D\" else( 1  if x == \"N\" else 3))"
   ]
  },
  {
   "source": [
    "### Create a column 'home_0_away_1' to have a binary variable for the location of the match (Anfield or not)"
   ],
   "cell_type": "markdown",
   "metadata": {}
  },
  {
   "cell_type": "code",
   "execution_count": 10,
   "metadata": {},
   "outputs": [],
   "source": [
    "liverpool_data['home_0_away_1'] = liverpool_data['at_anfield'].apply(lambda x : 0 if x else 1)"
   ]
  },
  {
   "source": [
    "# Filter the data to take only Klopp's games who started on 17/10/2015"
   ],
   "cell_type": "markdown",
   "metadata": {}
  },
  {
   "cell_type": "code",
   "execution_count": 11,
   "metadata": {},
   "outputs": [],
   "source": [
    "start_klopp_date = datetime.strptime(\"2015-10-17\", \"%Y-%m-%d\")"
   ]
  },
  {
   "cell_type": "code",
   "execution_count": 12,
   "metadata": {},
   "outputs": [],
   "source": [
    "klopp_data = liverpool_data[liverpool_data[\"date_match\"] >= start_klopp_date]"
   ]
  },
  {
   "cell_type": "code",
   "execution_count": 13,
   "metadata": {},
   "outputs": [],
   "source": [
    "klopp_data.to_csv(\"klopp_data_epl_matchs_details.csv\", index=False)"
   ]
  },
  {
   "source": [
    "### We take the columns that we will use for K-means algorithm (quantitative variables)"
   ],
   "cell_type": "markdown",
   "metadata": {}
  },
  {
   "source": [
    "### We convert the Possession (str to int) to be able to use it in our algorithm"
   ],
   "cell_type": "markdown",
   "metadata": {}
  },
  {
   "cell_type": "code",
   "execution_count": 14,
   "metadata": {},
   "outputs": [],
   "source": [
    "klopp_data['Possession'] = klopp_data['Possession'].astype(str)"
   ]
  },
  {
   "cell_type": "code",
   "execution_count": 15,
   "metadata": {},
   "outputs": [],
   "source": [
    "for i in range (122,304) :\n",
    "    klopp_data['Possession'][i] = int (klopp_data['Possession'][i].replace(\"%\",\"\"))"
   ]
  },
  {
   "cell_type": "code",
   "execution_count": 16,
   "metadata": {},
   "outputs": [],
   "source": [
    "klopp_data_kmeans = klopp_data[['matchday','Rest_Days', 'home_0_away_1', 'Elo_Opponent', 'Elo_Liverpool', 'Elo_Diff', 'points_won', 'Shots', 'Shots On Target', 'Passes', 'Possession']]"
   ]
  },
  {
   "cell_type": "code",
   "execution_count": 17,
   "metadata": {},
   "outputs": [],
   "source": [
    "klopp_data_kmeans.to_csv(\"klopp_data_epl_kmeans.csv\", index=False)"
   ]
  },
  {
   "source": [
    "## We select only the games in which Liverpool lost some points (defeats and draws)"
   ],
   "cell_type": "markdown",
   "metadata": {}
  },
  {
   "cell_type": "code",
   "execution_count": 18,
   "metadata": {},
   "outputs": [],
   "source": [
    "lost_points = [0,1]\n",
    "\n",
    "klopp_data_kmeans_lost_points = klopp_data_kmeans[klopp_data_kmeans['points_won'].isin(lost_points)]"
   ]
  },
  {
   "cell_type": "code",
   "execution_count": 19,
   "metadata": {},
   "outputs": [],
   "source": [
    "klopp_data_kmeans_lost_points.to_csv(\"klopp_data_epl_kmeans_lost_points.csv\", index =False )"
   ]
  },
  {
   "cell_type": "code",
   "execution_count": 20,
   "metadata": {},
   "outputs": [
    {
     "output_type": "stream",
     "name": "stdout",
     "text": [
      "---------------------- Values for Cluster --------------- 1  ---------------------\nmatchday :  23.9412\nRest_Days :  8.1765\nhome_0_away_1 :  0.5882\nElo_Opponent :  1655.9412\nElo_Liverpool :  1878.0739\nElo_Diff :  222.1328\npoints_won :  0.6471\nShots :  15.9706\nShots On Target :  4.7353\nPasses :  552.8529\nPossession :  63.8529\n34  Games included in this cluster\n---------------------- Values for Cluster --------------- 2  ---------------------\nmatchday :  18.0667\nRest_Days :  6.2667\nhome_0_away_1 :  0.6\nElo_Opponent :  1823.5\nElo_Liverpool :  1831.8279\nElo_Diff :  8.3279\npoints_won :  0.6333\nShots :  13.9667\nShots On Target :  4.1333\nPasses :  413.7667\nPossession :  52.9\n30  Games included in this cluster\n"
     ]
    }
   ],
   "source": [
    "klopp_kmeans_lost_points = KMC(\"klopp_data_epl_kmeans_lost_points.csv\", 2)"
   ]
  },
  {
   "source": [
    "## We select only the games in which Liverpool gained 3 points (wins)"
   ],
   "cell_type": "markdown",
   "metadata": {}
  },
  {
   "cell_type": "code",
   "execution_count": 21,
   "metadata": {},
   "outputs": [],
   "source": [
    "gained_points = [3]\n",
    "\n",
    "klopp_data_kmeans_gained_points = klopp_data_kmeans[klopp_data_kmeans['points_won'].isin(gained_points)]"
   ]
  },
  {
   "cell_type": "code",
   "execution_count": 22,
   "metadata": {},
   "outputs": [],
   "source": [
    "klopp_data_kmeans_gained_points.to_csv(\"klopp_data_epl_kmeans_gained_points.csv\", index =False )"
   ]
  },
  {
   "cell_type": "code",
   "execution_count": 23,
   "metadata": {},
   "outputs": [
    {
     "output_type": "stream",
     "name": "stdout",
     "text": [
      "---------------------- Values for Cluster --------------- 1  ---------------------\nmatchday :  15.25\nRest_Days :  7.3333\nhome_0_away_1 :  0.3333\nElo_Opponent :  1822.5833\nElo_Liverpool :  1785.2694\nElo_Diff :  -37.3139\npoints_won :  3.0\nShots :  15.0833\nShots On Target :  6.9167\nPasses :  359.75\nPossession :  51.4167\n12  Games included in this cluster\n---------------------- Values for Cluster --------------- 2  ---------------------\nmatchday :  21.0345\nRest_Days :  5.2069\nhome_0_away_1 :  0.6207\nElo_Opponent :  1660.7931\nElo_Liverpool :  1821.8199\nElo_Diff :  161.0268\npoints_won :  3.0\nShots :  17.2759\nShots On Target :  6.4828\nPasses :  439.5862\nPossession :  57.3448\n29  Games included in this cluster\n---------------------- Values for Cluster --------------- 3  ---------------------\nmatchday :  21.125\nRest_Days :  4.625\nhome_0_away_1 :  0.5\nElo_Opponent :  1659.25\nElo_Liverpool :  2009.5743\nElo_Diff :  350.3243\npoints_won :  3.0\nShots :  17.75\nShots On Target :  7.125\nPasses :  803.5\nPossession :  70.5\n8  Games included in this cluster\n---------------------- Values for Cluster --------------- 4  ---------------------\nmatchday :  20.5\nRest_Days :  5.8333\nhome_0_away_1 :  0.3333\nElo_Opponent :  1803.3333\nElo_Liverpool :  2047.479\nElo_Diff :  244.1457\npoints_won :  3.0\nShots :  15.0833\nShots On Target :  6.3333\nPasses :  514.5\nPossession :  56.0\n12  Games included in this cluster\n---------------------- Values for Cluster --------------- 5  ---------------------\nmatchday :  20.4737\nRest_Days :  5.5263\nhome_0_away_1 :  0.5263\nElo_Opponent :  1630.7368\nElo_Liverpool :  2030.6659\nElo_Diff :  399.9291\npoints_won :  3.0\nShots :  16.1579\nShots On Target :  6.0\nPasses :  514.4737\nPossession :  60.7895\n19  Games included in this cluster\n---------------------- Values for Cluster --------------- 6  ---------------------\nmatchday :  19.3871\nRest_Days :  5.7097\nhome_0_away_1 :  0.3548\nElo_Opponent :  1637.3226\nElo_Liverpool :  1904.3961\nElo_Diff :  267.0735\npoints_won :  3.0\nShots :  18.0\nShots On Target :  7.5484\nPasses :  618.7097\nPossession :  62.5161\n31  Games included in this cluster\n---------------------- Values for Cluster --------------- 7  ---------------------\nmatchday :  16.4286\nRest_Days :  7.8571\nhome_0_away_1 :  0.2857\nElo_Opponent :  1908.7143\nElo_Liverpool :  1965.2826\nElo_Diff :  56.5683\npoints_won :  3.0\nShots :  16.5714\nShots On Target :  7.0\nPasses :  367.1429\nPossession :  46.7143\n7  Games included in this cluster\n"
     ]
    }
   ],
   "source": [
    "klopp_kmeans_gained_points = KMC(\"klopp_data_epl_kmeans_gained_points.csv\", 7)"
   ]
  },
  {
   "source": [
    "# We implement the algorithm for Brendan Rodgers"
   ],
   "cell_type": "markdown",
   "metadata": {}
  },
  {
   "cell_type": "code",
   "execution_count": 24,
   "metadata": {},
   "outputs": [],
   "source": [
    "rodgers_data = liverpool_data[liverpool_data[\"date_match\"] < start_klopp_date]"
   ]
  },
  {
   "source": [
    "### We take the columns that we will use for K-means algorithm (quantitative variables)"
   ],
   "cell_type": "markdown",
   "metadata": {}
  },
  {
   "cell_type": "code",
   "execution_count": 25,
   "metadata": {},
   "outputs": [],
   "source": [
    "rodgers_data['Possession'] = rodgers_data['Possession'].astype(str)"
   ]
  },
  {
   "cell_type": "code",
   "execution_count": 26,
   "metadata": {},
   "outputs": [],
   "source": [
    "rodgers_data.to_csv(\"rodgers_data_epl_matchs_details.csv\", index= False)"
   ]
  },
  {
   "cell_type": "code",
   "execution_count": 27,
   "metadata": {},
   "outputs": [],
   "source": [
    "for i in range (0,122) :\n",
    "    rodgers_data['Possession'][i] = int (rodgers_data['Possession'][i].replace(\"%\",\"\"))"
   ]
  },
  {
   "cell_type": "code",
   "execution_count": 28,
   "metadata": {},
   "outputs": [],
   "source": [
    "rodgers_data_kmeans = rodgers_data[['matchday','Rest_Days', 'home_0_away_1', 'Elo_Opponent', 'Elo_Liverpool', 'Elo_Diff', 'points_won', 'Shots', 'Shots On Target', 'Passes', 'Possession']]"
   ]
  },
  {
   "cell_type": "code",
   "execution_count": 29,
   "metadata": {},
   "outputs": [],
   "source": [
    "rodgers_data_kmeans.to_csv(\"rodgers_data_epl_kmeans.csv\", index=False)"
   ]
  },
  {
   "source": [
    "## We select only the games in which Liverpool lost some points (defeats and draws)\n"
   ],
   "cell_type": "markdown",
   "metadata": {}
  },
  {
   "cell_type": "code",
   "execution_count": 30,
   "metadata": {},
   "outputs": [],
   "source": [
    "lost_points = [0,1]\n",
    "\n",
    "rodgers_data_kmeans_lost_points = rodgers_data_kmeans[rodgers_data_kmeans['points_won'].isin(lost_points)]"
   ]
  },
  {
   "cell_type": "code",
   "execution_count": 31,
   "metadata": {},
   "outputs": [],
   "source": [
    "rodgers_data_kmeans_lost_points.to_csv(\"rodgers_data_epl_kmeans_lost_points.csv\", index =False )"
   ]
  },
  {
   "cell_type": "code",
   "execution_count": 32,
   "metadata": {},
   "outputs": [
    {
     "output_type": "stream",
     "name": "stdout",
     "text": [
      "---------------------- Values for Cluster --------------- 1  ---------------------\nmatchday :  16.25\nRest_Days :  5.9643\nhome_0_away_1 :  0.6071\nElo_Opponent :  1850.1429\nElo_Liverpool :  1780.6647\nElo_Diff :  -69.4782\npoints_won :  0.5\nShots :  14.75\nShots On Target :  5.25\nPasses :  350.3571\nPossession :  50.5714\n28  Games included in this cluster\n---------------------- Values for Cluster --------------- 2  ---------------------\nmatchday :  17.6129\nRest_Days :  6.5484\nhome_0_away_1 :  0.5806\nElo_Opponent :  1634.129\nElo_Liverpool :  1793.618\nElo_Diff :  159.4889\npoints_won :  0.5161\nShots :  16.7419\nShots On Target :  5.5484\nPasses :  433.0\nPossession :  59.1613\n31  Games included in this cluster\n"
     ]
    }
   ],
   "source": [
    "rodgers_kmeans_lost_points = KMC(\"rodgers_data_epl_kmeans_lost_points.csv\", 2)"
   ]
  },
  {
   "source": [
    "## We select only the games in which Liverpool gained 3 points (wins)"
   ],
   "cell_type": "markdown",
   "metadata": {}
  },
  {
   "cell_type": "code",
   "execution_count": 33,
   "metadata": {},
   "outputs": [],
   "source": [
    "gained_points = [3]\n",
    "\n",
    "rodgers_data_kmeans_gained_points = rodgers_data_kmeans[rodgers_data_kmeans['points_won'].isin(gained_points)]"
   ]
  },
  {
   "cell_type": "code",
   "execution_count": 34,
   "metadata": {},
   "outputs": [],
   "source": [
    "rodgers_data_kmeans_gained_points.to_csv(\"rodgers_data_epl_kmeans_gained_points.csv\", index =False )"
   ]
  },
  {
   "cell_type": "code",
   "execution_count": 35,
   "metadata": {},
   "outputs": [
    {
     "output_type": "stream",
     "name": "stdout",
     "text": [
      "---------------------- Values for Cluster --------------- 1  ---------------------\nmatchday :  19.3333\nRest_Days :  5.8431\nhome_0_away_1 :  0.4314\nElo_Opponent :  1629.4118\nElo_Liverpool :  1797.0416\nElo_Diff :  167.6298\npoints_won :  3.0\nShots :  18.5098\nShots On Target :  7.6863\nPasses :  429.8431\nPossession :  57.0196\n51  Games included in this cluster\n---------------------- Values for Cluster --------------- 2  ---------------------\nmatchday :  22.6667\nRest_Days :  6.25\nhome_0_away_1 :  0.3333\nElo_Opponent :  1852.0833\nElo_Liverpool :  1837.7571\nElo_Diff :  -14.3263\npoints_won :  3.0\nShots :  14.1667\nShots On Target :  6.75\nPasses :  291.9167\nPossession :  46.1667\n12  Games included in this cluster\n"
     ]
    }
   ],
   "source": [
    "rodgers_kmeans_gained_points = KMC(\"rodgers_data_epl_kmeans_gained_points.csv\", 2)"
   ]
  },
  {
   "cell_type": "code",
   "execution_count": null,
   "metadata": {},
   "outputs": [],
   "source": []
  }
 ]
}