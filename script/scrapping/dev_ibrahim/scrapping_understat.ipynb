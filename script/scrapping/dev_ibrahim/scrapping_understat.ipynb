{
 "cells": [
  {
   "cell_type": "code",
   "execution_count": 11,
   "metadata": {},
   "outputs": [],
   "source": [
    "from selenium import webdriver\n",
    "from selenium.webdriver.support.ui import WebDriverWait\n",
    "from selenium.webdriver.support import expected_conditions as sc\n",
    "from selenium.webdriver.common.by import By\n",
    "import pandas as pd"
   ]
  },
  {
   "cell_type": "code",
   "execution_count": 2,
   "metadata": {},
   "outputs": [],
   "source": [
    "driver = webdriver.Chrome('./chromedriver_win32/chromedriver.exe')"
   ]
  },
  {
   "cell_type": "code",
   "execution_count": 3,
   "metadata": {},
   "outputs": [],
   "source": [
    "driver.get('https://understat.com/team/Liverpool/2014')"
   ]
  },
  {
   "cell_type": "code",
   "execution_count": 14,
   "metadata": {},
   "outputs": [],
   "source": [
    "driver.find_element_by_css_selector('label[for=\"statistic-5\"]').click()"
   ]
  },
  {
   "cell_type": "code",
   "execution_count": 6,
   "metadata": {},
   "outputs": [],
   "source": [
    "waiter = WebDriverWait(driver,timeout=5)"
   ]
  },
  {
   "cell_type": "markdown",
   "metadata": {},
   "source": [
    "# Formations"
   ]
  },
  {
   "cell_type": "code",
   "execution_count": 28,
   "metadata": {},
   "outputs": [],
   "source": [
    "df_formation = pd.DataFrame(columns=['Formation','Min','Sh','G','ShA','GA','xG','xGA','season'])\n",
    "for i in range (2014,2020):\n",
    "    year = str(i)\n",
    "    season = f'{i}/{i+1}'\n",
    "    link = f'https://understat.com/team/Liverpool/{year}'\n",
    "    driver.get(link)\n",
    "    driver.find_element_by_css_selector('label[for=\"statistic-2\"]').click()\n",
    "    data = waiter.until(sc.presence_of_element_located((By.XPATH,'.//table')))\n",
    "    lines = data.text.split('\\n')\n",
    "    tmp_dict = dict()\n",
    "    for j in range(1,9):\n",
    "        col = [x.split(' ')[j] for x in lines]\n",
    "        col_data = col[1:][:]\n",
    "        tmp_dict[col[0]] = col_data\n",
    "    tmp_df = pd.DataFrame(tmp_dict)\n",
    "    tmp_df['season'] = season\n",
    "    df_formation = df_formation.append(tmp_df)"
   ]
  },
  {
   "cell_type": "code",
   "execution_count": 32,
   "metadata": {},
   "outputs": [],
   "source": [
    "df_formation = df_formation.reset_index(drop=True)"
   ]
  },
  {
   "cell_type": "code",
   "execution_count": 33,
   "metadata": {},
   "outputs": [],
   "source": [
    "df_formation.to_csv('bpl_formations.csv',index=False)"
   ]
  },
  {
   "cell_type": "code",
   "execution_count": null,
   "metadata": {},
   "outputs": [],
   "source": []
  },
  {
   "cell_type": "markdown",
   "metadata": {},
   "source": [
    "# Timing"
   ]
  },
  {
   "cell_type": "code",
   "execution_count": 36,
   "metadata": {},
   "outputs": [],
   "source": [
    "df_timing = pd.DataFrame(columns=['Timing','Sh','G','ShA','GA','xG','xGA','season'])\n",
    "for i in range (2014,2020):\n",
    "    year = str(i)\n",
    "    season = f'{i}/{i+1}'\n",
    "    link = f'https://understat.com/team/Liverpool/{year}'\n",
    "    driver.get(link)\n",
    "    driver.find_element_by_css_selector('label[for=\"statistic-4\"]').click()\n",
    "    data = waiter.until(sc.presence_of_element_located((By.XPATH,'.//table')))\n",
    "    lines = data.text.split('\\n')\n",
    "    tmp_dict = dict()\n",
    "    for j in range(1,8):\n",
    "        col = [x.split(' ')[j] for x in lines]\n",
    "        col_data = col[1:][:]\n",
    "        tmp_dict[col[0]] = col_data\n",
    "    tmp_df = pd.DataFrame(tmp_dict)\n",
    "    tmp_df['season'] = season\n",
    "    df_timing = df_timing.append(tmp_df)"
   ]
  },
  {
   "cell_type": "code",
   "execution_count": 38,
   "metadata": {},
   "outputs": [],
   "source": [
    "df_timing = df_timing.reset_index(drop=True)"
   ]
  },
  {
   "cell_type": "code",
   "execution_count": 39,
   "metadata": {},
   "outputs": [],
   "source": [
    "df_timing.to_csv('bpl_timing.csv',index=False)"
   ]
  },
  {
   "cell_type": "markdown",
   "metadata": {},
   "source": [
    "# Situation"
   ]
  },
  {
   "cell_type": "code",
   "execution_count": 46,
   "metadata": {},
   "outputs": [],
   "source": [
    "df_situation = pd.DataFrame(columns=['Situation','Sh','G','ShA','GA','xG','xGA','season'])\n",
    "for i in range (2014,2020):\n",
    "    year = str(i)\n",
    "    season = f'{i}/{i+1}'\n",
    "    link = f'https://understat.com/team/Liverpool/{year}'\n",
    "    driver.get(link)\n",
    "    driver.find_element_by_css_selector('label[for=\"statistic-1\"]').click()\n",
    "    data = waiter.until(sc.presence_of_element_located((By.XPATH,'.//table')))\n",
    "    lines = data.text.split('\\n')\n",
    "    tmp_dict = {'Situation':['Open play','From corner','Direct Freekick','Set piece','Penalty']}\n",
    "    for j in range(-4,-10,-1):\n",
    "        col = [x.split(' ')[j] for x in lines]\n",
    "        col_data = col[1:][:]\n",
    "        tmp_dict[col[0]] = col_data\n",
    "    tmp_df = pd.DataFrame(tmp_dict)\n",
    "    tmp_df['season'] = season\n",
    "    df_situation = df_situation.append(tmp_df)"
   ]
  },
  {
   "cell_type": "code",
   "execution_count": 47,
   "metadata": {},
   "outputs": [],
   "source": [
    "df_situation = df_situation.reset_index(drop=True)"
   ]
  },
  {
   "cell_type": "code",
   "execution_count": 49,
   "metadata": {},
   "outputs": [],
   "source": [
    "df_situation.to_csv('bpl_situations.csv',index=False)"
   ]
  },
  {
   "cell_type": "code",
   "execution_count": 39,
   "metadata": {},
   "outputs": [],
   "source": [
    "df_timing.to_csv('bpl_timing.csv',index=False)"
   ]
  },
  {
   "cell_type": "code",
   "execution_count": 23,
   "metadata": {},
   "outputs": [],
   "source": [
    "driver.get(link)\n",
    "driver.find_element_by_css_selector('label[for=\"statistic-2\"]').click()\n",
    "data = waiter.until(sc.presence_of_element_located((By.XPATH,'.//table')))\n",
    "lines = data.text.split('\\n')\n",
    "tmp_dict = dict()\n",
    "for j in range(1,11):\n",
    "    col = [x.split(' ')[j] for x in lines]\n",
    "    col_data = col[1:][:]\n",
    "    tmp_dict[col[0]] = col_data"
   ]
  },
  {
   "cell_type": "code",
   "execution_count": 50,
   "metadata": {},
   "outputs": [],
   "source": [
    "driver.close()"
   ]
  }
 ],
 "metadata": {
  "kernelspec": {
   "display_name": "Python 3",
   "language": "python",
   "name": "python3"
  },
  "language_info": {
   "codemirror_mode": {
    "name": "ipython",
    "version": 3
   },
   "file_extension": ".py",
   "mimetype": "text/x-python",
   "name": "python",
   "nbconvert_exporter": "python",
   "pygments_lexer": "ipython3",
   "version": "3.7.1"
  }
 },
 "nbformat": 4,
 "nbformat_minor": 4
}
