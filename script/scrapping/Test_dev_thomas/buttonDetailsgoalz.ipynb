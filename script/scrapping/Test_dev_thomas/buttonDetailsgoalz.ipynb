{
 "cells": [
  {
   "cell_type": "code",
<<<<<<< HEAD
<<<<<<< HEAD
   "execution_count": 42,
=======
<<<<<<< HEAD
<<<<<<< HEAD
=======
<<<<<<< HEAD
=======
>>>>>>> 6c32097dd8a02fed993934f15e57fc0c47512aad
<<<<<<< HEAD
   "execution_count": 42,
=======
   "execution_count": 1,
>>>>>>> e96e3a0cc1b467a8e0bd937951dcf5027e341145
>>>>>>> 942a818ae8a7276403af8a4eb5b87d596e1e23b9
=======
<<<<<<< HEAD
   "execution_count": 42,
=======
=======
>>>>>>> 72989aff461f01b000bb8f35e35ce1699d27e50b
<<<<<<< HEAD
>>>>>>> 6c32097dd8a02fed993934f15e57fc0c47512aad
=======
>>>>>>> 6c32097dd8a02fed993934f15e57fc0c47512aad
   "execution_count": 1,
>>>>>>> e96e3a0cc1b467a8e0bd937951dcf5027e341145
=======
   "execution_count": 42,
>>>>>>> fb0e86e9f689a45dca58f9c229a8e3c22f11ca81
<<<<<<< HEAD
<<<<<<< HEAD
=======
<<<<<<< HEAD
>>>>>>> 61d75980f57b234cb6a713757b2afdaa859322b4
=======
>>>>>>> 72989aff461f01b000bb8f35e35ce1699d27e50b
>>>>>>> 6c32097dd8a02fed993934f15e57fc0c47512aad
=======
>>>>>>> 61d75980f57b234cb6a713757b2afdaa859322b4
=======
>>>>>>> 72989aff461f01b000bb8f35e35ce1699d27e50b
>>>>>>> 6c32097dd8a02fed993934f15e57fc0c47512aad
   "metadata": {},
   "outputs": [],
   "source": [
    "from selenium import webdriver\n",
<<<<<<< HEAD
<<<<<<< HEAD
<<<<<<< HEAD
    "from datetime import datetime\n",
    "import pandas as pd\n",
=======
<<<<<<< HEAD
>>>>>>> e96e3a0cc1b467a8e0bd937951dcf5027e341145
=======
    "from datetime import datetime\n",
    "import pandas as pd\n",
>>>>>>> fb0e86e9f689a45dca58f9c229a8e3c22f11ca81
=======
<<<<<<< HEAD
<<<<<<< HEAD
    "from datetime import datetime\n",
    "import pandas as pd\n",
=======
=======
    "from datetime import datetime\n",
    "import pandas as pd\n",
=======
<<<<<<< HEAD
<<<<<<< HEAD
    "from datetime import datetime\n",
    "import pandas as pd\n",
=======
>>>>>>> 6c32097dd8a02fed993934f15e57fc0c47512aad
>>>>>>> e96e3a0cc1b467a8e0bd937951dcf5027e341145
>>>>>>> 942a818ae8a7276403af8a4eb5b87d596e1e23b9
=======
<<<<<<< HEAD
    "from datetime import datetime\n",
    "import pandas as pd\n",
=======
>>>>>>> e96e3a0cc1b467a8e0bd937951dcf5027e341145
=======
    "from datetime import datetime\n",
    "import pandas as pd\n",
>>>>>>> fb0e86e9f689a45dca58f9c229a8e3c22f11ca81
>>>>>>> 61d75980f57b234cb6a713757b2afdaa859322b4
=======
>>>>>>> e96e3a0cc1b467a8e0bd937951dcf5027e341145
=======
    "from datetime import datetime\n",
    "import pandas as pd\n",
>>>>>>> fb0e86e9f689a45dca58f9c229a8e3c22f11ca81
>>>>>>> 72989aff461f01b000bb8f35e35ce1699d27e50b
<<<<<<< HEAD
>>>>>>> 6c32097dd8a02fed993934f15e57fc0c47512aad
=======
>>>>>>> 6c32097dd8a02fed993934f15e57fc0c47512aad
    "from datetime import datetime"
   ]
  },
  {
   "cell_type": "code",
<<<<<<< HEAD
<<<<<<< HEAD
=======
<<<<<<< HEAD
<<<<<<< HEAD
>>>>>>> fb0e86e9f689a45dca58f9c229a8e3c22f11ca81
=======
<<<<<<< HEAD
=======
>>>>>>> 6c32097dd8a02fed993934f15e57fc0c47512aad
<<<<<<< HEAD
>>>>>>> 942a818ae8a7276403af8a4eb5b87d596e1e23b9
=======
<<<<<<< HEAD
=======
>>>>>>> fb0e86e9f689a45dca58f9c229a8e3c22f11ca81
>>>>>>> 61d75980f57b234cb6a713757b2afdaa859322b4
=======
>>>>>>> fb0e86e9f689a45dca58f9c229a8e3c22f11ca81
>>>>>>> 72989aff461f01b000bb8f35e35ce1699d27e50b
<<<<<<< HEAD
>>>>>>> 6c32097dd8a02fed993934f15e57fc0c47512aad
=======
>>>>>>> 6c32097dd8a02fed993934f15e57fc0c47512aad
   "execution_count": 2,
   "metadata": {},
   "outputs": [],
   "source": [
    "driver = webdriver.Chrome('./chromedriver_win32/chromedriver.exe')"
<<<<<<< HEAD
=======
<<<<<<< HEAD
<<<<<<< HEAD
=======
<<<<<<< HEAD
=======
>>>>>>> 6c32097dd8a02fed993934f15e57fc0c47512aad
<<<<<<< HEAD
=======
=======
>>>>>>> 61d75980f57b234cb6a713757b2afdaa859322b4
=======
>>>>>>> 72989aff461f01b000bb8f35e35ce1699d27e50b
<<<<<<< HEAD
>>>>>>> 6c32097dd8a02fed993934f15e57fc0c47512aad
=======
>>>>>>> 6c32097dd8a02fed993934f15e57fc0c47512aad
   "execution_count": 3,
   "metadata": {},
   "outputs": [],
   "source": [
    "driver = webdriver.Chrome('../chromedriver_win32/chromedriver.exe')"
>>>>>>> e96e3a0cc1b467a8e0bd937951dcf5027e341145
<<<<<<< HEAD
<<<<<<< HEAD
=======
>>>>>>> fb0e86e9f689a45dca58f9c229a8e3c22f11ca81
=======
<<<<<<< HEAD
=======
>>>>>>> 6c32097dd8a02fed993934f15e57fc0c47512aad
<<<<<<< HEAD
>>>>>>> 942a818ae8a7276403af8a4eb5b87d596e1e23b9
=======
=======
>>>>>>> fb0e86e9f689a45dca58f9c229a8e3c22f11ca81
>>>>>>> 61d75980f57b234cb6a713757b2afdaa859322b4
=======
=======
>>>>>>> fb0e86e9f689a45dca58f9c229a8e3c22f11ca81
>>>>>>> 72989aff461f01b000bb8f35e35ce1699d27e50b
<<<<<<< HEAD
>>>>>>> 6c32097dd8a02fed993934f15e57fc0c47512aad
=======
>>>>>>> 6c32097dd8a02fed993934f15e57fc0c47512aad
   ]
  },
  {
   "cell_type": "code",
<<<<<<< HEAD
<<<<<<< HEAD
<<<<<<< HEAD
<<<<<<< HEAD
=======
<<<<<<< HEAD
   "execution_count": 3,
=======
<<<<<<< HEAD
>>>>>>> 6c32097dd8a02fed993934f15e57fc0c47512aad
   "execution_count": 3,
=======
   "execution_count": 4,
>>>>>>> e96e3a0cc1b467a8e0bd937951dcf5027e341145
<<<<<<< HEAD
=======
   "execution_count": 3,
>>>>>>> fb0e86e9f689a45dca58f9c229a8e3c22f11ca81
=======
>>>>>>> 942a818ae8a7276403af8a4eb5b87d596e1e23b9
=======
<<<<<<< HEAD
=======
>>>>>>> 72989aff461f01b000bb8f35e35ce1699d27e50b
=======
   "execution_count": 3,
=======
<<<<<<< HEAD
>>>>>>> 6c32097dd8a02fed993934f15e57fc0c47512aad
   "execution_count": 3,
=======
   "execution_count": 4,
>>>>>>> e96e3a0cc1b467a8e0bd937951dcf5027e341145
<<<<<<< HEAD
=======
>>>>>>> 942a818ae8a7276403af8a4eb5b87d596e1e23b9
=======
<<<<<<< HEAD
=======
>>>>>>> 72989aff461f01b000bb8f35e35ce1699d27e50b
   "execution_count": 3,
=======
   "execution_count": 4,
>>>>>>> e96e3a0cc1b467a8e0bd937951dcf5027e341145
>>>>>>> 6c32097dd8a02fed993934f15e57fc0c47512aad
=======
   "execution_count": 3,
>>>>>>> fb0e86e9f689a45dca58f9c229a8e3c22f11ca81
<<<<<<< HEAD
>>>>>>> 61d75980f57b234cb6a713757b2afdaa859322b4
=======
>>>>>>> 72989aff461f01b000bb8f35e35ce1699d27e50b
<<<<<<< HEAD
>>>>>>> 6c32097dd8a02fed993934f15e57fc0c47512aad
=======
>>>>>>> 6c32097dd8a02fed993934f15e57fc0c47512aad
   "metadata": {},
   "outputs": [],
   "source": [
    "driver.get('https://www.goalzz.com/main.aspx?m=763452&stats=true')"
   ]
  },
  {
   "cell_type": "code",
   "execution_count": null,
   "metadata": {},
   "outputs": [],
   "source": []
  },
  {
   "cell_type": "code",
<<<<<<< HEAD
<<<<<<< HEAD
   "execution_count": 4,
=======
<<<<<<< HEAD
=======
<<<<<<< HEAD
<<<<<<< HEAD
=======
=======
>>>>>>> 6c32097dd8a02fed993934f15e57fc0c47512aad
>>>>>>> 61d75980f57b234cb6a713757b2afdaa859322b4
<<<<<<< HEAD
   "execution_count": 4,
=======
   "execution_count": 5,
>>>>>>> e96e3a0cc1b467a8e0bd937951dcf5027e341145
<<<<<<< HEAD
>>>>>>> 942a818ae8a7276403af8a4eb5b87d596e1e23b9
=======
=======
   "execution_count": 4,
>>>>>>> fb0e86e9f689a45dca58f9c229a8e3c22f11ca81
>>>>>>> 61d75980f57b234cb6a713757b2afdaa859322b4
=======
<<<<<<< HEAD
>>>>>>> 6c32097dd8a02fed993934f15e57fc0c47512aad
=======
>>>>>>> 6c32097dd8a02fed993934f15e57fc0c47512aad
   "execution_count": 5,
>>>>>>> e96e3a0cc1b467a8e0bd937951dcf5027e341145
=======
   "execution_count": 4,
>>>>>>> fb0e86e9f689a45dca58f9c229a8e3c22f11ca81
<<<<<<< HEAD
<<<<<<< HEAD
=======
>>>>>>> 72989aff461f01b000bb8f35e35ce1699d27e50b
>>>>>>> 6c32097dd8a02fed993934f15e57fc0c47512aad
=======
>>>>>>> 72989aff461f01b000bb8f35e35ce1699d27e50b
>>>>>>> 6c32097dd8a02fed993934f15e57fc0c47512aad
   "metadata": {},
   "outputs": [],
   "source": [
    "tab=driver.find_element_by_xpath('.//td[@class=\"empty\" and @valign=\"top\"]').text"
   ]
  },
  {
   "cell_type": "code",
<<<<<<< HEAD
<<<<<<< HEAD
<<<<<<< HEAD
<<<<<<< HEAD
   "execution_count": 5,
=======
=======
=======
>>>>>>> 6c32097dd8a02fed993934f15e57fc0c47512aad
   "execution_count": 5,
=======
<<<<<<< HEAD
=======
>>>>>>> 61d75980f57b234cb6a713757b2afdaa859322b4
<<<<<<< HEAD
   "execution_count": 5,
=======
=======
>>>>>>> 72989aff461f01b000bb8f35e35ce1699d27e50b
<<<<<<< HEAD
>>>>>>> 6c32097dd8a02fed993934f15e57fc0c47512aad
=======
>>>>>>> 6c32097dd8a02fed993934f15e57fc0c47512aad
   "execution_count": 6,
   "metadata": {},
   "outputs": [
    {
     "data": {
      "text/plain": [
       "'West Bromwich Albion FC Liverpool\\n3 Goals -\\n1 Assists -\\n4-3-3 Formation 4-3-3\\n17 (6) Shots (on goal) 16 (2)\\n2 Saves 4\\n2 (1) Penalties (scored) - (-)\\n12 Crosses 17\\n11 Fouls 12\\n2 Offsides 4\\n7 Corners 3\\n1 Yellow Cards 4\\n- Red Cards 1\\n447 Touches 635\\n209 Passes 378\\n41 Interceptions 22\\n6 Blocks 13\\n1 Catches 3\\n5 Tackles 13\\n38% Posession 62%\\n  Referee:\\nPhil Dowd\\nAsst. Referee:\\nScott Ledger\\nHarry Lennard\\n4th Official:\\nNeil Swarbrick'"
      ]
     },
     "execution_count": 6,
     "metadata": {},
     "output_type": "execute_result"
    }
   ],
   "source": [
    "tab"
   ]
  },
  {
   "cell_type": "code",
   "execution_count": 8,
   "metadata": {},
   "outputs": [],
   "source": [
    "tab = tab.split('\\n')"
   ]
  },
  {
   "cell_type": "code",
   "execution_count": 10,
   "metadata": {},
   "outputs": [],
   "source": [
    "tab_ = [x.split(' ') for x in tab]"
   ]
  },
  {
   "cell_type": "code",
   "execution_count": 11,
   "metadata": {},
   "outputs": [
    {
     "data": {
      "text/plain": [
       "[['West', 'Bromwich', 'Albion', 'FC', 'Liverpool'],\n",
       " ['3', 'Goals', '-'],\n",
       " ['1', 'Assists', '-'],\n",
       " ['4-3-3', 'Formation', '4-3-3'],\n",
       " ['17', '(6)', 'Shots', '(on', 'goal)', '16', '(2)'],\n",
       " ['2', 'Saves', '4'],\n",
       " ['2', '(1)', 'Penalties', '(scored)', '-', '(-)'],\n",
       " ['12', 'Crosses', '17'],\n",
       " ['11', 'Fouls', '12'],\n",
       " ['2', 'Offsides', '4'],\n",
       " ['7', 'Corners', '3'],\n",
       " ['1', 'Yellow', 'Cards', '4'],\n",
       " ['-', 'Red', 'Cards', '1'],\n",
       " ['447', 'Touches', '635'],\n",
       " ['209', 'Passes', '378'],\n",
       " ['41', 'Interceptions', '22'],\n",
       " ['6', 'Blocks', '13'],\n",
       " ['1', 'Catches', '3'],\n",
       " ['5', 'Tackles', '13'],\n",
       " ['38%', 'Posession', '62%'],\n",
       " ['', '', 'Referee:'],\n",
       " ['Phil', 'Dowd'],\n",
       " ['Asst.', 'Referee:'],\n",
       " ['Scott', 'Ledger'],\n",
       " ['Harry', 'Lennard'],\n",
       " ['4th', 'Official:'],\n",
       " ['Neil', 'Swarbrick']]"
      ]
     },
     "execution_count": 11,
     "metadata": {},
     "output_type": "execute_result"
    }
   ],
   "source": [
    "tab_"
   ]
  },
  {
   "cell_type": "code",
   "execution_count": 15,
>>>>>>> e96e3a0cc1b467a8e0bd937951dcf5027e341145
<<<<<<< HEAD
<<<<<<< HEAD
=======
   "execution_count": 5,
>>>>>>> fb0e86e9f689a45dca58f9c229a8e3c22f11ca81
=======
<<<<<<< HEAD
=======
>>>>>>> 6c32097dd8a02fed993934f15e57fc0c47512aad
<<<<<<< HEAD
>>>>>>> 942a818ae8a7276403af8a4eb5b87d596e1e23b9
=======
=======
   "execution_count": 5,
>>>>>>> fb0e86e9f689a45dca58f9c229a8e3c22f11ca81
>>>>>>> 61d75980f57b234cb6a713757b2afdaa859322b4
=======
=======
   "execution_count": 5,
>>>>>>> fb0e86e9f689a45dca58f9c229a8e3c22f11ca81
>>>>>>> 72989aff461f01b000bb8f35e35ce1699d27e50b
<<<<<<< HEAD
>>>>>>> 6c32097dd8a02fed993934f15e57fc0c47512aad
=======
>>>>>>> 6c32097dd8a02fed993934f15e57fc0c47512aad
   "metadata": {
    "scrolled": true
   },
   "outputs": [
    {
     "data": {
      "text/plain": [
<<<<<<< HEAD
<<<<<<< HEAD
=======
<<<<<<< HEAD
<<<<<<< HEAD
>>>>>>> fb0e86e9f689a45dca58f9c229a8e3c22f11ca81
=======
<<<<<<< HEAD
=======
>>>>>>> 6c32097dd8a02fed993934f15e57fc0c47512aad
<<<<<<< HEAD
>>>>>>> 942a818ae8a7276403af8a4eb5b87d596e1e23b9
=======
<<<<<<< HEAD
=======
>>>>>>> fb0e86e9f689a45dca58f9c229a8e3c22f11ca81
>>>>>>> 61d75980f57b234cb6a713757b2afdaa859322b4
=======
>>>>>>> fb0e86e9f689a45dca58f9c229a8e3c22f11ca81
>>>>>>> 72989aff461f01b000bb8f35e35ce1699d27e50b
<<<<<<< HEAD
>>>>>>> 6c32097dd8a02fed993934f15e57fc0c47512aad
=======
>>>>>>> 6c32097dd8a02fed993934f15e57fc0c47512aad
       "'West Bromwich Albion FC Liverpool FC\\n3 Goals -\\n1 Assists -\\n4-3-3 Formation 4-3-3\\n17 (6) Shots (on goal) 16 (2)\\n2 Saves 4\\n2 (1) Penalties (scored) - (-)\\n12 Crosses 17\\n11 Fouls 12\\n2 Offsides 4\\n7 Corners 3\\n1 Yellow Cards 4\\n- Red Cards 1\\n447 Touches 635\\n209 Passes 378\\n41 Interceptions 22\\n6 Blocks 13\\n1 Catches 3\\n5 Tackles 13\\n38% Posession 62%\\n  Referee:\\nPhil Dowd\\nAsst. Referee:\\nScott Ledger\\nHarry Lennard\\n4th Official:\\nNeil Swarbrick'"
      ]
     },
     "execution_count": 5,
<<<<<<< HEAD
=======
<<<<<<< HEAD
<<<<<<< HEAD
=======
<<<<<<< HEAD
=======
>>>>>>> 6c32097dd8a02fed993934f15e57fc0c47512aad
<<<<<<< HEAD
=======
=======
>>>>>>> 61d75980f57b234cb6a713757b2afdaa859322b4
=======
>>>>>>> 72989aff461f01b000bb8f35e35ce1699d27e50b
<<<<<<< HEAD
>>>>>>> 6c32097dd8a02fed993934f15e57fc0c47512aad
=======
>>>>>>> 6c32097dd8a02fed993934f15e57fc0c47512aad
       "['3',\n",
       " '1',\n",
       " '4-3-3',\n",
       " '17',\n",
       " '2',\n",
       " '2',\n",
       " '12',\n",
       " '11',\n",
       " '2',\n",
       " '7',\n",
       " '1',\n",
       " '-',\n",
       " '447',\n",
       " '209',\n",
       " '41',\n",
       " '6',\n",
       " '1',\n",
       " '5',\n",
       " '38%']"
      ]
     },
     "execution_count": 15,
>>>>>>> e96e3a0cc1b467a8e0bd937951dcf5027e341145
<<<<<<< HEAD
<<<<<<< HEAD
=======
>>>>>>> fb0e86e9f689a45dca58f9c229a8e3c22f11ca81
=======
<<<<<<< HEAD
=======
>>>>>>> 6c32097dd8a02fed993934f15e57fc0c47512aad
<<<<<<< HEAD
>>>>>>> 942a818ae8a7276403af8a4eb5b87d596e1e23b9
=======
=======
>>>>>>> fb0e86e9f689a45dca58f9c229a8e3c22f11ca81
>>>>>>> 61d75980f57b234cb6a713757b2afdaa859322b4
=======
=======
>>>>>>> fb0e86e9f689a45dca58f9c229a8e3c22f11ca81
>>>>>>> 72989aff461f01b000bb8f35e35ce1699d27e50b
<<<<<<< HEAD
>>>>>>> 6c32097dd8a02fed993934f15e57fc0c47512aad
=======
>>>>>>> 6c32097dd8a02fed993934f15e57fc0c47512aad
     "metadata": {},
     "output_type": "execute_result"
    }
   ],
   "source": [
<<<<<<< HEAD
<<<<<<< HEAD
<<<<<<< HEAD
    "tab"
=======
<<<<<<< HEAD
=======
<<<<<<< HEAD
    "tab"
=======
=======
>>>>>>> 6c32097dd8a02fed993934f15e57fc0c47512aad
<<<<<<< HEAD
    "tab"
=======
=======
<<<<<<< HEAD
    "tab"
=======
>>>>>>> 61d75980f57b234cb6a713757b2afdaa859322b4
=======
    "tab"
=======
>>>>>>> 72989aff461f01b000bb8f35e35ce1699d27e50b
<<<<<<< HEAD
>>>>>>> 6c32097dd8a02fed993934f15e57fc0c47512aad
=======
>>>>>>> 6c32097dd8a02fed993934f15e57fc0c47512aad
    "[x[0] for x in tab_][1:20]"
   ]
  },
  {
   "cell_type": "code",
   "execution_count": null,
   "metadata": {},
   "outputs": [],
   "source": [
    "df['nom_col'].astype('')"
>>>>>>> e96e3a0cc1b467a8e0bd937951dcf5027e341145
<<<<<<< HEAD
<<<<<<< HEAD
=======
    "tab"
>>>>>>> fb0e86e9f689a45dca58f9c229a8e3c22f11ca81
=======
<<<<<<< HEAD
=======
>>>>>>> 6c32097dd8a02fed993934f15e57fc0c47512aad
<<<<<<< HEAD
>>>>>>> 942a818ae8a7276403af8a4eb5b87d596e1e23b9
=======
=======
    "tab"
>>>>>>> fb0e86e9f689a45dca58f9c229a8e3c22f11ca81
>>>>>>> 61d75980f57b234cb6a713757b2afdaa859322b4
=======
=======
    "tab"
>>>>>>> fb0e86e9f689a45dca58f9c229a8e3c22f11ca81
>>>>>>> 72989aff461f01b000bb8f35e35ce1699d27e50b
<<<<<<< HEAD
>>>>>>> 6c32097dd8a02fed993934f15e57fc0c47512aad
=======
>>>>>>> 6c32097dd8a02fed993934f15e57fc0c47512aad
   ]
  },
  {
   "cell_type": "code",
   "execution_count": null,
   "metadata": {},
   "outputs": [],
   "source": []
  },
  {
   "cell_type": "code",
   "execution_count": null,
<<<<<<< HEAD
<<<<<<< HEAD
<<<<<<< HEAD
<<<<<<< HEAD
=======
<<<<<<< HEAD
>>>>>>> 6c32097dd8a02fed993934f15e57fc0c47512aad
=======
>>>>>>> 6c32097dd8a02fed993934f15e57fc0c47512aad
   "metadata": {
    "scrolled": true
   },
=======
<<<<<<< HEAD
<<<<<<< HEAD
   "metadata": {},
=======
=======
>>>>>>> 6c32097dd8a02fed993934f15e57fc0c47512aad
=======
>>>>>>> 61d75980f57b234cb6a713757b2afdaa859322b4
<<<<<<< HEAD
=======
>>>>>>> 72989aff461f01b000bb8f35e35ce1699d27e50b
   "metadata": {
    "scrolled": true
   },
=======
   "metadata": {},
<<<<<<< HEAD
<<<<<<< HEAD
>>>>>>> 942a818ae8a7276403af8a4eb5b87d596e1e23b9
=======
=======
>>>>>>> 72989aff461f01b000bb8f35e35ce1699d27e50b
<<<<<<< HEAD
>>>>>>> 6c32097dd8a02fed993934f15e57fc0c47512aad
=======
>>>>>>> 6c32097dd8a02fed993934f15e57fc0c47512aad
=======
   "metadata": {
    "scrolled": true
   },
>>>>>>> fb0e86e9f689a45dca58f9c229a8e3c22f11ca81
<<<<<<< HEAD
<<<<<<< HEAD
=======
<<<<<<< HEAD
>>>>>>> 61d75980f57b234cb6a713757b2afdaa859322b4
=======
>>>>>>> 72989aff461f01b000bb8f35e35ce1699d27e50b
>>>>>>> 6c32097dd8a02fed993934f15e57fc0c47512aad
=======
>>>>>>> 61d75980f57b234cb6a713757b2afdaa859322b4
=======
>>>>>>> 72989aff461f01b000bb8f35e35ce1699d27e50b
>>>>>>> 6c32097dd8a02fed993934f15e57fc0c47512aad
   "outputs": [],
   "source": []
  },
  {
<<<<<<< HEAD
<<<<<<< HEAD
<<<<<<< HEAD
=======
<<<<<<< HEAD
=======
>>>>>>> 6c32097dd8a02fed993934f15e57fc0c47512aad
<<<<<<< HEAD
=======
=======
>>>>>>> 61d75980f57b234cb6a713757b2afdaa859322b4
=======
>>>>>>> 72989aff461f01b000bb8f35e35ce1699d27e50b
<<<<<<< HEAD
>>>>>>> 6c32097dd8a02fed993934f15e57fc0c47512aad
=======
>>>>>>> 6c32097dd8a02fed993934f15e57fc0c47512aad
   "cell_type": "code",
   "execution_count": null,
   "metadata": {},
   "outputs": [],
   "source": []
  },
  {
   "cell_type": "code",
   "execution_count": null,
   "metadata": {},
   "outputs": [],
   "source": []
  },
  {
   "cell_type": "code",
   "execution_count": null,
   "metadata": {},
   "outputs": [],
   "source": []
  },
  {
   "cell_type": "code",
   "execution_count": null,
   "metadata": {},
>>>>>>> e96e3a0cc1b467a8e0bd937951dcf5027e341145
   "outputs": [],
   "source": []
  },
  {
<<<<<<< HEAD
<<<<<<< HEAD
<<<<<<< HEAD
=======
>>>>>>> fb0e86e9f689a45dca58f9c229a8e3c22f11ca81
=======
<<<<<<< HEAD
=======
>>>>>>> 6c32097dd8a02fed993934f15e57fc0c47512aad
<<<<<<< HEAD
>>>>>>> 942a818ae8a7276403af8a4eb5b87d596e1e23b9
=======
=======
>>>>>>> fb0e86e9f689a45dca58f9c229a8e3c22f11ca81
>>>>>>> 61d75980f57b234cb6a713757b2afdaa859322b4
=======
=======
>>>>>>> fb0e86e9f689a45dca58f9c229a8e3c22f11ca81
>>>>>>> 72989aff461f01b000bb8f35e35ce1699d27e50b
<<<<<<< HEAD
>>>>>>> 6c32097dd8a02fed993934f15e57fc0c47512aad
=======
>>>>>>> 6c32097dd8a02fed993934f15e57fc0c47512aad
   "cell_type": "markdown",
   "metadata": {},
   "source": [
    "#### Fonction pour voir si LFC est l'équipe à domicile ou à l'extérieur"
<<<<<<< HEAD
=======
<<<<<<< HEAD
<<<<<<< HEAD
=======
<<<<<<< HEAD
=======
>>>>>>> 6c32097dd8a02fed993934f15e57fc0c47512aad
<<<<<<< HEAD
=======
=======
>>>>>>> 61d75980f57b234cb6a713757b2afdaa859322b4
=======
>>>>>>> 72989aff461f01b000bb8f35e35ce1699d27e50b
<<<<<<< HEAD
>>>>>>> 6c32097dd8a02fed993934f15e57fc0c47512aad
=======
>>>>>>> 6c32097dd8a02fed993934f15e57fc0c47512aad
   "cell_type": "code",
   "execution_count": null,
   "metadata": {},
   "outputs": [],
   "source": []
  },
  {
   "cell_type": "code",
   "execution_count": 79,
   "metadata": {},
   "outputs": [],
   "source": [
    "lst= tab.split('\\n')"
>>>>>>> e96e3a0cc1b467a8e0bd937951dcf5027e341145
<<<<<<< HEAD
<<<<<<< HEAD
=======
>>>>>>> fb0e86e9f689a45dca58f9c229a8e3c22f11ca81
=======
<<<<<<< HEAD
=======
>>>>>>> 6c32097dd8a02fed993934f15e57fc0c47512aad
<<<<<<< HEAD
>>>>>>> 942a818ae8a7276403af8a4eb5b87d596e1e23b9
=======
=======
>>>>>>> fb0e86e9f689a45dca58f9c229a8e3c22f11ca81
>>>>>>> 61d75980f57b234cb6a713757b2afdaa859322b4
=======
=======
>>>>>>> fb0e86e9f689a45dca58f9c229a8e3c22f11ca81
>>>>>>> 72989aff461f01b000bb8f35e35ce1699d27e50b
<<<<<<< HEAD
>>>>>>> 6c32097dd8a02fed993934f15e57fc0c47512aad
=======
>>>>>>> 6c32097dd8a02fed993934f15e57fc0c47512aad
   ]
  },
  {
   "cell_type": "code",
<<<<<<< HEAD
<<<<<<< HEAD
<<<<<<< HEAD
<<<<<<< HEAD
=======
<<<<<<< HEAD
=======
>>>>>>> 6c32097dd8a02fed993934f15e57fc0c47512aad
   "execution_count": 6,
=======
=======
>>>>>>> 61d75980f57b234cb6a713757b2afdaa859322b4
<<<<<<< HEAD
=======
>>>>>>> 72989aff461f01b000bb8f35e35ce1699d27e50b
<<<<<<< HEAD
>>>>>>> 6c32097dd8a02fed993934f15e57fc0c47512aad
=======
>>>>>>> 6c32097dd8a02fed993934f15e57fc0c47512aad
   "execution_count": 6,
=======
   "execution_count": 84,
>>>>>>> e96e3a0cc1b467a8e0bd937951dcf5027e341145
<<<<<<< HEAD
<<<<<<< HEAD
=======
   "execution_count": 6,
>>>>>>> fb0e86e9f689a45dca58f9c229a8e3c22f11ca81
=======
<<<<<<< HEAD
=======
>>>>>>> 6c32097dd8a02fed993934f15e57fc0c47512aad
<<<<<<< HEAD
>>>>>>> 942a818ae8a7276403af8a4eb5b87d596e1e23b9
=======
=======
   "execution_count": 6,
>>>>>>> fb0e86e9f689a45dca58f9c229a8e3c22f11ca81
>>>>>>> 61d75980f57b234cb6a713757b2afdaa859322b4
=======
=======
   "execution_count": 6,
>>>>>>> fb0e86e9f689a45dca58f9c229a8e3c22f11ca81
>>>>>>> 72989aff461f01b000bb8f35e35ce1699d27e50b
<<<<<<< HEAD
>>>>>>> 6c32097dd8a02fed993934f15e57fc0c47512aad
=======
>>>>>>> 6c32097dd8a02fed993934f15e57fc0c47512aad
   "metadata": {},
   "outputs": [],
   "source": [
    "def lfc_is_home(str_):\n",
    "    tmp = str_.split()\n",
    "    if 'Liverpool' == tmp[0]:\n",
    "        return True\n",
    "    else :\n",
    "        return False"
   ]
  },
  {
<<<<<<< HEAD
<<<<<<< HEAD
=======
<<<<<<< HEAD
<<<<<<< HEAD
>>>>>>> fb0e86e9f689a45dca58f9c229a8e3c22f11ca81
=======
<<<<<<< HEAD
=======
>>>>>>> 6c32097dd8a02fed993934f15e57fc0c47512aad
<<<<<<< HEAD
>>>>>>> 942a818ae8a7276403af8a4eb5b87d596e1e23b9
=======
<<<<<<< HEAD
=======
>>>>>>> fb0e86e9f689a45dca58f9c229a8e3c22f11ca81
>>>>>>> 61d75980f57b234cb6a713757b2afdaa859322b4
=======
>>>>>>> fb0e86e9f689a45dca58f9c229a8e3c22f11ca81
>>>>>>> 72989aff461f01b000bb8f35e35ce1699d27e50b
<<<<<<< HEAD
>>>>>>> 6c32097dd8a02fed993934f15e57fc0c47512aad
=======
>>>>>>> 6c32097dd8a02fed993934f15e57fc0c47512aad
   "cell_type": "markdown",
   "metadata": {},
   "source": [
    "#### fonction pour remplacer les tirets par 0"
<<<<<<< HEAD
=======
<<<<<<< HEAD
<<<<<<< HEAD
=======
<<<<<<< HEAD
=======
>>>>>>> 6c32097dd8a02fed993934f15e57fc0c47512aad
<<<<<<< HEAD
=======
=======
>>>>>>> 61d75980f57b234cb6a713757b2afdaa859322b4
=======
>>>>>>> 72989aff461f01b000bb8f35e35ce1699d27e50b
<<<<<<< HEAD
>>>>>>> 6c32097dd8a02fed993934f15e57fc0c47512aad
=======
>>>>>>> 6c32097dd8a02fed993934f15e57fc0c47512aad
   "cell_type": "code",
   "execution_count": 88,
   "metadata": {},
   "outputs": [
    {
     "data": {
      "text/plain": [
       "True"
      ]
     },
     "execution_count": 88,
     "metadata": {},
     "output_type": "execute_result"
    }
   ],
   "source": []
  },
  {
   "cell_type": "code",
   "execution_count": 85,
   "metadata": {},
   "outputs": [],
   "source": [
    "driver.get('https://www.goalzz.com/main.aspx?m=1468311&stats=true')"
>>>>>>> e96e3a0cc1b467a8e0bd937951dcf5027e341145
<<<<<<< HEAD
<<<<<<< HEAD
=======
>>>>>>> fb0e86e9f689a45dca58f9c229a8e3c22f11ca81
=======
<<<<<<< HEAD
=======
>>>>>>> 6c32097dd8a02fed993934f15e57fc0c47512aad
<<<<<<< HEAD
>>>>>>> 942a818ae8a7276403af8a4eb5b87d596e1e23b9
=======
=======
>>>>>>> fb0e86e9f689a45dca58f9c229a8e3c22f11ca81
>>>>>>> 61d75980f57b234cb6a713757b2afdaa859322b4
=======
=======
>>>>>>> fb0e86e9f689a45dca58f9c229a8e3c22f11ca81
>>>>>>> 72989aff461f01b000bb8f35e35ce1699d27e50b
<<<<<<< HEAD
>>>>>>> 6c32097dd8a02fed993934f15e57fc0c47512aad
=======
>>>>>>> 6c32097dd8a02fed993934f15e57fc0c47512aad
   ]
  },
  {
   "cell_type": "code",
<<<<<<< HEAD
<<<<<<< HEAD
=======
<<<<<<< HEAD
<<<<<<< HEAD
>>>>>>> fb0e86e9f689a45dca58f9c229a8e3c22f11ca81
=======
<<<<<<< HEAD
=======
>>>>>>> 6c32097dd8a02fed993934f15e57fc0c47512aad
<<<<<<< HEAD
>>>>>>> 942a818ae8a7276403af8a4eb5b87d596e1e23b9
=======
<<<<<<< HEAD
=======
>>>>>>> fb0e86e9f689a45dca58f9c229a8e3c22f11ca81
>>>>>>> 61d75980f57b234cb6a713757b2afdaa859322b4
=======
>>>>>>> fb0e86e9f689a45dca58f9c229a8e3c22f11ca81
>>>>>>> 72989aff461f01b000bb8f35e35ce1699d27e50b
<<<<<<< HEAD
>>>>>>> 6c32097dd8a02fed993934f15e57fc0c47512aad
=======
>>>>>>> 6c32097dd8a02fed993934f15e57fc0c47512aad
   "execution_count": 7,
   "metadata": {},
   "outputs": [],
   "source": [
    "#### si liverpool joue a domicile il faut prendre les données a l'index 0 sinon prendre à l'index 2\n",
    "#stocker dans le dataframe à la premiere ligne, les données recupérees les index du df seront les dates des matchs s\n",
    "def replaceby0(tab):\n",
    "    lst=[]\n",
    "    for element in tab:\n",
    "        if(element!=tab[3]):\n",
    "            lst.append(element.replace(\"-\",\"0\"))\n",
    "        else :\n",
    "            lst.append(element)\n",
    "    return lst"
   ]
  },
  {
   "cell_type": "markdown",
   "metadata": {},
   "source": [
    "#### test sur un autre lien pour vérifier que ca marche"
<<<<<<< HEAD
=======
<<<<<<< HEAD
<<<<<<< HEAD
=======
<<<<<<< HEAD
=======
>>>>>>> 6c32097dd8a02fed993934f15e57fc0c47512aad
<<<<<<< HEAD
=======
=======
>>>>>>> 61d75980f57b234cb6a713757b2afdaa859322b4
=======
>>>>>>> 72989aff461f01b000bb8f35e35ce1699d27e50b
<<<<<<< HEAD
>>>>>>> 6c32097dd8a02fed993934f15e57fc0c47512aad
=======
>>>>>>> 6c32097dd8a02fed993934f15e57fc0c47512aad
   "execution_count": 86,
   "metadata": {},
   "outputs": [],
   "source": [
    "tab=driver.find_element_by_xpath('.//td[@class=\"empty\" and @valign=\"top\"]').text"
<<<<<<< HEAD
<<<<<<< HEAD
=======
>>>>>>> fb0e86e9f689a45dca58f9c229a8e3c22f11ca81
=======
<<<<<<< HEAD
=======
>>>>>>> 6c32097dd8a02fed993934f15e57fc0c47512aad
<<<<<<< HEAD
>>>>>>> 942a818ae8a7276403af8a4eb5b87d596e1e23b9
=======
=======
>>>>>>> fb0e86e9f689a45dca58f9c229a8e3c22f11ca81
>>>>>>> 61d75980f57b234cb6a713757b2afdaa859322b4
=======
=======
>>>>>>> fb0e86e9f689a45dca58f9c229a8e3c22f11ca81
>>>>>>> 72989aff461f01b000bb8f35e35ce1699d27e50b
<<<<<<< HEAD
>>>>>>> 6c32097dd8a02fed993934f15e57fc0c47512aad
=======
>>>>>>> 6c32097dd8a02fed993934f15e57fc0c47512aad
   ]
  },
  {
   "cell_type": "code",
<<<<<<< HEAD
<<<<<<< HEAD
<<<<<<< HEAD
=======
<<<<<<< HEAD
=======
>>>>>>> 6c32097dd8a02fed993934f15e57fc0c47512aad
<<<<<<< HEAD
=======
=======
>>>>>>> 61d75980f57b234cb6a713757b2afdaa859322b4
=======
>>>>>>> 72989aff461f01b000bb8f35e35ce1699d27e50b
<<<<<<< HEAD
>>>>>>> 6c32097dd8a02fed993934f15e57fc0c47512aad
=======
>>>>>>> 6c32097dd8a02fed993934f15e57fc0c47512aad
   "execution_count": 90,
   "metadata": {
    "scrolled": true
   },
   "outputs": [
    {
     "ename": "AttributeError",
     "evalue": "'list' object has no attribute 'split'",
     "output_type": "error",
     "traceback": [
      "\u001b[1;31m---------------------------------------------------------------------------\u001b[0m",
      "\u001b[1;31mAttributeError\u001b[0m                            Traceback (most recent call last)",
      "\u001b[1;32m<ipython-input-90-d2a0413cfe8c>\u001b[0m in \u001b[0;36m<module>\u001b[1;34m\u001b[0m\n\u001b[1;32m----> 1\u001b[1;33m \u001b[0mtab\u001b[0m\u001b[1;33m=\u001b[0m\u001b[0mtab\u001b[0m\u001b[1;33m.\u001b[0m\u001b[0msplit\u001b[0m\u001b[1;33m(\u001b[0m\u001b[1;34m'\\n'\u001b[0m\u001b[1;33m)\u001b[0m\u001b[1;33m\u001b[0m\u001b[1;33m\u001b[0m\u001b[0m\n\u001b[0m",
      "\u001b[1;31mAttributeError\u001b[0m: 'list' object has no attribute 'split'"
     ]
    }
   ],
   "source": [
    "tab=tab.split('\\n')"
>>>>>>> e96e3a0cc1b467a8e0bd937951dcf5027e341145
   ]
  },
  {
   "cell_type": "code",
<<<<<<< HEAD
<<<<<<< HEAD
<<<<<<< HEAD
=======
>>>>>>> fb0e86e9f689a45dca58f9c229a8e3c22f11ca81
=======
<<<<<<< HEAD
=======
>>>>>>> 6c32097dd8a02fed993934f15e57fc0c47512aad
<<<<<<< HEAD
>>>>>>> 942a818ae8a7276403af8a4eb5b87d596e1e23b9
=======
=======
>>>>>>> fb0e86e9f689a45dca58f9c229a8e3c22f11ca81
>>>>>>> 61d75980f57b234cb6a713757b2afdaa859322b4
=======
=======
>>>>>>> fb0e86e9f689a45dca58f9c229a8e3c22f11ca81
>>>>>>> 72989aff461f01b000bb8f35e35ce1699d27e50b
<<<<<<< HEAD
>>>>>>> 6c32097dd8a02fed993934f15e57fc0c47512aad
=======
>>>>>>> 6c32097dd8a02fed993934f15e57fc0c47512aad
   "execution_count": 8,
   "metadata": {},
   "outputs": [],
   "source": [
    "driver.get('https://www.goalzz.com/main.aspx?m=763452&stats=true')"
<<<<<<< HEAD
=======
<<<<<<< HEAD
<<<<<<< HEAD
=======
<<<<<<< HEAD
=======
>>>>>>> 6c32097dd8a02fed993934f15e57fc0c47512aad
<<<<<<< HEAD
=======
=======
>>>>>>> 61d75980f57b234cb6a713757b2afdaa859322b4
=======
>>>>>>> 72989aff461f01b000bb8f35e35ce1699d27e50b
<<<<<<< HEAD
>>>>>>> 6c32097dd8a02fed993934f15e57fc0c47512aad
=======
>>>>>>> 6c32097dd8a02fed993934f15e57fc0c47512aad
   "execution_count": 111,
   "metadata": {},
   "outputs": [
    {
     "name": "stdout",
     "output_type": "stream",
     "text": [
      "Liverpool West Bromwich Albion FC\n",
      "L\n",
      "i\n",
      "v\n",
      "e\n",
      "r\n",
      "p\n",
      "o\n",
      "o\n",
      "l\n",
      " \n",
      "W\n",
      "e\n",
      "s\n",
      "t\n",
      " \n",
      "B\n",
      "r\n",
      "o\n",
      "m\n",
      "w\n",
      "i\n",
      "c\n",
      "h\n",
      " \n",
      "A\n",
      "l\n",
      "b\n",
      "i\n",
      "o\n",
      "n\n",
      " \n",
      "F\n",
      "C\n",
      "- Goals -\n",
      "-\n",
      " \n",
      "G\n",
      "o\n",
      "a\n",
      "l\n",
      "s\n",
      " \n",
      "-\n",
      "- Assists -\n",
      "-\n",
      " \n",
      "A\n",
      "s\n",
      "s\n",
      "i\n",
      "s\n",
      "t\n",
      "s\n",
      " \n",
      "-\n",
      "4-3-3 Formation 4-5-1\n",
      "4\n",
      "-\n",
      "3\n",
      "-\n",
      "3\n",
      " \n",
      "F\n",
      "o\n",
      "r\n",
      "m\n",
      "a\n",
      "t\n",
      "i\n",
      "o\n",
      "n\n",
      " \n",
      "4\n",
      "-\n",
      "5\n",
      "-\n",
      "1\n",
      "13 (4) Shots (on goal) 6 (1)\n",
      "1\n",
      "3\n",
      " \n",
      "(\n",
      "4\n",
      ")\n",
      " \n",
      "S\n",
      "h\n",
      "o\n",
      "t\n",
      "s\n",
      " \n",
      "(\n",
      "o\n",
      "n\n",
      " \n",
      "g\n",
      "o\n",
      "a\n",
      "l\n",
      ")\n",
      " \n",
      "6\n",
      " \n",
      "(\n",
      "1\n",
      ")\n",
      "1 Saves 3\n",
      "1\n",
      " \n",
      "S\n",
      "a\n",
      "v\n",
      "e\n",
      "s\n",
      " \n",
      "3\n",
      "- (-) Penalties (scored) - (-)\n",
      "-\n",
      " \n",
      "(\n",
      "-\n",
      ")\n",
      " \n",
      "P\n",
      "e\n",
      "n\n",
      "a\n",
      "l\n",
      "t\n",
      "i\n",
      "e\n",
      "s\n",
      " \n",
      "(\n",
      "s\n",
      "c\n",
      "o\n",
      "r\n",
      "e\n",
      "d\n",
      ")\n",
      " \n",
      "-\n",
      " \n",
      "(\n",
      "-\n",
      ")\n",
      "21 Crosses 21\n",
      "2\n",
      "1\n",
      " \n",
      "C\n",
      "r\n",
      "o\n",
      "s\n",
      "s\n",
      "e\n",
      "s\n",
      " \n",
      "2\n",
      "1\n",
      "16 Fouls 6\n",
      "1\n",
      "6\n",
      " \n",
      "F\n",
      "o\n",
      "u\n",
      "l\n",
      "s\n",
      " \n",
      "6\n",
      "1 Offsides 4\n",
      "1\n",
      " \n",
      "O\n",
      "f\n",
      "f\n",
      "s\n",
      "i\n",
      "d\n",
      "e\n",
      "s\n",
      " \n",
      "4\n",
      "5 Corners 7\n",
      "5\n",
      " \n",
      "C\n",
      "o\n",
      "r\n",
      "n\n",
      "e\n",
      "r\n",
      "s\n",
      " \n",
      "7\n",
      "1 Yellow Cards 1\n",
      "1\n",
      " \n",
      "Y\n",
      "e\n",
      "l\n",
      "l\n",
      "o\n",
      "w\n",
      " \n",
      "C\n",
      "a\n",
      "r\n",
      "d\n",
      "s\n",
      " \n",
      "1\n",
      "- Red Cards -\n",
      "-\n",
      " \n",
      "R\n",
      "e\n",
      "d\n",
      " \n",
      "C\n",
      "a\n",
      "r\n",
      "d\n",
      "s\n",
      " \n",
      "-\n",
      "2204 Touches 912\n",
      "2\n",
      "2\n",
      "0\n",
      "4\n",
      " \n",
      "T\n",
      "o\n",
      "u\n",
      "c\n",
      "h\n",
      "e\n",
      "s\n",
      " \n",
      "9\n",
      "1\n",
      "2\n",
      "642 Passes 207\n",
      "6\n",
      "4\n",
      "2\n",
      " \n",
      "P\n",
      "a\n",
      "s\n",
      "s\n",
      "e\n",
      "s\n",
      " \n",
      "2\n",
      "0\n",
      "7\n",
      "2 Interceptions 6\n",
      "2\n",
      " \n",
      "I\n",
      "n\n",
      "t\n",
      "e\n",
      "r\n",
      "c\n",
      "e\n",
      "p\n",
      "t\n",
      "i\n",
      "o\n",
      "n\n",
      "s\n",
      " \n",
      "6\n",
      "19 Blocks 21\n",
      "1\n",
      "9\n",
      " \n",
      "B\n",
      "l\n",
      "o\n",
      "c\n",
      "k\n",
      "s\n",
      " \n",
      "2\n",
      "1\n",
      "9 Catches 7\n",
      "9\n",
      " \n",
      "C\n",
      "a\n",
      "t\n",
      "c\n",
      "h\n",
      "e\n",
      "s\n",
      " \n",
      "7\n",
      "19 Tackles 19\n",
      "1\n",
      "9\n",
      " \n",
      "T\n",
      "a\n",
      "c\n",
      "k\n",
      "l\n",
      "e\n",
      "s\n",
      " \n",
      "1\n",
      "9\n",
      "64% Posession 36%\n",
      "6\n",
      "4\n",
      "%\n",
      " \n",
      "P\n",
      "o\n",
      "s\n",
      "e\n",
      "s\n",
      "s\n",
      "i\n",
      "o\n",
      "n\n",
      " \n",
      "3\n",
      "6\n",
      "%\n",
      "  Referee:\n",
      " \n",
      " \n",
      "R\n",
      "e\n",
      "f\n",
      "e\n",
      "r\n",
      "e\n",
      "e\n",
      ":\n",
      "Paul Tierney\n",
      "P\n",
      "a\n",
      "u\n",
      "l\n",
      " \n",
      "T\n",
      "i\n",
      "e\n",
      "r\n",
      "n\n",
      "e\n",
      "y\n",
      "Asst. Referee:\n",
      "A\n",
      "s\n",
      "s\n",
      "t\n",
      ".\n",
      " \n",
      "R\n",
      "e\n",
      "f\n",
      "e\n",
      "r\n",
      "e\n",
      "e\n",
      ":\n",
      "Constantine Hatzidakis\n",
      "C\n",
      "o\n",
      "n\n",
      "s\n",
      "t\n",
      "a\n",
      "n\n",
      "t\n",
      "i\n",
      "n\n",
      "e\n",
      " \n",
      "H\n",
      "a\n",
      "t\n",
      "z\n",
      "i\n",
      "d\n",
      "a\n",
      "k\n",
      "i\n",
      "s\n",
      "Mick McDonough\n",
      "M\n",
      "i\n",
      "c\n",
      "k\n",
      " \n",
      "M\n",
      "c\n",
      "D\n",
      "o\n",
      "n\n",
      "o\n",
      "u\n",
      "g\n",
      "h\n",
      "4th Official:\n",
      "4\n",
      "t\n",
      "h\n",
      " \n",
      "O\n",
      "f\n",
      "f\n",
      "i\n",
      "c\n",
      "i\n",
      "a\n",
      "l\n",
      ":\n",
      "Neil Swarbrick\n",
      "N\n",
      "e\n",
      "i\n",
      "l\n",
      " \n",
      "S\n",
      "w\n",
      "a\n",
      "r\n",
      "b\n",
      "r\n",
      "i\n",
      "c\n",
      "k\n"
     ]
    }
   ],
   "source": [
    "#### si liverpool joue a domicile il faut prendre les données a l'index 0 sinon prendre à l'index 2\n",
    "#stocker dans le dataframe à la premiere ligne, les données recupérees les index du df seront les dates des matchs s\n",
    "for line in tab:\n",
    "    print(line)\n",
    "    for element in line:\n",
    "        print \n",
    "            \n"
>>>>>>> e96e3a0cc1b467a8e0bd937951dcf5027e341145
<<<<<<< HEAD
<<<<<<< HEAD
=======
>>>>>>> fb0e86e9f689a45dca58f9c229a8e3c22f11ca81
=======
<<<<<<< HEAD
=======
>>>>>>> 6c32097dd8a02fed993934f15e57fc0c47512aad
<<<<<<< HEAD
>>>>>>> 942a818ae8a7276403af8a4eb5b87d596e1e23b9
=======
=======
>>>>>>> fb0e86e9f689a45dca58f9c229a8e3c22f11ca81
>>>>>>> 61d75980f57b234cb6a713757b2afdaa859322b4
=======
=======
>>>>>>> fb0e86e9f689a45dca58f9c229a8e3c22f11ca81
>>>>>>> 72989aff461f01b000bb8f35e35ce1699d27e50b
<<<<<<< HEAD
>>>>>>> 6c32097dd8a02fed993934f15e57fc0c47512aad
=======
>>>>>>> 6c32097dd8a02fed993934f15e57fc0c47512aad
   ]
  },
  {
   "cell_type": "code",
<<<<<<< HEAD
<<<<<<< HEAD
=======
<<<<<<< HEAD
<<<<<<< HEAD
>>>>>>> fb0e86e9f689a45dca58f9c229a8e3c22f11ca81
=======
<<<<<<< HEAD
=======
>>>>>>> 6c32097dd8a02fed993934f15e57fc0c47512aad
<<<<<<< HEAD
>>>>>>> 942a818ae8a7276403af8a4eb5b87d596e1e23b9
=======
<<<<<<< HEAD
=======
>>>>>>> fb0e86e9f689a45dca58f9c229a8e3c22f11ca81
>>>>>>> 61d75980f57b234cb6a713757b2afdaa859322b4
=======
>>>>>>> fb0e86e9f689a45dca58f9c229a8e3c22f11ca81
>>>>>>> 72989aff461f01b000bb8f35e35ce1699d27e50b
<<<<<<< HEAD
>>>>>>> 6c32097dd8a02fed993934f15e57fc0c47512aad
=======
>>>>>>> 6c32097dd8a02fed993934f15e57fc0c47512aad
   "execution_count": 9,
   "metadata": {},
   "outputs": [],
   "source": [
    "tab=driver.find_element_by_xpath('.//td[@class=\"empty\" and @valign=\"top\"]').text"
   ]
  },
  {
   "cell_type": "markdown",
   "metadata": {},
   "source": [
    "#### Cleaning data"
   ]
  },
  {
   "cell_type": "code",
   "execution_count": 10,
   "metadata": {},
   "outputs": [],
   "source": [
    "tab=tab.split('\\n')"
   ]
  },
  {
   "cell_type": "code",
   "execution_count": 11,
   "metadata": {},
   "outputs": [],
   "source": [
    "tab=replaceby0(tab)"
   ]
  },
  {
   "cell_type": "code",
   "execution_count": 12,
   "metadata": {},
   "outputs": [],
   "source": [
    "tab=tab[0:20]"
   ]
  },
  {
   "cell_type": "code",
   "execution_count": 13,
   "metadata": {},
   "outputs": [],
   "source": [
    "def insert_new_row(df,row):\n",
    "    new_row = dict(zip(df.columns,row))\n",
    "    new_df = df.append(new_row,ignore_index=True)\n",
    "    return new_df"
   ]
  },
  {
   "cell_type": "markdown",
   "metadata": {},
   "source": [
    "##### Recuperation date"
   ]
  },
  {
   "cell_type": "code",
   "execution_count": 61,
   "metadata": {},
   "outputs": [],
   "source": [
    "date=driver.find_element_by_xpath('.//td[@class=\"match_date\"]').text"
   ]
  },
  {
   "cell_type": "code",
   "execution_count": 62,
   "metadata": {},
   "outputs": [],
   "source": [
    "def convert_strdate_date(str_):\n",
    "    res_ = ' '.join(str_.split(' ')[1:])\n",
    "    return datetime.strptime(res_,'%d %B %Y')\n"
   ]
  },
  {
   "cell_type": "code",
   "execution_count": 57,
   "metadata": {},
   "outputs": [],
   "source": [
    "convert_strdate_date(date)"
   ]
  },
  {
   "cell_type": "code",
   "execution_count": 68,
   "metadata": {},
   "outputs": [],
   "source": [
    "def recupData(tab,date):\n",
    "    \n",
    "\n",
    "    \n",
    "    df = pd.DataFrame(columns=['Goals','Assists','Formation','Shots','Shots On Target','Saves','Penalties won','Penalties scored','Crosses','Fouls','Offsides','Corners','Yellow Card',\n",
    "                       'Red Cards','Balls touched','Passes','Interceptions','Blocks','Catches','Tackles','Possession','Date'])\n",
    "    \n",
    "    if lfc_is_home(tab[0]) ==True:\n",
    "        liste=[]\n",
    "        for element in range(1,len(tab)):           \n",
    "            if(element==4 or element ==6):\n",
    "                liste.append(tab[element].split(' ')[0])\n",
    "                liste.append(tab[element].split(' ')[1][tab[element].split(' ')[1].find(\"(\")+1:tab[element].split(' ')[1].find(\")\")])\n",
    "            \n",
    "            else:\n",
    "                liste.append(tab[element].split(' ')[0] )\n",
    "    else :\n",
    "        \n",
    "        liste=[]\n",
    "        for element in range(1,len(tab)):     \n",
    "            \n",
    "            if(element==4 ):\n",
    "                liste.append(tab[element].split(' ')[5])\n",
    "                liste.append(tab[element].split(' ')[6][tab[element].split(' ')[6].find(\"(\")+1:tab[element].split(' ')[6].find(\")\")])\n",
    "            elif(element==6):\n",
    "                liste.append(tab[element].split(' ')[4])\n",
    "                liste.append(tab[6].split(' ')[5][tab[6].split(' ')[5].find(\"(\")+1:tab[6].split(' ')[5].find(\")\")])\n",
    "            elif(element==11 or element==12):\n",
    "                liste.append(tab[element].split(' ')[3])\n",
    "                \n",
    "            else :\n",
    "                liste.append(tab[element].split(' ')[2] )   \n",
    "    liste.append(date)\n",
    "    return insert_new_row(df,liste)"
   ]
  },
  {
   "cell_type": "code",
   "execution_count": 69,
   "metadata": {},
   "outputs": [],
   "source": [
    "df=recupData(tab,date)"
   ]
  },
  {
   "cell_type": "code",
   "execution_count": 71,
   "metadata": {
    "scrolled": true
   },
   "outputs": [
    {
     "data": {
      "text/plain": [
       "0   2012-08-18\n",
       "Name: Date, dtype: datetime64[ns]"
      ]
     },
     "execution_count": 71,
     "metadata": {},
     "output_type": "execute_result"
    }
   ],
   "source": [
    "df['Date'].apply(convert_strdate_date)"
   ]
<<<<<<< HEAD
=======
<<<<<<< HEAD
<<<<<<< HEAD
=======
<<<<<<< HEAD
=======
>>>>>>> 6c32097dd8a02fed993934f15e57fc0c47512aad
<<<<<<< HEAD
=======
=======
>>>>>>> 61d75980f57b234cb6a713757b2afdaa859322b4
=======
>>>>>>> 72989aff461f01b000bb8f35e35ce1699d27e50b
<<<<<<< HEAD
>>>>>>> 6c32097dd8a02fed993934f15e57fc0c47512aad
=======
>>>>>>> 6c32097dd8a02fed993934f15e57fc0c47512aad
   "execution_count": null,
   "metadata": {},
   "outputs": [],
   "source": [
    "if lfc_is_home(tab.split('\\n')[0]) ==True:\n",
    "    for i in range(1,len(tab)):\n",
    "        "
   ]
  },
  {
   "cell_type": "code",
   "execution_count": null,
   "metadata": {},
   "outputs": [],
   "source": []
  },
  {
   "cell_type": "code",
   "execution_count": null,
   "metadata": {},
   "outputs": [],
   "source": []
  },
  {
   "cell_type": "code",
   "execution_count": null,
   "metadata": {},
   "outputs": [],
   "source": []
  },
  {
   "cell_type": "code",
   "execution_count": null,
   "metadata": {},
   "outputs": [],
   "source": []
  },
  {
   "cell_type": "code",
   "execution_count": null,
   "metadata": {},
   "outputs": [],
   "source": []
<<<<<<< HEAD
<<<<<<< HEAD
=======
>>>>>>> fb0e86e9f689a45dca58f9c229a8e3c22f11ca81
=======
<<<<<<< HEAD
=======
>>>>>>> 6c32097dd8a02fed993934f15e57fc0c47512aad
<<<<<<< HEAD
>>>>>>> 942a818ae8a7276403af8a4eb5b87d596e1e23b9
=======
=======
>>>>>>> fb0e86e9f689a45dca58f9c229a8e3c22f11ca81
>>>>>>> 61d75980f57b234cb6a713757b2afdaa859322b4
=======
=======
>>>>>>> fb0e86e9f689a45dca58f9c229a8e3c22f11ca81
>>>>>>> 72989aff461f01b000bb8f35e35ce1699d27e50b
<<<<<<< HEAD
>>>>>>> 6c32097dd8a02fed993934f15e57fc0c47512aad
=======
>>>>>>> 6c32097dd8a02fed993934f15e57fc0c47512aad
  },
  {
   "cell_type": "code",
   "execution_count": null,
   "metadata": {},
   "outputs": [],
   "source": []
  },
  {
<<<<<<< HEAD
<<<<<<< HEAD
<<<<<<< HEAD
=======
<<<<<<< HEAD
=======
>>>>>>> 6c32097dd8a02fed993934f15e57fc0c47512aad
<<<<<<< HEAD
=======
=======
>>>>>>> 61d75980f57b234cb6a713757b2afdaa859322b4
=======
>>>>>>> 72989aff461f01b000bb8f35e35ce1699d27e50b
<<<<<<< HEAD
>>>>>>> 6c32097dd8a02fed993934f15e57fc0c47512aad
=======
>>>>>>> 6c32097dd8a02fed993934f15e57fc0c47512aad
   "cell_type": "code",
   "execution_count": null,
   "metadata": {},
   "outputs": [],
   "source": []
  },
  {
   "cell_type": "code",
   "execution_count": null,
   "metadata": {},
   "outputs": [],
   "source": []
  },
  {
   "cell_type": "code",
   "execution_count": null,
   "metadata": {},
   "outputs": [],
   "source": []
  },
  {
   "cell_type": "code",
   "execution_count": null,
   "metadata": {},
   "outputs": [],
   "source": []
  },
  {
   "cell_type": "code",
   "execution_count": null,
   "metadata": {},
   "outputs": [],
   "source": []
  },
  {
   "cell_type": "code",
   "execution_count": null,
   "metadata": {},
   "outputs": [],
   "source": []
>>>>>>> e96e3a0cc1b467a8e0bd937951dcf5027e341145
  },
  {
   "cell_type": "code",
   "execution_count": null,
   "metadata": {},
   "outputs": [],
   "source": []
  },
  {
<<<<<<< HEAD
<<<<<<< HEAD
<<<<<<< HEAD
=======
>>>>>>> fb0e86e9f689a45dca58f9c229a8e3c22f11ca81
=======
<<<<<<< HEAD
=======
>>>>>>> 6c32097dd8a02fed993934f15e57fc0c47512aad
<<<<<<< HEAD
>>>>>>> 942a818ae8a7276403af8a4eb5b87d596e1e23b9
=======
=======
>>>>>>> fb0e86e9f689a45dca58f9c229a8e3c22f11ca81
>>>>>>> 61d75980f57b234cb6a713757b2afdaa859322b4
=======
=======
>>>>>>> fb0e86e9f689a45dca58f9c229a8e3c22f11ca81
>>>>>>> 72989aff461f01b000bb8f35e35ce1699d27e50b
<<<<<<< HEAD
>>>>>>> 6c32097dd8a02fed993934f15e57fc0c47512aad
=======
>>>>>>> 6c32097dd8a02fed993934f15e57fc0c47512aad
   "cell_type": "markdown",
   "metadata": {},
   "source": [
    "#### Automatiser l'appui des boutons"
   ]
  },
  {
   "cell_type": "code",
   "execution_count": 73,
   "metadata": {},
   "outputs": [],
   "source": [
    "driver.get('https://www.goalzz.com/main.aspx?region=-7&team=11')"
   ]
<<<<<<< HEAD
=======
<<<<<<< HEAD
<<<<<<< HEAD
=======
<<<<<<< HEAD
=======
>>>>>>> 6c32097dd8a02fed993934f15e57fc0c47512aad
<<<<<<< HEAD
=======
=======
>>>>>>> 61d75980f57b234cb6a713757b2afdaa859322b4
=======
>>>>>>> 72989aff461f01b000bb8f35e35ce1699d27e50b
<<<<<<< HEAD
>>>>>>> 6c32097dd8a02fed993934f15e57fc0c47512aad
=======
>>>>>>> 6c32097dd8a02fed993934f15e57fc0c47512aad
   "cell_type": "code",
   "execution_count": null,
   "metadata": {},
   "outputs": [],
   "source": []
<<<<<<< HEAD
<<<<<<< HEAD
=======
>>>>>>> fb0e86e9f689a45dca58f9c229a8e3c22f11ca81
=======
<<<<<<< HEAD
=======
>>>>>>> 6c32097dd8a02fed993934f15e57fc0c47512aad
<<<<<<< HEAD
>>>>>>> 942a818ae8a7276403af8a4eb5b87d596e1e23b9
=======
=======
>>>>>>> fb0e86e9f689a45dca58f9c229a8e3c22f11ca81
>>>>>>> 61d75980f57b234cb6a713757b2afdaa859322b4
=======
=======
>>>>>>> fb0e86e9f689a45dca58f9c229a8e3c22f11ca81
>>>>>>> 72989aff461f01b000bb8f35e35ce1699d27e50b
<<<<<<< HEAD
>>>>>>> 6c32097dd8a02fed993934f15e57fc0c47512aad
=======
>>>>>>> 6c32097dd8a02fed993934f15e57fc0c47512aad
  },
  {
   "cell_type": "code",
   "execution_count": null,
   "metadata": {},
   "outputs": [],
<<<<<<< HEAD
<<<<<<< HEAD
<<<<<<< HEAD
=======
<<<<<<< HEAD
=======
>>>>>>> 6c32097dd8a02fed993934f15e57fc0c47512aad
<<<<<<< HEAD
=======
=======
>>>>>>> 61d75980f57b234cb6a713757b2afdaa859322b4
=======
>>>>>>> 72989aff461f01b000bb8f35e35ce1699d27e50b
<<<<<<< HEAD
>>>>>>> 6c32097dd8a02fed993934f15e57fc0c47512aad
=======
>>>>>>> 6c32097dd8a02fed993934f15e57fc0c47512aad
   "source": []
>>>>>>> e96e3a0cc1b467a8e0bd937951dcf5027e341145
  },
  {
   "cell_type": "code",
   "execution_count": null,
   "metadata": {},
   "outputs": [],
<<<<<<< HEAD
<<<<<<< HEAD
<<<<<<< HEAD
=======
>>>>>>> fb0e86e9f689a45dca58f9c229a8e3c22f11ca81
=======
<<<<<<< HEAD
=======
>>>>>>> 6c32097dd8a02fed993934f15e57fc0c47512aad
<<<<<<< HEAD
>>>>>>> 942a818ae8a7276403af8a4eb5b87d596e1e23b9
=======
=======
>>>>>>> fb0e86e9f689a45dca58f9c229a8e3c22f11ca81
>>>>>>> 61d75980f57b234cb6a713757b2afdaa859322b4
=======
=======
>>>>>>> fb0e86e9f689a45dca58f9c229a8e3c22f11ca81
>>>>>>> 72989aff461f01b000bb8f35e35ce1699d27e50b
<<<<<<< HEAD
>>>>>>> 6c32097dd8a02fed993934f15e57fc0c47512aad
=======
>>>>>>> 6c32097dd8a02fed993934f15e57fc0c47512aad
   "source": [
    "lst_btn = driver.find_elements_by_xpath('.//button[@class=\"btnDetails\"]')\n",
    "\n",
    "for i in range(len(lst_btn) - 1,len(lst_btn) - 500,-1):\n",
    "    lst_btn[i].click()\n"
   ]
  },
  {
   "cell_type": "code",
   "execution_count": 78,
   "metadata": {},
   "outputs": [
    {
     "ename": "NoSuchElementException",
     "evalue": "Message: no such element: Unable to locate element: {\"method\":\"xpath\",\"selector\":\".//a[@class=\"hint--bottom hint--success\"]\"}\n  (Session info: chrome=86.0.4240.111)\n",
     "output_type": "error",
     "traceback": [
      "\u001b[1;31m---------------------------------------------------------------------------\u001b[0m",
      "\u001b[1;31mNoSuchElementException\u001b[0m                    Traceback (most recent call last)",
      "\u001b[1;32m<ipython-input-78-11fff64344bd>\u001b[0m in \u001b[0;36m<module>\u001b[1;34m\u001b[0m\n\u001b[1;32m----> 1\u001b[1;33m \u001b[0mlst_btnVert\u001b[0m\u001b[1;33m=\u001b[0m\u001b[0mdriver\u001b[0m\u001b[1;33m.\u001b[0m\u001b[0mfind_element_by_xpath\u001b[0m\u001b[1;33m(\u001b[0m\u001b[1;34m'.//a[@class=\"hint--bottom hint--success\"]'\u001b[0m\u001b[1;33m)\u001b[0m\u001b[1;33m\u001b[0m\u001b[1;33m\u001b[0m\u001b[0m\n\u001b[0m",
      "\u001b[1;32m~\\Anaconda\\lib\\site-packages\\selenium\\webdriver\\remote\\webdriver.py\u001b[0m in \u001b[0;36mfind_element_by_xpath\u001b[1;34m(self, xpath)\u001b[0m\n\u001b[0;32m    392\u001b[0m             \u001b[0melement\u001b[0m \u001b[1;33m=\u001b[0m \u001b[0mdriver\u001b[0m\u001b[1;33m.\u001b[0m\u001b[0mfind_element_by_xpath\u001b[0m\u001b[1;33m(\u001b[0m\u001b[1;34m'//div/td[1]'\u001b[0m\u001b[1;33m)\u001b[0m\u001b[1;33m\u001b[0m\u001b[1;33m\u001b[0m\u001b[0m\n\u001b[0;32m    393\u001b[0m         \"\"\"\n\u001b[1;32m--> 394\u001b[1;33m         \u001b[1;32mreturn\u001b[0m \u001b[0mself\u001b[0m\u001b[1;33m.\u001b[0m\u001b[0mfind_element\u001b[0m\u001b[1;33m(\u001b[0m\u001b[0mby\u001b[0m\u001b[1;33m=\u001b[0m\u001b[0mBy\u001b[0m\u001b[1;33m.\u001b[0m\u001b[0mXPATH\u001b[0m\u001b[1;33m,\u001b[0m \u001b[0mvalue\u001b[0m\u001b[1;33m=\u001b[0m\u001b[0mxpath\u001b[0m\u001b[1;33m)\u001b[0m\u001b[1;33m\u001b[0m\u001b[1;33m\u001b[0m\u001b[0m\n\u001b[0m\u001b[0;32m    395\u001b[0m \u001b[1;33m\u001b[0m\u001b[0m\n\u001b[0;32m    396\u001b[0m     \u001b[1;32mdef\u001b[0m \u001b[0mfind_elements_by_xpath\u001b[0m\u001b[1;33m(\u001b[0m\u001b[0mself\u001b[0m\u001b[1;33m,\u001b[0m \u001b[0mxpath\u001b[0m\u001b[1;33m)\u001b[0m\u001b[1;33m:\u001b[0m\u001b[1;33m\u001b[0m\u001b[1;33m\u001b[0m\u001b[0m\n",
      "\u001b[1;32m~\\Anaconda\\lib\\site-packages\\selenium\\webdriver\\remote\\webdriver.py\u001b[0m in \u001b[0;36mfind_element\u001b[1;34m(self, by, value)\u001b[0m\n\u001b[0;32m    976\u001b[0m         return self.execute(Command.FIND_ELEMENT, {\n\u001b[0;32m    977\u001b[0m             \u001b[1;34m'using'\u001b[0m\u001b[1;33m:\u001b[0m \u001b[0mby\u001b[0m\u001b[1;33m,\u001b[0m\u001b[1;33m\u001b[0m\u001b[1;33m\u001b[0m\u001b[0m\n\u001b[1;32m--> 978\u001b[1;33m             'value': value})['value']\n\u001b[0m\u001b[0;32m    979\u001b[0m \u001b[1;33m\u001b[0m\u001b[0m\n\u001b[0;32m    980\u001b[0m     \u001b[1;32mdef\u001b[0m \u001b[0mfind_elements\u001b[0m\u001b[1;33m(\u001b[0m\u001b[0mself\u001b[0m\u001b[1;33m,\u001b[0m \u001b[0mby\u001b[0m\u001b[1;33m=\u001b[0m\u001b[0mBy\u001b[0m\u001b[1;33m.\u001b[0m\u001b[0mID\u001b[0m\u001b[1;33m,\u001b[0m \u001b[0mvalue\u001b[0m\u001b[1;33m=\u001b[0m\u001b[1;32mNone\u001b[0m\u001b[1;33m)\u001b[0m\u001b[1;33m:\u001b[0m\u001b[1;33m\u001b[0m\u001b[1;33m\u001b[0m\u001b[0m\n",
      "\u001b[1;32m~\\Anaconda\\lib\\site-packages\\selenium\\webdriver\\remote\\webdriver.py\u001b[0m in \u001b[0;36mexecute\u001b[1;34m(self, driver_command, params)\u001b[0m\n\u001b[0;32m    319\u001b[0m         \u001b[0mresponse\u001b[0m \u001b[1;33m=\u001b[0m \u001b[0mself\u001b[0m\u001b[1;33m.\u001b[0m\u001b[0mcommand_executor\u001b[0m\u001b[1;33m.\u001b[0m\u001b[0mexecute\u001b[0m\u001b[1;33m(\u001b[0m\u001b[0mdriver_command\u001b[0m\u001b[1;33m,\u001b[0m \u001b[0mparams\u001b[0m\u001b[1;33m)\u001b[0m\u001b[1;33m\u001b[0m\u001b[1;33m\u001b[0m\u001b[0m\n\u001b[0;32m    320\u001b[0m         \u001b[1;32mif\u001b[0m \u001b[0mresponse\u001b[0m\u001b[1;33m:\u001b[0m\u001b[1;33m\u001b[0m\u001b[1;33m\u001b[0m\u001b[0m\n\u001b[1;32m--> 321\u001b[1;33m             \u001b[0mself\u001b[0m\u001b[1;33m.\u001b[0m\u001b[0merror_handler\u001b[0m\u001b[1;33m.\u001b[0m\u001b[0mcheck_response\u001b[0m\u001b[1;33m(\u001b[0m\u001b[0mresponse\u001b[0m\u001b[1;33m)\u001b[0m\u001b[1;33m\u001b[0m\u001b[1;33m\u001b[0m\u001b[0m\n\u001b[0m\u001b[0;32m    322\u001b[0m             response['value'] = self._unwrap_value(\n\u001b[0;32m    323\u001b[0m                 response.get('value', None))\n",
      "\u001b[1;32m~\\Anaconda\\lib\\site-packages\\selenium\\webdriver\\remote\\errorhandler.py\u001b[0m in \u001b[0;36mcheck_response\u001b[1;34m(self, response)\u001b[0m\n\u001b[0;32m    240\u001b[0m                 \u001b[0malert_text\u001b[0m \u001b[1;33m=\u001b[0m \u001b[0mvalue\u001b[0m\u001b[1;33m[\u001b[0m\u001b[1;34m'alert'\u001b[0m\u001b[1;33m]\u001b[0m\u001b[1;33m.\u001b[0m\u001b[0mget\u001b[0m\u001b[1;33m(\u001b[0m\u001b[1;34m'text'\u001b[0m\u001b[1;33m)\u001b[0m\u001b[1;33m\u001b[0m\u001b[1;33m\u001b[0m\u001b[0m\n\u001b[0;32m    241\u001b[0m             \u001b[1;32mraise\u001b[0m \u001b[0mexception_class\u001b[0m\u001b[1;33m(\u001b[0m\u001b[0mmessage\u001b[0m\u001b[1;33m,\u001b[0m \u001b[0mscreen\u001b[0m\u001b[1;33m,\u001b[0m \u001b[0mstacktrace\u001b[0m\u001b[1;33m,\u001b[0m \u001b[0malert_text\u001b[0m\u001b[1;33m)\u001b[0m\u001b[1;33m\u001b[0m\u001b[1;33m\u001b[0m\u001b[0m\n\u001b[1;32m--> 242\u001b[1;33m         \u001b[1;32mraise\u001b[0m \u001b[0mexception_class\u001b[0m\u001b[1;33m(\u001b[0m\u001b[0mmessage\u001b[0m\u001b[1;33m,\u001b[0m \u001b[0mscreen\u001b[0m\u001b[1;33m,\u001b[0m \u001b[0mstacktrace\u001b[0m\u001b[1;33m)\u001b[0m\u001b[1;33m\u001b[0m\u001b[1;33m\u001b[0m\u001b[0m\n\u001b[0m\u001b[0;32m    243\u001b[0m \u001b[1;33m\u001b[0m\u001b[0m\n\u001b[0;32m    244\u001b[0m     \u001b[1;32mdef\u001b[0m \u001b[0m_value_or_default\u001b[0m\u001b[1;33m(\u001b[0m\u001b[0mself\u001b[0m\u001b[1;33m,\u001b[0m \u001b[0mobj\u001b[0m\u001b[1;33m,\u001b[0m \u001b[0mkey\u001b[0m\u001b[1;33m,\u001b[0m \u001b[0mdefault\u001b[0m\u001b[1;33m)\u001b[0m\u001b[1;33m:\u001b[0m\u001b[1;33m\u001b[0m\u001b[1;33m\u001b[0m\u001b[0m\n",
      "\u001b[1;31mNoSuchElementException\u001b[0m: Message: no such element: Unable to locate element: {\"method\":\"xpath\",\"selector\":\".//a[@class=\"hint--bottom hint--success\"]\"}\n  (Session info: chrome=86.0.4240.111)\n"
     ]
    }
   ],
   "source": [
    "lst_btnVert=driver.find_element_by_xpath('.//a[@class=\"hint--bottom hint--success\"]')"
   ]
<<<<<<< HEAD
=======
<<<<<<< HEAD
<<<<<<< HEAD
=======
<<<<<<< HEAD
=======
>>>>>>> 6c32097dd8a02fed993934f15e57fc0c47512aad
<<<<<<< HEAD
=======
=======
>>>>>>> 61d75980f57b234cb6a713757b2afdaa859322b4
=======
>>>>>>> 72989aff461f01b000bb8f35e35ce1699d27e50b
<<<<<<< HEAD
>>>>>>> 6c32097dd8a02fed993934f15e57fc0c47512aad
=======
>>>>>>> 6c32097dd8a02fed993934f15e57fc0c47512aad
   "source": []
  },
  {
   "cell_type": "code",
   "execution_count": null,
   "metadata": {},
   "outputs": [],
   "source": []
  },
  {
   "cell_type": "code",
   "execution_count": null,
   "metadata": {},
   "outputs": [],
   "source": []
  },
  {
   "cell_type": "code",
   "execution_count": null,
   "metadata": {},
   "outputs": [],
   "source": []
  },
  {
   "cell_type": "code",
   "execution_count": null,
   "metadata": {},
   "outputs": [],
   "source": []
  },
  {
   "cell_type": "code",
   "execution_count": null,
   "metadata": {},
   "outputs": [],
   "source": []
  },
  {
   "cell_type": "code",
   "execution_count": null,
   "metadata": {},
   "outputs": [],
   "source": []
  },
  {
   "cell_type": "code",
   "execution_count": null,
   "metadata": {},
   "outputs": [],
   "source": []
  },
  {
   "cell_type": "code",
   "execution_count": null,
   "metadata": {},
   "outputs": [],
   "source": []
>>>>>>> e96e3a0cc1b467a8e0bd937951dcf5027e341145
<<<<<<< HEAD
<<<<<<< HEAD
=======
>>>>>>> fb0e86e9f689a45dca58f9c229a8e3c22f11ca81
=======
<<<<<<< HEAD
=======
>>>>>>> 6c32097dd8a02fed993934f15e57fc0c47512aad
<<<<<<< HEAD
>>>>>>> 942a818ae8a7276403af8a4eb5b87d596e1e23b9
=======
=======
>>>>>>> fb0e86e9f689a45dca58f9c229a8e3c22f11ca81
>>>>>>> 61d75980f57b234cb6a713757b2afdaa859322b4
=======
=======
>>>>>>> fb0e86e9f689a45dca58f9c229a8e3c22f11ca81
>>>>>>> 72989aff461f01b000bb8f35e35ce1699d27e50b
<<<<<<< HEAD
>>>>>>> 6c32097dd8a02fed993934f15e57fc0c47512aad
=======
>>>>>>> 6c32097dd8a02fed993934f15e57fc0c47512aad
  },
  {
   "cell_type": "code",
   "execution_count": null,
   "metadata": {},
   "outputs": [],
   "source": []
  },
  {
   "cell_type": "code",
   "execution_count": null,
   "metadata": {},
   "outputs": [],
   "source": []
  },
  {
   "cell_type": "code",
   "execution_count": null,
   "metadata": {},
   "outputs": [],
   "source": []
  },
  {
   "cell_type": "code",
   "execution_count": null,
   "metadata": {},
   "outputs": [],
   "source": []
  },
  {
   "cell_type": "code",
   "execution_count": null,
   "metadata": {},
   "outputs": [],
   "source": []
  },
  {
   "cell_type": "code",
   "execution_count": null,
   "metadata": {},
   "outputs": [],
   "source": []
  },
  {
   "cell_type": "code",
   "execution_count": null,
   "metadata": {},
   "outputs": [],
   "source": []
  },
  {
   "cell_type": "code",
   "execution_count": null,
   "metadata": {},
   "outputs": [],
   "source": []
  },
  {
   "cell_type": "code",
   "execution_count": null,
   "metadata": {},
   "outputs": [],
   "source": []
  },
  {
   "cell_type": "code",
   "execution_count": null,
   "metadata": {},
   "outputs": [],
   "source": []
  },
  {
   "cell_type": "code",
   "execution_count": null,
   "metadata": {},
   "outputs": [],
   "source": []
  },
  {
   "cell_type": "code",
   "execution_count": null,
   "metadata": {},
   "outputs": [],
   "source": []
  }
 ],
 "metadata": {
  "kernelspec": {
   "display_name": "Python 3",
   "language": "python",
   "name": "python3"
  },
  "language_info": {
   "codemirror_mode": {
    "name": "ipython",
    "version": 3
   },
   "file_extension": ".py",
   "mimetype": "text/x-python",
   "name": "python",
   "nbconvert_exporter": "python",
   "pygments_lexer": "ipython3",
<<<<<<< HEAD
<<<<<<< HEAD
<<<<<<< HEAD
<<<<<<< HEAD
=======
<<<<<<< HEAD
=======
>>>>>>> 6c32097dd8a02fed993934f15e57fc0c47512aad
   "version": "3.7.1"
=======
=======
>>>>>>> 61d75980f57b234cb6a713757b2afdaa859322b4
<<<<<<< HEAD
=======
>>>>>>> 72989aff461f01b000bb8f35e35ce1699d27e50b
<<<<<<< HEAD
>>>>>>> 6c32097dd8a02fed993934f15e57fc0c47512aad
=======
>>>>>>> 6c32097dd8a02fed993934f15e57fc0c47512aad
   "version": "3.7.1"
=======
   "version": "3.7.6"
>>>>>>> e96e3a0cc1b467a8e0bd937951dcf5027e341145
<<<<<<< HEAD
<<<<<<< HEAD
=======
   "version": "3.7.1"
>>>>>>> fb0e86e9f689a45dca58f9c229a8e3c22f11ca81
=======
<<<<<<< HEAD
=======
>>>>>>> 6c32097dd8a02fed993934f15e57fc0c47512aad
<<<<<<< HEAD
>>>>>>> 942a818ae8a7276403af8a4eb5b87d596e1e23b9
=======
=======
   "version": "3.7.1"
>>>>>>> fb0e86e9f689a45dca58f9c229a8e3c22f11ca81
>>>>>>> 61d75980f57b234cb6a713757b2afdaa859322b4
=======
=======
   "version": "3.7.1"
>>>>>>> fb0e86e9f689a45dca58f9c229a8e3c22f11ca81
>>>>>>> 72989aff461f01b000bb8f35e35ce1699d27e50b
<<<<<<< HEAD
>>>>>>> 6c32097dd8a02fed993934f15e57fc0c47512aad
=======
>>>>>>> 6c32097dd8a02fed993934f15e57fc0c47512aad
  }
 },
 "nbformat": 4,
 "nbformat_minor": 2
}
