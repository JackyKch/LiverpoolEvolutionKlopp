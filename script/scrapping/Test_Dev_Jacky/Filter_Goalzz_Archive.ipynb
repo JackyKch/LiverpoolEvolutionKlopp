{
 "metadata": {
  "language_info": {
   "codemirror_mode": {
    "name": "ipython",
    "version": 3
   },
   "file_extension": ".py",
   "mimetype": "text/x-python",
   "name": "python",
   "nbconvert_exporter": "python",
   "pygments_lexer": "ipython3",
   "version": "3.8.2-final"
  },
  "orig_nbformat": 2,
  "kernelspec": {
   "name": "Python 3.8.2 64-bit",
   "display_name": "Python 3.8.2 64-bit",
   "metadata": {
    "interpreter": {
     "hash": "95e24f6d028694f957b1106e412d23c4f9ba09e8613c65a2aeaf0c0e73a5daa1"
    }
   }
  }
 },
 "nbformat": 4,
 "nbformat_minor": 2,
 "cells": [
  {
   "cell_type": "code",
   "execution_count": 1,
   "metadata": {},
   "outputs": [],
   "source": [
    "import pandas as pd"
   ]
  },
  {
   "cell_type": "code",
   "execution_count": 3,
   "metadata": {},
   "outputs": [],
   "source": [
    "df = pd.read_csv(\"goalzz_archive_from_2012.csv\", sep =\",\")"
   ]
  },
  {
   "cell_type": "code",
   "execution_count": 4,
   "metadata": {},
   "outputs": [
    {
     "output_type": "execute_result",
     "data": {
      "text/plain": [
       "     date_match                contests                           home_team  \\\n",
       "0    2012-08-18  English Premier League            West Bromwich Albion FC    \n",
       "1    2012-08-23      UEFA Europa League  Heart of Midlothian FC - Scotland    \n",
       "2    2012-08-26  English Premier League                          Liverpool    \n",
       "3    2012-08-30      UEFA Europa League                Liverpool - England    \n",
       "4    2012-09-02  English Premier League                          Liverpool    \n",
       "..          ...                     ...                                 ...   \n",
       "470  2020-07-08  English Premier League             Brighton & Hove Albion    \n",
       "471  2020-07-11  English Premier League                          Liverpool    \n",
       "472  2020-07-15  English Premier League                         Arsenal FC    \n",
       "473  2020-07-22  English Premier League                          Liverpool    \n",
       "474  2020-07-26  English Premier League                Newcastle United FC    \n",
       "\n",
       "     home_score  away_score   away_team liverpool_score  at_anfield  \\\n",
       "0             3           0   Liverpool               D       False   \n",
       "1             0           1   Liverpool               V       False   \n",
       "2             2           2  Manchester               N        True   \n",
       "3             1           1       Heart               N        True   \n",
       "4             0           2     Arsenal               D        True   \n",
       "..          ...         ...         ...             ...         ...   \n",
       "470           1           3   Liverpool               V       False   \n",
       "471           1           1     Burnley               N        True   \n",
       "472           2           1   Liverpool               D       False   \n",
       "473           5           3     Chelsea               V        True   \n",
       "474           1           3   Liverpool               V       False   \n",
       "\n",
       "          season  rest_days  \n",
       "0    2012 - 2013          6  \n",
       "1    2012 - 2013          5  \n",
       "2    2012 - 2013          3  \n",
       "3    2012 - 2013          4  \n",
       "4    2012 - 2013          3  \n",
       "..           ...        ...  \n",
       "470  2019 - 2020          3  \n",
       "471  2019 - 2020          3  \n",
       "472  2019 - 2020          4  \n",
       "473  2019 - 2020          7  \n",
       "474  2019 - 2020          4  \n",
       "\n",
       "[475 rows x 10 columns]"
      ],
      "text/html": "<div>\n<style scoped>\n    .dataframe tbody tr th:only-of-type {\n        vertical-align: middle;\n    }\n\n    .dataframe tbody tr th {\n        vertical-align: top;\n    }\n\n    .dataframe thead th {\n        text-align: right;\n    }\n</style>\n<table border=\"1\" class=\"dataframe\">\n  <thead>\n    <tr style=\"text-align: right;\">\n      <th></th>\n      <th>date_match</th>\n      <th>contests</th>\n      <th>home_team</th>\n      <th>home_score</th>\n      <th>away_score</th>\n      <th>away_team</th>\n      <th>liverpool_score</th>\n      <th>at_anfield</th>\n      <th>season</th>\n      <th>rest_days</th>\n    </tr>\n  </thead>\n  <tbody>\n    <tr>\n      <th>0</th>\n      <td>2012-08-18</td>\n      <td>English Premier League</td>\n      <td>West Bromwich Albion FC</td>\n      <td>3</td>\n      <td>0</td>\n      <td>Liverpool</td>\n      <td>D</td>\n      <td>False</td>\n      <td>2012 - 2013</td>\n      <td>6</td>\n    </tr>\n    <tr>\n      <th>1</th>\n      <td>2012-08-23</td>\n      <td>UEFA Europa League</td>\n      <td>Heart of Midlothian FC - Scotland</td>\n      <td>0</td>\n      <td>1</td>\n      <td>Liverpool</td>\n      <td>V</td>\n      <td>False</td>\n      <td>2012 - 2013</td>\n      <td>5</td>\n    </tr>\n    <tr>\n      <th>2</th>\n      <td>2012-08-26</td>\n      <td>English Premier League</td>\n      <td>Liverpool</td>\n      <td>2</td>\n      <td>2</td>\n      <td>Manchester</td>\n      <td>N</td>\n      <td>True</td>\n      <td>2012 - 2013</td>\n      <td>3</td>\n    </tr>\n    <tr>\n      <th>3</th>\n      <td>2012-08-30</td>\n      <td>UEFA Europa League</td>\n      <td>Liverpool - England</td>\n      <td>1</td>\n      <td>1</td>\n      <td>Heart</td>\n      <td>N</td>\n      <td>True</td>\n      <td>2012 - 2013</td>\n      <td>4</td>\n    </tr>\n    <tr>\n      <th>4</th>\n      <td>2012-09-02</td>\n      <td>English Premier League</td>\n      <td>Liverpool</td>\n      <td>0</td>\n      <td>2</td>\n      <td>Arsenal</td>\n      <td>D</td>\n      <td>True</td>\n      <td>2012 - 2013</td>\n      <td>3</td>\n    </tr>\n    <tr>\n      <th>...</th>\n      <td>...</td>\n      <td>...</td>\n      <td>...</td>\n      <td>...</td>\n      <td>...</td>\n      <td>...</td>\n      <td>...</td>\n      <td>...</td>\n      <td>...</td>\n      <td>...</td>\n    </tr>\n    <tr>\n      <th>470</th>\n      <td>2020-07-08</td>\n      <td>English Premier League</td>\n      <td>Brighton &amp; Hove Albion</td>\n      <td>1</td>\n      <td>3</td>\n      <td>Liverpool</td>\n      <td>V</td>\n      <td>False</td>\n      <td>2019 - 2020</td>\n      <td>3</td>\n    </tr>\n    <tr>\n      <th>471</th>\n      <td>2020-07-11</td>\n      <td>English Premier League</td>\n      <td>Liverpool</td>\n      <td>1</td>\n      <td>1</td>\n      <td>Burnley</td>\n      <td>N</td>\n      <td>True</td>\n      <td>2019 - 2020</td>\n      <td>3</td>\n    </tr>\n    <tr>\n      <th>472</th>\n      <td>2020-07-15</td>\n      <td>English Premier League</td>\n      <td>Arsenal FC</td>\n      <td>2</td>\n      <td>1</td>\n      <td>Liverpool</td>\n      <td>D</td>\n      <td>False</td>\n      <td>2019 - 2020</td>\n      <td>4</td>\n    </tr>\n    <tr>\n      <th>473</th>\n      <td>2020-07-22</td>\n      <td>English Premier League</td>\n      <td>Liverpool</td>\n      <td>5</td>\n      <td>3</td>\n      <td>Chelsea</td>\n      <td>V</td>\n      <td>True</td>\n      <td>2019 - 2020</td>\n      <td>7</td>\n    </tr>\n    <tr>\n      <th>474</th>\n      <td>2020-07-26</td>\n      <td>English Premier League</td>\n      <td>Newcastle United FC</td>\n      <td>1</td>\n      <td>3</td>\n      <td>Liverpool</td>\n      <td>V</td>\n      <td>False</td>\n      <td>2019 - 2020</td>\n      <td>4</td>\n    </tr>\n  </tbody>\n</table>\n<p>475 rows × 10 columns</p>\n</div>"
     },
     "metadata": {},
     "execution_count": 4
    }
   ],
   "source": [
    "df"
   ]
  },
  {
   "cell_type": "code",
   "execution_count": 13,
   "metadata": {},
   "outputs": [
    {
     "output_type": "execute_result",
     "data": {
      "text/plain": [
       "470    English Premier League\n",
       "471    English Premier League\n",
       "472    English Premier League\n",
       "473    English Premier League\n",
       "474    English Premier League\n",
       "Name: contests, dtype: object"
      ]
     },
     "metadata": {},
     "execution_count": 13
    }
   ],
   "source": [
    "df.contests"
   ]
  },
  {
   "cell_type": "code",
   "execution_count": 55,
   "metadata": {},
   "outputs": [
    {
     "output_type": "execute_result",
     "data": {
      "text/plain": [
       "    date_match                contests                           home_team  \\\n",
       "0   2012-08-18  English Premier League            West Bromwich Albion FC    \n",
       "1   2012-08-23      UEFA Europa League  Heart of Midlothian FC - Scotland    \n",
       "2   2012-08-26  English Premier League                          Liverpool    \n",
       "3   2012-08-30      UEFA Europa League                Liverpool - England    \n",
       "4   2012-09-02  English Premier League                          Liverpool    \n",
       "5   2012-09-15  English Premier League                     AFC Sunderland    \n",
       "6   2012-09-20      UEFA Europa League       BSC Young Boys - Switzerland    \n",
       "7   2012-09-23  English Premier League                          Liverpool    \n",
       "8   2012-09-26      English League Cup            West Bromwich Albion FC    \n",
       "9   2012-09-29  English Premier League                       Norwich City    \n",
       "10  2012-10-04      UEFA Europa League                Liverpool - England    \n",
       "11  2012-10-07  English Premier League                          Liverpool    \n",
       "12  2012-10-20  English Premier League                          Liverpool    \n",
       "13  2012-10-25      UEFA Europa League                Liverpool - England    \n",
       "14  2012-10-28  English Premier League                         Everton FC    \n",
       "15  2012-10-31      English League Cup                          Liverpool    \n",
       "16  2012-11-04  English Premier League                          Liverpool    \n",
       "17  2012-11-08      UEFA Europa League         Anzhi Makhachkala - Russia    \n",
       "18  2012-11-11  English Premier League                            Chelsea    \n",
       "19  2012-11-17  English Premier League                          Liverpool    \n",
       "20  2012-11-22      UEFA Europa League                Liverpool - England    \n",
       "21  2012-11-25  English Premier League                       Swansea City    \n",
       "22  2012-11-28  English Premier League                  Tottenham Hotspur    \n",
       "23  2012-12-01  English Premier League                          Liverpool    \n",
       "24  2012-12-06      UEFA Europa League             Udinese Calcio - Italy    \n",
       "25  2012-12-09  English Premier League                    West Ham United    \n",
       "26  2012-12-15  English Premier League                          Liverpool    \n",
       "27  2012-12-22  English Premier League                          Liverpool    \n",
       "28  2012-12-26  English Premier League                      Stoke City FC    \n",
       "29  2012-12-30  English Premier League                Queens Park Rangers    \n",
       "30  2013-01-02  English Premier League                          Liverpool    \n",
       "31  2013-01-06          England FA Cup                     Mansfield Town    \n",
       "32  2013-01-13  English Premier League                  Manchester United    \n",
       "33  2013-01-19  English Premier League                          Liverpool    \n",
       "34  2013-01-27          England FA Cup                    Oldham Athletic    \n",
       "35  2013-01-30  English Premier League                         Arsenal FC    \n",
       "36  2013-02-03  English Premier League                    Manchester City    \n",
       "37  2013-02-11  English Premier League                          Liverpool    \n",
       "38  2013-02-14      UEFA Europa League      Zenit St. Petersburg - Russia    \n",
       "39  2013-02-17  English Premier League                          Liverpool    \n",
       "40  2013-02-21      UEFA Europa League                Liverpool - England    \n",
       "41  2013-03-02  English Premier League                     Wigan Athletic    \n",
       "42  2013-03-10  English Premier League                          Liverpool    \n",
       "43  2013-03-16  English Premier League                     FC Southampton    \n",
       "44  2013-03-31  English Premier League                        Aston Villa    \n",
       "45  2013-04-07  English Premier League                          Liverpool    \n",
       "46  2013-04-13  English Premier League                         Reading FC    \n",
       "47  2013-04-21  English Premier League                          Liverpool    \n",
       "48  2013-04-27  English Premier League                Newcastle United FC    \n",
       "49  2013-05-05  English Premier League                          Liverpool    \n",
       "50  2013-05-12  English Premier League                          Fulham FC    \n",
       "51  2013-05-19  English Premier League                          Liverpool    \n",
       "52  2013-07-13    Liverpool Pre-Season        Preston North End - England    \n",
       "53  2013-07-20    Liverpool Pre-Season                 Indonesia All Star    \n",
       "54  2013-07-24    Liverpool Pre-Season   Melbourne Victory FC - Australia    \n",
       "55  2013-07-28    Liverpool Pre-Season                           Thailand    \n",
       "\n",
       "    home_score  away_score   away_team liverpool_score  at_anfield  \\\n",
       "0            3           0   Liverpool               D       False   \n",
       "1            0           1   Liverpool               V       False   \n",
       "2            2           2  Manchester               N        True   \n",
       "3            1           1       Heart               N        True   \n",
       "4            0           2     Arsenal               D        True   \n",
       "5            1           1   Liverpool               N       False   \n",
       "6            3           5   Liverpool               V       False   \n",
       "7            1           2  Manchester               D        True   \n",
       "8            1           2   Liverpool               V       False   \n",
       "9            2           5   Liverpool               V       False   \n",
       "10           2           3     Udinese               D        True   \n",
       "11           0           0       Stoke               N        True   \n",
       "12           1           0     Reading               V        True   \n",
       "13           1           0       Anzhi               V        True   \n",
       "14           2           2   Liverpool               N       False   \n",
       "15           1           3     Swansea               D        True   \n",
       "16           1           1   Newcastle               N        True   \n",
       "17           1           0   Liverpool               D       False   \n",
       "18           1           1   Liverpool               N       False   \n",
       "19           3           0       Wigan               V        True   \n",
       "20           2           2         BSC               N        True   \n",
       "21           0           0   Liverpool               N       False   \n",
       "22           2           1   Liverpool               D       False   \n",
       "23           1           0          FC               V        True   \n",
       "24           0           1   Liverpool               V       False   \n",
       "25           2           3   Liverpool               V       False   \n",
       "26           1           3       Aston               D        True   \n",
       "27           4           0      Fulham               V        True   \n",
       "28           3           1   Liverpool               D       False   \n",
       "29           0           3   Liverpool               V       False   \n",
       "30           3           0         AFC               V        True   \n",
       "31           1           2   Liverpool               V       False   \n",
       "32           2           1   Liverpool               D       False   \n",
       "33           5           0     Norwich               V        True   \n",
       "34           3           2   Liverpool               D       False   \n",
       "35           2           2   Liverpool               N       False   \n",
       "36           2           2   Liverpool               N       False   \n",
       "37           0           2        West               D        True   \n",
       "38           2           0   Liverpool               D       False   \n",
       "39           5           0     Swansea               V        True   \n",
       "40           3           1       Zenit               V        True   \n",
       "41           0           4   Liverpool               V       False   \n",
       "42           3           2   Tottenham               V        True   \n",
       "43           3           1   Liverpool               D       False   \n",
       "44           1           2   Liverpool               V       False   \n",
       "45           0           0        West               N        True   \n",
       "46           0           0   Liverpool               N       False   \n",
       "47           2           2     Chelsea               N        True   \n",
       "48           0           6   Liverpool               V       False   \n",
       "49           0           0     Everton               N        True   \n",
       "50           1           3   Liverpool               V       False   \n",
       "51           1           0      Queens               V        True   \n",
       "52           0           4   Liverpool               V       False   \n",
       "53           0           2   Liverpool               V       False   \n",
       "54           0           2   Liverpool               V       False   \n",
       "55           0           3   Liverpool               V       False   \n",
       "\n",
       "         season  rest_days  \n",
       "0   2012 - 2013          6  \n",
       "1   2012 - 2013          5  \n",
       "2   2012 - 2013          3  \n",
       "3   2012 - 2013          4  \n",
       "4   2012 - 2013          3  \n",
       "5   2012 - 2013         13  \n",
       "6   2012 - 2013          5  \n",
       "7   2012 - 2013          3  \n",
       "8   2012 - 2013          3  \n",
       "9   2012 - 2013          3  \n",
       "10  2012 - 2013          5  \n",
       "11  2012 - 2013          3  \n",
       "12  2012 - 2013         13  \n",
       "13  2012 - 2013          5  \n",
       "14  2012 - 2013          3  \n",
       "15  2012 - 2013          3  \n",
       "16  2012 - 2013          4  \n",
       "17  2012 - 2013          4  \n",
       "18  2012 - 2013          3  \n",
       "19  2012 - 2013          6  \n",
       "20  2012 - 2013          5  \n",
       "21  2012 - 2013          3  \n",
       "22  2012 - 2013          3  \n",
       "23  2012 - 2013          3  \n",
       "24  2012 - 2013          5  \n",
       "25  2012 - 2013          3  \n",
       "26  2012 - 2013          6  \n",
       "27  2012 - 2013          7  \n",
       "28  2012 - 2013          4  \n",
       "29  2012 - 2013          4  \n",
       "30  2012 - 2013          3  \n",
       "31  2012 - 2013          4  \n",
       "32  2012 - 2013          7  \n",
       "33  2012 - 2013          6  \n",
       "34  2012 - 2013          8  \n",
       "35  2012 - 2013          3  \n",
       "36  2012 - 2013          4  \n",
       "37  2012 - 2013          8  \n",
       "38  2012 - 2013          3  \n",
       "39  2012 - 2013          3  \n",
       "40  2012 - 2013          4  \n",
       "41  2012 - 2013          9  \n",
       "42  2012 - 2013          8  \n",
       "43  2012 - 2013          6  \n",
       "44  2012 - 2013         15  \n",
       "45  2012 - 2013          7  \n",
       "46  2012 - 2013          6  \n",
       "47  2012 - 2013          8  \n",
       "48  2012 - 2013          6  \n",
       "49  2012 - 2013          8  \n",
       "50  2012 - 2013          7  \n",
       "51  2012 - 2013          7  \n",
       "52  2012 - 2013         55  \n",
       "53  2012 - 2013          7  \n",
       "54  2012 - 2013          4  \n",
       "55  2012 - 2013          4  "
      ],
      "text/html": "<div>\n<style scoped>\n    .dataframe tbody tr th:only-of-type {\n        vertical-align: middle;\n    }\n\n    .dataframe tbody tr th {\n        vertical-align: top;\n    }\n\n    .dataframe thead th {\n        text-align: right;\n    }\n</style>\n<table border=\"1\" class=\"dataframe\">\n  <thead>\n    <tr style=\"text-align: right;\">\n      <th></th>\n      <th>date_match</th>\n      <th>contests</th>\n      <th>home_team</th>\n      <th>home_score</th>\n      <th>away_score</th>\n      <th>away_team</th>\n      <th>liverpool_score</th>\n      <th>at_anfield</th>\n      <th>season</th>\n      <th>rest_days</th>\n    </tr>\n  </thead>\n  <tbody>\n    <tr>\n      <th>0</th>\n      <td>2012-08-18</td>\n      <td>English Premier League</td>\n      <td>West Bromwich Albion FC</td>\n      <td>3</td>\n      <td>0</td>\n      <td>Liverpool</td>\n      <td>D</td>\n      <td>False</td>\n      <td>2012 - 2013</td>\n      <td>6</td>\n    </tr>\n    <tr>\n      <th>1</th>\n      <td>2012-08-23</td>\n      <td>UEFA Europa League</td>\n      <td>Heart of Midlothian FC - Scotland</td>\n      <td>0</td>\n      <td>1</td>\n      <td>Liverpool</td>\n      <td>V</td>\n      <td>False</td>\n      <td>2012 - 2013</td>\n      <td>5</td>\n    </tr>\n    <tr>\n      <th>2</th>\n      <td>2012-08-26</td>\n      <td>English Premier League</td>\n      <td>Liverpool</td>\n      <td>2</td>\n      <td>2</td>\n      <td>Manchester</td>\n      <td>N</td>\n      <td>True</td>\n      <td>2012 - 2013</td>\n      <td>3</td>\n    </tr>\n    <tr>\n      <th>3</th>\n      <td>2012-08-30</td>\n      <td>UEFA Europa League</td>\n      <td>Liverpool - England</td>\n      <td>1</td>\n      <td>1</td>\n      <td>Heart</td>\n      <td>N</td>\n      <td>True</td>\n      <td>2012 - 2013</td>\n      <td>4</td>\n    </tr>\n    <tr>\n      <th>4</th>\n      <td>2012-09-02</td>\n      <td>English Premier League</td>\n      <td>Liverpool</td>\n      <td>0</td>\n      <td>2</td>\n      <td>Arsenal</td>\n      <td>D</td>\n      <td>True</td>\n      <td>2012 - 2013</td>\n      <td>3</td>\n    </tr>\n    <tr>\n      <th>5</th>\n      <td>2012-09-15</td>\n      <td>English Premier League</td>\n      <td>AFC Sunderland</td>\n      <td>1</td>\n      <td>1</td>\n      <td>Liverpool</td>\n      <td>N</td>\n      <td>False</td>\n      <td>2012 - 2013</td>\n      <td>13</td>\n    </tr>\n    <tr>\n      <th>6</th>\n      <td>2012-09-20</td>\n      <td>UEFA Europa League</td>\n      <td>BSC Young Boys - Switzerland</td>\n      <td>3</td>\n      <td>5</td>\n      <td>Liverpool</td>\n      <td>V</td>\n      <td>False</td>\n      <td>2012 - 2013</td>\n      <td>5</td>\n    </tr>\n    <tr>\n      <th>7</th>\n      <td>2012-09-23</td>\n      <td>English Premier League</td>\n      <td>Liverpool</td>\n      <td>1</td>\n      <td>2</td>\n      <td>Manchester</td>\n      <td>D</td>\n      <td>True</td>\n      <td>2012 - 2013</td>\n      <td>3</td>\n    </tr>\n    <tr>\n      <th>8</th>\n      <td>2012-09-26</td>\n      <td>English League Cup</td>\n      <td>West Bromwich Albion FC</td>\n      <td>1</td>\n      <td>2</td>\n      <td>Liverpool</td>\n      <td>V</td>\n      <td>False</td>\n      <td>2012 - 2013</td>\n      <td>3</td>\n    </tr>\n    <tr>\n      <th>9</th>\n      <td>2012-09-29</td>\n      <td>English Premier League</td>\n      <td>Norwich City</td>\n      <td>2</td>\n      <td>5</td>\n      <td>Liverpool</td>\n      <td>V</td>\n      <td>False</td>\n      <td>2012 - 2013</td>\n      <td>3</td>\n    </tr>\n    <tr>\n      <th>10</th>\n      <td>2012-10-04</td>\n      <td>UEFA Europa League</td>\n      <td>Liverpool - England</td>\n      <td>2</td>\n      <td>3</td>\n      <td>Udinese</td>\n      <td>D</td>\n      <td>True</td>\n      <td>2012 - 2013</td>\n      <td>5</td>\n    </tr>\n    <tr>\n      <th>11</th>\n      <td>2012-10-07</td>\n      <td>English Premier League</td>\n      <td>Liverpool</td>\n      <td>0</td>\n      <td>0</td>\n      <td>Stoke</td>\n      <td>N</td>\n      <td>True</td>\n      <td>2012 - 2013</td>\n      <td>3</td>\n    </tr>\n    <tr>\n      <th>12</th>\n      <td>2012-10-20</td>\n      <td>English Premier League</td>\n      <td>Liverpool</td>\n      <td>1</td>\n      <td>0</td>\n      <td>Reading</td>\n      <td>V</td>\n      <td>True</td>\n      <td>2012 - 2013</td>\n      <td>13</td>\n    </tr>\n    <tr>\n      <th>13</th>\n      <td>2012-10-25</td>\n      <td>UEFA Europa League</td>\n      <td>Liverpool - England</td>\n      <td>1</td>\n      <td>0</td>\n      <td>Anzhi</td>\n      <td>V</td>\n      <td>True</td>\n      <td>2012 - 2013</td>\n      <td>5</td>\n    </tr>\n    <tr>\n      <th>14</th>\n      <td>2012-10-28</td>\n      <td>English Premier League</td>\n      <td>Everton FC</td>\n      <td>2</td>\n      <td>2</td>\n      <td>Liverpool</td>\n      <td>N</td>\n      <td>False</td>\n      <td>2012 - 2013</td>\n      <td>3</td>\n    </tr>\n    <tr>\n      <th>15</th>\n      <td>2012-10-31</td>\n      <td>English League Cup</td>\n      <td>Liverpool</td>\n      <td>1</td>\n      <td>3</td>\n      <td>Swansea</td>\n      <td>D</td>\n      <td>True</td>\n      <td>2012 - 2013</td>\n      <td>3</td>\n    </tr>\n    <tr>\n      <th>16</th>\n      <td>2012-11-04</td>\n      <td>English Premier League</td>\n      <td>Liverpool</td>\n      <td>1</td>\n      <td>1</td>\n      <td>Newcastle</td>\n      <td>N</td>\n      <td>True</td>\n      <td>2012 - 2013</td>\n      <td>4</td>\n    </tr>\n    <tr>\n      <th>17</th>\n      <td>2012-11-08</td>\n      <td>UEFA Europa League</td>\n      <td>Anzhi Makhachkala - Russia</td>\n      <td>1</td>\n      <td>0</td>\n      <td>Liverpool</td>\n      <td>D</td>\n      <td>False</td>\n      <td>2012 - 2013</td>\n      <td>4</td>\n    </tr>\n    <tr>\n      <th>18</th>\n      <td>2012-11-11</td>\n      <td>English Premier League</td>\n      <td>Chelsea</td>\n      <td>1</td>\n      <td>1</td>\n      <td>Liverpool</td>\n      <td>N</td>\n      <td>False</td>\n      <td>2012 - 2013</td>\n      <td>3</td>\n    </tr>\n    <tr>\n      <th>19</th>\n      <td>2012-11-17</td>\n      <td>English Premier League</td>\n      <td>Liverpool</td>\n      <td>3</td>\n      <td>0</td>\n      <td>Wigan</td>\n      <td>V</td>\n      <td>True</td>\n      <td>2012 - 2013</td>\n      <td>6</td>\n    </tr>\n    <tr>\n      <th>20</th>\n      <td>2012-11-22</td>\n      <td>UEFA Europa League</td>\n      <td>Liverpool - England</td>\n      <td>2</td>\n      <td>2</td>\n      <td>BSC</td>\n      <td>N</td>\n      <td>True</td>\n      <td>2012 - 2013</td>\n      <td>5</td>\n    </tr>\n    <tr>\n      <th>21</th>\n      <td>2012-11-25</td>\n      <td>English Premier League</td>\n      <td>Swansea City</td>\n      <td>0</td>\n      <td>0</td>\n      <td>Liverpool</td>\n      <td>N</td>\n      <td>False</td>\n      <td>2012 - 2013</td>\n      <td>3</td>\n    </tr>\n    <tr>\n      <th>22</th>\n      <td>2012-11-28</td>\n      <td>English Premier League</td>\n      <td>Tottenham Hotspur</td>\n      <td>2</td>\n      <td>1</td>\n      <td>Liverpool</td>\n      <td>D</td>\n      <td>False</td>\n      <td>2012 - 2013</td>\n      <td>3</td>\n    </tr>\n    <tr>\n      <th>23</th>\n      <td>2012-12-01</td>\n      <td>English Premier League</td>\n      <td>Liverpool</td>\n      <td>1</td>\n      <td>0</td>\n      <td>FC</td>\n      <td>V</td>\n      <td>True</td>\n      <td>2012 - 2013</td>\n      <td>3</td>\n    </tr>\n    <tr>\n      <th>24</th>\n      <td>2012-12-06</td>\n      <td>UEFA Europa League</td>\n      <td>Udinese Calcio - Italy</td>\n      <td>0</td>\n      <td>1</td>\n      <td>Liverpool</td>\n      <td>V</td>\n      <td>False</td>\n      <td>2012 - 2013</td>\n      <td>5</td>\n    </tr>\n    <tr>\n      <th>25</th>\n      <td>2012-12-09</td>\n      <td>English Premier League</td>\n      <td>West Ham United</td>\n      <td>2</td>\n      <td>3</td>\n      <td>Liverpool</td>\n      <td>V</td>\n      <td>False</td>\n      <td>2012 - 2013</td>\n      <td>3</td>\n    </tr>\n    <tr>\n      <th>26</th>\n      <td>2012-12-15</td>\n      <td>English Premier League</td>\n      <td>Liverpool</td>\n      <td>1</td>\n      <td>3</td>\n      <td>Aston</td>\n      <td>D</td>\n      <td>True</td>\n      <td>2012 - 2013</td>\n      <td>6</td>\n    </tr>\n    <tr>\n      <th>27</th>\n      <td>2012-12-22</td>\n      <td>English Premier League</td>\n      <td>Liverpool</td>\n      <td>4</td>\n      <td>0</td>\n      <td>Fulham</td>\n      <td>V</td>\n      <td>True</td>\n      <td>2012 - 2013</td>\n      <td>7</td>\n    </tr>\n    <tr>\n      <th>28</th>\n      <td>2012-12-26</td>\n      <td>English Premier League</td>\n      <td>Stoke City FC</td>\n      <td>3</td>\n      <td>1</td>\n      <td>Liverpool</td>\n      <td>D</td>\n      <td>False</td>\n      <td>2012 - 2013</td>\n      <td>4</td>\n    </tr>\n    <tr>\n      <th>29</th>\n      <td>2012-12-30</td>\n      <td>English Premier League</td>\n      <td>Queens Park Rangers</td>\n      <td>0</td>\n      <td>3</td>\n      <td>Liverpool</td>\n      <td>V</td>\n      <td>False</td>\n      <td>2012 - 2013</td>\n      <td>4</td>\n    </tr>\n    <tr>\n      <th>30</th>\n      <td>2013-01-02</td>\n      <td>English Premier League</td>\n      <td>Liverpool</td>\n      <td>3</td>\n      <td>0</td>\n      <td>AFC</td>\n      <td>V</td>\n      <td>True</td>\n      <td>2012 - 2013</td>\n      <td>3</td>\n    </tr>\n    <tr>\n      <th>31</th>\n      <td>2013-01-06</td>\n      <td>England FA Cup</td>\n      <td>Mansfield Town</td>\n      <td>1</td>\n      <td>2</td>\n      <td>Liverpool</td>\n      <td>V</td>\n      <td>False</td>\n      <td>2012 - 2013</td>\n      <td>4</td>\n    </tr>\n    <tr>\n      <th>32</th>\n      <td>2013-01-13</td>\n      <td>English Premier League</td>\n      <td>Manchester United</td>\n      <td>2</td>\n      <td>1</td>\n      <td>Liverpool</td>\n      <td>D</td>\n      <td>False</td>\n      <td>2012 - 2013</td>\n      <td>7</td>\n    </tr>\n    <tr>\n      <th>33</th>\n      <td>2013-01-19</td>\n      <td>English Premier League</td>\n      <td>Liverpool</td>\n      <td>5</td>\n      <td>0</td>\n      <td>Norwich</td>\n      <td>V</td>\n      <td>True</td>\n      <td>2012 - 2013</td>\n      <td>6</td>\n    </tr>\n    <tr>\n      <th>34</th>\n      <td>2013-01-27</td>\n      <td>England FA Cup</td>\n      <td>Oldham Athletic</td>\n      <td>3</td>\n      <td>2</td>\n      <td>Liverpool</td>\n      <td>D</td>\n      <td>False</td>\n      <td>2012 - 2013</td>\n      <td>8</td>\n    </tr>\n    <tr>\n      <th>35</th>\n      <td>2013-01-30</td>\n      <td>English Premier League</td>\n      <td>Arsenal FC</td>\n      <td>2</td>\n      <td>2</td>\n      <td>Liverpool</td>\n      <td>N</td>\n      <td>False</td>\n      <td>2012 - 2013</td>\n      <td>3</td>\n    </tr>\n    <tr>\n      <th>36</th>\n      <td>2013-02-03</td>\n      <td>English Premier League</td>\n      <td>Manchester City</td>\n      <td>2</td>\n      <td>2</td>\n      <td>Liverpool</td>\n      <td>N</td>\n      <td>False</td>\n      <td>2012 - 2013</td>\n      <td>4</td>\n    </tr>\n    <tr>\n      <th>37</th>\n      <td>2013-02-11</td>\n      <td>English Premier League</td>\n      <td>Liverpool</td>\n      <td>0</td>\n      <td>2</td>\n      <td>West</td>\n      <td>D</td>\n      <td>True</td>\n      <td>2012 - 2013</td>\n      <td>8</td>\n    </tr>\n    <tr>\n      <th>38</th>\n      <td>2013-02-14</td>\n      <td>UEFA Europa League</td>\n      <td>Zenit St. Petersburg - Russia</td>\n      <td>2</td>\n      <td>0</td>\n      <td>Liverpool</td>\n      <td>D</td>\n      <td>False</td>\n      <td>2012 - 2013</td>\n      <td>3</td>\n    </tr>\n    <tr>\n      <th>39</th>\n      <td>2013-02-17</td>\n      <td>English Premier League</td>\n      <td>Liverpool</td>\n      <td>5</td>\n      <td>0</td>\n      <td>Swansea</td>\n      <td>V</td>\n      <td>True</td>\n      <td>2012 - 2013</td>\n      <td>3</td>\n    </tr>\n    <tr>\n      <th>40</th>\n      <td>2013-02-21</td>\n      <td>UEFA Europa League</td>\n      <td>Liverpool - England</td>\n      <td>3</td>\n      <td>1</td>\n      <td>Zenit</td>\n      <td>V</td>\n      <td>True</td>\n      <td>2012 - 2013</td>\n      <td>4</td>\n    </tr>\n    <tr>\n      <th>41</th>\n      <td>2013-03-02</td>\n      <td>English Premier League</td>\n      <td>Wigan Athletic</td>\n      <td>0</td>\n      <td>4</td>\n      <td>Liverpool</td>\n      <td>V</td>\n      <td>False</td>\n      <td>2012 - 2013</td>\n      <td>9</td>\n    </tr>\n    <tr>\n      <th>42</th>\n      <td>2013-03-10</td>\n      <td>English Premier League</td>\n      <td>Liverpool</td>\n      <td>3</td>\n      <td>2</td>\n      <td>Tottenham</td>\n      <td>V</td>\n      <td>True</td>\n      <td>2012 - 2013</td>\n      <td>8</td>\n    </tr>\n    <tr>\n      <th>43</th>\n      <td>2013-03-16</td>\n      <td>English Premier League</td>\n      <td>FC Southampton</td>\n      <td>3</td>\n      <td>1</td>\n      <td>Liverpool</td>\n      <td>D</td>\n      <td>False</td>\n      <td>2012 - 2013</td>\n      <td>6</td>\n    </tr>\n    <tr>\n      <th>44</th>\n      <td>2013-03-31</td>\n      <td>English Premier League</td>\n      <td>Aston Villa</td>\n      <td>1</td>\n      <td>2</td>\n      <td>Liverpool</td>\n      <td>V</td>\n      <td>False</td>\n      <td>2012 - 2013</td>\n      <td>15</td>\n    </tr>\n    <tr>\n      <th>45</th>\n      <td>2013-04-07</td>\n      <td>English Premier League</td>\n      <td>Liverpool</td>\n      <td>0</td>\n      <td>0</td>\n      <td>West</td>\n      <td>N</td>\n      <td>True</td>\n      <td>2012 - 2013</td>\n      <td>7</td>\n    </tr>\n    <tr>\n      <th>46</th>\n      <td>2013-04-13</td>\n      <td>English Premier League</td>\n      <td>Reading FC</td>\n      <td>0</td>\n      <td>0</td>\n      <td>Liverpool</td>\n      <td>N</td>\n      <td>False</td>\n      <td>2012 - 2013</td>\n      <td>6</td>\n    </tr>\n    <tr>\n      <th>47</th>\n      <td>2013-04-21</td>\n      <td>English Premier League</td>\n      <td>Liverpool</td>\n      <td>2</td>\n      <td>2</td>\n      <td>Chelsea</td>\n      <td>N</td>\n      <td>True</td>\n      <td>2012 - 2013</td>\n      <td>8</td>\n    </tr>\n    <tr>\n      <th>48</th>\n      <td>2013-04-27</td>\n      <td>English Premier League</td>\n      <td>Newcastle United FC</td>\n      <td>0</td>\n      <td>6</td>\n      <td>Liverpool</td>\n      <td>V</td>\n      <td>False</td>\n      <td>2012 - 2013</td>\n      <td>6</td>\n    </tr>\n    <tr>\n      <th>49</th>\n      <td>2013-05-05</td>\n      <td>English Premier League</td>\n      <td>Liverpool</td>\n      <td>0</td>\n      <td>0</td>\n      <td>Everton</td>\n      <td>N</td>\n      <td>True</td>\n      <td>2012 - 2013</td>\n      <td>8</td>\n    </tr>\n    <tr>\n      <th>50</th>\n      <td>2013-05-12</td>\n      <td>English Premier League</td>\n      <td>Fulham FC</td>\n      <td>1</td>\n      <td>3</td>\n      <td>Liverpool</td>\n      <td>V</td>\n      <td>False</td>\n      <td>2012 - 2013</td>\n      <td>7</td>\n    </tr>\n    <tr>\n      <th>51</th>\n      <td>2013-05-19</td>\n      <td>English Premier League</td>\n      <td>Liverpool</td>\n      <td>1</td>\n      <td>0</td>\n      <td>Queens</td>\n      <td>V</td>\n      <td>True</td>\n      <td>2012 - 2013</td>\n      <td>7</td>\n    </tr>\n    <tr>\n      <th>52</th>\n      <td>2013-07-13</td>\n      <td>Liverpool Pre-Season</td>\n      <td>Preston North End - England</td>\n      <td>0</td>\n      <td>4</td>\n      <td>Liverpool</td>\n      <td>V</td>\n      <td>False</td>\n      <td>2012 - 2013</td>\n      <td>55</td>\n    </tr>\n    <tr>\n      <th>53</th>\n      <td>2013-07-20</td>\n      <td>Liverpool Pre-Season</td>\n      <td>Indonesia All Star</td>\n      <td>0</td>\n      <td>2</td>\n      <td>Liverpool</td>\n      <td>V</td>\n      <td>False</td>\n      <td>2012 - 2013</td>\n      <td>7</td>\n    </tr>\n    <tr>\n      <th>54</th>\n      <td>2013-07-24</td>\n      <td>Liverpool Pre-Season</td>\n      <td>Melbourne Victory FC - Australia</td>\n      <td>0</td>\n      <td>2</td>\n      <td>Liverpool</td>\n      <td>V</td>\n      <td>False</td>\n      <td>2012 - 2013</td>\n      <td>4</td>\n    </tr>\n    <tr>\n      <th>55</th>\n      <td>2013-07-28</td>\n      <td>Liverpool Pre-Season</td>\n      <td>Thailand</td>\n      <td>0</td>\n      <td>3</td>\n      <td>Liverpool</td>\n      <td>V</td>\n      <td>False</td>\n      <td>2012 - 2013</td>\n      <td>4</td>\n    </tr>\n  </tbody>\n</table>\n</div>"
     },
     "metadata": {},
     "execution_count": 55
    }
   ],
   "source": [
    "df[(df.season) == '2012 - 2013']"
   ]
  },
  {
   "cell_type": "code",
   "execution_count": 15,
   "metadata": {},
   "outputs": [
    {
     "output_type": "execute_result",
     "data": {
      "text/plain": [
       "     date_match                contests                           home_team  \\\n",
       "0    2012-08-18  English Premier League            West Bromwich Albion FC    \n",
       "1    2012-08-23      UEFA Europa League  Heart of Midlothian FC - Scotland    \n",
       "2    2012-08-26  English Premier League                          Liverpool    \n",
       "3    2012-08-30      UEFA Europa League                Liverpool - England    \n",
       "4    2012-09-02  English Premier League                          Liverpool    \n",
       "..          ...                     ...                                 ...   \n",
       "470  2020-07-08  English Premier League             Brighton & Hove Albion    \n",
       "471  2020-07-11  English Premier League                          Liverpool    \n",
       "472  2020-07-15  English Premier League                         Arsenal FC    \n",
       "473  2020-07-22  English Premier League                          Liverpool    \n",
       "474  2020-07-26  English Premier League                Newcastle United FC    \n",
       "\n",
       "     home_score  away_score   away_team liverpool_score  at_anfield  \\\n",
       "0             3           0   Liverpool               D       False   \n",
       "1             0           1   Liverpool               V       False   \n",
       "2             2           2  Manchester               N        True   \n",
       "3             1           1       Heart               N        True   \n",
       "4             0           2     Arsenal               D        True   \n",
       "..          ...         ...         ...             ...         ...   \n",
       "470           1           3   Liverpool               V       False   \n",
       "471           1           1     Burnley               N        True   \n",
       "472           2           1   Liverpool               D       False   \n",
       "473           5           3     Chelsea               V        True   \n",
       "474           1           3   Liverpool               V       False   \n",
       "\n",
       "          season  rest_days  \n",
       "0    2012 - 2013          6  \n",
       "1    2012 - 2013          5  \n",
       "2    2012 - 2013          3  \n",
       "3    2012 - 2013          4  \n",
       "4    2012 - 2013          3  \n",
       "..           ...        ...  \n",
       "470  2019 - 2020          3  \n",
       "471  2019 - 2020          3  \n",
       "472  2019 - 2020          4  \n",
       "473  2019 - 2020          7  \n",
       "474  2019 - 2020          4  \n",
       "\n",
       "[372 rows x 10 columns]"
      ],
      "text/html": "<div>\n<style scoped>\n    .dataframe tbody tr th:only-of-type {\n        vertical-align: middle;\n    }\n\n    .dataframe tbody tr th {\n        vertical-align: top;\n    }\n\n    .dataframe thead th {\n        text-align: right;\n    }\n</style>\n<table border=\"1\" class=\"dataframe\">\n  <thead>\n    <tr style=\"text-align: right;\">\n      <th></th>\n      <th>date_match</th>\n      <th>contests</th>\n      <th>home_team</th>\n      <th>home_score</th>\n      <th>away_score</th>\n      <th>away_team</th>\n      <th>liverpool_score</th>\n      <th>at_anfield</th>\n      <th>season</th>\n      <th>rest_days</th>\n    </tr>\n  </thead>\n  <tbody>\n    <tr>\n      <th>0</th>\n      <td>2012-08-18</td>\n      <td>English Premier League</td>\n      <td>West Bromwich Albion FC</td>\n      <td>3</td>\n      <td>0</td>\n      <td>Liverpool</td>\n      <td>D</td>\n      <td>False</td>\n      <td>2012 - 2013</td>\n      <td>6</td>\n    </tr>\n    <tr>\n      <th>1</th>\n      <td>2012-08-23</td>\n      <td>UEFA Europa League</td>\n      <td>Heart of Midlothian FC - Scotland</td>\n      <td>0</td>\n      <td>1</td>\n      <td>Liverpool</td>\n      <td>V</td>\n      <td>False</td>\n      <td>2012 - 2013</td>\n      <td>5</td>\n    </tr>\n    <tr>\n      <th>2</th>\n      <td>2012-08-26</td>\n      <td>English Premier League</td>\n      <td>Liverpool</td>\n      <td>2</td>\n      <td>2</td>\n      <td>Manchester</td>\n      <td>N</td>\n      <td>True</td>\n      <td>2012 - 2013</td>\n      <td>3</td>\n    </tr>\n    <tr>\n      <th>3</th>\n      <td>2012-08-30</td>\n      <td>UEFA Europa League</td>\n      <td>Liverpool - England</td>\n      <td>1</td>\n      <td>1</td>\n      <td>Heart</td>\n      <td>N</td>\n      <td>True</td>\n      <td>2012 - 2013</td>\n      <td>4</td>\n    </tr>\n    <tr>\n      <th>4</th>\n      <td>2012-09-02</td>\n      <td>English Premier League</td>\n      <td>Liverpool</td>\n      <td>0</td>\n      <td>2</td>\n      <td>Arsenal</td>\n      <td>D</td>\n      <td>True</td>\n      <td>2012 - 2013</td>\n      <td>3</td>\n    </tr>\n    <tr>\n      <th>...</th>\n      <td>...</td>\n      <td>...</td>\n      <td>...</td>\n      <td>...</td>\n      <td>...</td>\n      <td>...</td>\n      <td>...</td>\n      <td>...</td>\n      <td>...</td>\n      <td>...</td>\n    </tr>\n    <tr>\n      <th>470</th>\n      <td>2020-07-08</td>\n      <td>English Premier League</td>\n      <td>Brighton &amp; Hove Albion</td>\n      <td>1</td>\n      <td>3</td>\n      <td>Liverpool</td>\n      <td>V</td>\n      <td>False</td>\n      <td>2019 - 2020</td>\n      <td>3</td>\n    </tr>\n    <tr>\n      <th>471</th>\n      <td>2020-07-11</td>\n      <td>English Premier League</td>\n      <td>Liverpool</td>\n      <td>1</td>\n      <td>1</td>\n      <td>Burnley</td>\n      <td>N</td>\n      <td>True</td>\n      <td>2019 - 2020</td>\n      <td>3</td>\n    </tr>\n    <tr>\n      <th>472</th>\n      <td>2020-07-15</td>\n      <td>English Premier League</td>\n      <td>Arsenal FC</td>\n      <td>2</td>\n      <td>1</td>\n      <td>Liverpool</td>\n      <td>D</td>\n      <td>False</td>\n      <td>2019 - 2020</td>\n      <td>4</td>\n    </tr>\n    <tr>\n      <th>473</th>\n      <td>2020-07-22</td>\n      <td>English Premier League</td>\n      <td>Liverpool</td>\n      <td>5</td>\n      <td>3</td>\n      <td>Chelsea</td>\n      <td>V</td>\n      <td>True</td>\n      <td>2019 - 2020</td>\n      <td>7</td>\n    </tr>\n    <tr>\n      <th>474</th>\n      <td>2020-07-26</td>\n      <td>English Premier League</td>\n      <td>Newcastle United FC</td>\n      <td>1</td>\n      <td>3</td>\n      <td>Liverpool</td>\n      <td>V</td>\n      <td>False</td>\n      <td>2019 - 2020</td>\n      <td>4</td>\n    </tr>\n  </tbody>\n</table>\n<p>372 rows × 10 columns</p>\n</div>"
     },
     "metadata": {},
     "execution_count": 15
    }
   ],
   "source": [
    "df[(df.contests == 'English Premier League') | (df.contests == 'UEFA Europa League') | (df.contests == 'UEFA Champions League')]"
   ]
  },
  {
   "cell_type": "code",
   "execution_count": 62,
   "metadata": {},
   "outputs": [],
   "source": [
    "def filter_season_file (nomfichier, season) :\n",
    "    dforigin = pd.read_csv(nomfichier+'.csv', sep =',')\n",
    "    dffilteredseason = dforigin[dforigin['season'] == season]\n",
    "    dffilteredseason.to_csv('Liverpool_data_season_'+ season.replace(\" \",\"\") +'.csv', header = True, index = False)"
   ]
  },
  {
   "cell_type": "code",
   "execution_count": 47,
   "metadata": {},
   "outputs": [],
   "source": [
    "def filter_contests_file (nomfichier, *competitions) :\n",
    "    dforigin = pd.read_csv(nomfichier+'.csv', sep =',')\n",
    "    return dforigin[dforigin['contests'].isin(competitions)]"
   ]
  },
  {
   "cell_type": "code",
   "execution_count": 63,
   "metadata": {},
   "outputs": [],
   "source": [
    "filter_season_file(\"goalzz_archive_from_2012\", \"2012 - 2013\")"
   ]
  },
  {
   "cell_type": "code",
   "execution_count": 48,
   "metadata": {},
   "outputs": [
    {
     "output_type": "execute_result",
     "data": {
      "text/plain": [
       "     date_match                contests                           home_team  \\\n",
       "0    2012-08-18  English Premier League            West Bromwich Albion FC    \n",
       "1    2012-08-23      UEFA Europa League  Heart of Midlothian FC - Scotland    \n",
       "2    2012-08-26  English Premier League                          Liverpool    \n",
       "3    2012-08-30      UEFA Europa League                Liverpool - England    \n",
       "4    2012-09-02  English Premier League                          Liverpool    \n",
       "..          ...                     ...                                 ...   \n",
       "470  2020-07-08  English Premier League             Brighton & Hove Albion    \n",
       "471  2020-07-11  English Premier League                          Liverpool    \n",
       "472  2020-07-15  English Premier League                         Arsenal FC    \n",
       "473  2020-07-22  English Premier League                          Liverpool    \n",
       "474  2020-07-26  English Premier League                Newcastle United FC    \n",
       "\n",
       "     home_score  away_score   away_team liverpool_score  at_anfield  \\\n",
       "0             3           0   Liverpool               D       False   \n",
       "1             0           1   Liverpool               V       False   \n",
       "2             2           2  Manchester               N        True   \n",
       "3             1           1       Heart               N        True   \n",
       "4             0           2     Arsenal               D        True   \n",
       "..          ...         ...         ...             ...         ...   \n",
       "470           1           3   Liverpool               V       False   \n",
       "471           1           1     Burnley               N        True   \n",
       "472           2           1   Liverpool               D       False   \n",
       "473           5           3     Chelsea               V        True   \n",
       "474           1           3   Liverpool               V       False   \n",
       "\n",
       "          season  rest_days  \n",
       "0    2012 - 2013          6  \n",
       "1    2012 - 2013          5  \n",
       "2    2012 - 2013          3  \n",
       "3    2012 - 2013          4  \n",
       "4    2012 - 2013          3  \n",
       "..           ...        ...  \n",
       "470  2019 - 2020          3  \n",
       "471  2019 - 2020          3  \n",
       "472  2019 - 2020          4  \n",
       "473  2019 - 2020          7  \n",
       "474  2019 - 2020          4  \n",
       "\n",
       "[372 rows x 10 columns]"
      ],
      "text/html": "<div>\n<style scoped>\n    .dataframe tbody tr th:only-of-type {\n        vertical-align: middle;\n    }\n\n    .dataframe tbody tr th {\n        vertical-align: top;\n    }\n\n    .dataframe thead th {\n        text-align: right;\n    }\n</style>\n<table border=\"1\" class=\"dataframe\">\n  <thead>\n    <tr style=\"text-align: right;\">\n      <th></th>\n      <th>date_match</th>\n      <th>contests</th>\n      <th>home_team</th>\n      <th>home_score</th>\n      <th>away_score</th>\n      <th>away_team</th>\n      <th>liverpool_score</th>\n      <th>at_anfield</th>\n      <th>season</th>\n      <th>rest_days</th>\n    </tr>\n  </thead>\n  <tbody>\n    <tr>\n      <th>0</th>\n      <td>2012-08-18</td>\n      <td>English Premier League</td>\n      <td>West Bromwich Albion FC</td>\n      <td>3</td>\n      <td>0</td>\n      <td>Liverpool</td>\n      <td>D</td>\n      <td>False</td>\n      <td>2012 - 2013</td>\n      <td>6</td>\n    </tr>\n    <tr>\n      <th>1</th>\n      <td>2012-08-23</td>\n      <td>UEFA Europa League</td>\n      <td>Heart of Midlothian FC - Scotland</td>\n      <td>0</td>\n      <td>1</td>\n      <td>Liverpool</td>\n      <td>V</td>\n      <td>False</td>\n      <td>2012 - 2013</td>\n      <td>5</td>\n    </tr>\n    <tr>\n      <th>2</th>\n      <td>2012-08-26</td>\n      <td>English Premier League</td>\n      <td>Liverpool</td>\n      <td>2</td>\n      <td>2</td>\n      <td>Manchester</td>\n      <td>N</td>\n      <td>True</td>\n      <td>2012 - 2013</td>\n      <td>3</td>\n    </tr>\n    <tr>\n      <th>3</th>\n      <td>2012-08-30</td>\n      <td>UEFA Europa League</td>\n      <td>Liverpool - England</td>\n      <td>1</td>\n      <td>1</td>\n      <td>Heart</td>\n      <td>N</td>\n      <td>True</td>\n      <td>2012 - 2013</td>\n      <td>4</td>\n    </tr>\n    <tr>\n      <th>4</th>\n      <td>2012-09-02</td>\n      <td>English Premier League</td>\n      <td>Liverpool</td>\n      <td>0</td>\n      <td>2</td>\n      <td>Arsenal</td>\n      <td>D</td>\n      <td>True</td>\n      <td>2012 - 2013</td>\n      <td>3</td>\n    </tr>\n    <tr>\n      <th>...</th>\n      <td>...</td>\n      <td>...</td>\n      <td>...</td>\n      <td>...</td>\n      <td>...</td>\n      <td>...</td>\n      <td>...</td>\n      <td>...</td>\n      <td>...</td>\n      <td>...</td>\n    </tr>\n    <tr>\n      <th>470</th>\n      <td>2020-07-08</td>\n      <td>English Premier League</td>\n      <td>Brighton &amp; Hove Albion</td>\n      <td>1</td>\n      <td>3</td>\n      <td>Liverpool</td>\n      <td>V</td>\n      <td>False</td>\n      <td>2019 - 2020</td>\n      <td>3</td>\n    </tr>\n    <tr>\n      <th>471</th>\n      <td>2020-07-11</td>\n      <td>English Premier League</td>\n      <td>Liverpool</td>\n      <td>1</td>\n      <td>1</td>\n      <td>Burnley</td>\n      <td>N</td>\n      <td>True</td>\n      <td>2019 - 2020</td>\n      <td>3</td>\n    </tr>\n    <tr>\n      <th>472</th>\n      <td>2020-07-15</td>\n      <td>English Premier League</td>\n      <td>Arsenal FC</td>\n      <td>2</td>\n      <td>1</td>\n      <td>Liverpool</td>\n      <td>D</td>\n      <td>False</td>\n      <td>2019 - 2020</td>\n      <td>4</td>\n    </tr>\n    <tr>\n      <th>473</th>\n      <td>2020-07-22</td>\n      <td>English Premier League</td>\n      <td>Liverpool</td>\n      <td>5</td>\n      <td>3</td>\n      <td>Chelsea</td>\n      <td>V</td>\n      <td>True</td>\n      <td>2019 - 2020</td>\n      <td>7</td>\n    </tr>\n    <tr>\n      <th>474</th>\n      <td>2020-07-26</td>\n      <td>English Premier League</td>\n      <td>Newcastle United FC</td>\n      <td>1</td>\n      <td>3</td>\n      <td>Liverpool</td>\n      <td>V</td>\n      <td>False</td>\n      <td>2019 - 2020</td>\n      <td>4</td>\n    </tr>\n  </tbody>\n</table>\n<p>372 rows × 10 columns</p>\n</div>"
     },
     "metadata": {},
     "execution_count": 48
    }
   ],
   "source": [
    "filter_contests_file(\"goalzz_archive_from_2012\", \"UEFA Europa League\",\"English Premier League\",\"UEFA Champions League\")"
   ]
  },
  {
   "cell_type": "code",
   "execution_count": 56,
   "metadata": {},
   "outputs": [
    {
     "output_type": "execute_result",
     "data": {
      "text/plain": [
       "array(['English Premier League', 'UEFA Europa League',\n",
       "       'English League Cup', 'England FA Cup', 'Liverpool Pre-Season',\n",
       "       'Friendlies - Clubs', 'International Champions Cup',\n",
       "       'Borussia Dortmund Pre-Season', 'UEFA Champions League',\n",
       "       'Premier League Asia Trophy', 'Audi Cup',\n",
       "       'FIFA Club World Championship'], dtype=object)"
      ]
     },
     "metadata": {},
     "execution_count": 56
    }
   ],
   "source": [
    "df['contests'].unique()"
   ]
  },
  {
   "cell_type": "code",
   "execution_count": 67,
   "metadata": {},
   "outputs": [
    {
     "output_type": "execute_result",
     "data": {
      "text/plain": [
       "'EnglishPremierLeague'"
      ]
     },
     "metadata": {},
     "execution_count": 67
    }
   ],
   "source": [
    "df['contests'].unique()[0].replace(\" \",\"\")"
   ]
  },
  {
   "cell_type": "code",
   "execution_count": 75,
   "metadata": {},
   "outputs": [
    {
     "output_type": "execute_result",
     "data": {
      "text/plain": [
       "    date_match                contests                           home_team  \\\n",
       "0   2012-08-18  English Premier League            West Bromwich Albion FC    \n",
       "1   2012-08-23      UEFA Europa League  Heart of Midlothian FC - Scotland    \n",
       "2   2012-08-26  English Premier League                          Liverpool    \n",
       "3   2012-08-30      UEFA Europa League                Liverpool - England    \n",
       "4   2012-09-02  English Premier League                          Liverpool    \n",
       "5   2012-09-15  English Premier League                     AFC Sunderland    \n",
       "6   2012-09-20      UEFA Europa League       BSC Young Boys - Switzerland    \n",
       "7   2012-09-23  English Premier League                          Liverpool    \n",
       "8   2012-09-26      English League Cup            West Bromwich Albion FC    \n",
       "9   2012-09-29  English Premier League                       Norwich City    \n",
       "10  2012-10-04      UEFA Europa League                Liverpool - England    \n",
       "11  2012-10-07  English Premier League                          Liverpool    \n",
       "12  2012-10-20  English Premier League                          Liverpool    \n",
       "13  2012-10-25      UEFA Europa League                Liverpool - England    \n",
       "14  2012-10-28  English Premier League                         Everton FC    \n",
       "15  2012-10-31      English League Cup                          Liverpool    \n",
       "16  2012-11-04  English Premier League                          Liverpool    \n",
       "17  2012-11-08      UEFA Europa League         Anzhi Makhachkala - Russia    \n",
       "18  2012-11-11  English Premier League                            Chelsea    \n",
       "19  2012-11-17  English Premier League                          Liverpool    \n",
       "20  2012-11-22      UEFA Europa League                Liverpool - England    \n",
       "21  2012-11-25  English Premier League                       Swansea City    \n",
       "22  2012-11-28  English Premier League                  Tottenham Hotspur    \n",
       "23  2012-12-01  English Premier League                          Liverpool    \n",
       "24  2012-12-06      UEFA Europa League             Udinese Calcio - Italy    \n",
       "25  2012-12-09  English Premier League                    West Ham United    \n",
       "26  2012-12-15  English Premier League                          Liverpool    \n",
       "27  2012-12-22  English Premier League                          Liverpool    \n",
       "28  2012-12-26  English Premier League                      Stoke City FC    \n",
       "29  2012-12-30  English Premier League                Queens Park Rangers    \n",
       "30  2013-01-02  English Premier League                          Liverpool    \n",
       "31  2013-01-06          England FA Cup                     Mansfield Town    \n",
       "32  2013-01-13  English Premier League                  Manchester United    \n",
       "33  2013-01-19  English Premier League                          Liverpool    \n",
       "34  2013-01-27          England FA Cup                    Oldham Athletic    \n",
       "35  2013-01-30  English Premier League                         Arsenal FC    \n",
       "36  2013-02-03  English Premier League                    Manchester City    \n",
       "37  2013-02-11  English Premier League                          Liverpool    \n",
       "38  2013-02-14      UEFA Europa League      Zenit St. Petersburg - Russia    \n",
       "39  2013-02-17  English Premier League                          Liverpool    \n",
       "40  2013-02-21      UEFA Europa League                Liverpool - England    \n",
       "41  2013-03-02  English Premier League                     Wigan Athletic    \n",
       "42  2013-03-10  English Premier League                          Liverpool    \n",
       "43  2013-03-16  English Premier League                     FC Southampton    \n",
       "44  2013-03-31  English Premier League                        Aston Villa    \n",
       "45  2013-04-07  English Premier League                          Liverpool    \n",
       "46  2013-04-13  English Premier League                         Reading FC    \n",
       "47  2013-04-21  English Premier League                          Liverpool    \n",
       "48  2013-04-27  English Premier League                Newcastle United FC    \n",
       "49  2013-05-05  English Premier League                          Liverpool    \n",
       "50  2013-05-12  English Premier League                          Fulham FC    \n",
       "51  2013-05-19  English Premier League                          Liverpool    \n",
       "52  2013-07-13    Liverpool Pre-Season        Preston North End - England    \n",
       "53  2013-07-20    Liverpool Pre-Season                 Indonesia All Star    \n",
       "54  2013-07-24    Liverpool Pre-Season   Melbourne Victory FC - Australia    \n",
       "55  2013-07-28    Liverpool Pre-Season                           Thailand    \n",
       "\n",
       "    home_score  away_score   away_team liverpool_score  at_anfield  \\\n",
       "0            3           0   Liverpool               D       False   \n",
       "1            0           1   Liverpool               V       False   \n",
       "2            2           2  Manchester               N        True   \n",
       "3            1           1       Heart               N        True   \n",
       "4            0           2     Arsenal               D        True   \n",
       "5            1           1   Liverpool               N       False   \n",
       "6            3           5   Liverpool               V       False   \n",
       "7            1           2  Manchester               D        True   \n",
       "8            1           2   Liverpool               V       False   \n",
       "9            2           5   Liverpool               V       False   \n",
       "10           2           3     Udinese               D        True   \n",
       "11           0           0       Stoke               N        True   \n",
       "12           1           0     Reading               V        True   \n",
       "13           1           0       Anzhi               V        True   \n",
       "14           2           2   Liverpool               N       False   \n",
       "15           1           3     Swansea               D        True   \n",
       "16           1           1   Newcastle               N        True   \n",
       "17           1           0   Liverpool               D       False   \n",
       "18           1           1   Liverpool               N       False   \n",
       "19           3           0       Wigan               V        True   \n",
       "20           2           2         BSC               N        True   \n",
       "21           0           0   Liverpool               N       False   \n",
       "22           2           1   Liverpool               D       False   \n",
       "23           1           0          FC               V        True   \n",
       "24           0           1   Liverpool               V       False   \n",
       "25           2           3   Liverpool               V       False   \n",
       "26           1           3       Aston               D        True   \n",
       "27           4           0      Fulham               V        True   \n",
       "28           3           1   Liverpool               D       False   \n",
       "29           0           3   Liverpool               V       False   \n",
       "30           3           0         AFC               V        True   \n",
       "31           1           2   Liverpool               V       False   \n",
       "32           2           1   Liverpool               D       False   \n",
       "33           5           0     Norwich               V        True   \n",
       "34           3           2   Liverpool               D       False   \n",
       "35           2           2   Liverpool               N       False   \n",
       "36           2           2   Liverpool               N       False   \n",
       "37           0           2        West               D        True   \n",
       "38           2           0   Liverpool               D       False   \n",
       "39           5           0     Swansea               V        True   \n",
       "40           3           1       Zenit               V        True   \n",
       "41           0           4   Liverpool               V       False   \n",
       "42           3           2   Tottenham               V        True   \n",
       "43           3           1   Liverpool               D       False   \n",
       "44           1           2   Liverpool               V       False   \n",
       "45           0           0        West               N        True   \n",
       "46           0           0   Liverpool               N       False   \n",
       "47           2           2     Chelsea               N        True   \n",
       "48           0           6   Liverpool               V       False   \n",
       "49           0           0     Everton               N        True   \n",
       "50           1           3   Liverpool               V       False   \n",
       "51           1           0      Queens               V        True   \n",
       "52           0           4   Liverpool               V       False   \n",
       "53           0           2   Liverpool               V       False   \n",
       "54           0           2   Liverpool               V       False   \n",
       "55           0           3   Liverpool               V       False   \n",
       "\n",
       "         season  rest_days  \n",
       "0   2012 - 2013          6  \n",
       "1   2012 - 2013          5  \n",
       "2   2012 - 2013          3  \n",
       "3   2012 - 2013          4  \n",
       "4   2012 - 2013          3  \n",
       "5   2012 - 2013         13  \n",
       "6   2012 - 2013          5  \n",
       "7   2012 - 2013          3  \n",
       "8   2012 - 2013          3  \n",
       "9   2012 - 2013          3  \n",
       "10  2012 - 2013          5  \n",
       "11  2012 - 2013          3  \n",
       "12  2012 - 2013         13  \n",
       "13  2012 - 2013          5  \n",
       "14  2012 - 2013          3  \n",
       "15  2012 - 2013          3  \n",
       "16  2012 - 2013          4  \n",
       "17  2012 - 2013          4  \n",
       "18  2012 - 2013          3  \n",
       "19  2012 - 2013          6  \n",
       "20  2012 - 2013          5  \n",
       "21  2012 - 2013          3  \n",
       "22  2012 - 2013          3  \n",
       "23  2012 - 2013          3  \n",
       "24  2012 - 2013          5  \n",
       "25  2012 - 2013          3  \n",
       "26  2012 - 2013          6  \n",
       "27  2012 - 2013          7  \n",
       "28  2012 - 2013          4  \n",
       "29  2012 - 2013          4  \n",
       "30  2012 - 2013          3  \n",
       "31  2012 - 2013          4  \n",
       "32  2012 - 2013          7  \n",
       "33  2012 - 2013          6  \n",
       "34  2012 - 2013          8  \n",
       "35  2012 - 2013          3  \n",
       "36  2012 - 2013          4  \n",
       "37  2012 - 2013          8  \n",
       "38  2012 - 2013          3  \n",
       "39  2012 - 2013          3  \n",
       "40  2012 - 2013          4  \n",
       "41  2012 - 2013          9  \n",
       "42  2012 - 2013          8  \n",
       "43  2012 - 2013          6  \n",
       "44  2012 - 2013         15  \n",
       "45  2012 - 2013          7  \n",
       "46  2012 - 2013          6  \n",
       "47  2012 - 2013          8  \n",
       "48  2012 - 2013          6  \n",
       "49  2012 - 2013          8  \n",
       "50  2012 - 2013          7  \n",
       "51  2012 - 2013          7  \n",
       "52  2012 - 2013         55  \n",
       "53  2012 - 2013          7  \n",
       "54  2012 - 2013          4  \n",
       "55  2012 - 2013          4  "
      ],
      "text/html": "<div>\n<style scoped>\n    .dataframe tbody tr th:only-of-type {\n        vertical-align: middle;\n    }\n\n    .dataframe tbody tr th {\n        vertical-align: top;\n    }\n\n    .dataframe thead th {\n        text-align: right;\n    }\n</style>\n<table border=\"1\" class=\"dataframe\">\n  <thead>\n    <tr style=\"text-align: right;\">\n      <th></th>\n      <th>date_match</th>\n      <th>contests</th>\n      <th>home_team</th>\n      <th>home_score</th>\n      <th>away_score</th>\n      <th>away_team</th>\n      <th>liverpool_score</th>\n      <th>at_anfield</th>\n      <th>season</th>\n      <th>rest_days</th>\n    </tr>\n  </thead>\n  <tbody>\n    <tr>\n      <th>0</th>\n      <td>2012-08-18</td>\n      <td>English Premier League</td>\n      <td>West Bromwich Albion FC</td>\n      <td>3</td>\n      <td>0</td>\n      <td>Liverpool</td>\n      <td>D</td>\n      <td>False</td>\n      <td>2012 - 2013</td>\n      <td>6</td>\n    </tr>\n    <tr>\n      <th>1</th>\n      <td>2012-08-23</td>\n      <td>UEFA Europa League</td>\n      <td>Heart of Midlothian FC - Scotland</td>\n      <td>0</td>\n      <td>1</td>\n      <td>Liverpool</td>\n      <td>V</td>\n      <td>False</td>\n      <td>2012 - 2013</td>\n      <td>5</td>\n    </tr>\n    <tr>\n      <th>2</th>\n      <td>2012-08-26</td>\n      <td>English Premier League</td>\n      <td>Liverpool</td>\n      <td>2</td>\n      <td>2</td>\n      <td>Manchester</td>\n      <td>N</td>\n      <td>True</td>\n      <td>2012 - 2013</td>\n      <td>3</td>\n    </tr>\n    <tr>\n      <th>3</th>\n      <td>2012-08-30</td>\n      <td>UEFA Europa League</td>\n      <td>Liverpool - England</td>\n      <td>1</td>\n      <td>1</td>\n      <td>Heart</td>\n      <td>N</td>\n      <td>True</td>\n      <td>2012 - 2013</td>\n      <td>4</td>\n    </tr>\n    <tr>\n      <th>4</th>\n      <td>2012-09-02</td>\n      <td>English Premier League</td>\n      <td>Liverpool</td>\n      <td>0</td>\n      <td>2</td>\n      <td>Arsenal</td>\n      <td>D</td>\n      <td>True</td>\n      <td>2012 - 2013</td>\n      <td>3</td>\n    </tr>\n    <tr>\n      <th>5</th>\n      <td>2012-09-15</td>\n      <td>English Premier League</td>\n      <td>AFC Sunderland</td>\n      <td>1</td>\n      <td>1</td>\n      <td>Liverpool</td>\n      <td>N</td>\n      <td>False</td>\n      <td>2012 - 2013</td>\n      <td>13</td>\n    </tr>\n    <tr>\n      <th>6</th>\n      <td>2012-09-20</td>\n      <td>UEFA Europa League</td>\n      <td>BSC Young Boys - Switzerland</td>\n      <td>3</td>\n      <td>5</td>\n      <td>Liverpool</td>\n      <td>V</td>\n      <td>False</td>\n      <td>2012 - 2013</td>\n      <td>5</td>\n    </tr>\n    <tr>\n      <th>7</th>\n      <td>2012-09-23</td>\n      <td>English Premier League</td>\n      <td>Liverpool</td>\n      <td>1</td>\n      <td>2</td>\n      <td>Manchester</td>\n      <td>D</td>\n      <td>True</td>\n      <td>2012 - 2013</td>\n      <td>3</td>\n    </tr>\n    <tr>\n      <th>8</th>\n      <td>2012-09-26</td>\n      <td>English League Cup</td>\n      <td>West Bromwich Albion FC</td>\n      <td>1</td>\n      <td>2</td>\n      <td>Liverpool</td>\n      <td>V</td>\n      <td>False</td>\n      <td>2012 - 2013</td>\n      <td>3</td>\n    </tr>\n    <tr>\n      <th>9</th>\n      <td>2012-09-29</td>\n      <td>English Premier League</td>\n      <td>Norwich City</td>\n      <td>2</td>\n      <td>5</td>\n      <td>Liverpool</td>\n      <td>V</td>\n      <td>False</td>\n      <td>2012 - 2013</td>\n      <td>3</td>\n    </tr>\n    <tr>\n      <th>10</th>\n      <td>2012-10-04</td>\n      <td>UEFA Europa League</td>\n      <td>Liverpool - England</td>\n      <td>2</td>\n      <td>3</td>\n      <td>Udinese</td>\n      <td>D</td>\n      <td>True</td>\n      <td>2012 - 2013</td>\n      <td>5</td>\n    </tr>\n    <tr>\n      <th>11</th>\n      <td>2012-10-07</td>\n      <td>English Premier League</td>\n      <td>Liverpool</td>\n      <td>0</td>\n      <td>0</td>\n      <td>Stoke</td>\n      <td>N</td>\n      <td>True</td>\n      <td>2012 - 2013</td>\n      <td>3</td>\n    </tr>\n    <tr>\n      <th>12</th>\n      <td>2012-10-20</td>\n      <td>English Premier League</td>\n      <td>Liverpool</td>\n      <td>1</td>\n      <td>0</td>\n      <td>Reading</td>\n      <td>V</td>\n      <td>True</td>\n      <td>2012 - 2013</td>\n      <td>13</td>\n    </tr>\n    <tr>\n      <th>13</th>\n      <td>2012-10-25</td>\n      <td>UEFA Europa League</td>\n      <td>Liverpool - England</td>\n      <td>1</td>\n      <td>0</td>\n      <td>Anzhi</td>\n      <td>V</td>\n      <td>True</td>\n      <td>2012 - 2013</td>\n      <td>5</td>\n    </tr>\n    <tr>\n      <th>14</th>\n      <td>2012-10-28</td>\n      <td>English Premier League</td>\n      <td>Everton FC</td>\n      <td>2</td>\n      <td>2</td>\n      <td>Liverpool</td>\n      <td>N</td>\n      <td>False</td>\n      <td>2012 - 2013</td>\n      <td>3</td>\n    </tr>\n    <tr>\n      <th>15</th>\n      <td>2012-10-31</td>\n      <td>English League Cup</td>\n      <td>Liverpool</td>\n      <td>1</td>\n      <td>3</td>\n      <td>Swansea</td>\n      <td>D</td>\n      <td>True</td>\n      <td>2012 - 2013</td>\n      <td>3</td>\n    </tr>\n    <tr>\n      <th>16</th>\n      <td>2012-11-04</td>\n      <td>English Premier League</td>\n      <td>Liverpool</td>\n      <td>1</td>\n      <td>1</td>\n      <td>Newcastle</td>\n      <td>N</td>\n      <td>True</td>\n      <td>2012 - 2013</td>\n      <td>4</td>\n    </tr>\n    <tr>\n      <th>17</th>\n      <td>2012-11-08</td>\n      <td>UEFA Europa League</td>\n      <td>Anzhi Makhachkala - Russia</td>\n      <td>1</td>\n      <td>0</td>\n      <td>Liverpool</td>\n      <td>D</td>\n      <td>False</td>\n      <td>2012 - 2013</td>\n      <td>4</td>\n    </tr>\n    <tr>\n      <th>18</th>\n      <td>2012-11-11</td>\n      <td>English Premier League</td>\n      <td>Chelsea</td>\n      <td>1</td>\n      <td>1</td>\n      <td>Liverpool</td>\n      <td>N</td>\n      <td>False</td>\n      <td>2012 - 2013</td>\n      <td>3</td>\n    </tr>\n    <tr>\n      <th>19</th>\n      <td>2012-11-17</td>\n      <td>English Premier League</td>\n      <td>Liverpool</td>\n      <td>3</td>\n      <td>0</td>\n      <td>Wigan</td>\n      <td>V</td>\n      <td>True</td>\n      <td>2012 - 2013</td>\n      <td>6</td>\n    </tr>\n    <tr>\n      <th>20</th>\n      <td>2012-11-22</td>\n      <td>UEFA Europa League</td>\n      <td>Liverpool - England</td>\n      <td>2</td>\n      <td>2</td>\n      <td>BSC</td>\n      <td>N</td>\n      <td>True</td>\n      <td>2012 - 2013</td>\n      <td>5</td>\n    </tr>\n    <tr>\n      <th>21</th>\n      <td>2012-11-25</td>\n      <td>English Premier League</td>\n      <td>Swansea City</td>\n      <td>0</td>\n      <td>0</td>\n      <td>Liverpool</td>\n      <td>N</td>\n      <td>False</td>\n      <td>2012 - 2013</td>\n      <td>3</td>\n    </tr>\n    <tr>\n      <th>22</th>\n      <td>2012-11-28</td>\n      <td>English Premier League</td>\n      <td>Tottenham Hotspur</td>\n      <td>2</td>\n      <td>1</td>\n      <td>Liverpool</td>\n      <td>D</td>\n      <td>False</td>\n      <td>2012 - 2013</td>\n      <td>3</td>\n    </tr>\n    <tr>\n      <th>23</th>\n      <td>2012-12-01</td>\n      <td>English Premier League</td>\n      <td>Liverpool</td>\n      <td>1</td>\n      <td>0</td>\n      <td>FC</td>\n      <td>V</td>\n      <td>True</td>\n      <td>2012 - 2013</td>\n      <td>3</td>\n    </tr>\n    <tr>\n      <th>24</th>\n      <td>2012-12-06</td>\n      <td>UEFA Europa League</td>\n      <td>Udinese Calcio - Italy</td>\n      <td>0</td>\n      <td>1</td>\n      <td>Liverpool</td>\n      <td>V</td>\n      <td>False</td>\n      <td>2012 - 2013</td>\n      <td>5</td>\n    </tr>\n    <tr>\n      <th>25</th>\n      <td>2012-12-09</td>\n      <td>English Premier League</td>\n      <td>West Ham United</td>\n      <td>2</td>\n      <td>3</td>\n      <td>Liverpool</td>\n      <td>V</td>\n      <td>False</td>\n      <td>2012 - 2013</td>\n      <td>3</td>\n    </tr>\n    <tr>\n      <th>26</th>\n      <td>2012-12-15</td>\n      <td>English Premier League</td>\n      <td>Liverpool</td>\n      <td>1</td>\n      <td>3</td>\n      <td>Aston</td>\n      <td>D</td>\n      <td>True</td>\n      <td>2012 - 2013</td>\n      <td>6</td>\n    </tr>\n    <tr>\n      <th>27</th>\n      <td>2012-12-22</td>\n      <td>English Premier League</td>\n      <td>Liverpool</td>\n      <td>4</td>\n      <td>0</td>\n      <td>Fulham</td>\n      <td>V</td>\n      <td>True</td>\n      <td>2012 - 2013</td>\n      <td>7</td>\n    </tr>\n    <tr>\n      <th>28</th>\n      <td>2012-12-26</td>\n      <td>English Premier League</td>\n      <td>Stoke City FC</td>\n      <td>3</td>\n      <td>1</td>\n      <td>Liverpool</td>\n      <td>D</td>\n      <td>False</td>\n      <td>2012 - 2013</td>\n      <td>4</td>\n    </tr>\n    <tr>\n      <th>29</th>\n      <td>2012-12-30</td>\n      <td>English Premier League</td>\n      <td>Queens Park Rangers</td>\n      <td>0</td>\n      <td>3</td>\n      <td>Liverpool</td>\n      <td>V</td>\n      <td>False</td>\n      <td>2012 - 2013</td>\n      <td>4</td>\n    </tr>\n    <tr>\n      <th>30</th>\n      <td>2013-01-02</td>\n      <td>English Premier League</td>\n      <td>Liverpool</td>\n      <td>3</td>\n      <td>0</td>\n      <td>AFC</td>\n      <td>V</td>\n      <td>True</td>\n      <td>2012 - 2013</td>\n      <td>3</td>\n    </tr>\n    <tr>\n      <th>31</th>\n      <td>2013-01-06</td>\n      <td>England FA Cup</td>\n      <td>Mansfield Town</td>\n      <td>1</td>\n      <td>2</td>\n      <td>Liverpool</td>\n      <td>V</td>\n      <td>False</td>\n      <td>2012 - 2013</td>\n      <td>4</td>\n    </tr>\n    <tr>\n      <th>32</th>\n      <td>2013-01-13</td>\n      <td>English Premier League</td>\n      <td>Manchester United</td>\n      <td>2</td>\n      <td>1</td>\n      <td>Liverpool</td>\n      <td>D</td>\n      <td>False</td>\n      <td>2012 - 2013</td>\n      <td>7</td>\n    </tr>\n    <tr>\n      <th>33</th>\n      <td>2013-01-19</td>\n      <td>English Premier League</td>\n      <td>Liverpool</td>\n      <td>5</td>\n      <td>0</td>\n      <td>Norwich</td>\n      <td>V</td>\n      <td>True</td>\n      <td>2012 - 2013</td>\n      <td>6</td>\n    </tr>\n    <tr>\n      <th>34</th>\n      <td>2013-01-27</td>\n      <td>England FA Cup</td>\n      <td>Oldham Athletic</td>\n      <td>3</td>\n      <td>2</td>\n      <td>Liverpool</td>\n      <td>D</td>\n      <td>False</td>\n      <td>2012 - 2013</td>\n      <td>8</td>\n    </tr>\n    <tr>\n      <th>35</th>\n      <td>2013-01-30</td>\n      <td>English Premier League</td>\n      <td>Arsenal FC</td>\n      <td>2</td>\n      <td>2</td>\n      <td>Liverpool</td>\n      <td>N</td>\n      <td>False</td>\n      <td>2012 - 2013</td>\n      <td>3</td>\n    </tr>\n    <tr>\n      <th>36</th>\n      <td>2013-02-03</td>\n      <td>English Premier League</td>\n      <td>Manchester City</td>\n      <td>2</td>\n      <td>2</td>\n      <td>Liverpool</td>\n      <td>N</td>\n      <td>False</td>\n      <td>2012 - 2013</td>\n      <td>4</td>\n    </tr>\n    <tr>\n      <th>37</th>\n      <td>2013-02-11</td>\n      <td>English Premier League</td>\n      <td>Liverpool</td>\n      <td>0</td>\n      <td>2</td>\n      <td>West</td>\n      <td>D</td>\n      <td>True</td>\n      <td>2012 - 2013</td>\n      <td>8</td>\n    </tr>\n    <tr>\n      <th>38</th>\n      <td>2013-02-14</td>\n      <td>UEFA Europa League</td>\n      <td>Zenit St. Petersburg - Russia</td>\n      <td>2</td>\n      <td>0</td>\n      <td>Liverpool</td>\n      <td>D</td>\n      <td>False</td>\n      <td>2012 - 2013</td>\n      <td>3</td>\n    </tr>\n    <tr>\n      <th>39</th>\n      <td>2013-02-17</td>\n      <td>English Premier League</td>\n      <td>Liverpool</td>\n      <td>5</td>\n      <td>0</td>\n      <td>Swansea</td>\n      <td>V</td>\n      <td>True</td>\n      <td>2012 - 2013</td>\n      <td>3</td>\n    </tr>\n    <tr>\n      <th>40</th>\n      <td>2013-02-21</td>\n      <td>UEFA Europa League</td>\n      <td>Liverpool - England</td>\n      <td>3</td>\n      <td>1</td>\n      <td>Zenit</td>\n      <td>V</td>\n      <td>True</td>\n      <td>2012 - 2013</td>\n      <td>4</td>\n    </tr>\n    <tr>\n      <th>41</th>\n      <td>2013-03-02</td>\n      <td>English Premier League</td>\n      <td>Wigan Athletic</td>\n      <td>0</td>\n      <td>4</td>\n      <td>Liverpool</td>\n      <td>V</td>\n      <td>False</td>\n      <td>2012 - 2013</td>\n      <td>9</td>\n    </tr>\n    <tr>\n      <th>42</th>\n      <td>2013-03-10</td>\n      <td>English Premier League</td>\n      <td>Liverpool</td>\n      <td>3</td>\n      <td>2</td>\n      <td>Tottenham</td>\n      <td>V</td>\n      <td>True</td>\n      <td>2012 - 2013</td>\n      <td>8</td>\n    </tr>\n    <tr>\n      <th>43</th>\n      <td>2013-03-16</td>\n      <td>English Premier League</td>\n      <td>FC Southampton</td>\n      <td>3</td>\n      <td>1</td>\n      <td>Liverpool</td>\n      <td>D</td>\n      <td>False</td>\n      <td>2012 - 2013</td>\n      <td>6</td>\n    </tr>\n    <tr>\n      <th>44</th>\n      <td>2013-03-31</td>\n      <td>English Premier League</td>\n      <td>Aston Villa</td>\n      <td>1</td>\n      <td>2</td>\n      <td>Liverpool</td>\n      <td>V</td>\n      <td>False</td>\n      <td>2012 - 2013</td>\n      <td>15</td>\n    </tr>\n    <tr>\n      <th>45</th>\n      <td>2013-04-07</td>\n      <td>English Premier League</td>\n      <td>Liverpool</td>\n      <td>0</td>\n      <td>0</td>\n      <td>West</td>\n      <td>N</td>\n      <td>True</td>\n      <td>2012 - 2013</td>\n      <td>7</td>\n    </tr>\n    <tr>\n      <th>46</th>\n      <td>2013-04-13</td>\n      <td>English Premier League</td>\n      <td>Reading FC</td>\n      <td>0</td>\n      <td>0</td>\n      <td>Liverpool</td>\n      <td>N</td>\n      <td>False</td>\n      <td>2012 - 2013</td>\n      <td>6</td>\n    </tr>\n    <tr>\n      <th>47</th>\n      <td>2013-04-21</td>\n      <td>English Premier League</td>\n      <td>Liverpool</td>\n      <td>2</td>\n      <td>2</td>\n      <td>Chelsea</td>\n      <td>N</td>\n      <td>True</td>\n      <td>2012 - 2013</td>\n      <td>8</td>\n    </tr>\n    <tr>\n      <th>48</th>\n      <td>2013-04-27</td>\n      <td>English Premier League</td>\n      <td>Newcastle United FC</td>\n      <td>0</td>\n      <td>6</td>\n      <td>Liverpool</td>\n      <td>V</td>\n      <td>False</td>\n      <td>2012 - 2013</td>\n      <td>6</td>\n    </tr>\n    <tr>\n      <th>49</th>\n      <td>2013-05-05</td>\n      <td>English Premier League</td>\n      <td>Liverpool</td>\n      <td>0</td>\n      <td>0</td>\n      <td>Everton</td>\n      <td>N</td>\n      <td>True</td>\n      <td>2012 - 2013</td>\n      <td>8</td>\n    </tr>\n    <tr>\n      <th>50</th>\n      <td>2013-05-12</td>\n      <td>English Premier League</td>\n      <td>Fulham FC</td>\n      <td>1</td>\n      <td>3</td>\n      <td>Liverpool</td>\n      <td>V</td>\n      <td>False</td>\n      <td>2012 - 2013</td>\n      <td>7</td>\n    </tr>\n    <tr>\n      <th>51</th>\n      <td>2013-05-19</td>\n      <td>English Premier League</td>\n      <td>Liverpool</td>\n      <td>1</td>\n      <td>0</td>\n      <td>Queens</td>\n      <td>V</td>\n      <td>True</td>\n      <td>2012 - 2013</td>\n      <td>7</td>\n    </tr>\n    <tr>\n      <th>52</th>\n      <td>2013-07-13</td>\n      <td>Liverpool Pre-Season</td>\n      <td>Preston North End - England</td>\n      <td>0</td>\n      <td>4</td>\n      <td>Liverpool</td>\n      <td>V</td>\n      <td>False</td>\n      <td>2012 - 2013</td>\n      <td>55</td>\n    </tr>\n    <tr>\n      <th>53</th>\n      <td>2013-07-20</td>\n      <td>Liverpool Pre-Season</td>\n      <td>Indonesia All Star</td>\n      <td>0</td>\n      <td>2</td>\n      <td>Liverpool</td>\n      <td>V</td>\n      <td>False</td>\n      <td>2012 - 2013</td>\n      <td>7</td>\n    </tr>\n    <tr>\n      <th>54</th>\n      <td>2013-07-24</td>\n      <td>Liverpool Pre-Season</td>\n      <td>Melbourne Victory FC - Australia</td>\n      <td>0</td>\n      <td>2</td>\n      <td>Liverpool</td>\n      <td>V</td>\n      <td>False</td>\n      <td>2012 - 2013</td>\n      <td>4</td>\n    </tr>\n    <tr>\n      <th>55</th>\n      <td>2013-07-28</td>\n      <td>Liverpool Pre-Season</td>\n      <td>Thailand</td>\n      <td>0</td>\n      <td>3</td>\n      <td>Liverpool</td>\n      <td>V</td>\n      <td>False</td>\n      <td>2012 - 2013</td>\n      <td>4</td>\n    </tr>\n  </tbody>\n</table>\n</div>"
     },
     "metadata": {},
     "execution_count": 75
    }
   ],
   "source": [
    "df[df['season'] == df['season'].unique()[0]]"
   ]
  },
  {
   "cell_type": "code",
   "execution_count": 64,
   "metadata": {},
   "outputs": [
    {
     "output_type": "execute_result",
     "data": {
      "text/plain": [
       "12"
      ]
     },
     "metadata": {},
     "execution_count": 64
    }
   ],
   "source": [
    "len(df['contests'].unique())"
   ]
  },
  {
   "cell_type": "code",
   "execution_count": 86,
   "metadata": {},
   "outputs": [],
   "source": [
    "import os"
   ]
  },
  {
   "cell_type": "code",
   "execution_count": 92,
   "metadata": {},
   "outputs": [],
   "source": [
    "def filter_total(nomfichier) :\n",
    "    dforigin = pd.read_csv(nomfichier+'.csv', sep=',')\n",
    "    for i in range(len(dforigin['season'].unique())):\n",
    "        season = dforigin['season'].unique()[i]\n",
    "        season_clear = season.replace(\" \",\"\")\n",
    "        dffilteredseason = dforigin[dforigin['season'] == season]\n",
    "        if not (os.path.exists(f\"./{season_clear}\")) :\n",
    "            os.mkdir(\"./\"+season_clear)\n",
    "        nomfichiersaison = f\"./{season_clear}/Liverpool_data_\"+ season_clear + '.csv'\n",
    "        dffilteredseason.to_csv(nomfichiersaison, header = True, index = False)\n",
    "\n",
    "        dfseason = pd.read_csv(nomfichiersaison, sep =',')\n",
    "        for j in range (len(dffilteredseason['contests'].unique())):\n",
    "            competition = dfseason['contests'].unique()[j]\n",
    "            competition_clear = competition.replace(\" \",\"_\")\n",
    "            dffilteredcontests = dfseason[dfseason['contests'] == competition]\n",
    "            nomfichiercompetition = f\"./{season_clear}/Liverpool_data_\"+ season_clear+ \"_\" + competition_clear + '.csv'\n",
    "            dffilteredcontests.to_csv(nomfichiercompetition, header = True, index = False)\n",
    "        "
   ]
  },
  {
   "cell_type": "code",
   "execution_count": 93,
   "metadata": {},
   "outputs": [],
   "source": [
    "filter_total(\"goalzz_archive_from_2012\")"
   ]
  },
  {
   "cell_type": "code",
   "execution_count": null,
   "metadata": {},
   "outputs": [],
   "source": [
    "def filter_total (nomfichier, season) :\n",
    "    dforigin = pd.read_csv(nomfichier+'.csv', sep =',')\n",
    "    dffilteredseason = dforigin[dforigin['season'] == season]\n",
    "    nomfichiersaison = \"Liverpool_data_season_\"+ season.replace(\" \", \"\") + '.csv'\n",
    "    dffilteredseason.to_csv(, header = True, index ) False)\n",
    "\n",
    "    for i in range (len(dffilteredreason['contests'].unique())):\n",
    "        dfseason = pd.read_csv(nomfichiersaison, sep =',')\n",
    "        "
   ]
  }
 ]
}