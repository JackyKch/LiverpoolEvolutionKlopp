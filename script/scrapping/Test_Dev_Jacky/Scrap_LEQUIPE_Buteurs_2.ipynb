{
 "metadata": {
  "language_info": {
   "codemirror_mode": {
    "name": "ipython",
    "version": 3
   },
   "file_extension": ".py",
   "mimetype": "text/x-python",
   "name": "python",
   "nbconvert_exporter": "python",
   "pygments_lexer": "ipython3",
   "version": "3.8.2-final"
  },
  "orig_nbformat": 2,
  "kernelspec": {
   "name": "Python 3.8.2 64-bit",
   "display_name": "Python 3.8.2 64-bit",
   "metadata": {
    "interpreter": {
     "hash": "95e24f6d028694f957b1106e412d23c4f9ba09e8613c65a2aeaf0c0e73a5daa1"
    }
   }
  }
 },
 "nbformat": 4,
 "nbformat_minor": 2,
 "cells": [
  {
   "cell_type": "code",
   "execution_count": 2,
   "metadata": {},
   "outputs": [],
   "source": [
    "import csv\n",
    "import time\n",
    "import random\n",
    "import codecs"
   ]
  },
  {
   "cell_type": "code",
   "execution_count": 4,
   "metadata": {},
   "outputs": [],
   "source": [
    "from selenium import webdriver\n",
    "from selenium.webdriver.common.desired_capabilities import DesiredCapabilities\n",
    "from selenium.webdriver.support.ui import WebDriverWait\n",
    "from selenium.webdriver.support import expected_conditions as expected_conditions\n",
    "from selenium.webdriver.common.by import By\n",
    "from selenium.common.exceptions import NoSuchElementException"
   ]
  },
  {
   "cell_type": "code",
   "execution_count": 5,
   "metadata": {},
   "outputs": [],
   "source": [
    "def pause ():\n",
    "    time_break = random.randint(1,2)\n",
    "    return time.sleep(time_break)"
   ]
  },
  {
   "cell_type": "code",
   "execution_count": 6,
   "metadata": {},
   "outputs": [],
   "source": [
    "path_to_webriver = \"my_path\""
   ]
  },
  {
   "cell_type": "code",
   "execution_count": 13,
   "metadata": {},
   "outputs": [],
   "source": [
    "options = webdriver.ChromeOptions()\n",
    "options.add_argument(\"--kiosk\")\n",
    "capa = DesiredCapabilities.CHROME\n",
    "capa[\"pageLoadStrategy\"] = \"none\"\n",
    "driver = webdriver.Chrome(\"/Users/jacky/Downloads/Work/ESILV/A4/Python for Data Analysis/chromedriver.exe\", desired_capabilities = capa, chrome_options = options)\n",
    "wait = WebDriverWait(driver,30)\n",
    "pause()"
   ]
  },
  {
   "cell_type": "code",
   "execution_count": 14,
   "metadata": {},
   "outputs": [],
   "source": [
    "url = \"https://www.lequipe.fr/Football/championnat-d-angleterre/page-classement-individuel/buteurs\""
   ]
  },
  {
   "cell_type": "code",
   "execution_count": 17,
   "metadata": {},
   "outputs": [],
   "source": [
    "driver.get(url)\n",
    "images = wait.until(expected_conditions.presence_of_all_elements_located((By.CSS_SELECTOR,\"img\")))"
   ]
  },
  {
   "cell_type": "code",
   "execution_count": 22,
   "metadata": {},
   "outputs": [
    {
     "output_type": "error",
     "ename": "NameError",
     "evalue": "name &#39;lt&#39; is not defined",
     "traceback": [
      "\u001b[1;31m---------------------------------------------------------------------------\u001b[0m",
      "\u001b[1;31mNameError\u001b[0m                                 Traceback (most recent call last)",
      "\u001b[1;32m&lt;ipython-input-22-76f3622a159c&gt;\u001b[0m in \u001b[0;36m&lt;module&gt;\u001b[1;34m\u001b[0m\n\u001b[0;32m      1\u001b[0m \u001b[0mscheight\u001b[0m \u001b[1;33m=\u001b[0m \u001b[1;36m.0\u001b[0m\u001b[1;33m\u001b[0m\u001b[1;33m\u001b[0m\u001b[0m\n\u001b[1;32m----&gt; 2\u001b[1;33m \u001b[1;32mwhile\u001b[0m \u001b[0mscheight\u001b[0m \u001b[1;33m&amp;\u001b[0m\u001b[0mlt\u001b[0m \u001b[1;33m!=\u001b[0m \u001b[1;36m1.0\u001b[0m\u001b[1;33m:\u001b[0m\u001b[1;33m\u001b[0m\u001b[1;33m\u001b[0m\u001b[0m\n\u001b[0m\u001b[0;32m      3\u001b[0m     \u001b[0mdriver\u001b[0m\u001b[1;33m.\u001b[0m\u001b[0mexecute_script\u001b[0m\u001b[1;33m(\u001b[0m\u001b[1;34m&quot;window.scrollTo(0, document.body.scrollHeight*%s);&quot;\u001b[0m \u001b[1;33m%\u001b[0m \u001b[0mscheight\u001b[0m\u001b[1;33m)\u001b[0m\u001b[1;33m\u001b[0m\u001b[1;33m\u001b[0m\u001b[0m\n\u001b[0;32m      4\u001b[0m     \u001b[0mscheight\u001b[0m \u001b[1;33m+=\u001b[0m\u001b[1;36m2\u001b[0m\u001b[1;33m\u001b[0m\u001b[1;33m\u001b[0m\u001b[0m\n\u001b[0;32m      5\u001b[0m     \u001b[0mpause\u001b[0m\u001b[1;33m(\u001b[0m\u001b[1;33m)\u001b[0m\u001b[1;33m\u001b[0m\u001b[1;33m\u001b[0m\u001b[0m\n",
      "\u001b[1;31mNameError\u001b[0m: name &#39;lt&#39; is not defined"
     ]
    }
   ],
   "source": [
    "scheight = .0\n",
    "while scheight &lt != 1.0:\n",
    "    driver.execute_script(\"window.scrollTo(0, document.body.scrollHeight*%s);\" % scheight)\n",
    "    scheight +=2\n",
    "    pause()"
   ]
  },
  {
   "cell_type": "code",
   "execution_count": null,
   "metadata": {},
   "outputs": [],
   "source": [
    "with codes.open ('test.csv', 'w') as csvfile : \n",
    "    fiedlsname = ['Nom', 'Equipe', 'Buts', 'Matchs']\n",
    "    writer = csv.DictWriter(csvfile, fieldnames= fieldnames, delimiter =\"$\")\n",
    "    writer.writeheader()\n",
    "\n",
    "    bloc1 = driver.find_element_by_css_selector(\"section.mainDate\")\n",
    "\n",
    "    for i in bloc1:\n",
    "\n",
    "        try :\n",
    "            nom = i.get_attributes('')"
   ]
  }
 ]
}