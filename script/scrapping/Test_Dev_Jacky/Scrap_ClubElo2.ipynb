{
 "metadata": {
  "language_info": {
   "codemirror_mode": {
    "name": "ipython",
    "version": 3
   },
   "file_extension": ".py",
   "mimetype": "text/x-python",
   "name": "python",
   "nbconvert_exporter": "python",
   "pygments_lexer": "ipython3",
   "version": "3.8.2-final"
  },
  "orig_nbformat": 2,
  "kernelspec": {
   "name": "Python 3.8.2 64-bit",
   "display_name": "Python 3.8.2 64-bit",
   "metadata": {
    "interpreter": {
     "hash": "95e24f6d028694f957b1106e412d23c4f9ba09e8613c65a2aeaf0c0e73a5daa1"
    }
   }
  }
 },
 "nbformat": 4,
 "nbformat_minor": 2,
 "cells": [
  {
   "cell_type": "code",
   "execution_count": 1,
   "metadata": {},
   "outputs": [],
   "source": [
    "from selenium import webdriver"
   ]
  },
  {
   "cell_type": "code",
   "execution_count": 2,
   "metadata": {},
   "outputs": [],
   "source": [
    "import selenium"
   ]
  },
  {
   "cell_type": "code",
   "execution_count": 3,
   "metadata": {},
   "outputs": [],
   "source": [
    "options = webdriver.ChromeOptions()"
   ]
  },
  {
   "cell_type": "code",
   "execution_count": 4,
   "metadata": {},
   "outputs": [],
   "source": [
    "options.add_argument(\"--incognito\")"
   ]
  },
  {
   "cell_type": "code",
   "execution_count": 5,
   "metadata": {},
   "outputs": [],
   "source": [
    "import pandas as pd"
   ]
  },
  {
   "cell_type": "code",
   "execution_count": 6,
   "metadata": {},
   "outputs": [],
   "source": [
    "df = pd.read_csv(\"scrap_elo_base.csv\", sep =\",\")"
   ]
  },
  {
   "cell_type": "code",
   "execution_count": 26,
   "metadata": {},
   "outputs": [
    {
     "output_type": "execute_result",
     "data": {
      "text/plain": [
       "      Season        Date    HomeTeam    AwayTeam Home/Away  \\\n",
       "0    2012-13  2012-08-18   West Brom   Liverpool         A   \n",
       "1    2012-13  2012-08-26   Liverpool    Man City         H   \n",
       "2    2012-13  2012-09-02   Liverpool     Arsenal         H   \n",
       "3    2012-13  2012-09-15  Sunderland   Liverpool         A   \n",
       "4    2012-13  2012-09-23   Liverpool  Man United         H   \n",
       "..       ...         ...         ...         ...       ...   \n",
       "299  2019-20  2020-07-08    Brighton   Liverpool         A   \n",
       "300  2019-20  2020-07-11   Liverpool     Burnley         H   \n",
       "301  2019-20  2020-07-15     Arsenal   Liverpool         A   \n",
       "302  2019-20  2020-07-22   Liverpool     Chelsea         H   \n",
       "303  2019-20  2020-07-26   Newcastle   Liverpool         A   \n",
       "\n",
       "     FTHG (Full Time Home Team Goals)  FTAG (Full Time Away Team Goals)  \\\n",
       "0                                   3                                 0   \n",
       "1                                   2                                 2   \n",
       "2                                   0                                 2   \n",
       "3                                   1                                 1   \n",
       "4                                   1                                 2   \n",
       "..                                ...                               ...   \n",
       "299                                 1                                 3   \n",
       "300                                 1                                 1   \n",
       "301                                 2                                 1   \n",
       "302                                 5                                 3   \n",
       "303                                 1                                 3   \n",
       "\n",
       "    Win/Loose/Draw FTR (Full Time Result)  HTHG (Half Time Home Team Goals)  \\\n",
       "0                L                      H                                 1   \n",
       "1                D                      D                                 1   \n",
       "2                L                      A                                 0   \n",
       "3                D                      D                                 1   \n",
       "4                L                      A                                 0   \n",
       "..             ...                    ...                               ...   \n",
       "299              W                      A                                 1   \n",
       "300              D                      D                                 1   \n",
       "301              L                      H                                 2   \n",
       "302              W                      H                                 3   \n",
       "303              W                      A                                 1   \n",
       "\n",
       "     ...  AF (Away Fouls) HY (Home Yellow Cards)  AY (Away Yellow Cards)  \\\n",
       "0    ...               11                      1                       4   \n",
       "1    ...                7                      1                       0   \n",
       "2    ...                7                      2                       2   \n",
       "3    ...               10                      1                       2   \n",
       "4    ...                7                      1                       2   \n",
       "..   ...              ...                    ...                     ...   \n",
       "299  ...               15                      1                       4   \n",
       "300  ...                4                      1                       2   \n",
       "301  ...               10                      3                       1   \n",
       "302  ...               11                      1                       0   \n",
       "303  ...                5                      1                       0   \n",
       "\n",
       "     HR (Home Red Cards)  AR (Away Red Cards)  xGH (Expected Goals Home)  \\\n",
       "0                      0                    1                        NaN   \n",
       "1                      0                    0                        NaN   \n",
       "2                      0                    0                        NaN   \n",
       "3                      0                    0                        NaN   \n",
       "4                      1                    0                        NaN   \n",
       "..                   ...                  ...                        ...   \n",
       "299                    0                    0                       2.36   \n",
       "300                    0                    0                       2.18   \n",
       "301                    0                    0                       1.32   \n",
       "302                    0                    0                       1.45   \n",
       "303                    0                    0                       0.34   \n",
       "\n",
       "     xGA (Expected Away Goals)  xGDiff       Elo_Liverpool  Rest_Days  \n",
       "0                          NaN     NaN       1742.60021973          6  \n",
       "1                          NaN     NaN       1729.25158691          3  \n",
       "2                          NaN     NaN       1733.52380371          3  \n",
       "3                          NaN     NaN       1722.60900879         13  \n",
       "4                          NaN     NaN       1732.29528809          3  \n",
       "..                         ...     ...                 ...        ...  \n",
       "299                       2.62    0.26  2002.9407959000002          3  \n",
       "300                       0.45    1.73       2005.79724121          3  \n",
       "301                       2.22    0.90       1998.45800781          4  \n",
       "302                       2.38   -0.93       1986.60888672          7  \n",
       "303                       0.57    0.23       1991.13781738          4  \n",
       "\n",
       "[304 rows x 29 columns]"
      ],
      "text/html": "<div>\n<style scoped>\n    .dataframe tbody tr th:only-of-type {\n        vertical-align: middle;\n    }\n\n    .dataframe tbody tr th {\n        vertical-align: top;\n    }\n\n    .dataframe thead th {\n        text-align: right;\n    }\n</style>\n<table border=\"1\" class=\"dataframe\">\n  <thead>\n    <tr style=\"text-align: right;\">\n      <th></th>\n      <th>Season</th>\n      <th>Date</th>\n      <th>HomeTeam</th>\n      <th>AwayTeam</th>\n      <th>Home/Away</th>\n      <th>FTHG (Full Time Home Team Goals)</th>\n      <th>FTAG (Full Time Away Team Goals)</th>\n      <th>Win/Loose/Draw</th>\n      <th>FTR (Full Time Result)</th>\n      <th>HTHG (Half Time Home Team Goals)</th>\n      <th>...</th>\n      <th>AF (Away Fouls)</th>\n      <th>HY (Home Yellow Cards)</th>\n      <th>AY (Away Yellow Cards)</th>\n      <th>HR (Home Red Cards)</th>\n      <th>AR (Away Red Cards)</th>\n      <th>xGH (Expected Goals Home)</th>\n      <th>xGA (Expected Away Goals)</th>\n      <th>xGDiff</th>\n      <th>Elo_Liverpool</th>\n      <th>Rest_Days</th>\n    </tr>\n  </thead>\n  <tbody>\n    <tr>\n      <th>0</th>\n      <td>2012-13</td>\n      <td>2012-08-18</td>\n      <td>West Brom</td>\n      <td>Liverpool</td>\n      <td>A</td>\n      <td>3</td>\n      <td>0</td>\n      <td>L</td>\n      <td>H</td>\n      <td>1</td>\n      <td>...</td>\n      <td>11</td>\n      <td>1</td>\n      <td>4</td>\n      <td>0</td>\n      <td>1</td>\n      <td>NaN</td>\n      <td>NaN</td>\n      <td>NaN</td>\n      <td>1742.60021973</td>\n      <td>6</td>\n    </tr>\n    <tr>\n      <th>1</th>\n      <td>2012-13</td>\n      <td>2012-08-26</td>\n      <td>Liverpool</td>\n      <td>Man City</td>\n      <td>H</td>\n      <td>2</td>\n      <td>2</td>\n      <td>D</td>\n      <td>D</td>\n      <td>1</td>\n      <td>...</td>\n      <td>7</td>\n      <td>1</td>\n      <td>0</td>\n      <td>0</td>\n      <td>0</td>\n      <td>NaN</td>\n      <td>NaN</td>\n      <td>NaN</td>\n      <td>1729.25158691</td>\n      <td>3</td>\n    </tr>\n    <tr>\n      <th>2</th>\n      <td>2012-13</td>\n      <td>2012-09-02</td>\n      <td>Liverpool</td>\n      <td>Arsenal</td>\n      <td>H</td>\n      <td>0</td>\n      <td>2</td>\n      <td>L</td>\n      <td>A</td>\n      <td>0</td>\n      <td>...</td>\n      <td>7</td>\n      <td>2</td>\n      <td>2</td>\n      <td>0</td>\n      <td>0</td>\n      <td>NaN</td>\n      <td>NaN</td>\n      <td>NaN</td>\n      <td>1733.52380371</td>\n      <td>3</td>\n    </tr>\n    <tr>\n      <th>3</th>\n      <td>2012-13</td>\n      <td>2012-09-15</td>\n      <td>Sunderland</td>\n      <td>Liverpool</td>\n      <td>A</td>\n      <td>1</td>\n      <td>1</td>\n      <td>D</td>\n      <td>D</td>\n      <td>1</td>\n      <td>...</td>\n      <td>10</td>\n      <td>1</td>\n      <td>2</td>\n      <td>0</td>\n      <td>0</td>\n      <td>NaN</td>\n      <td>NaN</td>\n      <td>NaN</td>\n      <td>1722.60900879</td>\n      <td>13</td>\n    </tr>\n    <tr>\n      <th>4</th>\n      <td>2012-13</td>\n      <td>2012-09-23</td>\n      <td>Liverpool</td>\n      <td>Man United</td>\n      <td>H</td>\n      <td>1</td>\n      <td>2</td>\n      <td>L</td>\n      <td>A</td>\n      <td>0</td>\n      <td>...</td>\n      <td>7</td>\n      <td>1</td>\n      <td>2</td>\n      <td>1</td>\n      <td>0</td>\n      <td>NaN</td>\n      <td>NaN</td>\n      <td>NaN</td>\n      <td>1732.29528809</td>\n      <td>3</td>\n    </tr>\n    <tr>\n      <th>...</th>\n      <td>...</td>\n      <td>...</td>\n      <td>...</td>\n      <td>...</td>\n      <td>...</td>\n      <td>...</td>\n      <td>...</td>\n      <td>...</td>\n      <td>...</td>\n      <td>...</td>\n      <td>...</td>\n      <td>...</td>\n      <td>...</td>\n      <td>...</td>\n      <td>...</td>\n      <td>...</td>\n      <td>...</td>\n      <td>...</td>\n      <td>...</td>\n      <td>...</td>\n      <td>...</td>\n    </tr>\n    <tr>\n      <th>299</th>\n      <td>2019-20</td>\n      <td>2020-07-08</td>\n      <td>Brighton</td>\n      <td>Liverpool</td>\n      <td>A</td>\n      <td>1</td>\n      <td>3</td>\n      <td>W</td>\n      <td>A</td>\n      <td>1</td>\n      <td>...</td>\n      <td>15</td>\n      <td>1</td>\n      <td>4</td>\n      <td>0</td>\n      <td>0</td>\n      <td>2.36</td>\n      <td>2.62</td>\n      <td>0.26</td>\n      <td>2002.9407959000002</td>\n      <td>3</td>\n    </tr>\n    <tr>\n      <th>300</th>\n      <td>2019-20</td>\n      <td>2020-07-11</td>\n      <td>Liverpool</td>\n      <td>Burnley</td>\n      <td>H</td>\n      <td>1</td>\n      <td>1</td>\n      <td>D</td>\n      <td>D</td>\n      <td>1</td>\n      <td>...</td>\n      <td>4</td>\n      <td>1</td>\n      <td>2</td>\n      <td>0</td>\n      <td>0</td>\n      <td>2.18</td>\n      <td>0.45</td>\n      <td>1.73</td>\n      <td>2005.79724121</td>\n      <td>3</td>\n    </tr>\n    <tr>\n      <th>301</th>\n      <td>2019-20</td>\n      <td>2020-07-15</td>\n      <td>Arsenal</td>\n      <td>Liverpool</td>\n      <td>A</td>\n      <td>2</td>\n      <td>1</td>\n      <td>L</td>\n      <td>H</td>\n      <td>2</td>\n      <td>...</td>\n      <td>10</td>\n      <td>3</td>\n      <td>1</td>\n      <td>0</td>\n      <td>0</td>\n      <td>1.32</td>\n      <td>2.22</td>\n      <td>0.90</td>\n      <td>1998.45800781</td>\n      <td>4</td>\n    </tr>\n    <tr>\n      <th>302</th>\n      <td>2019-20</td>\n      <td>2020-07-22</td>\n      <td>Liverpool</td>\n      <td>Chelsea</td>\n      <td>H</td>\n      <td>5</td>\n      <td>3</td>\n      <td>W</td>\n      <td>H</td>\n      <td>3</td>\n      <td>...</td>\n      <td>11</td>\n      <td>1</td>\n      <td>0</td>\n      <td>0</td>\n      <td>0</td>\n      <td>1.45</td>\n      <td>2.38</td>\n      <td>-0.93</td>\n      <td>1986.60888672</td>\n      <td>7</td>\n    </tr>\n    <tr>\n      <th>303</th>\n      <td>2019-20</td>\n      <td>2020-07-26</td>\n      <td>Newcastle</td>\n      <td>Liverpool</td>\n      <td>A</td>\n      <td>1</td>\n      <td>3</td>\n      <td>W</td>\n      <td>A</td>\n      <td>1</td>\n      <td>...</td>\n      <td>5</td>\n      <td>1</td>\n      <td>0</td>\n      <td>0</td>\n      <td>0</td>\n      <td>0.34</td>\n      <td>0.57</td>\n      <td>0.23</td>\n      <td>1991.13781738</td>\n      <td>4</td>\n    </tr>\n  </tbody>\n</table>\n<p>304 rows × 29 columns</p>\n</div>"
     },
     "metadata": {},
     "execution_count": 26
    }
   ],
   "source": [
    "df"
   ]
  },
  {
   "cell_type": "code",
   "execution_count": 8,
   "metadata": {},
   "outputs": [],
   "source": [
    "df['Date'] = df['Date'].astype('datetime64')"
   ]
  },
  {
   "cell_type": "code",
   "execution_count": 9,
   "metadata": {},
   "outputs": [],
   "source": [
    "import datetime as dt"
   ]
  },
  {
   "cell_type": "code",
   "execution_count": 10,
   "metadata": {},
   "outputs": [],
   "source": [
    "df['Date'] = df['Date'].dt.strftime('%Y-%m-%d')"
   ]
  },
  {
   "cell_type": "code",
   "execution_count": 11,
   "metadata": {},
   "outputs": [
    {
     "output_type": "execute_result",
     "data": {
      "text/plain": [
       "0      2012-08-18\n",
       "1      2012-08-26\n",
       "2      2012-09-02\n",
       "3      2012-09-15\n",
       "4      2012-09-23\n",
       "          ...    \n",
       "299    2020-07-08\n",
       "300    2020-07-11\n",
       "301    2020-07-15\n",
       "302    2020-07-22\n",
       "303    2020-07-26\n",
       "Name: Date, Length: 304, dtype: object"
      ]
     },
     "metadata": {},
     "execution_count": 11
    }
   ],
   "source": [
    "df['Date']"
   ]
  },
  {
   "cell_type": "code",
   "execution_count": 12,
   "metadata": {},
   "outputs": [],
   "source": [
    "driver = webdriver.Chrome(\"./chromedriver.exe\", options= options)"
   ]
  },
  {
   "cell_type": "code",
   "execution_count": 13,
   "metadata": {},
   "outputs": [],
   "source": [
    "driver.get(\"http://clubelo.com/2012-08-18/ENG\")"
   ]
  },
  {
   "cell_type": "code",
   "execution_count": 99,
   "metadata": {},
   "outputs": [],
   "source": [
    "balise = 'tbody tr td a[href =\"/' + str(df['Date'][0]) +'/'+ str(df['HomeTeam'][0]).replace(\" \",\"\") +'\"]' \n",
    "element = driver.find_element_by_css_selector(balise)\n",
    "\n"
   ]
  },
  {
   "cell_type": "code",
   "execution_count": 102,
   "metadata": {},
   "outputs": [],
   "source": [
    "elo = driver.find_element_by_link_text(element.text)"
   ]
  },
  {
   "cell_type": "code",
   "execution_count": 66,
   "metadata": {},
   "outputs": [
    {
     "output_type": "stream",
     "name": "stdout",
     "text": [
      "West Brom\n"
     ]
    }
   ],
   "source": [
    "if (df['Home/Away'][0] == \"A\") :\n",
    "    teamname = str(df['HomeTeam'][0]).replace(\" \", \"\")\n",
    "    balise = 'tbody tr td a[href =\"/' + str(df['Date'][0]) +'/'+ teamname +'\"]' \n",
    "    element = driver.find_element_by_css_selector(balise)\n",
    "    #element = driver.find_element_by_css_selector('tr td[class = \"r\"]')\n",
    "    print(element.text)\n"
   ]
  },
  {
   "source": [
    "# Test Elo sur chaque page"
   ],
   "cell_type": "markdown",
   "metadata": {}
  },
  {
   "cell_type": "code",
   "execution_count": 14,
   "metadata": {},
   "outputs": [],
   "source": [
    "driver.get(\"http://clubelo.com/2012-08-18/WestBrom\")"
   ]
  },
  {
   "cell_type": "code",
   "execution_count": 15,
   "metadata": {},
   "outputs": [
    {
     "output_type": "execute_result",
     "data": {
      "text/plain": [
       "'1675'"
      ]
     },
     "metadata": {},
     "execution_count": 15
    }
   ],
   "source": [
    "element = driver.find_element_by_css_selector('div[class =\"astblatt\"] b')\n",
    "element.text"
   ]
  },
  {
   "source": [
    "# Boucle pour récupérer tous les elos"
   ],
   "cell_type": "markdown",
   "metadata": {}
  },
  {
   "cell_type": "code",
   "execution_count": 18,
   "metadata": {},
   "outputs": [],
   "source": [
    "elo_list = []"
   ]
  },
  {
   "cell_type": "code",
   "execution_count": 20,
   "metadata": {
    "tags": []
   },
   "outputs": [
    {
     "output_type": "stream",
     "name": "stdout",
     "text": [
      "1675\n",
      "1918\n",
      "1818\n",
      "1676\n",
      "1914\n",
      "1615\n",
      "1675\n",
      "1617\n",
      "1781\n",
      "1749\n",
      "1868\n",
      "1648\n",
      "1647\n",
      "1752\n",
      "1557\n",
      "1653\n",
      "1619\n",
      "1667\n",
      "1679\n",
      "1542\n",
      "1648\n",
      "1904\n",
      "1622\n",
      "1789\n",
      "1878\n",
      "1652\n",
      "1680\n",
      "1622\n",
      "1820\n",
      "1599\n",
      "1618\n",
      "1632\n",
      "1558\n",
      "1841\n",
      "1671\n",
      "1782\n",
      "1646\n",
      "1554\n",
      "1643\n",
      "1676\n",
      "1919\n",
      "1682\n",
      "1644\n",
      "1619\n",
      "1525\n",
      "1683\n",
      "1700\n",
      "1891\n",
      "1668\n",
      "1821\n",
      "1554\n",
      "1659\n",
      "1668\n",
      "1839\n",
      "1606\n",
      "1937\n",
      "1903\n",
      "1596\n",
      "1661\n",
      "1661\n",
      "1834\n",
      "1667\n",
      "1901\n",
      "1600\n",
      "1673\n",
      "1694\n",
      "1868\n",
      "1555\n",
      "1622\n",
      "1807\n",
      "1674\n",
      "1954\n",
      "1608\n",
      "1928\n",
      "1618\n",
      "1650\n",
      "1717\n",
      "1954\n",
      "1807\n",
      "1630\n",
      "1648\n",
      "1804\n",
      "1632\n",
      "1547\n",
      "1578\n",
      "1634\n",
      "1921\n",
      "1589\n",
      "1673\n",
      "1610\n",
      "1647\n",
      "1842\n",
      "1847\n",
      "1586\n",
      "1687\n",
      "1591\n",
      "1642\n",
      "1607\n",
      "1707\n",
      "1746\n",
      "1791\n",
      "1774\n",
      "1911\n",
      "1569\n",
      "1666\n",
      "1831\n",
      "1854\n",
      "1621\n",
      "1601\n",
      "1571\n",
      "1550\n",
      "1922\n",
      "1624\n",
      "1682\n",
      "1696\n",
      "1582\n",
      "1832\n",
      "1594\n",
      "1805\n",
      "1602\n",
      "1551\n",
      "1718\n",
      "1737\n",
      "1692\n",
      "1804\n",
      "1657\n",
      "1889\n",
      "1646\n",
      "1559\n",
      "1650\n",
      "1633\n",
      "1730\n",
      "1574\n",
      "1664\n",
      "1847\n",
      "1779\n",
      "1603\n",
      "1740\n",
      "1584\n",
      "1554\n",
      "1859\n",
      "1639\n",
      "1722\n",
      "1814\n",
      "1704\n",
      "1644\n",
      "1712\n",
      "1589\n",
      "1648\n",
      "1645\n",
      "1796\n",
      "1646\n",
      "1841\n",
      "1631\n",
      "1801\n",
      "1798\n",
      "1804\n",
      "1606\n",
      "1667\n",
      "1784\n",
      "1652\n",
      "1639\n",
      "1651\n",
      "1755\n",
      "1616\n",
      "1623\n",
      "1646\n",
      "1608\n",
      "1699\n",
      "1670\n",
      "1854\n",
      "1599\n",
      "1814\n",
      "1597\n",
      "1876\n",
      "1561\n",
      "1847\n",
      "1669\n",
      "1842\n",
      "1633\n",
      "1837\n",
      "1759\n",
      "1622\n",
      "1664\n",
      "1664\n",
      "1641\n",
      "1622\n",
      "1694\n",
      "1671\n",
      "1560\n",
      "1602\n",
      "1621\n",
      "1844\n",
      "1874\n",
      "1654\n",
      "1712\n",
      "1647\n",
      "1917\n",
      "1927\n",
      "1541\n",
      "1657\n",
      "1681\n",
      "1919\n",
      "1659\n",
      "1623\n",
      "1684\n",
      "1624\n",
      "1648\n",
      "1840\n",
      "1609\n",
      "1727\n",
      "1694\n",
      "1980\n",
      "1613\n",
      "1538\n",
      "1919\n",
      "1666\n",
      "1670\n",
      "1644\n",
      "1904\n",
      "1639\n",
      "1649\n",
      "1693\n",
      "1671\n",
      "1595\n",
      "1620\n",
      "1856\n",
      "1635\n",
      "1671\n",
      "1705\n",
      "1633\n",
      "1703\n",
      "1916\n",
      "1645\n",
      "1855\n",
      "1963\n",
      "1542\n",
      "1556\n",
      "1845\n",
      "1572\n",
      "1650\n",
      "1711\n",
      "1615\n",
      "1683\n",
      "1842\n",
      "1628\n",
      "1630\n",
      "1843\n",
      "1963\n",
      "1641\n",
      "1658\n",
      "1683\n",
      "1663\n",
      "1670\n",
      "1861\n",
      "1682\n",
      "1679\n",
      "1644\n",
      "1564\n",
      "1899\n",
      "1678\n",
      "1866\n",
      "1590\n",
      "1501\n",
      "1690\n",
      "1721\n",
      "1631\n",
      "1663\n",
      "1878\n",
      "1697\n",
      "1713\n",
      "1855\n",
      "1639\n",
      "1768\n",
      "1810\n",
      "1843\n",
      "1644\n",
      "2026\n",
      "1741\n",
      "1633\n",
      "1702\n",
      "1679\n",
      "1630\n",
      "1827\n",
      "1772\n",
      "1685\n",
      "1820\n",
      "1819\n",
      "1765\n",
      "1685\n",
      "1701\n",
      "1603\n",
      "1678\n",
      "1662\n",
      "1641\n",
      "1733\n",
      "1732\n",
      "1970\n",
      "1595\n",
      "1652\n",
      "1725\n",
      "1800\n",
      "1820\n",
      "1686\n"
     ]
    }
   ],
   "source": [
    "\n",
    "for i in df.index :\n",
    "    if (df['Home/Away'][i] == \"A\") :\n",
    "        url = \"http://clubelo.com/\" + str(df['Date'][i]) +\"/\"+ str(df['HomeTeam'][i]).replace(\" \",\"\")\n",
    "        driver.get(url)\n",
    "        elo = driver.find_element_by_css_selector('div[class =\"astblatt\"] b')\n",
    "        print(elo.text)\n",
    "        elo_list.append(elo.text)\n",
    "    else :\n",
    "        url = \"http://clubelo.com/\" + str(df['Date'][i]) +\"/\"+ str(df['AwayTeam'][i]).replace(\" \",\"\")\n",
    "        driver.get(url)\n",
    "        elo = driver.find_element_by_css_selector('div[class =\"astblatt\"] b')\n",
    "        print(elo.text)\n",
    "        elo_list.append(elo.text)"
   ]
  },
  {
   "cell_type": "code",
   "execution_count": 39,
   "metadata": {},
   "outputs": [
    {
     "output_type": "stream",
     "name": "stdout",
     "text": [
      "['1942', '1676', '1675', '1918', '1818', '1676', '1914', '1615', '1675', '1617', '1781', '1749', '1868', '1648', '1647', '1752', '1557', '1653', '1619', '1667', '1679', '1542', '1648', '1904', '1622', '1789', '1878', '1652', '1680', '1622', '1820', '1599', '1618', '1632', '1558', '1841', '1671', '1782', '1646', '1554', '1643', '1676', '1919', '1682', '1644', '1619', '1525', '1683', '1700', '1891', '1668', '1821', '1554', '1659', '1668', '1839', '1606', '1937', '1903', '1596', '1661', '1661', '1834', '1667', '1901', '1600', '1673', '1694', '1868', '1555', '1622', '1807', '1674', '1954', '1608', '1928', '1618', '1650', '1717', '1954', '1807', '1630', '1648', '1804', '1632', '1547', '1578', '1634', '1921', '1589', '1673', '1610', '1647', '1842', '1847', '1586', '1687', '1591', '1642', '1607', '1707', '1746', '1791', '1774', '1911', '1569', '1666', '1831', '1854', '1621', '1601', '1571', '1550', '1922', '1624', '1682', '1696', '1582', '1832', '1594', '1805', '1602', '1551', '1718', '1737', '1692', '1804', '1657', '1889', '1646', '1559', '1650', '1633', '1730', '1574', '1664', '1847', '1779', '1603', '1740', '1584', '1554', '1859', '1639', '1722', '1814', '1704', '1644', '1712', '1589', '1648', '1645', '1796', '1646', '1841', '1631', '1801', '1798', '1804', '1606', '1667', '1784', '1652', '1639', '1651', '1755', '1616', '1623', '1646', '1608', '1699', '1670', '1854', '1599', '1814', '1597', '1876', '1561', '1847', '1669', '1842', '1633', '1837', '1759', '1622', '1664', '1664', '1641', '1622', '1694', '1671', '1560', '1602', '1621', '1844', '1874', '1654', '1712', '1647', '1917', '1927', '1541', '1657', '1681', '1919', '1659', '1623', '1684', '1624', '1648', '1840', '1609', '1727', '1694', '1980', '1613', '1538', '1919', '1666', '1670', '1644', '1904', '1639', '1649', '1693', '1671', '1595', '1620', '1856', '1635', '1671', '1705', '1633', '1703', '1916', '1645', '1855', '1963', '1542', '1556', '1845', '1572', '1650', '1711', '1615', '1683', '1842', '1628', '1630', '1843', '1963', '1641', '1658', '1683', '1663', '1670', '1861', '1682', '1679', '1644', '1564', '1899', '1678', '1866', '1590', '1501', '1690', '1721', '1631', '1663', '1878', '1697', '1713', '1855', '1639', '1768', '1810', '1843', '1644', '2026', '1741', '1633', '1702', '1679', '1630', '1827', '1772', '1685', '1820', '1819', '1765', '1685', '1701', '1603', '1678', '1662', '1641', '1733', '1732', '1970', '1595', '1652', '1725', '1800', '1820', '1686']\n"
     ]
    }
   ],
   "source": [
    "print(elo_list)"
   ]
  },
  {
   "cell_type": "code",
   "execution_count": 1,
   "metadata": {},
   "outputs": [
    {
     "output_type": "error",
     "ename": "NameError",
     "evalue": "name 'elo_list' is not defined",
     "traceback": [
      "\u001b[1;31m---------------------------------------------------------------------------\u001b[0m",
      "\u001b[1;31mNameError\u001b[0m                                 Traceback (most recent call last)",
      "\u001b[1;32m<ipython-input-1-14f68daf3738>\u001b[0m in \u001b[0;36m<module>\u001b[1;34m\u001b[0m\n\u001b[1;32m----> 1\u001b[1;33m \u001b[0mprint\u001b[0m\u001b[1;33m(\u001b[0m\u001b[0mlen\u001b[0m \u001b[1;33m(\u001b[0m\u001b[0melo_list\u001b[0m\u001b[1;33m)\u001b[0m\u001b[1;33m)\u001b[0m\u001b[1;33m\u001b[0m\u001b[1;33m\u001b[0m\u001b[0m\n\u001b[0m",
      "\u001b[1;31mNameError\u001b[0m: name 'elo_list' is not defined"
     ]
    }
   ],
   "source": [
    "print(len (elo_list))"
   ]
  },
  {
   "cell_type": "code",
   "execution_count": 24,
   "metadata": {},
   "outputs": [],
   "source": [
    "driver.close()"
   ]
  },
  {
   "cell_type": "code",
   "execution_count": 33,
   "metadata": {},
   "outputs": [],
   "source": [
    "df2.to_csv(r'C:\\Users\\jacky\\Downloads\\Work\\ESILV\\Projets\\Liverpool\\Test_Dev\\elo_opponent.csv', header = True, index = False)"
   ]
  },
  {
   "cell_type": "code",
   "execution_count": null,
   "metadata": {},
   "outputs": [],
   "source": []
  }
 ]
}