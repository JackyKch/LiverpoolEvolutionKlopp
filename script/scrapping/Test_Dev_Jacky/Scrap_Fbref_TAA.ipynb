{
 "metadata": {
  "language_info": {
   "codemirror_mode": {
    "name": "ipython",
    "version": 3
   },
   "file_extension": ".py",
   "mimetype": "text/x-python",
   "name": "python",
   "nbconvert_exporter": "python",
   "pygments_lexer": "ipython3",
   "version": "3.8.2-final"
  },
  "orig_nbformat": 2,
  "kernelspec": {
   "name": "Python 3.8.2 64-bit",
   "display_name": "Python 3.8.2 64-bit",
   "metadata": {
    "interpreter": {
     "hash": "95e24f6d028694f957b1106e412d23c4f9ba09e8613c65a2aeaf0c0e73a5daa1"
    }
   }
  }
 },
 "nbformat": 4,
 "nbformat_minor": 2,
 "cells": [
  {
   "cell_type": "code",
   "execution_count": 74,
   "metadata": {},
   "outputs": [],
   "source": [
    "from selenium import webdriver"
   ]
  },
  {
   "cell_type": "code",
   "execution_count": 75,
   "metadata": {},
   "outputs": [],
   "source": [
    "options = webdriver.ChromeOptions()"
   ]
  },
  {
   "cell_type": "code",
   "execution_count": 76,
   "metadata": {},
   "outputs": [],
   "source": [
    "options.add_argument(\"--incognito\")"
   ]
  },
  {
   "cell_type": "code",
   "execution_count": 77,
   "metadata": {},
   "outputs": [],
   "source": [
    "driver = webdriver.Chrome(\"./chromedriver.exe\", options= options)"
   ]
  },
  {
   "cell_type": "code",
   "execution_count": 78,
   "metadata": {},
   "outputs": [],
   "source": [
    "driver.get(\"https://fbref.com/en/players/cd1acf9d/all_comps/Trent-Alexander-Arnold-Stats---All-Competitions\")"
   ]
  },
  {
   "cell_type": "code",
   "execution_count": 79,
   "metadata": {},
   "outputs": [],
   "source": [
    "saison = driver.find_elements_by_css_selector('div[id=\"div_stats_standard_ks_expanded\"] tbody tr th')"
   ]
  },
  {
   "cell_type": "code",
   "execution_count": 80,
   "metadata": {},
   "outputs": [],
   "source": [
    "lst_saison = [x.text for x in saison]"
   ]
  },
  {
   "cell_type": "code",
   "execution_count": 81,
   "metadata": {},
   "outputs": [],
   "source": [
    "nbmatchs = driver.find_elements_by_css_selector('div[id=\"div_stats_shooting_ks_expanded\"] tbody tr td[data-stat=\"minutes_90s\"]')"
   ]
  },
  {
   "cell_type": "code",
   "execution_count": 82,
   "metadata": {},
   "outputs": [],
   "source": [
    "lst_nbmatchs = [x.text for x in nbmatchs]"
   ]
  },
  {
   "cell_type": "code",
   "execution_count": 83,
   "metadata": {},
   "outputs": [],
   "source": [
    "assist = driver.find_elements_by_css_selector('div[id=\"div_stats_standard_ks_expanded\"] tbody tr td[data-stat=\"assists\"]')"
   ]
  },
  {
   "cell_type": "code",
   "execution_count": 84,
   "metadata": {},
   "outputs": [],
   "source": [
    "lst_assist = [x.text for x in assist]"
   ]
  },
  {
   "cell_type": "code",
   "execution_count": 85,
   "metadata": {},
   "outputs": [],
   "source": [
    "for i in range(len(lst_assist)):\n",
    "    lst_assist[i] = \"NaN\" if lst_assist[i] =='' else lst_assist[i]"
   ]
  },
  {
   "cell_type": "code",
   "execution_count": 86,
   "metadata": {},
   "outputs": [],
   "source": [
    "crosses = driver.find_elements_by_css_selector('div[id=\"div_stats_passing_types_ks_expanded\"] tbody tr td[data-stat=\"crosses\"]')"
   ]
  },
  {
   "cell_type": "code",
   "execution_count": 87,
   "metadata": {},
   "outputs": [],
   "source": [
    "lst_crosses = [x.text for x in crosses]"
   ]
  },
  {
   "cell_type": "code",
   "execution_count": 88,
   "metadata": {},
   "outputs": [],
   "source": [
    "for i in range(len(lst_crosses)):\n",
    "    lst_crosses[i] = \"NaN\" if lst_crosses[i] =='' else lst_crosses[i]"
   ]
  },
  {
   "cell_type": "code",
   "execution_count": 89,
   "metadata": {},
   "outputs": [],
   "source": [
    "sca = driver.find_elements_by_css_selector('div[id=\"div_stats_gca_ks_expanded\"] tbody tr td[data-stat=\"sca\"]')"
   ]
  },
  {
   "cell_type": "code",
   "execution_count": 90,
   "metadata": {},
   "outputs": [],
   "source": [
    "lst_sca = [x.text for x in sca]"
   ]
  },
  {
   "cell_type": "code",
   "execution_count": 91,
   "metadata": {},
   "outputs": [],
   "source": [
    "for i in range(len(lst_sca)):\n",
    "    lst_sca[i] = \"NaN\" if lst_sca[i] =='' else lst_sca[i]"
   ]
  },
  {
   "cell_type": "code",
   "execution_count": 92,
   "metadata": {},
   "outputs": [],
   "source": [
    "sca90 = driver.find_elements_by_css_selector('div[id=\"div_stats_gca_ks_expanded\"] tbody tr td[data-stat=\"sca_per90\"]')"
   ]
  },
  {
   "cell_type": "code",
   "execution_count": 93,
   "metadata": {},
   "outputs": [],
   "source": [
    "lst_sca90 = [x.text for x in sca90]"
   ]
  },
  {
   "cell_type": "code",
   "execution_count": 94,
   "metadata": {},
   "outputs": [],
   "source": [
    "for i in range(len(lst_sca90)):\n",
    "    lst_sca90[i] = \"NaN\" if lst_sca90[i] =='' else lst_sca90[i]"
   ]
  },
  {
   "cell_type": "code",
   "execution_count": 95,
   "metadata": {},
   "outputs": [],
   "source": [
    "gca = driver.find_elements_by_css_selector('div[id=\"div_stats_gca_ks_expanded\"] tbody tr td[data-stat=\"gca\"]')"
   ]
  },
  {
   "cell_type": "code",
   "execution_count": 96,
   "metadata": {},
   "outputs": [],
   "source": [
    "lst_gca = [x.text for x in gca]"
   ]
  },
  {
   "cell_type": "code",
   "execution_count": 97,
   "metadata": {},
   "outputs": [],
   "source": [
    "for i in range(len(lst_gca)):\n",
    "    lst_gca[i] = \"NaN\" if lst_gca[i] =='' else lst_gca[i]"
   ]
  },
  {
   "cell_type": "code",
   "execution_count": 98,
   "metadata": {},
   "outputs": [],
   "source": [
    "gca90 = driver.find_elements_by_css_selector('div[id=\"div_stats_gca_ks_expanded\"] tbody tr td[data-stat=\"gca_per90\"]')"
   ]
  },
  {
   "cell_type": "code",
   "execution_count": 99,
   "metadata": {},
   "outputs": [],
   "source": [
    "lst_gca90 = [x.text for x in gca90]"
   ]
  },
  {
   "cell_type": "code",
   "execution_count": 100,
   "metadata": {},
   "outputs": [],
   "source": [
    "for i in range(len(lst_gca90)):\n",
    "    lst_gca90[i] = \"NaN\" if lst_gca90[i] =='' else lst_gca90[i]"
   ]
  },
  {
   "cell_type": "code",
   "execution_count": 101,
   "metadata": {},
   "outputs": [],
   "source": [
    "touches = driver.find_elements_by_css_selector('div[id=\"div_stats_possession_ks_expanded\"] tbody tr td[data-stat=\"touches\"]')"
   ]
  },
  {
   "cell_type": "code",
   "execution_count": 102,
   "metadata": {},
   "outputs": [],
   "source": [
    "lst_touches = [x.text for x in touches]"
   ]
  },
  {
   "cell_type": "code",
   "execution_count": 103,
   "metadata": {},
   "outputs": [],
   "source": [
    "for i in range(len(lst_touches)):\n",
    "    lst_touches[i] = \"NaN\" if lst_touches[i] =='' else lst_touches[i]"
   ]
  },
  {
   "cell_type": "code",
   "execution_count": 104,
   "metadata": {},
   "outputs": [],
   "source": [
    "compet = driver.find_elements_by_css_selector('div[id=\"div_stats_standard_ks_expanded\"] tbody tr td[data-stat=\"comp_level\"] a')\n"
   ]
  },
  {
   "cell_type": "code",
   "execution_count": 105,
   "metadata": {},
   "outputs": [],
   "source": [
    "lst_compet = [x.text for x in compet]"
   ]
  },
  {
   "cell_type": "code",
   "execution_count": 106,
   "metadata": {},
   "outputs": [],
   "source": [
    "but = driver.find_elements_by_css_selector('div[id=\"div_stats_standard_ks_expanded\"] tbody tr td[data-stat=\"goals\"]')"
   ]
  },
  {
   "cell_type": "code",
   "execution_count": 107,
   "metadata": {},
   "outputs": [],
   "source": [
    "lst_goals = [x.text for x in but]"
   ]
  },
  {
   "cell_type": "code",
   "execution_count": 108,
   "metadata": {},
   "outputs": [],
   "source": [
    "for i in range(len(lst_goals)):\n",
    "    lst_goals[i] = \"NaN\" if lst_goals[i] =='' else lst_goals[i]"
   ]
  },
  {
   "cell_type": "code",
   "execution_count": 109,
   "metadata": {},
   "outputs": [
    {
     "output_type": "execute_result",
     "data": {
      "text/plain": [
       "'NaN'"
      ]
     },
     "metadata": {},
     "execution_count": 109
    }
   ],
   "source": [
    "lst_saison.pop(6)\n",
    "lst_saison.pop(9)\n",
    "lst_saison.pop(12)\n",
    "lst_saison.pop(-2)\n",
    "\n",
    "lst_compet.pop(6)\n",
    "lst_compet.pop(9)\n",
    "lst_compet.pop(12)\n",
    "lst_compet.pop(-2)\n",
    "\n",
    "lst_assist.pop(6)\n",
    "lst_assist.pop(9)\n",
    "lst_assist.pop(12)\n",
    "lst_assist.pop(-2)\n",
    "\n",
    "lst_goals.pop(6)\n",
    "lst_goals.pop(9)\n",
    "lst_goals.pop(12)\n",
    "lst_goals.pop(-2)"
   ]
  },
  {
   "cell_type": "code",
   "execution_count": 110,
   "metadata": {},
   "outputs": [
    {
     "output_type": "stream",
     "name": "stdout",
     "text": [
      "16\n16\n16\n16\n16\n16\n16\n16\n16\n16\n16\n"
     ]
    }
   ],
   "source": [
    "print(len(lst_assist))\n",
    "print(len(lst_crosses))\n",
    "print(len(lst_gca))\n",
    "print(len(lst_gca90))\n",
    "print(len(lst_sca))\n",
    "print(len(lst_sca90))\n",
    "print(len(lst_touches))\n",
    "print(len(lst_nbmatchs))\n",
    "print(len(lst_saison))\n",
    "print(len(lst_compet))\n",
    "print(len(lst_goals))"
   ]
  },
  {
   "cell_type": "code",
   "execution_count": 111,
   "metadata": {},
   "outputs": [],
   "source": [
    "import pandas as pd"
   ]
  },
  {
   "cell_type": "code",
   "execution_count": 123,
   "metadata": {},
   "outputs": [],
   "source": [
    "dfAlexanderArnold = pd.DataFrame ({\"Saison\" : lst_saison,\n",
    "                                   \"Competition\" : lst_compet,\n",
    "                                   \"90s\" : lst_nbmatchs,\n",
    "                                   \"Goals\" : lst_goals,\n",
    "                                   \"Assists\" : lst_assist,\n",
    "                                   \"Touches\" : lst_touches,\n",
    "                                   \"Crosses\" : lst_crosses,\n",
    "                                   \"SCA\":  lst_sca,\n",
    "                                   \"SCA90\" : lst_sca90,\n",
    "                                   \"GCA\" : lst_gca,\n",
    "                                   \"GCA90\" : lst_gca90})"
   ]
  },
  {
   "cell_type": "code",
   "execution_count": 124,
   "metadata": {},
   "outputs": [
    {
     "output_type": "execute_result",
     "data": {
      "text/plain": [
       "       Saison       Competition   90s Goals Assists Touches Crosses  SCA  \\\n",
       "0   2016-2017           EFL Cup   2.7     0       1     NaN      15  NaN   \n",
       "1   2016-2017            FA Cup   2.0     0       0     NaN     NaN  NaN   \n",
       "2   2016-2017      PL2 — Div. 1  11.9     4       4     NaN     NaN  NaN   \n",
       "3   2016-2017    Premier League   1.9     0       0     NaN       6  NaN   \n",
       "4   2017-2018      PL2 — Div. 1   1.0     0       0     NaN     NaN  NaN   \n",
       "5   2017-2018      Champions Lg   9.1     1       1     NaN      49  NaN   \n",
       "6   2017-2018            FA Cup   1.2     0       0     NaN      13  NaN   \n",
       "7   2017-2018    Premier League  17.5     1       1    1444      67   39   \n",
       "8   2018-2019      Champions Lg  10.2     0       2     831      42   32   \n",
       "9   2018-2019    Premier League  27.4     1      12    2492     111   83   \n",
       "10  2019-2020      Champions Lg   6.5     0       1     792      39   22   \n",
       "11  2019-2020  Community Shield   0.7     0       0     NaN       7  NaN   \n",
       "12  2019-2020    Premier League  35.3     4      13    3520     183  151   \n",
       "13  2019-2020         Super Cup   0.3     0       0     NaN       1  NaN   \n",
       "14  2020-2021      Champions Lg   1.0     0       0      70       1    1   \n",
       "15  2020-2021    Premier League   5.0     0       1     427      23   11   \n",
       "\n",
       "   SCA90  GCA GCA90  \n",
       "0    NaN  NaN   NaN  \n",
       "1    NaN  NaN   NaN  \n",
       "2    NaN  NaN   NaN  \n",
       "3    NaN  NaN   NaN  \n",
       "4    NaN  NaN   NaN  \n",
       "5    NaN  NaN   NaN  \n",
       "6    NaN  NaN   NaN  \n",
       "7   2.23    2  0.11  \n",
       "8   3.13    5  0.49  \n",
       "9   3.03   17  0.62  \n",
       "10  3.40    1  0.15  \n",
       "11   NaN  NaN   NaN  \n",
       "12  4.28   24  0.68  \n",
       "13   NaN  NaN   NaN  \n",
       "14  1.00    0  0.00  \n",
       "15  2.21    1  0.20  "
      ],
      "text/html": "<div>\n<style scoped>\n    .dataframe tbody tr th:only-of-type {\n        vertical-align: middle;\n    }\n\n    .dataframe tbody tr th {\n        vertical-align: top;\n    }\n\n    .dataframe thead th {\n        text-align: right;\n    }\n</style>\n<table border=\"1\" class=\"dataframe\">\n  <thead>\n    <tr style=\"text-align: right;\">\n      <th></th>\n      <th>Saison</th>\n      <th>Competition</th>\n      <th>90s</th>\n      <th>Goals</th>\n      <th>Assists</th>\n      <th>Touches</th>\n      <th>Crosses</th>\n      <th>SCA</th>\n      <th>SCA90</th>\n      <th>GCA</th>\n      <th>GCA90</th>\n    </tr>\n  </thead>\n  <tbody>\n    <tr>\n      <th>0</th>\n      <td>2016-2017</td>\n      <td>EFL Cup</td>\n      <td>2.7</td>\n      <td>0</td>\n      <td>1</td>\n      <td>NaN</td>\n      <td>15</td>\n      <td>NaN</td>\n      <td>NaN</td>\n      <td>NaN</td>\n      <td>NaN</td>\n    </tr>\n    <tr>\n      <th>1</th>\n      <td>2016-2017</td>\n      <td>FA Cup</td>\n      <td>2.0</td>\n      <td>0</td>\n      <td>0</td>\n      <td>NaN</td>\n      <td>NaN</td>\n      <td>NaN</td>\n      <td>NaN</td>\n      <td>NaN</td>\n      <td>NaN</td>\n    </tr>\n    <tr>\n      <th>2</th>\n      <td>2016-2017</td>\n      <td>PL2 — Div. 1</td>\n      <td>11.9</td>\n      <td>4</td>\n      <td>4</td>\n      <td>NaN</td>\n      <td>NaN</td>\n      <td>NaN</td>\n      <td>NaN</td>\n      <td>NaN</td>\n      <td>NaN</td>\n    </tr>\n    <tr>\n      <th>3</th>\n      <td>2016-2017</td>\n      <td>Premier League</td>\n      <td>1.9</td>\n      <td>0</td>\n      <td>0</td>\n      <td>NaN</td>\n      <td>6</td>\n      <td>NaN</td>\n      <td>NaN</td>\n      <td>NaN</td>\n      <td>NaN</td>\n    </tr>\n    <tr>\n      <th>4</th>\n      <td>2017-2018</td>\n      <td>PL2 — Div. 1</td>\n      <td>1.0</td>\n      <td>0</td>\n      <td>0</td>\n      <td>NaN</td>\n      <td>NaN</td>\n      <td>NaN</td>\n      <td>NaN</td>\n      <td>NaN</td>\n      <td>NaN</td>\n    </tr>\n    <tr>\n      <th>5</th>\n      <td>2017-2018</td>\n      <td>Champions Lg</td>\n      <td>9.1</td>\n      <td>1</td>\n      <td>1</td>\n      <td>NaN</td>\n      <td>49</td>\n      <td>NaN</td>\n      <td>NaN</td>\n      <td>NaN</td>\n      <td>NaN</td>\n    </tr>\n    <tr>\n      <th>6</th>\n      <td>2017-2018</td>\n      <td>FA Cup</td>\n      <td>1.2</td>\n      <td>0</td>\n      <td>0</td>\n      <td>NaN</td>\n      <td>13</td>\n      <td>NaN</td>\n      <td>NaN</td>\n      <td>NaN</td>\n      <td>NaN</td>\n    </tr>\n    <tr>\n      <th>7</th>\n      <td>2017-2018</td>\n      <td>Premier League</td>\n      <td>17.5</td>\n      <td>1</td>\n      <td>1</td>\n      <td>1444</td>\n      <td>67</td>\n      <td>39</td>\n      <td>2.23</td>\n      <td>2</td>\n      <td>0.11</td>\n    </tr>\n    <tr>\n      <th>8</th>\n      <td>2018-2019</td>\n      <td>Champions Lg</td>\n      <td>10.2</td>\n      <td>0</td>\n      <td>2</td>\n      <td>831</td>\n      <td>42</td>\n      <td>32</td>\n      <td>3.13</td>\n      <td>5</td>\n      <td>0.49</td>\n    </tr>\n    <tr>\n      <th>9</th>\n      <td>2018-2019</td>\n      <td>Premier League</td>\n      <td>27.4</td>\n      <td>1</td>\n      <td>12</td>\n      <td>2492</td>\n      <td>111</td>\n      <td>83</td>\n      <td>3.03</td>\n      <td>17</td>\n      <td>0.62</td>\n    </tr>\n    <tr>\n      <th>10</th>\n      <td>2019-2020</td>\n      <td>Champions Lg</td>\n      <td>6.5</td>\n      <td>0</td>\n      <td>1</td>\n      <td>792</td>\n      <td>39</td>\n      <td>22</td>\n      <td>3.40</td>\n      <td>1</td>\n      <td>0.15</td>\n    </tr>\n    <tr>\n      <th>11</th>\n      <td>2019-2020</td>\n      <td>Community Shield</td>\n      <td>0.7</td>\n      <td>0</td>\n      <td>0</td>\n      <td>NaN</td>\n      <td>7</td>\n      <td>NaN</td>\n      <td>NaN</td>\n      <td>NaN</td>\n      <td>NaN</td>\n    </tr>\n    <tr>\n      <th>12</th>\n      <td>2019-2020</td>\n      <td>Premier League</td>\n      <td>35.3</td>\n      <td>4</td>\n      <td>13</td>\n      <td>3520</td>\n      <td>183</td>\n      <td>151</td>\n      <td>4.28</td>\n      <td>24</td>\n      <td>0.68</td>\n    </tr>\n    <tr>\n      <th>13</th>\n      <td>2019-2020</td>\n      <td>Super Cup</td>\n      <td>0.3</td>\n      <td>0</td>\n      <td>0</td>\n      <td>NaN</td>\n      <td>1</td>\n      <td>NaN</td>\n      <td>NaN</td>\n      <td>NaN</td>\n      <td>NaN</td>\n    </tr>\n    <tr>\n      <th>14</th>\n      <td>2020-2021</td>\n      <td>Champions Lg</td>\n      <td>1.0</td>\n      <td>0</td>\n      <td>0</td>\n      <td>70</td>\n      <td>1</td>\n      <td>1</td>\n      <td>1.00</td>\n      <td>0</td>\n      <td>0.00</td>\n    </tr>\n    <tr>\n      <th>15</th>\n      <td>2020-2021</td>\n      <td>Premier League</td>\n      <td>5.0</td>\n      <td>0</td>\n      <td>1</td>\n      <td>427</td>\n      <td>23</td>\n      <td>11</td>\n      <td>2.21</td>\n      <td>1</td>\n      <td>0.20</td>\n    </tr>\n  </tbody>\n</table>\n</div>"
     },
     "metadata": {},
     "execution_count": 124
    }
   ],
   "source": [
    "dfAlexanderArnold"
   ]
  },
  {
   "cell_type": "code",
   "execution_count": 125,
   "metadata": {},
   "outputs": [],
   "source": [
    "dfAlexanderArnold = dfAlexanderArnold.drop([0,1,2,3,4,14,15])"
   ]
  },
  {
   "cell_type": "code",
   "execution_count": 126,
   "metadata": {},
   "outputs": [
    {
     "output_type": "execute_result",
     "data": {
      "text/plain": [
       "       Saison       Competition   90s Goals Assists Touches Crosses  SCA  \\\n",
       "5   2017-2018      Champions Lg   9.1     1       1     NaN      49  NaN   \n",
       "6   2017-2018            FA Cup   1.2     0       0     NaN      13  NaN   \n",
       "7   2017-2018    Premier League  17.5     1       1    1444      67   39   \n",
       "8   2018-2019      Champions Lg  10.2     0       2     831      42   32   \n",
       "9   2018-2019    Premier League  27.4     1      12    2492     111   83   \n",
       "10  2019-2020      Champions Lg   6.5     0       1     792      39   22   \n",
       "11  2019-2020  Community Shield   0.7     0       0     NaN       7  NaN   \n",
       "12  2019-2020    Premier League  35.3     4      13    3520     183  151   \n",
       "13  2019-2020         Super Cup   0.3     0       0     NaN       1  NaN   \n",
       "\n",
       "   SCA90  GCA GCA90  \n",
       "5    NaN  NaN   NaN  \n",
       "6    NaN  NaN   NaN  \n",
       "7   2.23    2  0.11  \n",
       "8   3.13    5  0.49  \n",
       "9   3.03   17  0.62  \n",
       "10  3.40    1  0.15  \n",
       "11   NaN  NaN   NaN  \n",
       "12  4.28   24  0.68  \n",
       "13   NaN  NaN   NaN  "
      ],
      "text/html": "<div>\n<style scoped>\n    .dataframe tbody tr th:only-of-type {\n        vertical-align: middle;\n    }\n\n    .dataframe tbody tr th {\n        vertical-align: top;\n    }\n\n    .dataframe thead th {\n        text-align: right;\n    }\n</style>\n<table border=\"1\" class=\"dataframe\">\n  <thead>\n    <tr style=\"text-align: right;\">\n      <th></th>\n      <th>Saison</th>\n      <th>Competition</th>\n      <th>90s</th>\n      <th>Goals</th>\n      <th>Assists</th>\n      <th>Touches</th>\n      <th>Crosses</th>\n      <th>SCA</th>\n      <th>SCA90</th>\n      <th>GCA</th>\n      <th>GCA90</th>\n    </tr>\n  </thead>\n  <tbody>\n    <tr>\n      <th>5</th>\n      <td>2017-2018</td>\n      <td>Champions Lg</td>\n      <td>9.1</td>\n      <td>1</td>\n      <td>1</td>\n      <td>NaN</td>\n      <td>49</td>\n      <td>NaN</td>\n      <td>NaN</td>\n      <td>NaN</td>\n      <td>NaN</td>\n    </tr>\n    <tr>\n      <th>6</th>\n      <td>2017-2018</td>\n      <td>FA Cup</td>\n      <td>1.2</td>\n      <td>0</td>\n      <td>0</td>\n      <td>NaN</td>\n      <td>13</td>\n      <td>NaN</td>\n      <td>NaN</td>\n      <td>NaN</td>\n      <td>NaN</td>\n    </tr>\n    <tr>\n      <th>7</th>\n      <td>2017-2018</td>\n      <td>Premier League</td>\n      <td>17.5</td>\n      <td>1</td>\n      <td>1</td>\n      <td>1444</td>\n      <td>67</td>\n      <td>39</td>\n      <td>2.23</td>\n      <td>2</td>\n      <td>0.11</td>\n    </tr>\n    <tr>\n      <th>8</th>\n      <td>2018-2019</td>\n      <td>Champions Lg</td>\n      <td>10.2</td>\n      <td>0</td>\n      <td>2</td>\n      <td>831</td>\n      <td>42</td>\n      <td>32</td>\n      <td>3.13</td>\n      <td>5</td>\n      <td>0.49</td>\n    </tr>\n    <tr>\n      <th>9</th>\n      <td>2018-2019</td>\n      <td>Premier League</td>\n      <td>27.4</td>\n      <td>1</td>\n      <td>12</td>\n      <td>2492</td>\n      <td>111</td>\n      <td>83</td>\n      <td>3.03</td>\n      <td>17</td>\n      <td>0.62</td>\n    </tr>\n    <tr>\n      <th>10</th>\n      <td>2019-2020</td>\n      <td>Champions Lg</td>\n      <td>6.5</td>\n      <td>0</td>\n      <td>1</td>\n      <td>792</td>\n      <td>39</td>\n      <td>22</td>\n      <td>3.40</td>\n      <td>1</td>\n      <td>0.15</td>\n    </tr>\n    <tr>\n      <th>11</th>\n      <td>2019-2020</td>\n      <td>Community Shield</td>\n      <td>0.7</td>\n      <td>0</td>\n      <td>0</td>\n      <td>NaN</td>\n      <td>7</td>\n      <td>NaN</td>\n      <td>NaN</td>\n      <td>NaN</td>\n      <td>NaN</td>\n    </tr>\n    <tr>\n      <th>12</th>\n      <td>2019-2020</td>\n      <td>Premier League</td>\n      <td>35.3</td>\n      <td>4</td>\n      <td>13</td>\n      <td>3520</td>\n      <td>183</td>\n      <td>151</td>\n      <td>4.28</td>\n      <td>24</td>\n      <td>0.68</td>\n    </tr>\n    <tr>\n      <th>13</th>\n      <td>2019-2020</td>\n      <td>Super Cup</td>\n      <td>0.3</td>\n      <td>0</td>\n      <td>0</td>\n      <td>NaN</td>\n      <td>1</td>\n      <td>NaN</td>\n      <td>NaN</td>\n      <td>NaN</td>\n      <td>NaN</td>\n    </tr>\n  </tbody>\n</table>\n</div>"
     },
     "metadata": {},
     "execution_count": 126
    }
   ],
   "source": [
    "dfAlexanderArnold"
   ]
  },
  {
   "cell_type": "code",
   "execution_count": 127,
   "metadata": {},
   "outputs": [],
   "source": [
    "nomfichier = \"AlexanderArnold_data_all.csv\""
   ]
  },
  {
   "cell_type": "code",
   "execution_count": 128,
   "metadata": {},
   "outputs": [],
   "source": [
    "dfAlexanderArnold.to_csv(nomfichier, header = True, index = False)"
   ]
  },
  {
   "cell_type": "code",
   "execution_count": 119,
   "metadata": {},
   "outputs": [],
   "source": [
    "driver.close()"
   ]
  },
  {
   "cell_type": "code",
   "execution_count": null,
   "metadata": {},
   "outputs": [],
   "source": []
  }
 ]
}