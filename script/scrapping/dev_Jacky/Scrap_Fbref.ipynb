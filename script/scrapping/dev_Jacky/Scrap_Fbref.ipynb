{
 "cells": [
  {
   "cell_type": "code",
   "execution_count": 1,
   "metadata": {},
   "outputs": [],
   "source": [
    "from selenium import webdriver"
   ]
  },
  {
   "cell_type": "code",
   "execution_count": 2,
   "metadata": {},
   "outputs": [],
   "source": [
    "options = webdriver.ChromeOptions()"
   ]
  },
  {
   "cell_type": "code",
   "execution_count": 3,
   "metadata": {},
   "outputs": [],
   "source": [
    "options.add_argument(\"--incognito\")"
   ]
  },
  {
   "cell_type": "code",
   "execution_count": 4,
   "metadata": {},
   "outputs": [],
   "source": [
    "driver = webdriver.Chrome(\"./chromedriver.exe\", options=options)"
   ]
  },
  {
   "cell_type": "code",
   "execution_count": 5,
   "metadata": {},
   "outputs": [],
   "source": [
    "driver.get(\"https://fbref.com/en/squads/822bd0ba/2012-2013/Liverpool-Stats\")"
   ]
  },
  {
   "cell_type": "code",
   "execution_count": 6,
   "metadata": {},
   "outputs": [],
   "source": [
    "element = driver.find_elements_by_css_selector('div[id=\"all_stats_standard_602\"] div[class=\"table_outer_container\"] div[class=\"overthrow table_container\"] table[class=\"min_width sortable stats_table shade_zero now_sortable\"] tbody td[data-stat = \"age\"]')"
   ]
  },
  {
   "cell_type": "code",
   "execution_count": 9,
   "metadata": {},
   "outputs": [],
   "source": [
    "import statistics as stats\n",
    "import numpy as np"
   ]
  },
  {
   "cell_type": "code",
   "execution_count": 11,
   "metadata": {},
   "outputs": [],
   "source": [
    "dictagemoyen = {}\n"
   ]
  },
  {
   "cell_type": "code",
   "execution_count": 22,
   "metadata": {},
   "outputs": [],
   "source": [
    "for i in range (12,17):\n",
    "    url = f\"https://fbref.com/en/squads/822bd0ba/20{i}-20{i+1}/Liverpool-Stats\"\n",
    "    driver.get(url)\n",
    "    element = driver.find_elements_by_css_selector('div[class=\"table_outer_container\"] div[class=\"overthrow table_container\"] table[class=\"min_width sortable stats_table shade_zero now_sortable\"] tbody td[data-stat = \"age\"]')\n",
    "    lst_age= [x.text for x in element]\n",
    "    lst_age= [int(i) for i in lst_age]\n",
    "    saison= '20'+str(i)+'/20'+str(i+1)\n",
    "    dictagemoyen[saison] = np.mean(lst_age)\n",
    "    \n"
   ]
  },
  {
   "cell_type": "code",
   "execution_count": 23,
   "metadata": {},
   "outputs": [
    {
     "data": {
      "text/plain": [
       "{'2012/2013': 23.95614035087719,\n",
       " '2013/2014': 23.81188118811881,\n",
       " '2014/2015': 24.481927710843372,\n",
       " '2015/2016': 23.11111111111111,\n",
       " '2016/2017': 23.986842105263158,\n",
       " '2017/2018': 24.029411764705884,\n",
       " '2018/2019': 25.25925925925926,\n",
       " '2019/2020': 25.29032258064516}"
      ]
     },
     "execution_count": 23,
     "metadata": {},
     "output_type": "execute_result"
    }
   ],
   "source": [
    "dictagemoyen"
   ]
  },
  {
   "cell_type": "code",
   "execution_count": 24,
   "metadata": {},
   "outputs": [],
   "source": [
    "url = \"https://fbref.com/en/squads/822bd0ba/2019-2020/Liverpool-Stats\"\n",
    "driver.get(url)\n",
    "element = driver.find_elements_by_css_selector('div[class=\"table_outer_container\"] div[class=\"overthrow table_container\"] tbody tr td[data-stat = \"age\"]')\n"
   ]
  },
  {
   "cell_type": "code",
   "execution_count": 25,
   "metadata": {},
   "outputs": [],
   "source": [
    "lst_age_2019_2020 = [x.text for x in element]\n",
    "    "
   ]
  },
  {
   "cell_type": "code",
   "execution_count": 26,
   "metadata": {},
   "outputs": [],
   "source": [
    "for i in range (17,20):\n",
    "    url = f\"https://fbref.com/en/squads/822bd0ba/20{i}-20{i+1}/Liverpool-Stats\"\n",
    "    driver.get(url)\n",
    "    element = driver.find_elements_by_css_selector('div[class=\"table_outer_container\"] div[class=\"overthrow table_container\"] tbody tr td[data-stat = \"age\"]')\n",
    "    lst_age= [x.text for x in element]\n",
    "    lst_age= [int(i) for i in lst_age]\n",
    "    saison= '20'+str(i)+'/20'+str(i+1)\n",
    "    dictagemoyen[saison] = np.mean(lst_age)"
   ]
  },
  {
   "cell_type": "code",
   "execution_count": 27,
   "metadata": {},
   "outputs": [
    {
     "data": {
      "text/plain": [
       "{'2012/2013': 23.95614035087719,\n",
       " '2013/2014': 23.81188118811881,\n",
       " '2014/2015': 24.481927710843372,\n",
       " '2015/2016': 23.11111111111111,\n",
       " '2016/2017': 23.986842105263158,\n",
       " '2017/2018': 24.029411764705884,\n",
       " '2018/2019': 25.25925925925926,\n",
       " '2019/2020': 25.29032258064516}"
      ]
     },
     "execution_count": 27,
     "metadata": {},
     "output_type": "execute_result"
    }
   ],
   "source": [
    "dictagemoyen"
   ]
  },
  {
   "cell_type": "code",
   "execution_count": 34,
   "metadata": {},
   "outputs": [],
   "source": [
    "driver.close()"
   ]
  },
  {
   "cell_type": "code",
   "execution_count": 28,
   "metadata": {},
   "outputs": [],
   "source": [
    "import pandas as pd"
   ]
  },
  {
   "cell_type": "code",
   "execution_count": 39,
   "metadata": {},
   "outputs": [],
   "source": [
    "df = pd.DataFrame.from_dict(dictagemoyen, orient = 'index', columns=[\"Age moyen de l'effectif\"],)"
   ]
  },
  {
   "cell_type": "code",
   "execution_count": 40,
   "metadata": {},
   "outputs": [
    {
     "data": {
      "text/html": [
       "<div>\n",
       "<style scoped>\n",
       "    .dataframe tbody tr th:only-of-type {\n",
       "        vertical-align: middle;\n",
       "    }\n",
       "\n",
       "    .dataframe tbody tr th {\n",
       "        vertical-align: top;\n",
       "    }\n",
       "\n",
       "    .dataframe thead th {\n",
       "        text-align: right;\n",
       "    }\n",
       "</style>\n",
       "<table border=\"1\" class=\"dataframe\">\n",
       "  <thead>\n",
       "    <tr style=\"text-align: right;\">\n",
       "      <th></th>\n",
       "      <th>Age moyen de l'effectif</th>\n",
       "    </tr>\n",
       "  </thead>\n",
       "  <tbody>\n",
       "    <tr>\n",
       "      <th>2012/2013</th>\n",
       "      <td>23.956140</td>\n",
       "    </tr>\n",
       "    <tr>\n",
       "      <th>2013/2014</th>\n",
       "      <td>23.811881</td>\n",
       "    </tr>\n",
       "    <tr>\n",
       "      <th>2014/2015</th>\n",
       "      <td>24.481928</td>\n",
       "    </tr>\n",
       "    <tr>\n",
       "      <th>2015/2016</th>\n",
       "      <td>23.111111</td>\n",
       "    </tr>\n",
       "    <tr>\n",
       "      <th>2016/2017</th>\n",
       "      <td>23.986842</td>\n",
       "    </tr>\n",
       "    <tr>\n",
       "      <th>2017/2018</th>\n",
       "      <td>24.029412</td>\n",
       "    </tr>\n",
       "    <tr>\n",
       "      <th>2018/2019</th>\n",
       "      <td>25.259259</td>\n",
       "    </tr>\n",
       "    <tr>\n",
       "      <th>2019/2020</th>\n",
       "      <td>25.290323</td>\n",
       "    </tr>\n",
       "  </tbody>\n",
       "</table>\n",
       "</div>"
      ],
      "text/plain": [
       "           Age moyen de l'effectif\n",
       "2012/2013                23.956140\n",
       "2013/2014                23.811881\n",
       "2014/2015                24.481928\n",
       "2015/2016                23.111111\n",
       "2016/2017                23.986842\n",
       "2017/2018                24.029412\n",
       "2018/2019                25.259259\n",
       "2019/2020                25.290323"
      ]
     },
     "execution_count": 40,
     "metadata": {},
     "output_type": "execute_result"
    }
   ],
   "source": [
    "df"
   ]
  },
  {
   "cell_type": "code",
   "execution_count": 41,
   "metadata": {},
   "outputs": [],
   "source": [
    "df.to_csv(r'C:\\Users\\jacky\\Downloads\\Work\\ESILV\\Projets\\Liverpool\\Test_Dev\\age.csv', header = True, index = False)"
   ]
  },
  {
   "cell_type": "code",
   "execution_count": null,
   "metadata": {},
   "outputs": [],
   "source": []
  }
 ],
 "metadata": {
  "kernelspec": {
   "display_name": "Python 3",
   "language": "python",
   "name": "python3"
  },
  "language_info": {
   "codemirror_mode": {
    "name": "ipython",
    "version": 3
   },
   "file_extension": ".py",
   "mimetype": "text/x-python",
   "name": "python",
   "nbconvert_exporter": "python",
   "pygments_lexer": "ipython3",
   "version": "3.7.1"
  }
 },
 "nbformat": 4,
 "nbformat_minor": 2
}
