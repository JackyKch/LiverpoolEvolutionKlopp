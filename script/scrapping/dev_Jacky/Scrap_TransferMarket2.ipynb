{
 "metadata": {
  "language_info": {
   "codemirror_mode": {
    "name": "ipython",
    "version": 3
   },
   "file_extension": ".py",
   "mimetype": "text/x-python",
   "name": "python",
   "nbconvert_exporter": "python",
   "pygments_lexer": "ipython3",
   "version": "3.8.2-final"
  },
  "orig_nbformat": 2,
  "kernelspec": {
   "name": "python3",
   "display_name": "Python 3"
  }
 },
 "nbformat": 4,
 "nbformat_minor": 2,
 "cells": [
  {
   "cell_type": "code",
   "execution_count": 1,
   "metadata": {},
   "outputs": [],
   "source": [
    "from selenium import webdriver"
   ]
  },
  {
   "cell_type": "code",
   "execution_count": 2,
   "metadata": {},
   "outputs": [],
   "source": [
    "import pandas as pd "
   ]
  },
  {
   "cell_type": "code",
   "execution_count": 3,
   "metadata": {},
   "outputs": [],
   "source": [
    "options = webdriver.ChromeOptions()"
   ]
  },
  {
   "cell_type": "code",
   "execution_count": 4,
   "metadata": {},
   "outputs": [],
   "source": [
    "options.add_argument(\"--incognito\")"
   ]
  },
  {
   "cell_type": "code",
   "execution_count": 5,
   "metadata": {},
   "outputs": [],
   "source": [
    "driver = webdriver.Chrome(\"./chromedriver.exe\", options=options)"
   ]
  },
  {
   "cell_type": "code",
   "execution_count": 6,
   "metadata": {},
   "outputs": [],
   "source": [
    "driver.get(\"https://www.transfermarkt.com/fc-liverpool/alletransfers/verein/31\")"
   ]
  },
  {
   "source": [
    "# Transferts 2020"
   ],
   "cell_type": "markdown",
   "metadata": {}
  },
  {
   "source": [
    "## Liste des joueurs arrivés en 2020"
   ],
   "cell_type": "markdown",
   "metadata": {}
  },
  {
   "cell_type": "code",
   "execution_count": 32,
   "metadata": {},
   "outputs": [],
   "source": [
    "element = driver.find_elements_by_xpath('//div[@class = \"large-6 columns\"] //table //tbody //tr //a[@class = \"spielprofil_tooltip tooltipstered\"]')"
   ]
  },
  {
   "cell_type": "code",
   "execution_count": 41,
   "metadata": {},
   "outputs": [],
   "source": [
    "lst_players2020 = []\n",
    "for i in range(7):\n",
    "    lst_players2020.append(element[i].text)"
   ]
  },
  {
   "cell_type": "code",
   "execution_count": 42,
   "metadata": {},
   "outputs": [
    {
     "output_type": "execute_result",
     "data": {
      "text/plain": [
       "['Diogo Jota',\n",
       " 'Thiago',\n",
       " 'Konstantinos Tsimikas',\n",
       " 'Ben Woodburn',\n",
       " 'Sheyi Ojo',\n",
       " 'Harry Wilson',\n",
       " 'Curtis Jones']"
      ]
     },
     "metadata": {},
     "execution_count": 42
    }
   ],
   "source": [
    "lst_players2020"
   ]
  },
  {
   "source": [
    "## Liste des équipes d'arrivées 2020"
   ],
   "cell_type": "markdown",
   "metadata": {}
  },
  {
   "cell_type": "code",
   "execution_count": 53,
   "metadata": {},
   "outputs": [],
   "source": [
    "element = driver.find_elements_by_xpath('//div[@class = \"large-6 columns\"] //table //tbody //tr //td[@class = \"no-border-links\"] //a[@class = \"vereinprofil_tooltip tooltipstered\"]')"
   ]
  },
  {
   "cell_type": "code",
   "execution_count": 55,
   "metadata": {},
   "outputs": [],
   "source": [
    "lst_teams2020 = []\n",
    "for i in range(7):\n",
    "    lst_teams2020.append(element[i].text)"
   ]
  },
  {
   "cell_type": "code",
   "execution_count": 56,
   "metadata": {},
   "outputs": [
    {
     "output_type": "execute_result",
     "data": {
      "text/plain": [
       "['Wolves',\n",
       " 'Bayern Munich',\n",
       " 'Olympiacos',\n",
       " 'Blackpool',\n",
       " 'Cardiff',\n",
       " 'Cardiff',\n",
       " 'Liverpool U23']"
      ]
     },
     "metadata": {},
     "execution_count": 56
    }
   ],
   "source": [
    "lst_teams2020"
   ]
  },
  {
   "source": [
    "## Prix des transferts 2020"
   ],
   "cell_type": "markdown",
   "metadata": {}
  },
  {
   "cell_type": "code",
   "execution_count": 76,
   "metadata": {},
   "outputs": [],
   "source": [
    "element = driver.find_elements_by_xpath('//div[@class = \"large-6 columns\"] //table //tbody //tr //td[@class = \"rechts\"]')"
   ]
  },
  {
   "cell_type": "code",
   "execution_count": 77,
   "metadata": {},
   "outputs": [],
   "source": [
    "lst_prix2020 = []\n",
    "for i in range(7):\n",
    "    lst_prix2020.append(element[i].text)"
   ]
  },
  {
   "cell_type": "code",
   "execution_count": 78,
   "metadata": {},
   "outputs": [
    {
     "output_type": "execute_result",
     "data": {
      "text/plain": [
       "['€44.70m',\n",
       " '€22.00m',\n",
       " '€13.00m',\n",
       " 'End of loan',\n",
       " 'End of loan',\n",
       " 'End of loan',\n",
       " '-']"
      ]
     },
     "metadata": {},
     "execution_count": 78
    }
   ],
   "source": [
    "lst_prix2020"
   ]
  },
  {
   "source": [
    "# Transferts 2019"
   ],
   "cell_type": "markdown",
   "metadata": {}
  },
  {
   "source": [
    "## Liste des joueurs arrivés en 2019"
   ],
   "cell_type": "markdown",
   "metadata": {}
  },
  {
   "cell_type": "code",
   "execution_count": 61,
   "metadata": {},
   "outputs": [],
   "source": [
    "element = driver.find_elements_by_xpath('//div[@class = \"large-6 columns\"] //table //tbody //tr //a[@class = \"spielprofil_tooltip tooltipstered\"]')"
   ]
  },
  {
   "cell_type": "code",
   "execution_count": 65,
   "metadata": {},
   "outputs": [],
   "source": [
    "lst_players2019 = []\n",
    "for i in range(19,29):\n",
    "    lst_players2019.append(element[i].text)"
   ]
  },
  {
   "cell_type": "code",
   "execution_count": 66,
   "metadata": {},
   "outputs": [
    {
     "output_type": "execute_result",
     "data": {
      "text/plain": [
       "['Takumi Minamino',\n",
       " 'Sepp van den Berg',\n",
       " 'Adrián',\n",
       " 'Andy Lonergan',\n",
       " 'Nathaniel Phillips',\n",
       " 'Caoimhin Kelleher',\n",
       " 'Sheyi Ojo',\n",
       " 'Loris Karius',\n",
       " 'Neco Williams',\n",
       " 'Nathaniel Phillips']"
      ]
     },
     "metadata": {},
     "execution_count": 66
    }
   ],
   "source": [
    "lst_players2019"
   ]
  },
  {
   "source": [
    "## Liste des équipes d'arrivées 2019"
   ],
   "cell_type": "markdown",
   "metadata": {}
  },
  {
   "cell_type": "code",
   "execution_count": 67,
   "metadata": {},
   "outputs": [],
   "source": [
    "element = driver.find_elements_by_xpath('//div[@class = \"large-6 columns\"] //table //tbody //tr //td[@class = \"no-border-links\"] //a[@class = \"vereinprofil_tooltip tooltipstered\"]')"
   ]
  },
  {
   "cell_type": "code",
   "execution_count": 94,
   "metadata": {},
   "outputs": [],
   "source": [
    "lst_teams2019 = []\n",
    "for i in range(18,28):\n",
    "    lst_teams2019.append(element[i].text)"
   ]
  },
  {
   "cell_type": "code",
   "execution_count": 95,
   "metadata": {},
   "outputs": [
    {
     "output_type": "execute_result",
     "data": {
      "text/plain": [
       "['RB Salzburg',\n",
       " 'PEC Zwolle',\n",
       " 'West Ham',\n",
       " 'Middlesbrough',\n",
       " 'Liverpool U23',\n",
       " 'Liverpool U23',\n",
       " 'Rangers',\n",
       " 'Besiktas',\n",
       " 'Liverpool U23',\n",
       " 'VfB Stuttgart']"
      ]
     },
     "metadata": {},
     "execution_count": 95
    }
   ],
   "source": [
    "lst_teams2019"
   ]
  },
  {
   "source": [
    "## Prix des transferts en 2019"
   ],
   "cell_type": "markdown",
   "metadata": {}
  },
  {
   "cell_type": "code",
   "execution_count": 72,
   "metadata": {},
   "outputs": [],
   "source": [
    "element = driver.find_elements_by_xpath('//div[@class = \"large-6 columns\"] //table //tbody //tr //td[@class = \"rechts\"]')"
   ]
  },
  {
   "cell_type": "code",
   "execution_count": 81,
   "metadata": {},
   "outputs": [],
   "source": [
    "lst_prix2019 = []\n",
    "for i in range(19,29):\n",
    "    lst_prix2019.append(element[i].text)"
   ]
  },
  {
   "cell_type": "code",
   "execution_count": 82,
   "metadata": {},
   "outputs": [
    {
     "output_type": "execute_result",
     "data": {
      "text/plain": [
       "['€8.50m',\n",
       " '€1.90m',\n",
       " 'Free transfer',\n",
       " 'Free transfer',\n",
       " '-',\n",
       " '-',\n",
       " 'End of loan',\n",
       " 'End of loan',\n",
       " '-',\n",
       " 'End of loan']"
      ]
     },
     "metadata": {},
     "execution_count": 82
    }
   ],
   "source": [
    "lst_prix2019"
   ]
  },
  {
   "source": [
    "# Transferts 2018"
   ],
   "cell_type": "markdown",
   "metadata": {}
  },
  {
   "source": [
    "## Liste des joueurs arrivés en 2018"
   ],
   "cell_type": "markdown",
   "metadata": {}
  },
  {
   "cell_type": "code",
   "execution_count": 83,
   "metadata": {},
   "outputs": [],
   "source": [
    "element = driver.find_elements_by_xpath('//div[@class = \"large-6 columns\"] //table //tbody //tr //a[@class = \"spielprofil_tooltip tooltipstered\"]')"
   ]
  },
  {
   "cell_type": "code",
   "execution_count": 85,
   "metadata": {},
   "outputs": [],
   "source": [
    "lst_players2018 = []\n",
    "for i in range(45,61):\n",
    "    lst_players2018.append(element[i].text)"
   ]
  },
  {
   "cell_type": "code",
   "execution_count": 86,
   "metadata": {},
   "outputs": [
    {
     "output_type": "execute_result",
     "data": {
      "text/plain": [
       "['Alisson',\n",
       " 'Naby Keïta',\n",
       " 'Fabinho',\n",
       " 'Xherdan Shaqiri',\n",
       " 'Taiwo Awoniyi',\n",
       " 'Ben Woodburn',\n",
       " 'Connor Randall',\n",
       " 'Ádám Bogdán',\n",
       " 'Harry Wilson',\n",
       " 'Ryan Kent',\n",
       " 'Nathaniel Clyne',\n",
       " 'Ovie Ejaria',\n",
       " 'Harry Wilson',\n",
       " 'Ryan Kent',\n",
       " 'Rhian Brewster',\n",
       " 'Ovie Ejaria']"
      ]
     },
     "metadata": {},
     "execution_count": 86
    }
   ],
   "source": [
    "lst_players2018"
   ]
  },
  {
   "source": [
    "## Liste des équipes d'arrivée 2018"
   ],
   "cell_type": "markdown",
   "metadata": {}
  },
  {
   "cell_type": "code",
   "execution_count": 87,
   "metadata": {},
   "outputs": [],
   "source": [
    "element = driver.find_elements_by_xpath('//div[@class = \"large-6 columns\"] //table //tbody //tr //td[@class = \"no-border-links\"] //a[@class = \"vereinprofil_tooltip tooltipstered\"]')\n",
    "lst_teams2018 = []\n",
    "for i in range(42,58):\n",
    "    lst_teams2018.append(element[i].text)"
   ]
  },
  {
   "cell_type": "code",
   "execution_count": 93,
   "metadata": {},
   "outputs": [
    {
     "output_type": "execute_result",
     "data": {
      "text/plain": [
       "['AS Roma',\n",
       " 'RB Leipzig',\n",
       " 'Monaco',\n",
       " 'Stoke City',\n",
       " 'KAA Gent',\n",
       " 'Sheff Utd',\n",
       " 'Rochdale',\n",
       " 'Hibernian FC',\n",
       " 'Derby',\n",
       " 'Rangers',\n",
       " 'Bournemouth',\n",
       " 'Reading',\n",
       " 'Liverpool U23',\n",
       " 'Liverpool U23',\n",
       " 'Liverpool U23',\n",
       " 'Rangers']"
      ]
     },
     "metadata": {},
     "execution_count": 93
    }
   ],
   "source": [
    "lst_teams2018"
   ]
  },
  {
   "source": [
    "## Prix des joueurs 2018"
   ],
   "cell_type": "markdown",
   "metadata": {}
  },
  {
   "cell_type": "code",
   "execution_count": 98,
   "metadata": {},
   "outputs": [],
   "source": [
    "element = driver.find_elements_by_xpath('//div[@class = \"large-6 columns\"] //table //tbody //tr //td[@class = \"rechts\"]')\n",
    "lst_prix2018 = []\n",
    "for i in range(45,61):\n",
    "    lst_prix2018.append(element[i].text)"
   ]
  },
  {
   "cell_type": "code",
   "execution_count": 100,
   "metadata": {},
   "outputs": [
    {
     "output_type": "execute_result",
     "data": {
      "text/plain": [
       "['€62.50m',\n",
       " '€60.00m',\n",
       " '€45.00m',\n",
       " '€14.70m',\n",
       " 'End of loan',\n",
       " 'End of loan',\n",
       " 'End of loan',\n",
       " 'End of loan',\n",
       " 'End of loan',\n",
       " 'End of loan',\n",
       " 'End of loan',\n",
       " 'End of loan',\n",
       " '-',\n",
       " '-',\n",
       " '-',\n",
       " 'End of loan']"
      ]
     },
     "metadata": {},
     "execution_count": 100
    }
   ],
   "source": [
    "lst_prix2018"
   ]
  },
  {
   "source": [
    "# Transferts 2017"
   ],
   "cell_type": "markdown",
   "metadata": {}
  },
  {
   "source": [
    "## Liste des joueurs arrivés en 2017"
   ],
   "cell_type": "markdown",
   "metadata": {}
  },
  {
   "cell_type": "code",
   "execution_count": 114,
   "metadata": {},
   "outputs": [],
   "source": [
    "element = driver.find_elements_by_xpath('//div[@class = \"large-6 columns\"] //table //tbody //tr //a[@class = \"spielprofil_tooltip tooltipstered\"]')\n",
    "lst_players2017 = []\n",
    "for i in range(81,93):\n",
    "    lst_players2017.append(element[i].text)"
   ]
  },
  {
   "cell_type": "code",
   "execution_count": 115,
   "metadata": {},
   "outputs": [
    {
     "output_type": "execute_result",
     "data": {
      "text/plain": [
       "['Virgil van Dijk',\n",
       " 'Mohamed Salah',\n",
       " 'Alex Oxlade-Chamberlain',\n",
       " 'Andrew Robertson',\n",
       " 'Tony Gallacher',\n",
       " 'Dominic Solanke',\n",
       " 'Connor Randall',\n",
       " 'Sheyi Ojo',\n",
       " 'Marko Grujic',\n",
       " 'Daniel Sturridge',\n",
       " 'Ovie Ejaria',\n",
       " 'Jon Flanagan']"
      ]
     },
     "metadata": {},
     "execution_count": 115
    }
   ],
   "source": [
    "lst_players2017"
   ]
  },
  {
   "source": [
    "## Liste des équipes d'arrivée 2017"
   ],
   "cell_type": "markdown",
   "metadata": {}
  },
  {
   "cell_type": "code",
   "execution_count": 110,
   "metadata": {},
   "outputs": [],
   "source": [
    "element = driver.find_elements_by_xpath('//div[@class = \"large-6 columns\"] //table //tbody //tr //td[@class = \"no-border-links\"] //a[@class = \"vereinprofil_tooltip tooltipstered\"]')\n",
    "lst_teams2017 = []\n",
    "for i in range(78,90):\n",
    "    lst_teams2017.append(element[i].text)"
   ]
  },
  {
   "cell_type": "code",
   "execution_count": 111,
   "metadata": {},
   "outputs": [
    {
     "output_type": "execute_result",
     "data": {
      "text/plain": [
       "['Southampton',\n",
       " 'AS Roma',\n",
       " 'Arsenal',\n",
       " 'Hull City',\n",
       " 'Falkirk FC',\n",
       " 'Chelsea U23',\n",
       " 'Heart of Midl.',\n",
       " 'Fulham',\n",
       " 'Cardiff',\n",
       " 'West Brom',\n",
       " 'Sunderland',\n",
       " 'Bolton']"
      ]
     },
     "metadata": {},
     "execution_count": 111
    }
   ],
   "source": [
    "lst_teams2017"
   ]
  },
  {
   "source": [
    "## Prix des joueurs arrivés 2017"
   ],
   "cell_type": "markdown",
   "metadata": {}
  },
  {
   "cell_type": "code",
   "execution_count": 116,
   "metadata": {},
   "outputs": [],
   "source": [
    "element = driver.find_elements_by_xpath('//div[@class = \"large-6 columns\"] //table //tbody //tr //td[@class = \"rechts\"]')\n",
    "lst_prix2017 = []\n",
    "for i in range(81,93):\n",
    "    lst_prix2017.append(element[i].text)"
   ]
  },
  {
   "cell_type": "code",
   "execution_count": 117,
   "metadata": {},
   "outputs": [
    {
     "output_type": "execute_result",
     "data": {
      "text/plain": [
       "['€84.65m',\n",
       " '€42.00m',\n",
       " '€38.00m',\n",
       " '€9.00m',\n",
       " '€228Th.',\n",
       " 'Free transfer',\n",
       " 'End of loan',\n",
       " 'End of loan',\n",
       " 'End of loan',\n",
       " 'End of loan',\n",
       " 'End of loan',\n",
       " 'End of loan']"
      ]
     },
     "metadata": {},
     "execution_count": 117
    }
   ],
   "source": [
    "lst_prix2017"
   ]
  },
  {
   "source": [
    "# Transferts 2016"
   ],
   "cell_type": "markdown",
   "metadata": {}
  },
  {
   "source": [
    "## Joueurs 2016"
   ],
   "cell_type": "markdown",
   "metadata": {}
  },
  {
   "cell_type": "code",
   "execution_count": 121,
   "metadata": {},
   "outputs": [],
   "source": [
    "element = driver.find_elements_by_xpath('//div[@class = \"large-6 columns\"] //table //tbody //tr //a[@class = \"spielprofil_tooltip tooltipstered\"]')\n",
    "lst_players2016 = []\n",
    "for i in range(108,123):\n",
    "    lst_players2016.append(element[i].text)"
   ]
  },
  {
   "cell_type": "code",
   "execution_count": 122,
   "metadata": {},
   "outputs": [
    {
     "output_type": "execute_result",
     "data": {
      "text/plain": [
       "['Sadio Mané',\n",
       " 'Georginio Wijnaldum',\n",
       " 'Loris Karius',\n",
       " 'Ragnar Klavan',\n",
       " 'Joel Matip',\n",
       " 'Alexander Manninger',\n",
       " 'Lazar Markovic',\n",
       " 'Ben Woodburn',\n",
       " 'Danny Ward',\n",
       " 'Jon Flanagan',\n",
       " 'Lazar Markovic',\n",
       " 'Mamadou Sakho',\n",
       " 'Ovie Ejaria',\n",
       " 'Trent Alexander-Arnold',\n",
       " 'Ádám Bogdán']"
      ]
     },
     "metadata": {},
     "execution_count": 122
    }
   ],
   "source": [
    "lst_players2016"
   ]
  },
  {
   "source": [
    "## Equipes 2016"
   ],
   "cell_type": "markdown",
   "metadata": {}
  },
  {
   "cell_type": "code",
   "execution_count": 140,
   "metadata": {},
   "outputs": [],
   "source": [
    "element = driver.find_elements_by_xpath('//div[@class = \"large-6 columns\"] //table //tbody //tr //td[@class = \"no-border-links\"] //a[@class = \"vereinprofil_tooltip tooltipstered\"]')\n",
    "lst_teams2016 = []\n",
    "for i in range(104,119):\n",
    "    lst_teams2016.append(element[i].text)"
   ]
  },
  {
   "cell_type": "code",
   "execution_count": 141,
   "metadata": {},
   "outputs": [
    {
     "output_type": "execute_result",
     "data": {
      "text/plain": [
       "['Southampton',\n",
       " 'Newcastle',\n",
       " '1.FSV Mainz 05',\n",
       " 'FC Augsburg',\n",
       " 'FC Schalke 04',\n",
       " 'FC Augsburg',\n",
       " 'Sporting CP',\n",
       " 'Liverpool U18',\n",
       " 'Huddersfield',\n",
       " 'Burnley',\n",
       " 'Hull City',\n",
       " 'Crystal Palace',\n",
       " 'Liverpool U18',\n",
       " 'Liverpool U18',\n",
       " 'Wigan']"
      ]
     },
     "metadata": {},
     "execution_count": 141
    }
   ],
   "source": [
    "lst_teams2016"
   ]
  },
  {
   "source": [
    "## Prix 2016"
   ],
   "cell_type": "markdown",
   "metadata": {}
  },
  {
   "cell_type": "code",
   "execution_count": 128,
   "metadata": {},
   "outputs": [],
   "source": [
    "element = driver.find_elements_by_xpath('//div[@class = \"large-6 columns\"] //table //tbody //tr //td[@class = \"rechts\"]')\n",
    "lst_prix2016 = []\n",
    "for i in range(108,123):\n",
    "    lst_prix2016.append(element[i].text)"
   ]
  },
  {
   "cell_type": "code",
   "execution_count": 129,
   "metadata": {},
   "outputs": [
    {
     "output_type": "execute_result",
     "data": {
      "text/plain": [
       "['€41.20m',\n",
       " '€27.50m',\n",
       " '€6.20m',\n",
       " '€5.00m',\n",
       " 'Free transfer',\n",
       " 'Free transfer',\n",
       " 'End of loan',\n",
       " '-',\n",
       " 'End of loan',\n",
       " 'End of loan',\n",
       " 'End of loan',\n",
       " 'End of loan',\n",
       " '-',\n",
       " '-',\n",
       " 'End of loan']"
      ]
     },
     "metadata": {},
     "execution_count": 129
    }
   ],
   "source": [
    "lst_prix2016"
   ]
  },
  {
   "source": [
    "# Transferts 2015"
   ],
   "cell_type": "markdown",
   "metadata": {}
  },
  {
   "source": [
    "## Joueurs 2015"
   ],
   "cell_type": "markdown",
   "metadata": {}
  },
  {
   "cell_type": "code",
   "execution_count": 133,
   "metadata": {},
   "outputs": [],
   "source": [
    "element = driver.find_elements_by_xpath('//div[@class = \"large-6 columns\"] //table //tbody //tr //a[@class = \"spielprofil_tooltip tooltipstered\"]')\n",
    "lst_players2015 = []\n",
    "for i in range(142,161):\n",
    "    lst_players2015.append(element[i].text)"
   ]
  },
  {
   "cell_type": "code",
   "execution_count": 134,
   "metadata": {},
   "outputs": [
    {
     "output_type": "execute_result",
     "data": {
      "text/plain": [
       "['Christian Benteke',\n",
       " 'Roberto Firmino',\n",
       " 'Nathaniel Clyne',\n",
       " 'Danny Ings',\n",
       " 'Marko Grujic',\n",
       " 'Joe Gomez',\n",
       " 'Taiwo Awoniyi',\n",
       " 'Ádám Bogdán',\n",
       " 'James Milner',\n",
       " 'Steven Caulker',\n",
       " 'Connor Randall',\n",
       " 'Sheyi Ojo',\n",
       " 'Lawrence Vigouroux',\n",
       " 'Andre Wisdom',\n",
       " 'Brad Smith',\n",
       " 'Tiago Ilori',\n",
       " 'Sheyi Ojo',\n",
       " 'Kevin Stewart',\n",
       " 'Danny Ward']"
      ]
     },
     "metadata": {},
     "execution_count": 134
    }
   ],
   "source": [
    "lst_players2015"
   ]
  },
  {
   "source": [
    "## Equipes 2015"
   ],
   "cell_type": "markdown",
   "metadata": {}
  },
  {
   "cell_type": "code",
   "execution_count": 137,
   "metadata": {},
   "outputs": [],
   "source": [
    "element = driver.find_elements_by_xpath('//div[@class = \"large-6 columns\"] //table //tbody //tr //td[@class = \"no-border-links\"] //a[@class = \"vereinprofil_tooltip tooltipstered\"]')\n",
    "lst_teams2015 = []\n",
    "for i in range(137,156):\n",
    "    lst_teams2015.append(element[i].text)"
   ]
  },
  {
   "cell_type": "code",
   "execution_count": 138,
   "metadata": {},
   "outputs": [
    {
     "output_type": "execute_result",
     "data": {
      "text/plain": [
       "['Aston Villa',\n",
       " 'TSG Hoffenheim',\n",
       " 'Southampton',\n",
       " 'Burnley',\n",
       " 'Red Star',\n",
       " 'Charlton',\n",
       " 'Imperial Acad.',\n",
       " 'Bolton',\n",
       " 'Man City',\n",
       " 'QPR',\n",
       " 'Liverpool U23',\n",
       " 'Liverpool U18',\n",
       " 'Swindon Town',\n",
       " 'Norwich',\n",
       " 'Liverpool U23',\n",
       " 'Aston Villa',\n",
       " 'Wolves',\n",
       " 'Swindon Town',\n",
       " 'Aberdeen FC']"
      ]
     },
     "metadata": {},
     "execution_count": 138
    }
   ],
   "source": [
    "lst_teams2015"
   ]
  },
  {
   "source": [
    "## Prix 2015"
   ],
   "cell_type": "markdown",
   "metadata": {}
  },
  {
   "cell_type": "code",
   "execution_count": 142,
   "metadata": {},
   "outputs": [],
   "source": [
    "element = driver.find_elements_by_xpath('//div[@class = \"large-6 columns\"] //table //tbody //tr //td[@class = \"rechts\"]')\n",
    "lst_prix2015 = []\n",
    "for i in range(142,161):\n",
    "    lst_prix2015.append(element[i].text)"
   ]
  },
  {
   "cell_type": "code",
   "execution_count": 143,
   "metadata": {},
   "outputs": [
    {
     "output_type": "execute_result",
     "data": {
      "text/plain": [
       "['€46.50m',\n",
       " '€41.00m',\n",
       " '€17.70m',\n",
       " '€8.30m',\n",
       " '€7.00m',\n",
       " '€4.90m',\n",
       " '€1.10m',\n",
       " 'Free transfer',\n",
       " 'Free transfer',\n",
       " 'Loan',\n",
       " '-',\n",
       " '-',\n",
       " 'End of loan',\n",
       " 'End of loan',\n",
       " '-',\n",
       " 'End of loan',\n",
       " 'End of loan',\n",
       " 'End of loan',\n",
       " 'End of loan']"
      ]
     },
     "metadata": {},
     "execution_count": 143
    }
   ],
   "source": [
    "lst_prix2015"
   ]
  },
  {
   "source": [
    "# Transferts 2014"
   ],
   "cell_type": "markdown",
   "metadata": {}
  },
  {
   "source": [
    "## Joueurs 2014"
   ],
   "cell_type": "markdown",
   "metadata": {}
  },
  {
   "cell_type": "code",
   "execution_count": 146,
   "metadata": {},
   "outputs": [],
   "source": [
    "element = driver.find_elements_by_xpath('//div[@class = \"large-6 columns\"] //table //tbody //tr //a[@class = \"spielprofil_tooltip tooltipstered\"]')\n",
    "lst_players2014 = []\n",
    "for i in range(185,205):\n",
    "    lst_players2014.append(element[i].text)"
   ]
  },
  {
   "cell_type": "code",
   "execution_count": 147,
   "metadata": {},
   "outputs": [
    {
     "output_type": "execute_result",
     "data": {
      "text/plain": [
       "['Adam Lallana',\n",
       " 'Dejan Lovren',\n",
       " 'Lazar Markovic',\n",
       " 'Mario Balotelli',\n",
       " 'Alberto Moreno',\n",
       " 'Divock Origi',\n",
       " 'Emre Can',\n",
       " 'Rickie Lambert',\n",
       " 'Javier Manquillo',\n",
       " 'Lawrence Vigouroux',\n",
       " 'Kevin Stewart',\n",
       " 'Rafa Páez',\n",
       " 'Rafa Páez',\n",
       " 'Jordon Ibe',\n",
       " 'Danny Ward',\n",
       " 'Kevin Stewart',\n",
       " 'Sebastián Coates',\n",
       " 'Andre Wisdom',\n",
       " 'Kevin Stewart',\n",
       " 'Oussama Assaidi']"
      ]
     },
     "metadata": {},
     "execution_count": 147
    }
   ],
   "source": [
    "lst_players2014"
   ]
  },
  {
   "source": [
    "## Equipes 2014"
   ],
   "cell_type": "markdown",
   "metadata": {}
  },
  {
   "cell_type": "code",
   "execution_count": 150,
   "metadata": {},
   "outputs": [],
   "source": [
    "element = driver.find_elements_by_xpath('//div[@class = \"large-6 columns\"] //table //tbody //tr //td[@class = \"no-border-links\"] //a[@class = \"vereinprofil_tooltip tooltipstered\"]')\n",
    "lst_teams2014 = []\n",
    "for i in range(179,199):\n",
    "    lst_teams2014.append(element[i].text)"
   ]
  },
  {
   "cell_type": "code",
   "execution_count": 151,
   "metadata": {},
   "outputs": [
    {
     "output_type": "execute_result",
     "data": {
      "text/plain": [
       "['Southampton',\n",
       " 'Southampton',\n",
       " 'Benfica',\n",
       " 'AC Milan',\n",
       " 'Sevilla FC',\n",
       " 'LOSC Lille',\n",
       " 'Bay. Leverkusen',\n",
       " 'Southampton',\n",
       " 'Atlético Madrid',\n",
       " 'Tottenham U21',\n",
       " 'Spurs',\n",
       " 'Liverpool U23',\n",
       " 'Bologna',\n",
       " 'Derby',\n",
       " 'Morecambe FC',\n",
       " 'Cheltenham',\n",
       " 'Sunderland',\n",
       " 'West Brom',\n",
       " 'Burton Albion',\n",
       " 'Stoke City']"
      ]
     },
     "metadata": {},
     "execution_count": 151
    }
   ],
   "source": [
    "lst_teams2014"
   ]
  },
  {
   "source": [
    "## Prix 2014"
   ],
   "cell_type": "markdown",
   "metadata": {}
  },
  {
   "cell_type": "code",
   "execution_count": 152,
   "metadata": {},
   "outputs": [],
   "source": [
    "element = driver.find_elements_by_xpath('//div[@class = \"large-6 columns\"] //table //tbody //tr //td[@class = \"rechts\"]')\n",
    "lst_prix2014 = []\n",
    "for i in range(185,205):\n",
    "    lst_prix2014.append(element[i].text)"
   ]
  },
  {
   "cell_type": "code",
   "execution_count": 153,
   "metadata": {},
   "outputs": [
    {
     "output_type": "execute_result",
     "data": {
      "text/plain": [
       "['€31.00m',\n",
       " '€25.30m',\n",
       " '€25.00m',\n",
       " '€20.00m',\n",
       " '€18.00m',\n",
       " '€12.63m',\n",
       " '€12.00m',\n",
       " '€5.50m',\n",
       " 'Loan fee:\\n€2.00m',\n",
       " 'Free transfer',\n",
       " 'Free transfer',\n",
       " '-',\n",
       " 'End of loan',\n",
       " 'End of loan',\n",
       " 'End of loan',\n",
       " 'End of loan',\n",
       " 'End of loan',\n",
       " 'End of loan',\n",
       " 'End of loan',\n",
       " 'End of loan']"
      ]
     },
     "metadata": {},
     "execution_count": 153
    }
   ],
   "source": [
    "lst_prix2014"
   ]
  },
  {
   "source": [
    "# Transferts 2013"
   ],
   "cell_type": "markdown",
   "metadata": {}
  },
  {
   "source": [
    "## Joueurs 2013"
   ],
   "cell_type": "markdown",
   "metadata": {}
  },
  {
   "cell_type": "code",
   "execution_count": 156,
   "metadata": {},
   "outputs": [],
   "source": [
    "element = driver.find_elements_by_xpath('//div[@class = \"large-6 columns\"] //table //tbody //tr //a[@class = \"spielprofil_tooltip tooltipstered\"]')\n",
    "lst_players2013 = []\n",
    "for i in range(226,244):\n",
    "    lst_players2013.append(element[i].text)"
   ]
  },
  {
   "cell_type": "code",
   "execution_count": 157,
   "metadata": {},
   "outputs": [
    {
     "output_type": "execute_result",
     "data": {
      "text/plain": [
       "['Mamadou Sakho',\n",
       " 'Iago Aspas',\n",
       " 'Simon Mignolet',\n",
       " 'Luis Alberto',\n",
       " 'Tiago Ilori',\n",
       " 'Victor Moses',\n",
       " 'Aly Cissokho',\n",
       " 'Kolo Touré',\n",
       " 'Jordon Ibe',\n",
       " 'Craig Roddan',\n",
       " 'Craig Roddan',\n",
       " 'Jordon Ibe',\n",
       " 'Craig Roddan',\n",
       " 'Krisztián Adorján',\n",
       " 'Jack Robinson',\n",
       " 'Fabio Borini',\n",
       " 'Andre Wisdom',\n",
       " 'Kristoffer Peterson']"
      ]
     },
     "metadata": {},
     "execution_count": 157
    }
   ],
   "source": [
    "lst_players2013"
   ]
  },
  {
   "source": [
    "## Equipes 2013"
   ],
   "cell_type": "markdown",
   "metadata": {}
  },
  {
   "cell_type": "code",
   "execution_count": 160,
   "metadata": {},
   "outputs": [],
   "source": [
    "element = driver.find_elements_by_xpath('//div[@class = \"large-6 columns\"] //table //tbody //tr //td[@class = \"no-border-links\"] //a[@class = \"vereinprofil_tooltip tooltipstered\"]')\n",
    "lst_teams2013 = []\n",
    "for i in range(219,237):\n",
    "    lst_teams2013.append(element[i].text)"
   ]
  },
  {
   "cell_type": "code",
   "execution_count": 161,
   "metadata": {},
   "outputs": [
    {
     "output_type": "execute_result",
     "data": {
      "text/plain": [
       "['Paris SG',\n",
       " 'Celta de Vigo',\n",
       " 'Sunderland',\n",
       " 'Sevilla FC',\n",
       " 'Sporting CP',\n",
       " 'Chelsea',\n",
       " 'Valencia',\n",
       " 'Man City',\n",
       " 'Birmingham',\n",
       " 'Carlisle United',\n",
       " 'Accrington',\n",
       " 'Liverpool U23',\n",
       " 'Liverpool U23',\n",
       " 'Liverpool U23',\n",
       " 'Blackpool',\n",
       " 'Sunderland',\n",
       " 'Derby',\n",
       " 'Tranmere Rovers']"
      ]
     },
     "metadata": {},
     "execution_count": 161
    }
   ],
   "source": [
    "lst_teams2013"
   ]
  },
  {
   "source": [
    "## Prix 2013"
   ],
   "cell_type": "markdown",
   "metadata": {}
  },
  {
   "cell_type": "code",
   "execution_count": 162,
   "metadata": {},
   "outputs": [],
   "source": [
    "element = driver.find_elements_by_xpath('//div[@class = \"large-6 columns\"] //table //tbody //tr //td[@class = \"rechts\"]')\n",
    "lst_prix2013 = []\n",
    "for i in range(226,244):\n",
    "    lst_prix2013.append(element[i].text)"
   ]
  },
  {
   "cell_type": "code",
   "execution_count": 163,
   "metadata": {},
   "outputs": [
    {
     "output_type": "execute_result",
     "data": {
      "text/plain": [
       "['€19.00m',\n",
       " '€10.80m',\n",
       " '€10.60m',\n",
       " '€8.00m',\n",
       " '€7.50m',\n",
       " 'Loan fee:\\n€1.20m',\n",
       " 'Loan fee:\\n€1.00m',\n",
       " 'Free transfer',\n",
       " 'End of loan',\n",
       " 'End of loan',\n",
       " 'End of loan',\n",
       " '-',\n",
       " '-',\n",
       " '-',\n",
       " 'End of loan',\n",
       " 'End of loan',\n",
       " 'End of loan',\n",
       " 'End of loan']"
      ]
     },
     "metadata": {},
     "execution_count": 163
    }
   ],
   "source": [
    "lst_prix2013"
   ]
  },
  {
   "source": [
    "# Transferts 2012"
   ],
   "cell_type": "markdown",
   "metadata": {}
  },
  {
   "source": [
    "## Joueurs 2012"
   ],
   "cell_type": "markdown",
   "metadata": {}
  },
  {
   "cell_type": "code",
   "execution_count": 166,
   "metadata": {},
   "outputs": [],
   "source": [
    "element = driver.find_elements_by_xpath('//div[@class = \"large-6 columns\"] //table //tbody //tr //a[@class = \"spielprofil_tooltip tooltipstered\"]')\n",
    "lst_players2012 = []\n",
    "for i in range(268,285):\n",
    "    lst_players2012.append(element[i].text)"
   ]
  },
  {
   "cell_type": "code",
   "execution_count": 167,
   "metadata": {},
   "outputs": [
    {
     "output_type": "execute_result",
     "data": {
      "text/plain": [
       "['Joe Allen',\n",
       " 'Daniel Sturridge',\n",
       " 'Fabio Borini',\n",
       " 'Philippe Coutinho',\n",
       " 'Nuri Sahin',\n",
       " 'Oussama Assaidi',\n",
       " 'Samed Yesil',\n",
       " 'Andy Carroll',\n",
       " 'Jay Spearing',\n",
       " 'Danny Wilson',\n",
       " 'Jack Robinson',\n",
       " 'Jamie Stephens',\n",
       " 'Danny Wilson',\n",
       " 'Raheem Sterling',\n",
       " 'Suso',\n",
       " 'Kristoffer Peterson',\n",
       " 'Tom King']"
      ]
     },
     "metadata": {},
     "execution_count": 167
    }
   ],
   "source": [
    "lst_players2012"
   ]
  },
  {
   "source": [
    "## Equipes 2012"
   ],
   "cell_type": "markdown",
   "metadata": {}
  },
  {
   "cell_type": "code",
   "execution_count": 172,
   "metadata": {},
   "outputs": [],
   "source": [
    "element = driver.find_elements_by_xpath('//div[@class = \"large-6 columns\"] //table //tbody //tr //td[@class = \"no-border-links\"] //a[@class = \"vereinprofil_tooltip tooltipstered\"]')\n",
    "lst_teams2012 = []\n",
    "for i in range(260,277):\n",
    "    lst_teams2012.append(element[i].text)"
   ]
  },
  {
   "cell_type": "code",
   "execution_count": 173,
   "metadata": {},
   "outputs": [
    {
     "output_type": "execute_result",
     "data": {
      "text/plain": [
       "['Swansea',\n",
       " 'Chelsea',\n",
       " 'AS Roma',\n",
       " 'Inter',\n",
       " 'Real Madrid',\n",
       " 'Heerenveen',\n",
       " 'Bay. Leverkusen',\n",
       " 'West Ham',\n",
       " 'Bolton',\n",
       " 'Heart of Midl.',\n",
       " 'Wolves',\n",
       " 'Airbus UK BFC',\n",
       " 'Bristol City',\n",
       " 'Liverpool U18',\n",
       " 'Liverpool U23',\n",
       " 'Liverpool U18',\n",
       " 'Liverpool U18']"
      ]
     },
     "metadata": {},
     "execution_count": 173
    }
   ],
   "source": [
    "lst_teams2012"
   ]
  },
  {
   "source": [
    "## Prix 2012"
   ],
   "cell_type": "markdown",
   "metadata": {}
  },
  {
   "cell_type": "code",
   "execution_count": 174,
   "metadata": {},
   "outputs": [],
   "source": [
    "element = driver.find_elements_by_xpath('//div[@class = \"large-6 columns\"] //table //tbody //tr //td[@class = \"rechts\"]')\n",
    "lst_prix2012 = []\n",
    "for i in range(268,285):\n",
    "    lst_prix2012.append(element[i].text)"
   ]
  },
  {
   "cell_type": "code",
   "execution_count": 175,
   "metadata": {},
   "outputs": [
    {
     "output_type": "execute_result",
     "data": {
      "text/plain": [
       "['€19.00m',\n",
       " '€15.00m',\n",
       " '€13.30m',\n",
       " '€13.00m',\n",
       " 'Loan fee:\\n€5.00m',\n",
       " '€4.00m',\n",
       " '€1.30m',\n",
       " 'End of loan',\n",
       " 'End of loan',\n",
       " 'End of loan',\n",
       " 'End of loan',\n",
       " 'End of loan',\n",
       " 'End of loan',\n",
       " '-',\n",
       " '-',\n",
       " '-',\n",
       " '-']"
      ]
     },
     "metadata": {},
     "execution_count": 175
    }
   ],
   "source": [
    "lst_prix2012"
   ]
  },
  {
   "cell_type": "code",
   "execution_count": 198,
   "metadata": {},
   "outputs": [],
   "source": [
    "driver.close()"
   ]
  },
  {
   "cell_type": "code",
   "execution_count": 199,
   "metadata": {},
   "outputs": [],
   "source": [
    "df2012_2013 = pd.DataFrame()"
   ]
  },
  {
   "cell_type": "code",
   "execution_count": 200,
   "metadata": {},
   "outputs": [],
   "source": [
    "df2012_2013['Saison'] = \"2012/2013\"\n",
    "df2012_2013['Joueur'] = lst_players2012\n",
    "df2012_2013['Equipe'] = lst_teams2012\n",
    "df2012_2013['Prix'] = lst_prix2012\n",
    "df2012_2013['Saison'] = \"2012/2013\"\n",
    "df2012_2013.to_csv(r'C:\\Users\\jacky\\Downloads\\Work\\ESILV\\Projets\\Liverpool\\Test_Dev\\2012-2013\\Transferts.csv', header = True, index = False)"
   ]
  },
  {
   "cell_type": "code",
   "execution_count": 203,
   "metadata": {},
   "outputs": [],
   "source": [
    "df2013_2014 = pd.DataFrame()"
   ]
  },
  {
   "cell_type": "code",
   "execution_count": 204,
   "metadata": {},
   "outputs": [],
   "source": [
    "df2013_2014['Saison'] = \"2013/2014\"\n",
    "df2013_2014['Joueur'] = lst_players2013\n",
    "df2013_2014['Equipe'] = lst_teams2013\n",
    "df2013_2014['Prix'] = lst_prix2013\n",
    "df2013_2014['Saison'] = \"2013/2014\"\n",
    "df2013_2014.to_csv(r'C:\\Users\\jacky\\Downloads\\Work\\ESILV\\Projets\\Liverpool\\Test_Dev\\2013-2014\\Transferts.csv', header = True, index = False)"
   ]
  },
  {
   "cell_type": "code",
   "execution_count": 205,
   "metadata": {},
   "outputs": [],
   "source": [
    "df2014_2015 = pd.DataFrame()"
   ]
  },
  {
   "cell_type": "code",
   "execution_count": 206,
   "metadata": {},
   "outputs": [],
   "source": [
    "df2014_2015['Saison'] = \"2014/2015\"\n",
    "df2014_2015['Joueur'] = lst_players2014\n",
    "df2014_2015['Equipe'] = lst_teams2014\n",
    "df2014_2015['Prix'] = lst_prix2014\n",
    "df2014_2015['Saison'] = \"2014/2015\"\n",
    "df2014_2015.to_csv(r'C:\\Users\\jacky\\Downloads\\Work\\ESILV\\Projets\\Liverpool\\Test_Dev\\2014-2015\\Transferts.csv', header = True, index = False)"
   ]
  },
  {
   "cell_type": "code",
   "execution_count": 207,
   "metadata": {},
   "outputs": [],
   "source": [
    "df2015_2016 = pd.DataFrame()"
   ]
  },
  {
   "cell_type": "code",
   "execution_count": 208,
   "metadata": {},
   "outputs": [],
   "source": [
    "df2015_2016['Saison'] = \"2015/2016\"\n",
    "df2015_2016['Joueur'] = lst_players2015\n",
    "df2015_2016['Equipe'] = lst_teams2015\n",
    "df2015_2016['Prix'] = lst_prix2015\n",
    "df2015_2016['Saison'] = \"2015/2016\"\n",
    "df2015_2016.to_csv(r'C:\\Users\\jacky\\Downloads\\Work\\ESILV\\Projets\\Liverpool\\Test_Dev\\2015-2016\\Transferts.csv', header = True, index = False)"
   ]
  },
  {
   "cell_type": "code",
   "execution_count": 209,
   "metadata": {},
   "outputs": [],
   "source": [
    "df2016_2017 = pd.DataFrame()"
   ]
  },
  {
   "cell_type": "code",
   "execution_count": 210,
   "metadata": {},
   "outputs": [],
   "source": [
    "df2016_2017['Saison'] = \"2016/2017\"\n",
    "df2016_2017['Joueur'] = lst_players2016\n",
    "df2016_2017['Equipe'] = lst_teams2016\n",
    "df2016_2017['Prix'] = lst_prix2016\n",
    "df2016_2017['Saison'] = \"2016/2017\"\n",
    "df2016_2017.to_csv(r'C:\\Users\\jacky\\Downloads\\Work\\ESILV\\Projets\\Liverpool\\Test_Dev\\2016-2017\\Transferts.csv', header = True, index = False)"
   ]
  },
  {
   "cell_type": "code",
   "execution_count": 212,
   "metadata": {},
   "outputs": [],
   "source": [
    "df2017_2018 = pd.DataFrame()"
   ]
  },
  {
   "cell_type": "code",
   "execution_count": 213,
   "metadata": {},
   "outputs": [],
   "source": [
    "df2017_2018['Saison'] = \"2017/2018\"\n",
    "df2017_2018['Joueur'] = lst_players2017\n",
    "df2017_2018['Equipe'] = lst_teams2017\n",
    "df2017_2018['Prix'] = lst_prix2017\n",
    "df2017_2018['Saison'] = \"2017/2018\"\n",
    "df2017_2018.to_csv(r'C:\\Users\\jacky\\Downloads\\Work\\ESILV\\Projets\\Liverpool\\Test_Dev\\2017-2018\\Transferts.csv', header = True, index = False)"
   ]
  },
  {
   "cell_type": "code",
   "execution_count": 214,
   "metadata": {},
   "outputs": [],
   "source": [
    "df2018_2019 = pd.DataFrame()"
   ]
  },
  {
   "cell_type": "code",
   "execution_count": 215,
   "metadata": {},
   "outputs": [],
   "source": [
    "df2018_2019['Saison'] = \"2018/2019\"\n",
    "df2018_2019['Joueur'] = lst_players2018\n",
    "df2018_2019['Equipe'] = lst_teams2018\n",
    "df2018_2019['Prix'] = lst_prix2018\n",
    "df2018_2019['Saison'] = \"2018/2019\"\n",
    "df2018_2019.to_csv(r'C:\\Users\\jacky\\Downloads\\Work\\ESILV\\Projets\\Liverpool\\Test_Dev\\2018-2019\\Transferts.csv', header = True, index = False)"
   ]
  },
  {
   "cell_type": "code",
   "execution_count": 216,
   "metadata": {},
   "outputs": [],
   "source": [
    "df2019_2020 = pd.DataFrame()"
   ]
  },
  {
   "cell_type": "code",
   "execution_count": 217,
   "metadata": {},
   "outputs": [],
   "source": [
    "df2019_2020['Saison'] = \"2019/2020\"\n",
    "df2019_2020['Joueur'] = lst_players2019\n",
    "df2019_2020['Equipe'] = lst_teams2019\n",
    "df2019_2020['Prix'] = lst_prix2019\n",
    "df2019_2020['Saison'] = \"2019/2020\"\n",
    "df2019_2020.to_csv(r'C:\\Users\\jacky\\Downloads\\Work\\ESILV\\Projets\\Liverpool\\Test_Dev\\2019-2020\\Transferts.csv', header = True, index = False)"
   ]
  },
  {
   "cell_type": "code",
   "execution_count": 218,
   "metadata": {},
   "outputs": [],
   "source": [
    "df2020_2021 = pd.DataFrame()"
   ]
  },
  {
   "cell_type": "code",
   "execution_count": 219,
   "metadata": {},
   "outputs": [],
   "source": [
    "df2020_2021['Saison'] = \"2020/2021\"\n",
    "df2020_2021['Joueur'] = lst_players2020\n",
    "df2020_2021['Equipe'] = lst_teams2020\n",
    "df2020_2021['Prix'] = lst_prix2020\n",
    "df2020_2021['Saison'] = \"2020/2021\"\n",
    "df2020_2021.to_csv(r'C:\\Users\\jacky\\Downloads\\Work\\ESILV\\Projets\\Liverpool\\Test_Dev\\2020-2021\\Transferts.csv', header = True, index = False)"
   ]
  },
  {
   "cell_type": "code",
   "execution_count": null,
   "metadata": {},
   "outputs": [],
   "source": []
  }
 ]
}