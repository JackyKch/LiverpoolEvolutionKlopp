{
 "metadata": {
  "language_info": {
   "codemirror_mode": {
    "name": "ipython",
    "version": 3
   },
   "file_extension": ".py",
   "mimetype": "text/x-python",
   "name": "python",
   "nbconvert_exporter": "python",
   "pygments_lexer": "ipython3",
   "version": "3.8.2-final"
  },
  "orig_nbformat": 2,
  "kernelspec": {
   "name": "Python 3.8.2 64-bit",
   "display_name": "Python 3.8.2 64-bit",
   "metadata": {
    "interpreter": {
     "hash": "95e24f6d028694f957b1106e412d23c4f9ba09e8613c65a2aeaf0c0e73a5daa1"
    }
   }
  }
 },
 "nbformat": 4,
 "nbformat_minor": 2,
 "cells": [
  {
   "cell_type": "code",
   "execution_count": 2,
   "metadata": {},
   "outputs": [],
   "source": [
    "from selenium import webdriver"
   ]
  },
  {
   "cell_type": "code",
   "execution_count": 1,
   "metadata": {},
   "outputs": [],
   "source": [
    "import selenium"
   ]
  },
  {
   "cell_type": "code",
   "execution_count": 3,
   "metadata": {},
   "outputs": [],
   "source": [
    "options = webdriver.ChromeOptions()"
   ]
  },
  {
   "cell_type": "code",
   "execution_count": 4,
   "metadata": {},
   "outputs": [],
   "source": [
    "options.add_argument(\"--incognito\")"
   ]
  },
  {
   "cell_type": "code",
   "execution_count": 6,
   "metadata": {},
   "outputs": [],
   "source": [
    "driver = webdriver.Chrome(\"./chromedriver.exe\", options= options)"
   ]
  },
  {
   "cell_type": "code",
   "execution_count": 5,
   "metadata": {},
   "outputs": [],
   "source": [
    "import pandas as pd"
   ]
  },
  {
   "cell_type": "code",
   "execution_count": 107,
   "metadata": {},
   "outputs": [],
   "source": [
    "df = pd.read_csv(\"scrap_elo_base2.csv\", sep =\",\")"
   ]
  },
  {
   "cell_type": "code",
   "execution_count": 109,
   "metadata": {},
   "outputs": [],
   "source": [
    "df['date_match'] = df['date_match'].astype('datetime64')"
   ]
  },
  {
   "cell_type": "code",
   "execution_count": 12,
   "metadata": {},
   "outputs": [],
   "source": [
    "import datetime as dt"
   ]
  },
  {
   "cell_type": "code",
   "execution_count": 110,
   "metadata": {},
   "outputs": [],
   "source": [
    "df['date_match'] = df['date_match'].dt.strftime('%Y-%m-%d')"
   ]
  },
  {
   "cell_type": "code",
   "execution_count": 111,
   "metadata": {},
   "outputs": [
    {
     "output_type": "execute_result",
     "data": {
      "text/plain": [
       "0     2012-08-23\n",
       "1     2012-08-30\n",
       "2     2012-09-20\n",
       "3     2012-10-04\n",
       "4     2012-10-25\n",
       "         ...    \n",
       "63    2019-11-05\n",
       "64    2019-11-27\n",
       "65    2019-12-10\n",
       "66    2020-02-18\n",
       "67    2020-03-11\n",
       "Name: date_match, Length: 68, dtype: object"
      ]
     },
     "metadata": {},
     "execution_count": 111
    }
   ],
   "source": [
    "df['date_match']"
   ]
  },
  {
   "cell_type": "code",
   "execution_count": 119,
   "metadata": {},
   "outputs": [],
   "source": [
    "#df['home_team'] = df['home_team'].str.split(' - ')"
   ]
  },
  {
   "source": [
    "## Récupération des HomeTeamNames et AwayTeamNames"
   ],
   "cell_type": "markdown",
   "metadata": {}
  },
  {
   "cell_type": "code",
   "execution_count": 112,
   "metadata": {},
   "outputs": [],
   "source": [
    "SerieHT = pd.read_csv(\"HomeTeamNamesforClubElo2.csv\")"
   ]
  },
  {
   "cell_type": "code",
   "execution_count": 120,
   "metadata": {},
   "outputs": [],
   "source": [
    "SerieAT = pd.read_csv(\"AwayTeamNamesforClubElo.csv\")"
   ]
  },
  {
   "cell_type": "code",
   "execution_count": 122,
   "metadata": {},
   "outputs": [],
   "source": [
    "df['HomeTeamClean'] = SerieHT"
   ]
  },
  {
   "cell_type": "code",
   "execution_count": 123,
   "metadata": {},
   "outputs": [],
   "source": [
    "df['AwayTeamClean'] = SerieAT"
   ]
  },
  {
   "cell_type": "code",
   "execution_count": 121,
   "metadata": {},
   "outputs": [],
   "source": [
    "#def firstelement (x) :\n",
    "    return x[0]"
   ]
  },
  {
   "cell_type": "code",
   "execution_count": null,
   "metadata": {},
   "outputs": [],
   "source": [
    "#df['home_team'] = df['home_team'].apply(lambda x : x[0])"
   ]
  },
  {
   "cell_type": "code",
   "execution_count": 122,
   "metadata": {},
   "outputs": [],
   "source": [
    "#df['home_team'] = df['home_team'].apply(firstelement)"
   ]
  },
  {
   "cell_type": "code",
   "execution_count": 106,
   "metadata": {},
   "outputs": [],
   "source": [
    "pd.set_option('display.max_rows', 10)"
   ]
  },
  {
   "source": [
    "# Sauvegarde des nouveaux noms des équipes à domicile et à l'extérieur"
   ],
   "cell_type": "markdown",
   "metadata": {}
  },
  {
   "cell_type": "code",
   "execution_count": 84,
   "metadata": {},
   "outputs": [],
   "source": [
    "dfhometeam = df['home_team'].to_frame(\"NewHomeNames\")"
   ]
  },
  {
   "cell_type": "code",
   "execution_count": 85,
   "metadata": {},
   "outputs": [],
   "source": [
    "dfhometeam.to_csv(\"HomeTeamNamesforClubElo.csv\", header = True, index = False)"
   ]
  },
  {
   "cell_type": "code",
   "execution_count": 100,
   "metadata": {},
   "outputs": [],
   "source": [
    "#df.to_csv(\"AwayTeamNamesforClubElo.csv\", header = False, index = False)"
   ]
  },
  {
   "cell_type": "code",
   "execution_count": 98,
   "metadata": {},
   "outputs": [],
   "source": [
    "#df = df.replace(\"KRC Genk\", \"Genk\")"
   ]
  },
  {
   "source": [
    "# Test Changement d'URL avec nom d'équipe"
   ],
   "cell_type": "markdown",
   "metadata": {}
  },
  {
   "cell_type": "code",
   "execution_count": 133,
   "metadata": {},
   "outputs": [],
   "source": [
    "driver.get(\"http://clubelo.com/2012-08-23/All\")"
   ]
  },
  {
   "cell_type": "code",
   "execution_count": 129,
   "metadata": {},
   "outputs": [
    {
     "output_type": "execute_result",
     "data": {
      "text/plain": [
       "    date_match               contests               home_team  home_score  \\\n",
       "0   2012-08-23     UEFA Europa League  Heart of Midlothian FC           0   \n",
       "1   2012-08-30     UEFA Europa League               Liverpool           1   \n",
       "2   2012-09-20     UEFA Europa League          BSC Young Boys           3   \n",
       "3   2012-10-04     UEFA Europa League               Liverpool           2   \n",
       "4   2012-10-25     UEFA Europa League               Liverpool           1   \n",
       "..         ...                    ...                     ...         ...   \n",
       "63  2019-11-05  UEFA Champions League               Liverpool           2   \n",
       "64  2019-11-27  UEFA Champions League               Liverpool           1   \n",
       "65  2019-12-10  UEFA Champions League       Red Bull Salzburg           0   \n",
       "66  2020-02-18  UEFA Champions League      Atletico de Madrid           1   \n",
       "67  2020-03-11  UEFA Champions League               Liverpool           2   \n",
       "\n",
       "    away_score               away_team liverpool_score  at_anfield  \\\n",
       "0            1               Liverpool               V       False   \n",
       "1            1  Heart of Midlothian FC               N        True   \n",
       "2            5               Liverpool               V       False   \n",
       "3            3          Udinese Calcio               D        True   \n",
       "4            0       Anzhi Makhachkala               V        True   \n",
       "..         ...                     ...             ...         ...   \n",
       "63           1                KRC Genk               V        True   \n",
       "64           1              SSC Napoli               N        True   \n",
       "65           2               Liverpool               V       False   \n",
       "66           0               Liverpool               D       False   \n",
       "67           3      Atletico de Madrid               D        True   \n",
       "\n",
       "         season  rest_days  \\\n",
       "0   2012 - 2013          5   \n",
       "1   2012 - 2013          4   \n",
       "2   2012 - 2013          5   \n",
       "3   2012 - 2013          5   \n",
       "4   2012 - 2013          5   \n",
       "..          ...        ...   \n",
       "63  2019 - 2020          3   \n",
       "64  2019 - 2020          4   \n",
       "65  2019 - 2020          3   \n",
       "66  2019 - 2020          3   \n",
       "67  2019 - 2020          4   \n",
       "\n",
       "   date_match,contests,home_team,home_score,away_score,away_team,liverpool_score,at_anfield,season,rest_days  \\\n",
       "0   2012-08-23,UEFA Europa League,Heart of Midloth...                                                          \n",
       "1   2012-08-30,UEFA Europa League,Liverpool,1,1,He...                                                          \n",
       "2   2012-09-20,UEFA Europa League,BSC Young Boys,3...                                                          \n",
       "3   2012-10-04,UEFA Europa League,Liverpool,2,3,Ud...                                                          \n",
       "4   2012-10-25,UEFA Europa League,Liverpool,1,0,An...                                                          \n",
       "..                                                ...                                                          \n",
       "63  2019-11-05,UEFA Champions League,Liverpool,2,1...                                                          \n",
       "64  2019-11-27,UEFA Champions League,Liverpool,1,1...                                                          \n",
       "65  2019-12-10,UEFA Champions League,Red Bull Salz...                                                          \n",
       "66  2020-02-18,UEFA Champions League,Atletico de M...                                                          \n",
       "67  2020-03-11,UEFA Champions League,Liverpool,2,3...                                                          \n",
       "\n",
       "   HomeTeamClean AwayTeamClean  \n",
       "0         Hearts     Liverpool  \n",
       "1      Liverpool        Hearts  \n",
       "2     Young Boys     Liverpool  \n",
       "3      Liverpool       Udinese  \n",
       "4      Liverpool         Anzhi  \n",
       "..           ...           ...  \n",
       "63     Liverpool          Genk  \n",
       "64     Liverpool        Napoli  \n",
       "65      Salzburg     Liverpool  \n",
       "66      Atletico     Liverpool  \n",
       "67     Liverpool      Atletico  \n",
       "\n",
       "[68 rows x 13 columns]"
      ],
      "text/html": "<div>\n<style scoped>\n    .dataframe tbody tr th:only-of-type {\n        vertical-align: middle;\n    }\n\n    .dataframe tbody tr th {\n        vertical-align: top;\n    }\n\n    .dataframe thead th {\n        text-align: right;\n    }\n</style>\n<table border=\"1\" class=\"dataframe\">\n  <thead>\n    <tr style=\"text-align: right;\">\n      <th></th>\n      <th>date_match</th>\n      <th>contests</th>\n      <th>home_team</th>\n      <th>home_score</th>\n      <th>away_score</th>\n      <th>away_team</th>\n      <th>liverpool_score</th>\n      <th>at_anfield</th>\n      <th>season</th>\n      <th>rest_days</th>\n      <th>date_match,contests,home_team,home_score,away_score,away_team,liverpool_score,at_anfield,season,rest_days</th>\n      <th>HomeTeamClean</th>\n      <th>AwayTeamClean</th>\n    </tr>\n  </thead>\n  <tbody>\n    <tr>\n      <th>0</th>\n      <td>2012-08-23</td>\n      <td>UEFA Europa League</td>\n      <td>Heart of Midlothian FC</td>\n      <td>0</td>\n      <td>1</td>\n      <td>Liverpool</td>\n      <td>V</td>\n      <td>False</td>\n      <td>2012 - 2013</td>\n      <td>5</td>\n      <td>2012-08-23,UEFA Europa League,Heart of Midloth...</td>\n      <td>Hearts</td>\n      <td>Liverpool</td>\n    </tr>\n    <tr>\n      <th>1</th>\n      <td>2012-08-30</td>\n      <td>UEFA Europa League</td>\n      <td>Liverpool</td>\n      <td>1</td>\n      <td>1</td>\n      <td>Heart of Midlothian FC</td>\n      <td>N</td>\n      <td>True</td>\n      <td>2012 - 2013</td>\n      <td>4</td>\n      <td>2012-08-30,UEFA Europa League,Liverpool,1,1,He...</td>\n      <td>Liverpool</td>\n      <td>Hearts</td>\n    </tr>\n    <tr>\n      <th>2</th>\n      <td>2012-09-20</td>\n      <td>UEFA Europa League</td>\n      <td>BSC Young Boys</td>\n      <td>3</td>\n      <td>5</td>\n      <td>Liverpool</td>\n      <td>V</td>\n      <td>False</td>\n      <td>2012 - 2013</td>\n      <td>5</td>\n      <td>2012-09-20,UEFA Europa League,BSC Young Boys,3...</td>\n      <td>Young Boys</td>\n      <td>Liverpool</td>\n    </tr>\n    <tr>\n      <th>3</th>\n      <td>2012-10-04</td>\n      <td>UEFA Europa League</td>\n      <td>Liverpool</td>\n      <td>2</td>\n      <td>3</td>\n      <td>Udinese Calcio</td>\n      <td>D</td>\n      <td>True</td>\n      <td>2012 - 2013</td>\n      <td>5</td>\n      <td>2012-10-04,UEFA Europa League,Liverpool,2,3,Ud...</td>\n      <td>Liverpool</td>\n      <td>Udinese</td>\n    </tr>\n    <tr>\n      <th>4</th>\n      <td>2012-10-25</td>\n      <td>UEFA Europa League</td>\n      <td>Liverpool</td>\n      <td>1</td>\n      <td>0</td>\n      <td>Anzhi Makhachkala</td>\n      <td>V</td>\n      <td>True</td>\n      <td>2012 - 2013</td>\n      <td>5</td>\n      <td>2012-10-25,UEFA Europa League,Liverpool,1,0,An...</td>\n      <td>Liverpool</td>\n      <td>Anzhi</td>\n    </tr>\n    <tr>\n      <th>...</th>\n      <td>...</td>\n      <td>...</td>\n      <td>...</td>\n      <td>...</td>\n      <td>...</td>\n      <td>...</td>\n      <td>...</td>\n      <td>...</td>\n      <td>...</td>\n      <td>...</td>\n      <td>...</td>\n      <td>...</td>\n      <td>...</td>\n    </tr>\n    <tr>\n      <th>63</th>\n      <td>2019-11-05</td>\n      <td>UEFA Champions League</td>\n      <td>Liverpool</td>\n      <td>2</td>\n      <td>1</td>\n      <td>KRC Genk</td>\n      <td>V</td>\n      <td>True</td>\n      <td>2019 - 2020</td>\n      <td>3</td>\n      <td>2019-11-05,UEFA Champions League,Liverpool,2,1...</td>\n      <td>Liverpool</td>\n      <td>Genk</td>\n    </tr>\n    <tr>\n      <th>64</th>\n      <td>2019-11-27</td>\n      <td>UEFA Champions League</td>\n      <td>Liverpool</td>\n      <td>1</td>\n      <td>1</td>\n      <td>SSC Napoli</td>\n      <td>N</td>\n      <td>True</td>\n      <td>2019 - 2020</td>\n      <td>4</td>\n      <td>2019-11-27,UEFA Champions League,Liverpool,1,1...</td>\n      <td>Liverpool</td>\n      <td>Napoli</td>\n    </tr>\n    <tr>\n      <th>65</th>\n      <td>2019-12-10</td>\n      <td>UEFA Champions League</td>\n      <td>Red Bull Salzburg</td>\n      <td>0</td>\n      <td>2</td>\n      <td>Liverpool</td>\n      <td>V</td>\n      <td>False</td>\n      <td>2019 - 2020</td>\n      <td>3</td>\n      <td>2019-12-10,UEFA Champions League,Red Bull Salz...</td>\n      <td>Salzburg</td>\n      <td>Liverpool</td>\n    </tr>\n    <tr>\n      <th>66</th>\n      <td>2020-02-18</td>\n      <td>UEFA Champions League</td>\n      <td>Atletico de Madrid</td>\n      <td>1</td>\n      <td>0</td>\n      <td>Liverpool</td>\n      <td>D</td>\n      <td>False</td>\n      <td>2019 - 2020</td>\n      <td>3</td>\n      <td>2020-02-18,UEFA Champions League,Atletico de M...</td>\n      <td>Atletico</td>\n      <td>Liverpool</td>\n    </tr>\n    <tr>\n      <th>67</th>\n      <td>2020-03-11</td>\n      <td>UEFA Champions League</td>\n      <td>Liverpool</td>\n      <td>2</td>\n      <td>3</td>\n      <td>Atletico de Madrid</td>\n      <td>D</td>\n      <td>True</td>\n      <td>2019 - 2020</td>\n      <td>4</td>\n      <td>2020-03-11,UEFA Champions League,Liverpool,2,3...</td>\n      <td>Liverpool</td>\n      <td>Atletico</td>\n    </tr>\n  </tbody>\n</table>\n<p>68 rows × 13 columns</p>\n</div>"
     },
     "metadata": {},
     "execution_count": 129
    }
   ],
   "source": [
    "balise = 'tbody tr td a[href =\"/' + str(df['date_match'][0]) +'/'+ str(df['HomeTeamClean'][0]).replace(\" \",\"\") +'\"]' \n",
    "element = driver.find_element_by_css_selector(balise)\n"
   ]
  },
  {
   "cell_type": "code",
   "execution_count": 134,
   "metadata": {},
   "outputs": [
    {
     "output_type": "error",
     "ename": "StaleElementReferenceException",
     "evalue": "Message: stale element reference: element is not attached to the page document\n  (Session info: chrome=86.0.4240.111)\n",
     "traceback": [
      "\u001b[1;31m---------------------------------------------------------------------------\u001b[0m",
      "\u001b[1;31mStaleElementReferenceException\u001b[0m            Traceback (most recent call last)",
      "\u001b[1;32m<ipython-input-134-942d6593f601>\u001b[0m in \u001b[0;36m<module>\u001b[1;34m\u001b[0m\n\u001b[1;32m----> 1\u001b[1;33m \u001b[0melo\u001b[0m \u001b[1;33m=\u001b[0m \u001b[0mdriver\u001b[0m\u001b[1;33m.\u001b[0m\u001b[0mfind_element_by_link_text\u001b[0m\u001b[1;33m(\u001b[0m\u001b[0melement\u001b[0m\u001b[1;33m.\u001b[0m\u001b[0mtext\u001b[0m\u001b[1;33m)\u001b[0m\u001b[1;33m\u001b[0m\u001b[1;33m\u001b[0m\u001b[0m\n\u001b[0m",
      "\u001b[1;32m~\\AppData\\Local\\Programs\\Python\\Python38\\lib\\site-packages\\selenium\\webdriver\\remote\\webelement.py\u001b[0m in \u001b[0;36mtext\u001b[1;34m(self)\u001b[0m\n\u001b[0;32m     74\u001b[0m     \u001b[1;32mdef\u001b[0m \u001b[0mtext\u001b[0m\u001b[1;33m(\u001b[0m\u001b[0mself\u001b[0m\u001b[1;33m)\u001b[0m\u001b[1;33m:\u001b[0m\u001b[1;33m\u001b[0m\u001b[1;33m\u001b[0m\u001b[0m\n\u001b[0;32m     75\u001b[0m         \u001b[1;34m\"\"\"The text of the element.\"\"\"\u001b[0m\u001b[1;33m\u001b[0m\u001b[1;33m\u001b[0m\u001b[0m\n\u001b[1;32m---> 76\u001b[1;33m         \u001b[1;32mreturn\u001b[0m \u001b[0mself\u001b[0m\u001b[1;33m.\u001b[0m\u001b[0m_execute\u001b[0m\u001b[1;33m(\u001b[0m\u001b[0mCommand\u001b[0m\u001b[1;33m.\u001b[0m\u001b[0mGET_ELEMENT_TEXT\u001b[0m\u001b[1;33m)\u001b[0m\u001b[1;33m[\u001b[0m\u001b[1;34m'value'\u001b[0m\u001b[1;33m]\u001b[0m\u001b[1;33m\u001b[0m\u001b[1;33m\u001b[0m\u001b[0m\n\u001b[0m\u001b[0;32m     77\u001b[0m \u001b[1;33m\u001b[0m\u001b[0m\n\u001b[0;32m     78\u001b[0m     \u001b[1;32mdef\u001b[0m \u001b[0mclick\u001b[0m\u001b[1;33m(\u001b[0m\u001b[0mself\u001b[0m\u001b[1;33m)\u001b[0m\u001b[1;33m:\u001b[0m\u001b[1;33m\u001b[0m\u001b[1;33m\u001b[0m\u001b[0m\n",
      "\u001b[1;32m~\\AppData\\Local\\Programs\\Python\\Python38\\lib\\site-packages\\selenium\\webdriver\\remote\\webelement.py\u001b[0m in \u001b[0;36m_execute\u001b[1;34m(self, command, params)\u001b[0m\n\u001b[0;32m    631\u001b[0m             \u001b[0mparams\u001b[0m \u001b[1;33m=\u001b[0m \u001b[1;33m{\u001b[0m\u001b[1;33m}\u001b[0m\u001b[1;33m\u001b[0m\u001b[1;33m\u001b[0m\u001b[0m\n\u001b[0;32m    632\u001b[0m         \u001b[0mparams\u001b[0m\u001b[1;33m[\u001b[0m\u001b[1;34m'id'\u001b[0m\u001b[1;33m]\u001b[0m \u001b[1;33m=\u001b[0m \u001b[0mself\u001b[0m\u001b[1;33m.\u001b[0m\u001b[0m_id\u001b[0m\u001b[1;33m\u001b[0m\u001b[1;33m\u001b[0m\u001b[0m\n\u001b[1;32m--> 633\u001b[1;33m         \u001b[1;32mreturn\u001b[0m \u001b[0mself\u001b[0m\u001b[1;33m.\u001b[0m\u001b[0m_parent\u001b[0m\u001b[1;33m.\u001b[0m\u001b[0mexecute\u001b[0m\u001b[1;33m(\u001b[0m\u001b[0mcommand\u001b[0m\u001b[1;33m,\u001b[0m \u001b[0mparams\u001b[0m\u001b[1;33m)\u001b[0m\u001b[1;33m\u001b[0m\u001b[1;33m\u001b[0m\u001b[0m\n\u001b[0m\u001b[0;32m    634\u001b[0m \u001b[1;33m\u001b[0m\u001b[0m\n\u001b[0;32m    635\u001b[0m     \u001b[1;32mdef\u001b[0m \u001b[0mfind_element\u001b[0m\u001b[1;33m(\u001b[0m\u001b[0mself\u001b[0m\u001b[1;33m,\u001b[0m \u001b[0mby\u001b[0m\u001b[1;33m=\u001b[0m\u001b[0mBy\u001b[0m\u001b[1;33m.\u001b[0m\u001b[0mID\u001b[0m\u001b[1;33m,\u001b[0m \u001b[0mvalue\u001b[0m\u001b[1;33m=\u001b[0m\u001b[1;32mNone\u001b[0m\u001b[1;33m)\u001b[0m\u001b[1;33m:\u001b[0m\u001b[1;33m\u001b[0m\u001b[1;33m\u001b[0m\u001b[0m\n",
      "\u001b[1;32m~\\AppData\\Local\\Programs\\Python\\Python38\\lib\\site-packages\\selenium\\webdriver\\remote\\webdriver.py\u001b[0m in \u001b[0;36mexecute\u001b[1;34m(self, driver_command, params)\u001b[0m\n\u001b[0;32m    319\u001b[0m         \u001b[0mresponse\u001b[0m \u001b[1;33m=\u001b[0m \u001b[0mself\u001b[0m\u001b[1;33m.\u001b[0m\u001b[0mcommand_executor\u001b[0m\u001b[1;33m.\u001b[0m\u001b[0mexecute\u001b[0m\u001b[1;33m(\u001b[0m\u001b[0mdriver_command\u001b[0m\u001b[1;33m,\u001b[0m \u001b[0mparams\u001b[0m\u001b[1;33m)\u001b[0m\u001b[1;33m\u001b[0m\u001b[1;33m\u001b[0m\u001b[0m\n\u001b[0;32m    320\u001b[0m         \u001b[1;32mif\u001b[0m \u001b[0mresponse\u001b[0m\u001b[1;33m:\u001b[0m\u001b[1;33m\u001b[0m\u001b[1;33m\u001b[0m\u001b[0m\n\u001b[1;32m--> 321\u001b[1;33m             \u001b[0mself\u001b[0m\u001b[1;33m.\u001b[0m\u001b[0merror_handler\u001b[0m\u001b[1;33m.\u001b[0m\u001b[0mcheck_response\u001b[0m\u001b[1;33m(\u001b[0m\u001b[0mresponse\u001b[0m\u001b[1;33m)\u001b[0m\u001b[1;33m\u001b[0m\u001b[1;33m\u001b[0m\u001b[0m\n\u001b[0m\u001b[0;32m    322\u001b[0m             response['value'] = self._unwrap_value(\n\u001b[0;32m    323\u001b[0m                 response.get('value', None))\n",
      "\u001b[1;32m~\\AppData\\Local\\Programs\\Python\\Python38\\lib\\site-packages\\selenium\\webdriver\\remote\\errorhandler.py\u001b[0m in \u001b[0;36mcheck_response\u001b[1;34m(self, response)\u001b[0m\n\u001b[0;32m    240\u001b[0m                 \u001b[0malert_text\u001b[0m \u001b[1;33m=\u001b[0m \u001b[0mvalue\u001b[0m\u001b[1;33m[\u001b[0m\u001b[1;34m'alert'\u001b[0m\u001b[1;33m]\u001b[0m\u001b[1;33m.\u001b[0m\u001b[0mget\u001b[0m\u001b[1;33m(\u001b[0m\u001b[1;34m'text'\u001b[0m\u001b[1;33m)\u001b[0m\u001b[1;33m\u001b[0m\u001b[1;33m\u001b[0m\u001b[0m\n\u001b[0;32m    241\u001b[0m             \u001b[1;32mraise\u001b[0m \u001b[0mexception_class\u001b[0m\u001b[1;33m(\u001b[0m\u001b[0mmessage\u001b[0m\u001b[1;33m,\u001b[0m \u001b[0mscreen\u001b[0m\u001b[1;33m,\u001b[0m \u001b[0mstacktrace\u001b[0m\u001b[1;33m,\u001b[0m \u001b[0malert_text\u001b[0m\u001b[1;33m)\u001b[0m\u001b[1;33m\u001b[0m\u001b[1;33m\u001b[0m\u001b[0m\n\u001b[1;32m--> 242\u001b[1;33m         \u001b[1;32mraise\u001b[0m \u001b[0mexception_class\u001b[0m\u001b[1;33m(\u001b[0m\u001b[0mmessage\u001b[0m\u001b[1;33m,\u001b[0m \u001b[0mscreen\u001b[0m\u001b[1;33m,\u001b[0m \u001b[0mstacktrace\u001b[0m\u001b[1;33m)\u001b[0m\u001b[1;33m\u001b[0m\u001b[1;33m\u001b[0m\u001b[0m\n\u001b[0m\u001b[0;32m    243\u001b[0m \u001b[1;33m\u001b[0m\u001b[0m\n\u001b[0;32m    244\u001b[0m     \u001b[1;32mdef\u001b[0m \u001b[0m_value_or_default\u001b[0m\u001b[1;33m(\u001b[0m\u001b[0mself\u001b[0m\u001b[1;33m,\u001b[0m \u001b[0mobj\u001b[0m\u001b[1;33m,\u001b[0m \u001b[0mkey\u001b[0m\u001b[1;33m,\u001b[0m \u001b[0mdefault\u001b[0m\u001b[1;33m)\u001b[0m\u001b[1;33m:\u001b[0m\u001b[1;33m\u001b[0m\u001b[1;33m\u001b[0m\u001b[0m\n",
      "\u001b[1;31mStaleElementReferenceException\u001b[0m: Message: stale element reference: element is not attached to the page document\n  (Session info: chrome=86.0.4240.111)\n"
     ]
    }
   ],
   "source": [
    "elo = driver.find_element_by_link_text(element.text)"
   ]
  },
  {
   "cell_type": "code",
   "execution_count": 135,
   "metadata": {},
   "outputs": [
    {
     "output_type": "error",
     "ename": "KeyError",
     "evalue": "'HomeTeam'",
     "traceback": [
      "\u001b[1;31m---------------------------------------------------------------------------\u001b[0m",
      "\u001b[1;31mKeyError\u001b[0m                                  Traceback (most recent call last)",
      "\u001b[1;32m~\\AppData\\Local\\Programs\\Python\\Python38\\lib\\site-packages\\pandas\\core\\indexes\\base.py\u001b[0m in \u001b[0;36mget_loc\u001b[1;34m(self, key, method, tolerance)\u001b[0m\n\u001b[0;32m   2890\u001b[0m             \u001b[1;32mtry\u001b[0m\u001b[1;33m:\u001b[0m\u001b[1;33m\u001b[0m\u001b[1;33m\u001b[0m\u001b[0m\n\u001b[1;32m-> 2891\u001b[1;33m                 \u001b[1;32mreturn\u001b[0m \u001b[0mself\u001b[0m\u001b[1;33m.\u001b[0m\u001b[0m_engine\u001b[0m\u001b[1;33m.\u001b[0m\u001b[0mget_loc\u001b[0m\u001b[1;33m(\u001b[0m\u001b[0mcasted_key\u001b[0m\u001b[1;33m)\u001b[0m\u001b[1;33m\u001b[0m\u001b[1;33m\u001b[0m\u001b[0m\n\u001b[0m\u001b[0;32m   2892\u001b[0m             \u001b[1;32mexcept\u001b[0m \u001b[0mKeyError\u001b[0m \u001b[1;32mas\u001b[0m \u001b[0merr\u001b[0m\u001b[1;33m:\u001b[0m\u001b[1;33m\u001b[0m\u001b[1;33m\u001b[0m\u001b[0m\n",
      "\u001b[1;32mpandas\\_libs\\index.pyx\u001b[0m in \u001b[0;36mpandas._libs.index.IndexEngine.get_loc\u001b[1;34m()\u001b[0m\n",
      "\u001b[1;32mpandas\\_libs\\index.pyx\u001b[0m in \u001b[0;36mpandas._libs.index.IndexEngine.get_loc\u001b[1;34m()\u001b[0m\n",
      "\u001b[1;32mpandas\\_libs\\hashtable_class_helper.pxi\u001b[0m in \u001b[0;36mpandas._libs.hashtable.PyObjectHashTable.get_item\u001b[1;34m()\u001b[0m\n",
      "\u001b[1;32mpandas\\_libs\\hashtable_class_helper.pxi\u001b[0m in \u001b[0;36mpandas._libs.hashtable.PyObjectHashTable.get_item\u001b[1;34m()\u001b[0m\n",
      "\u001b[1;31mKeyError\u001b[0m: 'HomeTeam'",
      "\nThe above exception was the direct cause of the following exception:\n",
      "\u001b[1;31mKeyError\u001b[0m                                  Traceback (most recent call last)",
      "\u001b[1;32m<ipython-input-135-d311e6a99151>\u001b[0m in \u001b[0;36m<module>\u001b[1;34m\u001b[0m\n\u001b[0;32m      1\u001b[0m \u001b[1;32mif\u001b[0m \u001b[1;33m(\u001b[0m\u001b[0mdf\u001b[0m\u001b[1;33m[\u001b[0m\u001b[1;34m'at_anfield'\u001b[0m\u001b[1;33m]\u001b[0m\u001b[1;33m[\u001b[0m\u001b[1;36m0\u001b[0m\u001b[1;33m]\u001b[0m \u001b[1;33m==\u001b[0m \u001b[1;32mFalse\u001b[0m\u001b[1;33m)\u001b[0m \u001b[1;33m:\u001b[0m\u001b[1;33m\u001b[0m\u001b[1;33m\u001b[0m\u001b[0m\n\u001b[1;32m----> 2\u001b[1;33m     \u001b[0mteamname\u001b[0m \u001b[1;33m=\u001b[0m \u001b[0mstr\u001b[0m\u001b[1;33m(\u001b[0m\u001b[0mdf\u001b[0m\u001b[1;33m[\u001b[0m\u001b[1;34m'HomeTeam'\u001b[0m\u001b[1;33m]\u001b[0m\u001b[1;33m[\u001b[0m\u001b[1;36m0\u001b[0m\u001b[1;33m]\u001b[0m\u001b[1;33m)\u001b[0m\u001b[1;33m.\u001b[0m\u001b[0mreplace\u001b[0m\u001b[1;33m(\u001b[0m\u001b[1;34m\" \"\u001b[0m\u001b[1;33m,\u001b[0m \u001b[1;34m\"\"\u001b[0m\u001b[1;33m)\u001b[0m\u001b[1;33m\u001b[0m\u001b[1;33m\u001b[0m\u001b[0m\n\u001b[0m\u001b[0;32m      3\u001b[0m     \u001b[0mbalise\u001b[0m \u001b[1;33m=\u001b[0m \u001b[1;34m'tbody tr td a[href =\"/'\u001b[0m \u001b[1;33m+\u001b[0m \u001b[0mstr\u001b[0m\u001b[1;33m(\u001b[0m\u001b[0mdf\u001b[0m\u001b[1;33m[\u001b[0m\u001b[1;34m'Date'\u001b[0m\u001b[1;33m]\u001b[0m\u001b[1;33m[\u001b[0m\u001b[1;36m0\u001b[0m\u001b[1;33m]\u001b[0m\u001b[1;33m)\u001b[0m \u001b[1;33m+\u001b[0m\u001b[1;34m'/'\u001b[0m\u001b[1;33m+\u001b[0m \u001b[0mteamname\u001b[0m \u001b[1;33m+\u001b[0m\u001b[1;34m'\"]'\u001b[0m\u001b[1;33m\u001b[0m\u001b[1;33m\u001b[0m\u001b[0m\n\u001b[0;32m      4\u001b[0m     \u001b[0melement\u001b[0m \u001b[1;33m=\u001b[0m \u001b[0mdriver\u001b[0m\u001b[1;33m.\u001b[0m\u001b[0mfind_element_by_css_selector\u001b[0m\u001b[1;33m(\u001b[0m\u001b[0mbalise\u001b[0m\u001b[1;33m)\u001b[0m\u001b[1;33m\u001b[0m\u001b[1;33m\u001b[0m\u001b[0m\n\u001b[0;32m      5\u001b[0m     \u001b[1;31m#element = driver.find_element_by_css_selector('tr td[class = \"r\"]')\u001b[0m\u001b[1;33m\u001b[0m\u001b[1;33m\u001b[0m\u001b[1;33m\u001b[0m\u001b[0m\n",
      "\u001b[1;32m~\\AppData\\Local\\Programs\\Python\\Python38\\lib\\site-packages\\pandas\\core\\frame.py\u001b[0m in \u001b[0;36m__getitem__\u001b[1;34m(self, key)\u001b[0m\n\u001b[0;32m   2900\u001b[0m             \u001b[1;32mif\u001b[0m \u001b[0mself\u001b[0m\u001b[1;33m.\u001b[0m\u001b[0mcolumns\u001b[0m\u001b[1;33m.\u001b[0m\u001b[0mnlevels\u001b[0m \u001b[1;33m>\u001b[0m \u001b[1;36m1\u001b[0m\u001b[1;33m:\u001b[0m\u001b[1;33m\u001b[0m\u001b[1;33m\u001b[0m\u001b[0m\n\u001b[0;32m   2901\u001b[0m                 \u001b[1;32mreturn\u001b[0m \u001b[0mself\u001b[0m\u001b[1;33m.\u001b[0m\u001b[0m_getitem_multilevel\u001b[0m\u001b[1;33m(\u001b[0m\u001b[0mkey\u001b[0m\u001b[1;33m)\u001b[0m\u001b[1;33m\u001b[0m\u001b[1;33m\u001b[0m\u001b[0m\n\u001b[1;32m-> 2902\u001b[1;33m             \u001b[0mindexer\u001b[0m \u001b[1;33m=\u001b[0m \u001b[0mself\u001b[0m\u001b[1;33m.\u001b[0m\u001b[0mcolumns\u001b[0m\u001b[1;33m.\u001b[0m\u001b[0mget_loc\u001b[0m\u001b[1;33m(\u001b[0m\u001b[0mkey\u001b[0m\u001b[1;33m)\u001b[0m\u001b[1;33m\u001b[0m\u001b[1;33m\u001b[0m\u001b[0m\n\u001b[0m\u001b[0;32m   2903\u001b[0m             \u001b[1;32mif\u001b[0m \u001b[0mis_integer\u001b[0m\u001b[1;33m(\u001b[0m\u001b[0mindexer\u001b[0m\u001b[1;33m)\u001b[0m\u001b[1;33m:\u001b[0m\u001b[1;33m\u001b[0m\u001b[1;33m\u001b[0m\u001b[0m\n\u001b[0;32m   2904\u001b[0m                 \u001b[0mindexer\u001b[0m \u001b[1;33m=\u001b[0m \u001b[1;33m[\u001b[0m\u001b[0mindexer\u001b[0m\u001b[1;33m]\u001b[0m\u001b[1;33m\u001b[0m\u001b[1;33m\u001b[0m\u001b[0m\n",
      "\u001b[1;32m~\\AppData\\Local\\Programs\\Python\\Python38\\lib\\site-packages\\pandas\\core\\indexes\\base.py\u001b[0m in \u001b[0;36mget_loc\u001b[1;34m(self, key, method, tolerance)\u001b[0m\n\u001b[0;32m   2891\u001b[0m                 \u001b[1;32mreturn\u001b[0m \u001b[0mself\u001b[0m\u001b[1;33m.\u001b[0m\u001b[0m_engine\u001b[0m\u001b[1;33m.\u001b[0m\u001b[0mget_loc\u001b[0m\u001b[1;33m(\u001b[0m\u001b[0mcasted_key\u001b[0m\u001b[1;33m)\u001b[0m\u001b[1;33m\u001b[0m\u001b[1;33m\u001b[0m\u001b[0m\n\u001b[0;32m   2892\u001b[0m             \u001b[1;32mexcept\u001b[0m \u001b[0mKeyError\u001b[0m \u001b[1;32mas\u001b[0m \u001b[0merr\u001b[0m\u001b[1;33m:\u001b[0m\u001b[1;33m\u001b[0m\u001b[1;33m\u001b[0m\u001b[0m\n\u001b[1;32m-> 2893\u001b[1;33m                 \u001b[1;32mraise\u001b[0m \u001b[0mKeyError\u001b[0m\u001b[1;33m(\u001b[0m\u001b[0mkey\u001b[0m\u001b[1;33m)\u001b[0m \u001b[1;32mfrom\u001b[0m \u001b[0merr\u001b[0m\u001b[1;33m\u001b[0m\u001b[1;33m\u001b[0m\u001b[0m\n\u001b[0m\u001b[0;32m   2894\u001b[0m \u001b[1;33m\u001b[0m\u001b[0m\n\u001b[0;32m   2895\u001b[0m         \u001b[1;32mif\u001b[0m \u001b[0mtolerance\u001b[0m \u001b[1;32mis\u001b[0m \u001b[1;32mnot\u001b[0m \u001b[1;32mNone\u001b[0m\u001b[1;33m:\u001b[0m\u001b[1;33m\u001b[0m\u001b[1;33m\u001b[0m\u001b[0m\n",
      "\u001b[1;31mKeyError\u001b[0m: 'HomeTeam'"
     ]
    }
   ],
   "source": [
    "if (df['at_anfield'][0] == False) :\n",
    "    teamname = str(df['HomeTeam'][0]).replace(\" \", \"\")\n",
    "    balise = 'tbody tr td a[href =\"/' + str(df['Date'][0]) +'/'+ teamname +'\"]' \n",
    "    element = driver.find_element_by_css_selector(balise)\n",
    "    #element = driver.find_element_by_css_selector('tr td[class = \"r\"]')\n",
    "    print(element.text)\n"
   ]
  },
  {
   "source": [
    "# Test Elo sur chaque page"
   ],
   "cell_type": "markdown",
   "metadata": {}
  },
  {
   "cell_type": "code",
   "execution_count": 127,
   "metadata": {},
   "outputs": [],
   "source": [
    "driver.get(\"http://clubelo.com/2012-08-23/Liverpool\")"
   ]
  },
  {
   "cell_type": "code",
   "execution_count": 128,
   "metadata": {},
   "outputs": [
    {
     "output_type": "execute_result",
     "data": {
      "text/plain": [
       "'1728'"
      ]
     },
     "metadata": {},
     "execution_count": 128
    }
   ],
   "source": [
    "element = driver.find_element_by_css_selector('div[class =\"astblatt\"] b')\n",
    "element.text"
   ]
  },
  {
   "cell_type": "code",
   "execution_count": 131,
   "metadata": {},
   "outputs": [
    {
     "output_type": "execute_result",
     "data": {
      "text/plain": [
       "numpy.bool_"
      ]
     },
     "metadata": {},
     "execution_count": 131
    }
   ],
   "source": [
    "type(df['at_anfield'][0])"
   ]
  },
  {
   "source": [
    "# Boucle pour récupérer tous les elos"
   ],
   "cell_type": "markdown",
   "metadata": {}
  },
  {
   "cell_type": "code",
   "execution_count": 136,
   "metadata": {},
   "outputs": [],
   "source": [
    "elo_list = []"
   ]
  },
  {
   "cell_type": "code",
   "execution_count": 138,
   "metadata": {
    "tags": []
   },
   "outputs": [
    {
     "output_type": "stream",
     "name": "stdout",
     "text": [
      "1351\n",
      "1349\n",
      "1535\n",
      "1669\n",
      "1717\n",
      "1700\n",
      "1536\n",
      "1641\n",
      "1772\n",
      "1796\n",
      "1531\n",
      "1677\n",
      "2051\n",
      "2071\n",
      "1531\n",
      "1713\n",
      "1677\n",
      "1663\n",
      "1489\n",
      "1590\n",
      "1599\n",
      "1613\n",
      "1487\n",
      "1659\n",
      "1672\n",
      "1788\n",
      "1772\n",
      "1897\n",
      "1884\n",
      "1848\n",
      "1868\n",
      "1807\n",
      "1763\n",
      "1757\n",
      "1830\n",
      "1567\n",
      "1448\n",
      "1447\n",
      "1787\n",
      "1701\n",
      "1778\n",
      "1775\n",
      "1993\n",
      "1968\n",
      "1845\n",
      "1835\n",
      "2011\n",
      "1899\n",
      "1850\n",
      "1507\n",
      "1505\n",
      "1895\n",
      "1869\n",
      "1936\n",
      "1951\n",
      "1824\n",
      "1824\n",
      "2042\n",
      "2035\n",
      "1897\n",
      "1804\n",
      "1800\n",
      "1619\n",
      "1593\n",
      "1785\n",
      "1787\n",
      "1840\n",
      "1841\n"
     ]
    }
   ],
   "source": [
    "\n",
    "for i in df.index :\n",
    "    if (df['at_anfield'][i] == False) :\n",
    "        url = \"http://clubelo.com/\" + str(df['date_match'][i]) +\"/\"+ str(df['HomeTeamClean'][i]).replace(\" \",\"\")\n",
    "        driver.get(url)\n",
    "        elo = driver.find_element_by_css_selector('div[class =\"astblatt\"] b')\n",
    "        print(elo.text)\n",
    "        elo_list.append(elo.text)\n",
    "    else :\n",
    "        url = \"http://clubelo.com/\" + str(df['date_match'][i]) +\"/\"+ str(df['AwayTeamClean'][i]).replace(\" \",\"\")\n",
    "        driver.get(url)\n",
    "        elo = driver.find_element_by_css_selector('div[class =\"astblatt\"] b')\n",
    "        print(elo.text)\n",
    "        elo_list.append(elo.text)"
   ]
  },
  {
   "cell_type": "code",
   "execution_count": 139,
   "metadata": {},
   "outputs": [
    {
     "output_type": "stream",
     "name": "stdout",
     "text": [
      "68\n"
     ]
    }
   ],
   "source": [
    "print(len (elo_list))"
   ]
  },
  {
   "cell_type": "code",
   "execution_count": 140,
   "metadata": {},
   "outputs": [],
   "source": [
    "driver.close()"
   ]
  },
  {
   "cell_type": "code",
   "execution_count": 141,
   "metadata": {},
   "outputs": [],
   "source": [
    "df2 = pd.Series(elo_list)"
   ]
  },
  {
   "cell_type": "code",
   "execution_count": 142,
   "metadata": {},
   "outputs": [
    {
     "output_type": "execute_result",
     "data": {
      "text/plain": [
       "0     1351\n",
       "1     1349\n",
       "2     1535\n",
       "3     1669\n",
       "4     1717\n",
       "      ... \n",
       "63    1593\n",
       "64    1785\n",
       "65    1787\n",
       "66    1840\n",
       "67    1841\n",
       "Length: 68, dtype: object"
      ]
     },
     "metadata": {},
     "execution_count": 142
    }
   ],
   "source": [
    "df2"
   ]
  },
  {
   "cell_type": "code",
   "execution_count": 143,
   "metadata": {},
   "outputs": [],
   "source": [
    "df2.to_csv(r'C:\\Users\\jacky\\Downloads\\Work\\ESILV\\Projets\\Liverpool\\Test_Dev\\elo_opponent_europe.csv', header = True, index = False)"
   ]
  },
  {
   "cell_type": "code",
   "execution_count": null,
   "metadata": {},
   "outputs": [],
   "source": []
  }
 ]
}