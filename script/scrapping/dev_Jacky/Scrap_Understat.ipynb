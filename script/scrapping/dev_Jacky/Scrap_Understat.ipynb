{
 "metadata": {
  "language_info": {
   "codemirror_mode": {
    "name": "ipython",
    "version": 3
   },
   "file_extension": ".py",
   "mimetype": "text/x-python",
   "name": "python",
   "nbconvert_exporter": "python",
   "pygments_lexer": "ipython3",
   "version": "3.8.2-final"
  },
  "orig_nbformat": 2,
  "kernelspec": {
   "name": "Python 3.8.2 64-bit",
   "display_name": "Python 3.8.2 64-bit",
   "metadata": {
    "interpreter": {
     "hash": "95e24f6d028694f957b1106e412d23c4f9ba09e8613c65a2aeaf0c0e73a5daa1"
    }
   }
  }
 },
 "nbformat": 4,
 "nbformat_minor": 2,
 "cells": [
  {
   "cell_type": "code",
   "execution_count": 1,
   "metadata": {},
   "outputs": [],
   "source": [
    "import asyncio\n",
    "import json\n",
    "\n",
    "import aiohttp\n",
    "\n",
    "import nest_asyncio\n",
    "nest_asyncio.apply()\n",
    "\n",
    "from understat import Understat"
   ]
  },
  {
   "cell_type": "code",
   "execution_count": 2,
   "metadata": {},
   "outputs": [],
   "source": [
    "async def main():\n",
    "    async with aiohttp.ClientSession() as session :\n",
    "        understat = Understat(session)\n",
    "        results = await understat.get_team_players('Liverpool', 2018)\n",
    "        print(json.dumps(results))\n",
    "        "
   ]
  },
  {
   "cell_type": "code",
   "execution_count": 4,
   "metadata": {},
   "outputs": [
    {
     "output_type": "stream",
     "name": "stdout",
     "text": [
      "[{\"id\": \"838\", \"player_name\": \"Sadio Man\\u00e9\", \"games\": \"36\", \"time\": \"3100\", \"goals\": \"22\", \"xG\": \"16.762808084487915\", \"assists\": \"1\", \"xA\": \"5.123734523542225\", \"shots\": \"87\", \"key_passes\": \"45\", \"yellow_cards\": \"2\", \"red_cards\": \"0\", \"position\": \"F M S\", \"team_title\": \"Liverpool\", \"npg\": \"22\", \"npxG\": \"16.762808084487915\", \"xGChain\": \"28.40134635940194\", \"xGBuildup\": \"8.485077820718288\"}, {\"id\": \"1250\", \"player_name\": \"Mohamed Salah\", \"games\": \"38\", \"time\": \"3274\", \"goals\": \"22\", \"xG\": \"21.79245018400252\", \"assists\": \"8\", \"xA\": \"10.468589510768652\", \"shots\": \"137\", \"key_passes\": \"68\", \"yellow_cards\": \"1\", \"red_cards\": \"0\", \"position\": \"F S\", \"team_title\": \"Liverpool\", \"npg\": \"19\", \"npxG\": \"19.508943611755967\", \"xGChain\": \"31.780298396945\", \"xGBuildup\": \"7.865945274010301\"}, {\"id\": \"482\", \"player_name\": \"Roberto Firmino\", \"games\": \"34\", \"time\": \"2631\", \"goals\": \"12\", \"xG\": \"13.737689750269055\", \"assists\": \"6\", \"xA\": \"6.344290215522051\", \"shots\": \"75\", \"key_passes\": \"43\", \"yellow_cards\": \"0\", \"red_cards\": \"0\", \"position\": \"F M S\", \"team_title\": \"Liverpool\", \"npg\": \"11\", \"npxG\": \"12.976520912721753\", \"xGChain\": \"24.34563909471035\", \"xGBuildup\": \"9.149718433618546\"}, {\"id\": \"888\", \"player_name\": \"Xherdan Shaqiri\", \"games\": \"24\", \"time\": \"1048\", \"goals\": \"6\", \"xG\": \"4.059152172878385\", \"assists\": \"3\", \"xA\": \"1.8917570114135742\", \"shots\": \"26\", \"key_passes\": \"20\", \"yellow_cards\": \"2\", \"red_cards\": \"0\", \"position\": \"M S\", \"team_title\": \"Liverpool\", \"npg\": \"6\", \"npxG\": \"4.059152172878385\", \"xGChain\": \"7.922253351658583\", \"xGBuildup\": \"3.4201246555894613\"}, {\"id\": \"489\", \"player_name\": \"James Milner\", \"games\": \"31\", \"time\": \"1775\", \"goals\": \"5\", \"xG\": \"3.3563821092247963\", \"assists\": \"4\", \"xA\": \"5.641537204384804\", \"shots\": \"24\", \"key_passes\": \"44\", \"yellow_cards\": \"5\", \"red_cards\": \"1\", \"position\": \"D M S\", \"team_title\": \"Liverpool\", \"npg\": \"2\", \"npxG\": \"1.0728756012395024\", \"xGChain\": \"12.487557540647686\", \"xGBuildup\": \"9.807761223986745\"}, {\"id\": \"833\", \"player_name\": \"Virgil van Dijk\", \"games\": \"38\", \"time\": \"3388\", \"goals\": \"4\", \"xG\": \"3.5105454893782735\", \"assists\": \"2\", \"xA\": \"1.2659120308235288\", \"shots\": \"31\", \"key_passes\": \"7\", \"yellow_cards\": \"1\", \"red_cards\": \"0\", \"position\": \"D\", \"team_title\": \"Liverpool\", \"npg\": \"4\", \"npxG\": \"3.5105454893782735\", \"xGChain\": \"17.472352009266615\", \"xGBuildup\": \"16.656997345387936\"}, {\"id\": \"484\", \"player_name\": \"Divock Origi\", \"games\": \"12\", \"time\": \"357\", \"goals\": \"3\", \"xG\": \"2.2430995739996433\", \"assists\": \"1\", \"xA\": \"0.18801140412688255\", \"shots\": \"13\", \"key_passes\": \"3\", \"yellow_cards\": \"0\", \"red_cards\": \"0\", \"position\": \"F S\", \"team_title\": \"Liverpool\", \"npg\": \"3\", \"npxG\": \"2.2430995739996433\", \"xGChain\": \"1.4092786479741335\", \"xGBuildup\": \"0.6994131207466125\"}, {\"id\": \"771\", \"player_name\": \"Georginio Wijnaldum\", \"games\": \"35\", \"time\": \"2749\", \"goals\": \"3\", \"xG\": \"3.180203888565302\", \"assists\": \"0\", \"xA\": \"1.9434388419613242\", \"shots\": \"30\", \"key_passes\": \"25\", \"yellow_cards\": \"3\", \"red_cards\": \"0\", \"position\": \"M S\", \"team_title\": \"Liverpool\", \"npg\": \"3\", \"npxG\": \"3.180203888565302\", \"xGChain\": \"14.712283564731479\", \"xGBuildup\": \"10.547691758722067\"}, {\"id\": \"483\", \"player_name\": \"Daniel Sturridge\", \"games\": \"18\", \"time\": \"484\", \"goals\": \"2\", \"xG\": \"1.4982534935697913\", \"assists\": \"1\", \"xA\": \"1.0722148530185223\", \"shots\": \"18\", \"key_passes\": \"8\", \"yellow_cards\": \"1\", \"red_cards\": \"0\", \"position\": \"F S\", \"team_title\": \"Liverpool\", \"npg\": \"2\", \"npxG\": \"1.4982534935697913\", \"xGChain\": \"4.198269399814308\", \"xGBuildup\": \"2.53722982108593\"}, {\"id\": \"5247\", \"player_name\": \"Naby Keita\", \"games\": \"25\", \"time\": \"1407\", \"goals\": \"2\", \"xG\": \"2.5456338804215193\", \"assists\": \"1\", \"xA\": \"1.0696090441197157\", \"shots\": \"27\", \"key_passes\": \"9\", \"yellow_cards\": \"0\", \"red_cards\": \"0\", \"position\": \"M S\", \"team_title\": \"Liverpool\", \"npg\": \"2\", \"npxG\": \"2.5456338804215193\", \"xGChain\": \"12.775823663920164\", \"xGBuildup\": \"9.896367625333369\"}, {\"id\": \"332\", \"player_name\": \"Joel Matip\", \"games\": \"22\", \"time\": \"1535\", \"goals\": \"1\", \"xG\": \"0.9036619700491428\", \"assists\": \"0\", \"xA\": \"0.18020743504166603\", \"shots\": \"8\", \"key_passes\": \"3\", \"yellow_cards\": \"3\", \"red_cards\": \"0\", \"position\": \"D S\", \"team_title\": \"Liverpool\", \"npg\": \"1\", \"npxG\": \"0.9036619700491428\", \"xGChain\": \"6.371974578127265\", \"xGBuildup\": \"6.371974578127265\"}, {\"id\": \"602\", \"player_name\": \"Dejan Lovren\", \"games\": \"13\", \"time\": \"988\", \"goals\": \"1\", \"xG\": \"0.9101980663836002\", \"assists\": \"0\", \"xA\": \"0.10816649347543716\", \"shots\": \"6\", \"key_passes\": \"1\", \"yellow_cards\": \"1\", \"red_cards\": \"0\", \"position\": \"D S\", \"team_title\": \"Liverpool\", \"npg\": \"1\", \"npxG\": \"0.9101980663836002\", \"xGChain\": \"3.4448091462254524\", \"xGBuildup\": \"3.321439675986767\"}, {\"id\": \"605\", \"player_name\": \"Jordan Henderson\", \"games\": \"32\", \"time\": \"1979\", \"goals\": \"1\", \"xG\": \"1.513163773342967\", \"assists\": \"3\", \"xA\": \"1.6871283408254385\", \"shots\": \"16\", \"key_passes\": \"15\", \"yellow_cards\": \"1\", \"red_cards\": \"1\", \"position\": \"D M S\", \"team_title\": \"Liverpool\", \"npg\": \"1\", \"npxG\": \"1.513163773342967\", \"xGChain\": \"14.520353047177196\", \"xGBuildup\": \"11.57944836653769\"}, {\"id\": \"1791\", \"player_name\": \"Trent Alexander-Arnold\", \"games\": \"29\", \"time\": \"2475\", \"goals\": \"1\", \"xG\": \"1.4922779146581888\", \"assists\": \"12\", \"xA\": \"7.21885472536087\", \"shots\": \"29\", \"key_passes\": \"48\", \"yellow_cards\": \"3\", \"red_cards\": \"0\", \"position\": \"D S\", \"team_title\": \"Liverpool\", \"npg\": \"1\", \"npxG\": \"1.4922779146581888\", \"xGChain\": \"14.109513361006975\", \"xGBuildup\": \"10.70944832637906\"}, {\"id\": \"3420\", \"player_name\": \"Fabinho\", \"games\": \"28\", \"time\": \"2006\", \"goals\": \"1\", \"xG\": \"1.144551856443286\", \"assists\": \"2\", \"xA\": \"1.3083824701607227\", \"shots\": \"17\", \"key_passes\": \"16\", \"yellow_cards\": \"6\", \"red_cards\": \"0\", \"position\": \"D M S\", \"team_title\": \"Liverpool\", \"npg\": \"1\", \"npxG\": \"1.144551856443286\", \"xGChain\": \"9.326502371579409\", \"xGBuildup\": \"7.968353819102049\"}, {\"id\": \"486\", \"player_name\": \"Adam Lallana\", \"games\": \"13\", \"time\": \"459\", \"goals\": \"0\", \"xG\": \"0.3037017956376076\", \"assists\": \"0\", \"xA\": \"0.5410390570759773\", \"shots\": \"5\", \"key_passes\": \"9\", \"yellow_cards\": \"1\", \"red_cards\": \"0\", \"position\": \"F M S\", \"team_title\": \"Liverpool\", \"npg\": \"0\", \"npxG\": \"0.3037017956376076\", \"xGChain\": \"1.740591049194336\", \"xGBuildup\": \"1.2620225138962269\"}, {\"id\": \"603\", \"player_name\": \"Nathaniel Clyne\", \"games\": \"4\", \"time\": \"103\", \"goals\": \"0\", \"xG\": \"0.08194448985159397\", \"assists\": \"0\", \"xA\": \"0\", \"shots\": \"3\", \"key_passes\": \"0\", \"yellow_cards\": \"0\", \"red_cards\": \"0\", \"position\": \"D S\", \"team_title\": \"Liverpool\", \"npg\": \"0\", \"npxG\": \"0.08194448985159397\", \"xGChain\": \"0.6235372014343739\", \"xGBuildup\": \"0.6097096689045429\"}, {\"id\": \"608\", \"player_name\": \"Alberto Moreno\", \"games\": \"2\", \"time\": \"156\", \"goals\": \"0\", \"xG\": \"0.02153877541422844\", \"assists\": \"0\", \"xA\": \"0.1352575272321701\", \"shots\": \"1\", \"key_passes\": \"3\", \"yellow_cards\": \"0\", \"red_cards\": \"0\", \"position\": \"D\", \"team_title\": \"Liverpool\", \"npg\": \"0\", \"npxG\": \"0.02153877541422844\", \"xGChain\": \"0.5720921158790588\", \"xGBuildup\": \"0.43683458864688873\"}, {\"id\": \"966\", \"player_name\": \"Alex Oxlade-Chamberlain\", \"games\": \"2\", \"time\": \"17\", \"goals\": \"0\", \"xG\": \"0.4664706289768219\", \"assists\": \"0\", \"xA\": \"0.11588068306446075\", \"shots\": \"1\", \"key_passes\": \"1\", \"yellow_cards\": \"0\", \"red_cards\": \"0\", \"position\": \"S\", \"team_title\": \"Liverpool\", \"npg\": \"0\", \"npxG\": \"0.4664706289768219\", \"xGChain\": \"1.3726168870925903\", \"xGBuildup\": \"1.2567362785339355\"}, {\"id\": \"987\", \"player_name\": \"Joseph Gomez\", \"games\": \"16\", \"time\": \"1052\", \"goals\": \"0\", \"xG\": \"0.2288763802498579\", \"assists\": \"0\", \"xA\": \"0.4228671807795763\", \"shots\": \"5\", \"key_passes\": \"7\", \"yellow_cards\": \"2\", \"red_cards\": \"0\", \"position\": \"D S\", \"team_title\": \"Liverpool\", \"npg\": \"0\", \"npxG\": \"0.2288763802498579\", \"xGChain\": \"5.0583770647645\", \"xGBuildup\": \"4.74765482544899\"}, {\"id\": \"1257\", \"player_name\": \"Alisson\", \"games\": \"38\", \"time\": \"3420\", \"goals\": \"0\", \"xG\": \"0\", \"assists\": \"0\", \"xA\": \"0\", \"shots\": \"0\", \"key_passes\": \"0\", \"yellow_cards\": \"1\", \"red_cards\": \"0\", \"position\": \"GK\", \"team_title\": \"Liverpool\", \"npg\": \"0\", \"npxG\": \"0\", \"xGChain\": \"7.606003455817699\", \"xGBuildup\": \"7.606003455817699\"}, {\"id\": \"1688\", \"player_name\": \"Andrew Robertson\", \"games\": \"36\", \"time\": \"3223\", \"goals\": \"0\", \"xG\": \"0.8616027366369963\", \"assists\": \"11\", \"xA\": \"8.056077662855387\", \"shots\": \"16\", \"key_passes\": \"50\", \"yellow_cards\": \"4\", \"red_cards\": \"0\", \"position\": \"D\", \"team_title\": \"Liverpool\", \"npg\": \"0\", \"npxG\": \"0.8616027366369963\", \"xGChain\": \"21.826572239398956\", \"xGBuildup\": \"16.70880425721407\"}, {\"id\": \"6666\", \"player_name\": \"Rafael Camacho\", \"games\": \"1\", \"time\": \"1\", \"goals\": \"0\", \"xG\": \"0\", \"assists\": \"0\", \"xA\": \"0\", \"shots\": \"0\", \"key_passes\": \"0\", \"yellow_cards\": \"0\", \"red_cards\": \"0\", \"position\": \"S\", \"team_title\": \"Liverpool\", \"npg\": \"0\", \"npxG\": \"0\", \"xGChain\": \"0\", \"xGBuildup\": \"0\"}]\n"
     ]
    }
   ],
   "source": [
    "loop = asyncio.get_event_loop()\n",
    "loop.run_until_complete(main())"
   ]
  },
  {
   "cell_type": "code",
   "execution_count": 12,
   "metadata": {},
   "outputs": [],
   "source": [
    "async def main():\n",
    "    async with aiohttp.ClientSession() as session:\n",
    "        understat = Understat(session)\n",
    "        team_stats = await understat.get_team_stats(\"Manchester United\", 2018)\n",
    "        print(json.dumps(team_stats))\n",
    "\n",
    "loop = asyncio.get_event_loop()"
   ]
  },
  {
   "cell_type": "code",
   "execution_count": null,
   "metadata": {},
   "outputs": [],
   "source": []
  }
 ]
}