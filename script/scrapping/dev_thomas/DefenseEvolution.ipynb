{
 "cells": [
  {
   "cell_type": "code",
<<<<<<< HEAD
<<<<<<< HEAD
   "execution_count": 17,
=======
<<<<<<< HEAD
=======
>>>>>>> 6c32097dd8a02fed993934f15e57fc0c47512aad
   "execution_count": 201,
=======
   "execution_count": 17,
>>>>>>> 72989aff461f01b000bb8f35e35ce1699d27e50b
<<<<<<< HEAD
>>>>>>> 6c32097dd8a02fed993934f15e57fc0c47512aad
=======
>>>>>>> 6c32097dd8a02fed993934f15e57fc0c47512aad
   "metadata": {},
   "outputs": [],
   "source": [
    "from selenium import webdriver\n",
<<<<<<< HEAD
<<<<<<< HEAD
    "import pandas as pd\n"
=======
<<<<<<< HEAD
=======
>>>>>>> 6c32097dd8a02fed993934f15e57fc0c47512aad
    "import pandas as pd\n",
    "options = webdriver.ChromeOptions()\n",
    "options.add_argument(\"--incognito\")\n",
    "driver = webdriver.Chrome(\"./chromedriver.exe\", options=options)"
=======
    "import pandas as pd\n"
>>>>>>> 72989aff461f01b000bb8f35e35ce1699d27e50b
<<<<<<< HEAD
>>>>>>> 6c32097dd8a02fed993934f15e57fc0c47512aad
=======
>>>>>>> 6c32097dd8a02fed993934f15e57fc0c47512aad
   ]
  },
  {
   "cell_type": "code",
<<<<<<< HEAD
<<<<<<< HEAD
=======
<<<<<<< HEAD
   "execution_count": 202,
=======
>>>>>>> 6c32097dd8a02fed993934f15e57fc0c47512aad
=======
   "execution_count": 202,
=======
>>>>>>> 6c32097dd8a02fed993934f15e57fc0c47512aad
   "execution_count": 18,
   "metadata": {},
   "outputs": [
    {
     "name": "stderr",
     "output_type": "stream",
     "text": [
      "[WDM] - Current google-chrome version is 87.0.4280\n",
      "[WDM] - Get LATEST driver version for 87.0.4280\n",
      "[WDM] - Driver [C:\\Users\\TRANG THOMAS\\.wdm\\drivers\\chromedriver\\win32\\87.0.4280.20\\chromedriver.exe] found in cache\n"
     ]
    },
    {
     "name": "stdout",
     "output_type": "stream",
     "text": [
      " \n"
     ]
    }
   ],
   "source": [
    "from selenium import webdriver\n",
    "from webdriver_manager.chrome import ChromeDriverManager\n",
    "\n",
    "driver = webdriver.Chrome(ChromeDriverManager().install())"
   ]
  },
  {
   "cell_type": "code",
   "execution_count": 19,
<<<<<<< HEAD
<<<<<<< HEAD
=======
>>>>>>> 72989aff461f01b000bb8f35e35ce1699d27e50b
>>>>>>> 6c32097dd8a02fed993934f15e57fc0c47512aad
=======
>>>>>>> 72989aff461f01b000bb8f35e35ce1699d27e50b
>>>>>>> 6c32097dd8a02fed993934f15e57fc0c47512aad
   "metadata": {},
   "outputs": [],
   "source": [
    "from datetime import datetime\n",
    "import time"
   ]
  },
  {
   "cell_type": "code",
<<<<<<< HEAD
<<<<<<< HEAD
   "execution_count": 20,
=======
<<<<<<< HEAD
=======
>>>>>>> 6c32097dd8a02fed993934f15e57fc0c47512aad
   "execution_count": 203,
=======
   "execution_count": 20,
>>>>>>> 72989aff461f01b000bb8f35e35ce1699d27e50b
<<<<<<< HEAD
>>>>>>> 6c32097dd8a02fed993934f15e57fc0c47512aad
=======
>>>>>>> 6c32097dd8a02fed993934f15e57fc0c47512aad
   "metadata": {},
   "outputs": [],
   "source": [
    "import re\n",
    "import pandas as pd \n",
    "from waiter import wait"
   ]
  },
  {
   "cell_type": "markdown",
   "metadata": {},
   "source": [
    "## Récupérer les stats défensives depuis 2012"
   ]
  },
  {
   "cell_type": "code",
<<<<<<< HEAD
<<<<<<< HEAD
=======
<<<<<<< HEAD
=======
>>>>>>> 6c32097dd8a02fed993934f15e57fc0c47512aad
   "execution_count": 204,
   "metadata": {},
   "outputs": [],
   "source": [
    "driver.get(\"https://www.premierleague.com/clubs/4/Chelsea/stats?se=274\")\n"
=======
<<<<<<< HEAD
>>>>>>> 6c32097dd8a02fed993934f15e57fc0c47512aad
=======
>>>>>>> 6c32097dd8a02fed993934f15e57fc0c47512aad
   "execution_count": 62,
   "metadata": {},
   "outputs": [],
   "source": [
    "driver.get(\"https://www.premierleague.com/clubs/12/Manchester-United/stats?se=274\")\n"
<<<<<<< HEAD
<<<<<<< HEAD
=======
>>>>>>> 72989aff461f01b000bb8f35e35ce1699d27e50b
>>>>>>> 6c32097dd8a02fed993934f15e57fc0c47512aad
=======
>>>>>>> 72989aff461f01b000bb8f35e35ce1699d27e50b
>>>>>>> 6c32097dd8a02fed993934f15e57fc0c47512aad
   ]
  },
  {
   "cell_type": "markdown",
   "metadata": {},
   "source": [
    "#### liste des annees"
   ]
  },
  {
   "cell_type": "code",
<<<<<<< HEAD
<<<<<<< HEAD
   "execution_count": 63,
=======
<<<<<<< HEAD
=======
>>>>>>> 6c32097dd8a02fed993934f15e57fc0c47512aad
   "execution_count": 205,
=======
   "execution_count": 63,
>>>>>>> 72989aff461f01b000bb8f35e35ce1699d27e50b
<<<<<<< HEAD
>>>>>>> 6c32097dd8a02fed993934f15e57fc0c47512aad
=======
>>>>>>> 6c32097dd8a02fed993934f15e57fc0c47512aad
   "metadata": {},
   "outputs": [],
   "source": [
    "df_final=pd.DataFrame(columns=['labels','2019/2020','2018/2019','2017/2018','2016/2017','2015/2016','2014/2015',\n",
    "                               '2013/2014', '2012/2013'])\n",
    "cpt=0"
   ]
  },
  {
   "cell_type": "code",
<<<<<<< HEAD
<<<<<<< HEAD
   "execution_count": 64,
=======
<<<<<<< HEAD
=======
>>>>>>> 6c32097dd8a02fed993934f15e57fc0c47512aad
   "execution_count": 206,
=======
   "execution_count": 64,
>>>>>>> 72989aff461f01b000bb8f35e35ce1699d27e50b
<<<<<<< HEAD
>>>>>>> 6c32097dd8a02fed993934f15e57fc0c47512aad
=======
>>>>>>> 6c32097dd8a02fed993934f15e57fc0c47512aad
   "metadata": {
    "scrolled": true
   },
   "outputs": [],
   "source": [
    "cpt=0\n",
    "for i in range(1,9):\n",
    "    cpt+=1    \n",
    "    driver.find_elements_by_xpath('.//div[@class=\"current\"]')[0].click()\n",
    "    driver.find_elements_by_xpath('.//ul[@class=\"dropdownList\"] //li[@data-option-index=\"'+str(i)+'\"]')[0].click()\n",
    "    # waiter\n",
    "    time.sleep(5)\n",
    "        \n",
    "        \n",
    "    \n",
    "    element = driver.find_elements_by_xpath('//div[@class=\"statsListBlock\"] //div[@class=\"normalStat\"] //span[@class=\"stat\"] ')\n",
    "    \n",
    "    \n",
    "    rubrique = [x.text for x in element]\n",
    "    donnees=[]        \n",
    "    for line in rubrique:\n",
    "        line=line.replace('\\n',' ')\n",
    "        line=line.replace(',','')\n",
    "        donnees.append(line)\n",
    "    res=[]\n",
    "    for line in donnees:\n",
    "        res.append(re.split('([-+]?\\d+\\.\\d+)|([-+]?\\d+)',line))\n",
    "    for element in res :\n",
    "        if None in element :\n",
    "            element.remove(None)\n",
    "            if None in element :\n",
    "                element.remove(None)\n",
    "        if '' in element:\n",
    "            element.remove('')\n",
    "        if '%' in element:\n",
    "            element.remove('%')\n",
    "    if i==2:\n",
    "        ind=[line[0] for line in res]\n",
    "        df_final['labels']=ind\n",
    "    \n",
    "\n",
    "        \n",
    "    chiffre=[i[1] for i in res]\n",
    "    \n",
    "    df_final[df_final.columns[cpt]]=chiffre\n",
    "\n",
    "    \n",
    "\n",
    "    \n",
    "        \n"
   ]
  },
  {
   "cell_type": "code",
<<<<<<< HEAD
<<<<<<< HEAD
   "execution_count": 65,
   "metadata": {},
   "outputs": [],
=======
<<<<<<< HEAD
=======
>>>>>>> 6c32097dd8a02fed993934f15e57fc0c47512aad
   "execution_count": 210,
   "metadata": {},
   "outputs": [
    {
     "ename": "KeyError",
     "evalue": "'labels'",
     "output_type": "error",
     "traceback": [
      "\u001b[1;31m---------------------------------------------------------------------------\u001b[0m",
      "\u001b[1;31mKeyError\u001b[0m                                  Traceback (most recent call last)",
      "\u001b[1;32m~\\Anaconda\\lib\\site-packages\\pandas\\core\\indexes\\base.py\u001b[0m in \u001b[0;36mget_loc\u001b[1;34m(self, key, method, tolerance)\u001b[0m\n\u001b[0;32m   3077\u001b[0m             \u001b[1;32mtry\u001b[0m\u001b[1;33m:\u001b[0m\u001b[1;33m\u001b[0m\u001b[1;33m\u001b[0m\u001b[0m\n\u001b[1;32m-> 3078\u001b[1;33m                 \u001b[1;32mreturn\u001b[0m \u001b[0mself\u001b[0m\u001b[1;33m.\u001b[0m\u001b[0m_engine\u001b[0m\u001b[1;33m.\u001b[0m\u001b[0mget_loc\u001b[0m\u001b[1;33m(\u001b[0m\u001b[0mkey\u001b[0m\u001b[1;33m)\u001b[0m\u001b[1;33m\u001b[0m\u001b[1;33m\u001b[0m\u001b[0m\n\u001b[0m\u001b[0;32m   3079\u001b[0m             \u001b[1;32mexcept\u001b[0m \u001b[0mKeyError\u001b[0m\u001b[1;33m:\u001b[0m\u001b[1;33m\u001b[0m\u001b[1;33m\u001b[0m\u001b[0m\n",
      "\u001b[1;32mpandas\\_libs\\index.pyx\u001b[0m in \u001b[0;36mpandas._libs.index.IndexEngine.get_loc\u001b[1;34m()\u001b[0m\n",
      "\u001b[1;32mpandas\\_libs\\index.pyx\u001b[0m in \u001b[0;36mpandas._libs.index.IndexEngine.get_loc\u001b[1;34m()\u001b[0m\n",
      "\u001b[1;32mpandas\\_libs\\hashtable_class_helper.pxi\u001b[0m in \u001b[0;36mpandas._libs.hashtable.PyObjectHashTable.get_item\u001b[1;34m()\u001b[0m\n",
      "\u001b[1;32mpandas\\_libs\\hashtable_class_helper.pxi\u001b[0m in \u001b[0;36mpandas._libs.hashtable.PyObjectHashTable.get_item\u001b[1;34m()\u001b[0m\n",
      "\u001b[1;31mKeyError\u001b[0m: 'labels'",
      "\nDuring handling of the above exception, another exception occurred:\n",
      "\u001b[1;31mKeyError\u001b[0m                                  Traceback (most recent call last)",
      "\u001b[1;32m<ipython-input-210-501dea52ec07>\u001b[0m in \u001b[0;36m<module>\u001b[1;34m\u001b[0m\n\u001b[1;32m----> 1\u001b[1;33m \u001b[0mdf_final\u001b[0m\u001b[1;33m.\u001b[0m\u001b[0mset_index\u001b[0m\u001b[1;33m(\u001b[0m\u001b[1;34m'labels'\u001b[0m\u001b[1;33m,\u001b[0m\u001b[0minplace\u001b[0m\u001b[1;33m=\u001b[0m\u001b[1;32mTrue\u001b[0m\u001b[1;33m)\u001b[0m\u001b[1;33m\u001b[0m\u001b[1;33m\u001b[0m\u001b[0m\n\u001b[0m",
      "\u001b[1;32m~\\Anaconda\\lib\\site-packages\\pandas\\core\\frame.py\u001b[0m in \u001b[0;36mset_index\u001b[1;34m(self, keys, drop, append, inplace, verify_integrity)\u001b[0m\n\u001b[0;32m   3907\u001b[0m                 \u001b[0mnames\u001b[0m\u001b[1;33m.\u001b[0m\u001b[0mappend\u001b[0m\u001b[1;33m(\u001b[0m\u001b[1;32mNone\u001b[0m\u001b[1;33m)\u001b[0m\u001b[1;33m\u001b[0m\u001b[1;33m\u001b[0m\u001b[0m\n\u001b[0;32m   3908\u001b[0m             \u001b[1;32melse\u001b[0m\u001b[1;33m:\u001b[0m\u001b[1;33m\u001b[0m\u001b[1;33m\u001b[0m\u001b[0m\n\u001b[1;32m-> 3909\u001b[1;33m                 \u001b[0mlevel\u001b[0m \u001b[1;33m=\u001b[0m \u001b[0mframe\u001b[0m\u001b[1;33m[\u001b[0m\u001b[0mcol\u001b[0m\u001b[1;33m]\u001b[0m\u001b[1;33m.\u001b[0m\u001b[0m_values\u001b[0m\u001b[1;33m\u001b[0m\u001b[1;33m\u001b[0m\u001b[0m\n\u001b[0m\u001b[0;32m   3910\u001b[0m                 \u001b[0mnames\u001b[0m\u001b[1;33m.\u001b[0m\u001b[0mappend\u001b[0m\u001b[1;33m(\u001b[0m\u001b[0mcol\u001b[0m\u001b[1;33m)\u001b[0m\u001b[1;33m\u001b[0m\u001b[1;33m\u001b[0m\u001b[0m\n\u001b[0;32m   3911\u001b[0m                 \u001b[1;32mif\u001b[0m \u001b[0mdrop\u001b[0m\u001b[1;33m:\u001b[0m\u001b[1;33m\u001b[0m\u001b[1;33m\u001b[0m\u001b[0m\n",
      "\u001b[1;32m~\\Anaconda\\lib\\site-packages\\pandas\\core\\frame.py\u001b[0m in \u001b[0;36m__getitem__\u001b[1;34m(self, key)\u001b[0m\n\u001b[0;32m   2686\u001b[0m             \u001b[1;32mreturn\u001b[0m \u001b[0mself\u001b[0m\u001b[1;33m.\u001b[0m\u001b[0m_getitem_multilevel\u001b[0m\u001b[1;33m(\u001b[0m\u001b[0mkey\u001b[0m\u001b[1;33m)\u001b[0m\u001b[1;33m\u001b[0m\u001b[1;33m\u001b[0m\u001b[0m\n\u001b[0;32m   2687\u001b[0m         \u001b[1;32melse\u001b[0m\u001b[1;33m:\u001b[0m\u001b[1;33m\u001b[0m\u001b[1;33m\u001b[0m\u001b[0m\n\u001b[1;32m-> 2688\u001b[1;33m             \u001b[1;32mreturn\u001b[0m \u001b[0mself\u001b[0m\u001b[1;33m.\u001b[0m\u001b[0m_getitem_column\u001b[0m\u001b[1;33m(\u001b[0m\u001b[0mkey\u001b[0m\u001b[1;33m)\u001b[0m\u001b[1;33m\u001b[0m\u001b[1;33m\u001b[0m\u001b[0m\n\u001b[0m\u001b[0;32m   2689\u001b[0m \u001b[1;33m\u001b[0m\u001b[0m\n\u001b[0;32m   2690\u001b[0m     \u001b[1;32mdef\u001b[0m \u001b[0m_getitem_column\u001b[0m\u001b[1;33m(\u001b[0m\u001b[0mself\u001b[0m\u001b[1;33m,\u001b[0m \u001b[0mkey\u001b[0m\u001b[1;33m)\u001b[0m\u001b[1;33m:\u001b[0m\u001b[1;33m\u001b[0m\u001b[1;33m\u001b[0m\u001b[0m\n",
      "\u001b[1;32m~\\Anaconda\\lib\\site-packages\\pandas\\core\\frame.py\u001b[0m in \u001b[0;36m_getitem_column\u001b[1;34m(self, key)\u001b[0m\n\u001b[0;32m   2693\u001b[0m         \u001b[1;31m# get column\u001b[0m\u001b[1;33m\u001b[0m\u001b[1;33m\u001b[0m\u001b[1;33m\u001b[0m\u001b[0m\n\u001b[0;32m   2694\u001b[0m         \u001b[1;32mif\u001b[0m \u001b[0mself\u001b[0m\u001b[1;33m.\u001b[0m\u001b[0mcolumns\u001b[0m\u001b[1;33m.\u001b[0m\u001b[0mis_unique\u001b[0m\u001b[1;33m:\u001b[0m\u001b[1;33m\u001b[0m\u001b[1;33m\u001b[0m\u001b[0m\n\u001b[1;32m-> 2695\u001b[1;33m             \u001b[1;32mreturn\u001b[0m \u001b[0mself\u001b[0m\u001b[1;33m.\u001b[0m\u001b[0m_get_item_cache\u001b[0m\u001b[1;33m(\u001b[0m\u001b[0mkey\u001b[0m\u001b[1;33m)\u001b[0m\u001b[1;33m\u001b[0m\u001b[1;33m\u001b[0m\u001b[0m\n\u001b[0m\u001b[0;32m   2696\u001b[0m \u001b[1;33m\u001b[0m\u001b[0m\n\u001b[0;32m   2697\u001b[0m         \u001b[1;31m# duplicate columns & possible reduce dimensionality\u001b[0m\u001b[1;33m\u001b[0m\u001b[1;33m\u001b[0m\u001b[1;33m\u001b[0m\u001b[0m\n",
      "\u001b[1;32m~\\Anaconda\\lib\\site-packages\\pandas\\core\\generic.py\u001b[0m in \u001b[0;36m_get_item_cache\u001b[1;34m(self, item)\u001b[0m\n\u001b[0;32m   2487\u001b[0m         \u001b[0mres\u001b[0m \u001b[1;33m=\u001b[0m \u001b[0mcache\u001b[0m\u001b[1;33m.\u001b[0m\u001b[0mget\u001b[0m\u001b[1;33m(\u001b[0m\u001b[0mitem\u001b[0m\u001b[1;33m)\u001b[0m\u001b[1;33m\u001b[0m\u001b[1;33m\u001b[0m\u001b[0m\n\u001b[0;32m   2488\u001b[0m         \u001b[1;32mif\u001b[0m \u001b[0mres\u001b[0m \u001b[1;32mis\u001b[0m \u001b[1;32mNone\u001b[0m\u001b[1;33m:\u001b[0m\u001b[1;33m\u001b[0m\u001b[1;33m\u001b[0m\u001b[0m\n\u001b[1;32m-> 2489\u001b[1;33m             \u001b[0mvalues\u001b[0m \u001b[1;33m=\u001b[0m \u001b[0mself\u001b[0m\u001b[1;33m.\u001b[0m\u001b[0m_data\u001b[0m\u001b[1;33m.\u001b[0m\u001b[0mget\u001b[0m\u001b[1;33m(\u001b[0m\u001b[0mitem\u001b[0m\u001b[1;33m)\u001b[0m\u001b[1;33m\u001b[0m\u001b[1;33m\u001b[0m\u001b[0m\n\u001b[0m\u001b[0;32m   2490\u001b[0m             \u001b[0mres\u001b[0m \u001b[1;33m=\u001b[0m \u001b[0mself\u001b[0m\u001b[1;33m.\u001b[0m\u001b[0m_box_item_values\u001b[0m\u001b[1;33m(\u001b[0m\u001b[0mitem\u001b[0m\u001b[1;33m,\u001b[0m \u001b[0mvalues\u001b[0m\u001b[1;33m)\u001b[0m\u001b[1;33m\u001b[0m\u001b[1;33m\u001b[0m\u001b[0m\n\u001b[0;32m   2491\u001b[0m             \u001b[0mcache\u001b[0m\u001b[1;33m[\u001b[0m\u001b[0mitem\u001b[0m\u001b[1;33m]\u001b[0m \u001b[1;33m=\u001b[0m \u001b[0mres\u001b[0m\u001b[1;33m\u001b[0m\u001b[1;33m\u001b[0m\u001b[0m\n",
      "\u001b[1;32m~\\Anaconda\\lib\\site-packages\\pandas\\core\\internals.py\u001b[0m in \u001b[0;36mget\u001b[1;34m(self, item, fastpath)\u001b[0m\n\u001b[0;32m   4113\u001b[0m \u001b[1;33m\u001b[0m\u001b[0m\n\u001b[0;32m   4114\u001b[0m             \u001b[1;32mif\u001b[0m \u001b[1;32mnot\u001b[0m \u001b[0misna\u001b[0m\u001b[1;33m(\u001b[0m\u001b[0mitem\u001b[0m\u001b[1;33m)\u001b[0m\u001b[1;33m:\u001b[0m\u001b[1;33m\u001b[0m\u001b[1;33m\u001b[0m\u001b[0m\n\u001b[1;32m-> 4115\u001b[1;33m                 \u001b[0mloc\u001b[0m \u001b[1;33m=\u001b[0m \u001b[0mself\u001b[0m\u001b[1;33m.\u001b[0m\u001b[0mitems\u001b[0m\u001b[1;33m.\u001b[0m\u001b[0mget_loc\u001b[0m\u001b[1;33m(\u001b[0m\u001b[0mitem\u001b[0m\u001b[1;33m)\u001b[0m\u001b[1;33m\u001b[0m\u001b[1;33m\u001b[0m\u001b[0m\n\u001b[0m\u001b[0;32m   4116\u001b[0m             \u001b[1;32melse\u001b[0m\u001b[1;33m:\u001b[0m\u001b[1;33m\u001b[0m\u001b[1;33m\u001b[0m\u001b[0m\n\u001b[0;32m   4117\u001b[0m                 \u001b[0mindexer\u001b[0m \u001b[1;33m=\u001b[0m \u001b[0mnp\u001b[0m\u001b[1;33m.\u001b[0m\u001b[0marange\u001b[0m\u001b[1;33m(\u001b[0m\u001b[0mlen\u001b[0m\u001b[1;33m(\u001b[0m\u001b[0mself\u001b[0m\u001b[1;33m.\u001b[0m\u001b[0mitems\u001b[0m\u001b[1;33m)\u001b[0m\u001b[1;33m)\u001b[0m\u001b[1;33m[\u001b[0m\u001b[0misna\u001b[0m\u001b[1;33m(\u001b[0m\u001b[0mself\u001b[0m\u001b[1;33m.\u001b[0m\u001b[0mitems\u001b[0m\u001b[1;33m)\u001b[0m\u001b[1;33m]\u001b[0m\u001b[1;33m\u001b[0m\u001b[1;33m\u001b[0m\u001b[0m\n",
      "\u001b[1;32m~\\Anaconda\\lib\\site-packages\\pandas\\core\\indexes\\base.py\u001b[0m in \u001b[0;36mget_loc\u001b[1;34m(self, key, method, tolerance)\u001b[0m\n\u001b[0;32m   3078\u001b[0m                 \u001b[1;32mreturn\u001b[0m \u001b[0mself\u001b[0m\u001b[1;33m.\u001b[0m\u001b[0m_engine\u001b[0m\u001b[1;33m.\u001b[0m\u001b[0mget_loc\u001b[0m\u001b[1;33m(\u001b[0m\u001b[0mkey\u001b[0m\u001b[1;33m)\u001b[0m\u001b[1;33m\u001b[0m\u001b[1;33m\u001b[0m\u001b[0m\n\u001b[0;32m   3079\u001b[0m             \u001b[1;32mexcept\u001b[0m \u001b[0mKeyError\u001b[0m\u001b[1;33m:\u001b[0m\u001b[1;33m\u001b[0m\u001b[1;33m\u001b[0m\u001b[0m\n\u001b[1;32m-> 3080\u001b[1;33m                 \u001b[1;32mreturn\u001b[0m \u001b[0mself\u001b[0m\u001b[1;33m.\u001b[0m\u001b[0m_engine\u001b[0m\u001b[1;33m.\u001b[0m\u001b[0mget_loc\u001b[0m\u001b[1;33m(\u001b[0m\u001b[0mself\u001b[0m\u001b[1;33m.\u001b[0m\u001b[0m_maybe_cast_indexer\u001b[0m\u001b[1;33m(\u001b[0m\u001b[0mkey\u001b[0m\u001b[1;33m)\u001b[0m\u001b[1;33m)\u001b[0m\u001b[1;33m\u001b[0m\u001b[1;33m\u001b[0m\u001b[0m\n\u001b[0m\u001b[0;32m   3081\u001b[0m \u001b[1;33m\u001b[0m\u001b[0m\n\u001b[0;32m   3082\u001b[0m         \u001b[0mindexer\u001b[0m \u001b[1;33m=\u001b[0m \u001b[0mself\u001b[0m\u001b[1;33m.\u001b[0m\u001b[0mget_indexer\u001b[0m\u001b[1;33m(\u001b[0m\u001b[1;33m[\u001b[0m\u001b[0mkey\u001b[0m\u001b[1;33m]\u001b[0m\u001b[1;33m,\u001b[0m \u001b[0mmethod\u001b[0m\u001b[1;33m=\u001b[0m\u001b[0mmethod\u001b[0m\u001b[1;33m,\u001b[0m \u001b[0mtolerance\u001b[0m\u001b[1;33m=\u001b[0m\u001b[0mtolerance\u001b[0m\u001b[1;33m)\u001b[0m\u001b[1;33m\u001b[0m\u001b[1;33m\u001b[0m\u001b[0m\n",
      "\u001b[1;32mpandas\\_libs\\index.pyx\u001b[0m in \u001b[0;36mpandas._libs.index.IndexEngine.get_loc\u001b[1;34m()\u001b[0m\n",
      "\u001b[1;32mpandas\\_libs\\index.pyx\u001b[0m in \u001b[0;36mpandas._libs.index.IndexEngine.get_loc\u001b[1;34m()\u001b[0m\n",
      "\u001b[1;32mpandas\\_libs\\hashtable_class_helper.pxi\u001b[0m in \u001b[0;36mpandas._libs.hashtable.PyObjectHashTable.get_item\u001b[1;34m()\u001b[0m\n",
      "\u001b[1;32mpandas\\_libs\\hashtable_class_helper.pxi\u001b[0m in \u001b[0;36mpandas._libs.hashtable.PyObjectHashTable.get_item\u001b[1;34m()\u001b[0m\n",
      "\u001b[1;31mKeyError\u001b[0m: 'labels'"
     ]
    }
   ],
=======
   "execution_count": 65,
   "metadata": {},
   "outputs": [],
>>>>>>> 72989aff461f01b000bb8f35e35ce1699d27e50b
<<<<<<< HEAD
>>>>>>> 6c32097dd8a02fed993934f15e57fc0c47512aad
=======
>>>>>>> 6c32097dd8a02fed993934f15e57fc0c47512aad
   "source": [
    "df_final.set_index('labels',inplace=True)"
   ]
  },
  {
   "cell_type": "code",
<<<<<<< HEAD
<<<<<<< HEAD
   "execution_count": 66,
=======
<<<<<<< HEAD
=======
>>>>>>> 6c32097dd8a02fed993934f15e57fc0c47512aad
   "execution_count": 211,
=======
   "execution_count": 66,
>>>>>>> 72989aff461f01b000bb8f35e35ce1699d27e50b
<<<<<<< HEAD
>>>>>>> 6c32097dd8a02fed993934f15e57fc0c47512aad
=======
>>>>>>> 6c32097dd8a02fed993934f15e57fc0c47512aad
   "metadata": {
    "scrolled": true
   },
   "outputs": [
    {
     "data": {
      "text/html": [
       "<div>\n",
       "<style scoped>\n",
       "    .dataframe tbody tr th:only-of-type {\n",
       "        vertical-align: middle;\n",
       "    }\n",
       "\n",
       "    .dataframe tbody tr th {\n",
       "        vertical-align: top;\n",
       "    }\n",
       "\n",
       "    .dataframe thead th {\n",
       "        text-align: right;\n",
       "    }\n",
       "</style>\n",
       "<table border=\"1\" class=\"dataframe\">\n",
       "  <thead>\n",
       "    <tr style=\"text-align: right;\">\n",
       "      <th></th>\n",
       "      <th>2019/2020</th>\n",
       "      <th>2018/2019</th>\n",
       "      <th>2017/2018</th>\n",
       "      <th>2016/2017</th>\n",
       "      <th>2015/2016</th>\n",
       "      <th>2014/2015</th>\n",
       "      <th>2013/2014</th>\n",
       "      <th>2012/2013</th>\n",
       "    </tr>\n",
       "    <tr>\n",
       "      <th>labels</th>\n",
       "      <th></th>\n",
       "      <th></th>\n",
       "      <th></th>\n",
       "      <th></th>\n",
       "      <th></th>\n",
       "      <th></th>\n",
       "      <th></th>\n",
       "      <th></th>\n",
       "    </tr>\n",
       "  </thead>\n",
       "  <tbody>\n",
       "    <tr>\n",
       "      <th>Goals</th>\n",
<<<<<<< HEAD
<<<<<<< HEAD
=======
<<<<<<< HEAD
=======
>>>>>>> 6c32097dd8a02fed993934f15e57fc0c47512aad
       "      <td>61</td>\n",
       "      <td>67</td>\n",
       "      <td>74</td>\n",
       "      <td>86</td>\n",
       "      <td>69</td>\n",
       "      <td>58</td>\n",
       "      <td>55</td>\n",
       "      <td>66</td>\n",
       "    </tr>\n",
       "    <tr>\n",
       "      <th>Goals per match</th>\n",
       "      <td>1.61</td>\n",
       "      <td>1.76</td>\n",
       "      <td>1.95</td>\n",
       "      <td>2.26</td>\n",
       "      <td>1.82</td>\n",
       "      <td>1.53</td>\n",
       "      <td>1.45</td>\n",
       "      <td>1.74</td>\n",
       "    </tr>\n",
       "    <tr>\n",
       "      <th>Shots</th>\n",
       "      <td>444</td>\n",
       "      <td>537</td>\n",
       "      <td>623</td>\n",
       "      <td>669</td>\n",
       "      <td>659</td>\n",
       "      <td>527</td>\n",
       "      <td>588</td>\n",
       "      <td>681</td>\n",
       "    </tr>\n",
       "    <tr>\n",
       "      <th>Shots on target</th>\n",
       "      <td>160</td>\n",
       "      <td>189</td>\n",
       "      <td>216</td>\n",
       "      <td>257</td>\n",
       "      <td>252</td>\n",
       "      <td>171</td>\n",
       "      <td>192</td>\n",
       "      <td>241</td>\n",
       "    </tr>\n",
       "    <tr>\n",
       "      <th>Shooting accuracy %</th>\n",
       "      <td>36</td>\n",
       "      <td>35</td>\n",
       "      <td>35</td>\n",
       "      <td>38</td>\n",
       "      <td>38</td>\n",
       "      <td>32</td>\n",
       "      <td>33</td>\n",
       "      <td>35</td>\n",
       "    </tr>\n",
       "    <tr>\n",
       "      <th>Penalties scored</th>\n",
       "      <td>3</td>\n",
       "      <td>4</td>\n",
       "      <td>2</td>\n",
       "      <td>7</td>\n",
       "      <td>5</td>\n",
       "      <td>3</td>\n",
       "      <td>5</td>\n",
       "      <td>0</td>\n",
       "    </tr>\n",
       "    <tr>\n",
       "      <th>Big Chances Created</th>\n",
       "      <td>48</td>\n",
       "      <td>64</td>\n",
       "      <td>76</td>\n",
       "      <td>53</td>\n",
       "      <td>64</td>\n",
       "      <td>51</td>\n",
       "      <td>68</td>\n",
       "      <td>50</td>\n",
       "    </tr>\n",
       "    <tr>\n",
       "      <th>Hit woodwork</th>\n",
       "      <td>7</td>\n",
       "      <td>13</td>\n",
       "      <td>13</td>\n",
       "      <td>22</td>\n",
       "      <td>19</td>\n",
       "      <td>11</td>\n",
       "      <td>12</td>\n",
       "      <td>17</td>\n",
       "    </tr>\n",
       "    <tr>\n",
       "      <th>Passes</th>\n",
       "      <td>18644</td>\n",
       "      <td>21295</td>\n",
       "      <td>21660</td>\n",
       "      <td>20150</td>\n",
       "      <td>18649</td>\n",
       "      <td>19322</td>\n",
       "      <td>17933</td>\n",
       "      <td>16647</td>\n",
       "    </tr>\n",
       "    <tr>\n",
       "      <th>Passes per match</th>\n",
       "      <td>490.63</td>\n",
       "      <td>560.39</td>\n",
       "      <td>570.00</td>\n",
       "      <td>530.26</td>\n",
       "      <td>490.76</td>\n",
       "      <td>508.47</td>\n",
       "      <td>471.92</td>\n",
       "      <td>438.08</td>\n",
       "    </tr>\n",
       "    <tr>\n",
       "      <th>Pass accuracy %</th>\n",
       "      <td>81</td>\n",
       "      <td>83</td>\n",
       "      <td>84</td>\n",
       "      <td>82</td>\n",
       "      <td>80</td>\n",
       "      <td>81</td>\n",
       "      <td>82</td>\n",
       "      <td>83</td>\n",
       "    </tr>\n",
       "    <tr>\n",
       "      <th>Crosses</th>\n",
       "      <td>641</td>\n",
       "      <td>643</td>\n",
       "      <td>825</td>\n",
       "      <td>761</td>\n",
       "      <td>738</td>\n",
       "      <td>742</td>\n",
       "      <td>849</td>\n",
       "      <td>884</td>\n",
       "    </tr>\n",
       "    <tr>\n",
       "      <th>Cross accuracy %</th>\n",
       "      <td>17</td>\n",
       "      <td>26</td>\n",
       "      <td>20</td>\n",
       "      <td>20</td>\n",
       "      <td>21</td>\n",
       "      <td>20</td>\n",
       "      <td>20</td>\n",
       "      <td>21</td>\n",
       "    </tr>\n",
       "    <tr>\n",
       "      <th>Clean sheets</th>\n",
       "      <td>8</td>\n",
       "      <td>13</td>\n",
       "      <td>16</td>\n",
       "      <td>17</td>\n",
       "      <td>13</td>\n",
       "      <td>9</td>\n",
       "      <td>14</td>\n",
       "      <td>9</td>\n",
       "    </tr>\n",
       "    <tr>\n",
       "      <th>Goals Conceded</th>\n",
       "      <td>47</td>\n",
       "      <td>39</td>\n",
       "      <td>36</td>\n",
       "      <td>26</td>\n",
       "      <td>35</td>\n",
       "      <td>53</td>\n",
       "      <td>51</td>\n",
       "      <td>46</td>\n",
       "    </tr>\n",
       "    <tr>\n",
       "      <th>Goals conceded per match</th>\n",
       "      <td>1.24</td>\n",
       "      <td>1.03</td>\n",
       "      <td>0.95</td>\n",
       "      <td>0.68</td>\n",
       "      <td>0.92</td>\n",
       "      <td>1.39</td>\n",
       "      <td>1.34</td>\n",
       "      <td>1.21</td>\n",
       "    </tr>\n",
       "    <tr>\n",
       "      <th>Saves</th>\n",
       "      <td>140</td>\n",
       "      <td>121</td>\n",
       "      <td>93</td>\n",
       "      <td>85</td>\n",
       "      <td>89</td>\n",
       "      <td>119</td>\n",
       "      <td>106</td>\n",
       "      <td>0</td>\n",
       "    </tr>\n",
       "    <tr>\n",
       "      <th>Tackles</th>\n",
       "      <td>665</td>\n",
       "      <td>626</td>\n",
       "      <td>618</td>\n",
       "      <td>661</td>\n",
       "      <td>805</td>\n",
       "      <td>815</td>\n",
       "      <td>750</td>\n",
       "      <td>745</td>\n",
       "    </tr>\n",
       "    <tr>\n",
       "      <th>Tackle success %</th>\n",
       "      <td>62</td>\n",
       "      <td>60</td>\n",
       "      <td>65</td>\n",
       "      <td>75</td>\n",
       "      <td>77</td>\n",
       "      <td>80</td>\n",
       "      <td>79</td>\n",
       "      <td>76</td>\n",
       "    </tr>\n",
       "    <tr>\n",
       "      <th>Blocked shots</th>\n",
       "      <td>126</td>\n",
       "      <td>142</td>\n",
       "      <td>182</td>\n",
       "      <td>183</td>\n",
       "      <td>180</td>\n",
       "      <td>153</td>\n",
       "      <td>168</td>\n",
       "      <td>193</td>\n",
       "    </tr>\n",
       "    <tr>\n",
       "      <th>Interceptions</th>\n",
       "      <td>381</td>\n",
       "      <td>326</td>\n",
       "      <td>380</td>\n",
       "      <td>314</td>\n",
       "      <td>645</td>\n",
       "      <td>674</td>\n",
       "      <td>560</td>\n",
       "      <td>721</td>\n",
       "    </tr>\n",
       "    <tr>\n",
       "      <th>Clearances</th>\n",
       "      <td>841</td>\n",
       "      <td>770</td>\n",
       "      <td>825</td>\n",
       "      <td>1003</td>\n",
       "      <td>1046</td>\n",
       "      <td>1047</td>\n",
       "      <td>974</td>\n",
       "      <td>1595</td>\n",
       "    </tr>\n",
       "    <tr>\n",
       "      <th>Headed Clearance</th>\n",
       "      <td>433</td>\n",
       "      <td>411</td>\n",
       "      <td>422</td>\n",
       "      <td>515</td>\n",
       "      <td>502</td>\n",
       "      <td>636</td>\n",
       "      <td>585</td>\n",
       "      <td>468</td>\n",
       "    </tr>\n",
       "    <tr>\n",
       "      <th>Aerial Battles/Duels Won</th>\n",
       "      <td>2830</td>\n",
       "      <td>2566</td>\n",
       "      <td>2673</td>\n",
       "      <td>2696</td>\n",
       "      <td>2619</td>\n",
       "      <td>2809</td>\n",
       "      <td>2671</td>\n",
       "      <td>2551</td>\n",
       "    </tr>\n",
       "    <tr>\n",
       "      <th>Errors leading to goal</th>\n",
       "      <td>8</td>\n",
       "      <td>6</td>\n",
       "      <td>9</td>\n",
       "      <td>7</td>\n",
       "      <td>6</td>\n",
       "      <td>11</td>\n",
       "      <td>21</td>\n",
       "      <td>8</td>\n",
       "    </tr>\n",
       "    <tr>\n",
       "      <th>Own goals</th>\n",
       "      <td>2</td>\n",
       "      <td>3</td>\n",
       "      <td>1</td>\n",
       "      <td>1</td>\n",
       "      <td>3</td>\n",
       "      <td>2</td>\n",
       "      <td>3</td>\n",
       "      <td>1</td>\n",
       "    </tr>\n",
       "    <tr>\n",
       "      <th>Yellow cards</th>\n",
       "      <td>82</td>\n",
       "      <td>56</td>\n",
       "      <td>50</td>\n",
       "      <td>62</td>\n",
       "      <td>72</td>\n",
       "      <td>79</td>\n",
       "      <td>66</td>\n",
       "      <td>55</td>\n",
       "    </tr>\n",
       "    <tr>\n",
       "      <th>Red cards</th>\n",
       "      <td>3</td>\n",
       "      <td>3</td>\n",
       "      <td>2</td>\n",
       "      <td>0</td>\n",
       "      <td>0</td>\n",
       "      <td>4</td>\n",
       "      <td>4</td>\n",
       "      <td>2</td>\n",
       "    </tr>\n",
       "    <tr>\n",
       "      <th>Fouls</th>\n",
       "      <td>262</td>\n",
       "      <td>225</td>\n",
       "      <td>217</td>\n",
       "      <td>238</td>\n",
       "      <td>236</td>\n",
       "      <td>218</td>\n",
       "      <td>138</td>\n",
=======
<<<<<<< HEAD
>>>>>>> 6c32097dd8a02fed993934f15e57fc0c47512aad
=======
>>>>>>> 6c32097dd8a02fed993934f15e57fc0c47512aad
       "      <td>66</td>\n",
       "      <td>65</td>\n",
       "      <td>68</td>\n",
       "      <td>54</td>\n",
       "      <td>49</td>\n",
       "      <td>62</td>\n",
       "      <td>64</td>\n",
       "      <td>86</td>\n",
       "    </tr>\n",
       "    <tr>\n",
       "      <th>Goals per match</th>\n",
       "      <td>1.74</td>\n",
       "      <td>1.67</td>\n",
       "      <td>1.79</td>\n",
       "      <td>1.42</td>\n",
       "      <td>1.29</td>\n",
       "      <td>1.63</td>\n",
       "      <td>1.68</td>\n",
       "      <td>2.26</td>\n",
       "    </tr>\n",
       "    <tr>\n",
       "      <th>Shots</th>\n",
       "      <td>544</td>\n",
       "      <td>526</td>\n",
       "      <td>512</td>\n",
       "      <td>591</td>\n",
       "      <td>430</td>\n",
       "      <td>512</td>\n",
       "      <td>526</td>\n",
       "      <td>561</td>\n",
       "    </tr>\n",
       "    <tr>\n",
       "      <th>Shots on target</th>\n",
       "      <td>216</td>\n",
       "      <td>225</td>\n",
       "      <td>178</td>\n",
       "      <td>210</td>\n",
       "      <td>144</td>\n",
       "      <td>180</td>\n",
       "      <td>183</td>\n",
       "      <td>213</td>\n",
       "    </tr>\n",
       "    <tr>\n",
       "      <th>Shooting accuracy %</th>\n",
       "      <td>40</td>\n",
       "      <td>43</td>\n",
       "      <td>35</td>\n",
       "      <td>36</td>\n",
       "      <td>33</td>\n",
       "      <td>35</td>\n",
       "      <td>35</td>\n",
       "      <td>38</td>\n",
       "    </tr>\n",
       "    <tr>\n",
       "      <th>Penalties scored</th>\n",
       "      <td>10</td>\n",
       "      <td>9</td>\n",
       "      <td>1</td>\n",
       "      <td>3</td>\n",
       "      <td>3</td>\n",
       "      <td>3</td>\n",
       "      <td>5</td>\n",
       "      <td>4</td>\n",
       "    </tr>\n",
       "    <tr>\n",
       "      <th>Big Chances Created</th>\n",
       "      <td>55</td>\n",
       "      <td>65</td>\n",
       "      <td>60</td>\n",
       "      <td>62</td>\n",
       "      <td>44</td>\n",
       "      <td>54</td>\n",
       "      <td>53</td>\n",
       "      <td>89</td>\n",
       "    </tr>\n",
       "    <tr>\n",
       "      <th>Hit woodwork</th>\n",
       "      <td>15</td>\n",
       "      <td>9</td>\n",
       "      <td>16</td>\n",
       "      <td>19</td>\n",
       "      <td>9</td>\n",
       "      <td>11</td>\n",
       "      <td>16</td>\n",
       "      <td>24</td>\n",
       "    </tr>\n",
       "    <tr>\n",
       "      <th>Passes</th>\n",
       "      <td>20059</td>\n",
       "      <td>19202</td>\n",
       "      <td>20064</td>\n",
       "      <td>20245</td>\n",
       "      <td>20070</td>\n",
       "      <td>21311</td>\n",
       "      <td>18894</td>\n",
       "      <td>19696</td>\n",
       "    </tr>\n",
       "    <tr>\n",
       "      <th>Passes per match</th>\n",
       "      <td>527.87</td>\n",
       "      <td>492.36</td>\n",
       "      <td>528.00</td>\n",
       "      <td>532.76</td>\n",
       "      <td>528.16</td>\n",
       "      <td>560.82</td>\n",
       "      <td>497.21</td>\n",
       "      <td>518.32</td>\n",
       "    </tr>\n",
       "    <tr>\n",
       "      <th>Pass accuracy %</th>\n",
       "      <td>84</td>\n",
       "      <td>82</td>\n",
       "      <td>84</td>\n",
       "      <td>84</td>\n",
       "      <td>82</td>\n",
       "      <td>85</td>\n",
       "      <td>84</td>\n",
       "      <td>86</td>\n",
       "    </tr>\n",
       "    <tr>\n",
       "      <th>Crosses</th>\n",
       "      <td>635</td>\n",
       "      <td>638</td>\n",
       "      <td>753</td>\n",
       "      <td>848</td>\n",
       "      <td>786</td>\n",
       "      <td>908</td>\n",
       "      <td>1000</td>\n",
       "      <td>962</td>\n",
       "    </tr>\n",
       "    <tr>\n",
       "      <th>Cross accuracy %</th>\n",
       "      <td>20</td>\n",
       "      <td>20</td>\n",
       "      <td>20</td>\n",
       "      <td>24</td>\n",
       "      <td>19</td>\n",
       "      <td>22</td>\n",
       "      <td>21</td>\n",
       "      <td>22</td>\n",
       "    </tr>\n",
       "    <tr>\n",
       "      <th>Clean sheets</th>\n",
       "      <td>13</td>\n",
       "      <td>7</td>\n",
       "      <td>19</td>\n",
       "      <td>17</td>\n",
       "      <td>18</td>\n",
       "      <td>11</td>\n",
       "      <td>13</td>\n",
       "      <td>13</td>\n",
       "    </tr>\n",
       "    <tr>\n",
       "      <th>Goals Conceded</th>\n",
       "      <td>36</td>\n",
       "      <td>54</td>\n",
       "      <td>28</td>\n",
       "      <td>29</td>\n",
       "      <td>35</td>\n",
       "      <td>37</td>\n",
       "      <td>43</td>\n",
       "      <td>43</td>\n",
       "    </tr>\n",
       "    <tr>\n",
       "      <th>Goals conceded per match</th>\n",
       "      <td>0.95</td>\n",
       "      <td>1.38</td>\n",
       "      <td>0.74</td>\n",
       "      <td>0.76</td>\n",
       "      <td>0.92</td>\n",
       "      <td>0.97</td>\n",
       "      <td>1.13</td>\n",
       "      <td>1.13</td>\n",
       "    </tr>\n",
       "    <tr>\n",
       "      <th>Saves</th>\n",
       "      <td>96</td>\n",
       "      <td>122</td>\n",
       "      <td>118</td>\n",
       "      <td>85</td>\n",
       "      <td>90</td>\n",
       "      <td>100</td>\n",
       "      <td>103</td>\n",
       "      <td>1</td>\n",
       "    </tr>\n",
       "    <tr>\n",
       "      <th>Tackles</th>\n",
       "      <td>580</td>\n",
       "      <td>581</td>\n",
       "      <td>564</td>\n",
       "      <td>690</td>\n",
       "      <td>760</td>\n",
       "      <td>739</td>\n",
       "      <td>676</td>\n",
       "      <td>731</td>\n",
       "    </tr>\n",
       "    <tr>\n",
       "      <th>Tackle success %</th>\n",
       "      <td>57</td>\n",
       "      <td>60</td>\n",
       "      <td>65</td>\n",
       "      <td>71</td>\n",
       "      <td>76</td>\n",
       "      <td>74</td>\n",
       "      <td>75</td>\n",
       "      <td>77</td>\n",
       "    </tr>\n",
       "    <tr>\n",
       "      <th>Blocked shots</th>\n",
       "      <td>128</td>\n",
       "      <td>130</td>\n",
       "      <td>168</td>\n",
       "      <td>154</td>\n",
       "      <td>137</td>\n",
       "      <td>144</td>\n",
       "      <td>130</td>\n",
       "      <td>127</td>\n",
       "    </tr>\n",
       "    <tr>\n",
       "      <th>Interceptions</th>\n",
       "      <td>379</td>\n",
       "      <td>355</td>\n",
       "      <td>481</td>\n",
       "      <td>584</td>\n",
       "      <td>594</td>\n",
       "      <td>679</td>\n",
       "      <td>595</td>\n",
       "      <td>514</td>\n",
       "    </tr>\n",
       "    <tr>\n",
       "      <th>Clearances</th>\n",
       "      <td>627</td>\n",
       "      <td>785</td>\n",
       "      <td>853</td>\n",
       "      <td>1112</td>\n",
       "      <td>755</td>\n",
       "      <td>1118</td>\n",
       "      <td>1382</td>\n",
       "      <td>1319</td>\n",
       "    </tr>\n",
       "    <tr>\n",
       "      <th>Headed Clearance</th>\n",
       "      <td>327</td>\n",
       "      <td>370</td>\n",
       "      <td>436</td>\n",
       "      <td>572</td>\n",
       "      <td>321</td>\n",
       "      <td>638</td>\n",
       "      <td>856</td>\n",
       "      <td>473</td>\n",
       "    </tr>\n",
       "    <tr>\n",
       "      <th>Aerial Battles/Duels Won</th>\n",
       "      <td>2582</td>\n",
       "      <td>2683</td>\n",
       "      <td>2699</td>\n",
       "      <td>2766</td>\n",
       "      <td>2482</td>\n",
       "      <td>2689</td>\n",
       "      <td>2597</td>\n",
       "      <td>2477</td>\n",
       "    </tr>\n",
       "    <tr>\n",
       "      <th>Errors leading to goal</th>\n",
       "      <td>7</td>\n",
       "      <td>8</td>\n",
       "      <td>4</td>\n",
       "      <td>3</td>\n",
       "      <td>2</td>\n",
       "      <td>3</td>\n",
       "      <td>7</td>\n",
       "      <td>7</td>\n",
       "    </tr>\n",
       "    <tr>\n",
       "      <th>Own goals</th>\n",
       "      <td>1</td>\n",
       "      <td>3</td>\n",
       "      <td>2</td>\n",
       "      <td>1</td>\n",
       "      <td>2</td>\n",
       "      <td>1</td>\n",
       "      <td>1</td>\n",
       "      <td>4</td>\n",
       "    </tr>\n",
       "    <tr>\n",
       "      <th>Yellow cards</th>\n",
       "      <td>73</td>\n",
       "      <td>73</td>\n",
       "      <td>64</td>\n",
       "      <td>78</td>\n",
       "      <td>65</td>\n",
       "      <td>64</td>\n",
       "      <td>66</td>\n",
       "      <td>57</td>\n",
       "    </tr>\n",
       "    <tr>\n",
       "      <th>Red cards</th>\n",
       "      <td>0</td>\n",
       "      <td>4</td>\n",
       "      <td>1</td>\n",
       "      <td>2</td>\n",
       "      <td>1</td>\n",
       "      <td>5</td>\n",
       "      <td>3</td>\n",
       "      <td>1</td>\n",
       "    </tr>\n",
       "    <tr>\n",
       "      <th>Fouls</th>\n",
       "      <td>243</td>\n",
       "      <td>221</td>\n",
       "      <td>237</td>\n",
       "      <td>268</td>\n",
       "      <td>261</td>\n",
       "      <td>241</td>\n",
       "      <td>130</td>\n",
<<<<<<< HEAD
<<<<<<< HEAD
=======
>>>>>>> 72989aff461f01b000bb8f35e35ce1699d27e50b
>>>>>>> 6c32097dd8a02fed993934f15e57fc0c47512aad
=======
>>>>>>> 72989aff461f01b000bb8f35e35ce1699d27e50b
>>>>>>> 6c32097dd8a02fed993934f15e57fc0c47512aad
       "      <td>0</td>\n",
       "    </tr>\n",
       "    <tr>\n",
       "      <th>Offsides</th>\n",
<<<<<<< HEAD
<<<<<<< HEAD
=======
<<<<<<< HEAD
=======
>>>>>>> 6c32097dd8a02fed993934f15e57fc0c47512aad
       "      <td>66</td>\n",
       "      <td>74</td>\n",
       "      <td>88</td>\n",
       "      <td>74</td>\n",
       "      <td>72</td>\n",
       "      <td>77</td>\n",
       "      <td>64</td>\n",
       "      <td>77</td>\n",
=======
<<<<<<< HEAD
>>>>>>> 6c32097dd8a02fed993934f15e57fc0c47512aad
=======
>>>>>>> 6c32097dd8a02fed993934f15e57fc0c47512aad
       "      <td>56</td>\n",
       "      <td>90</td>\n",
       "      <td>88</td>\n",
       "      <td>99</td>\n",
       "      <td>75</td>\n",
       "      <td>87</td>\n",
       "      <td>97</td>\n",
       "      <td>96</td>\n",
<<<<<<< HEAD
<<<<<<< HEAD
=======
>>>>>>> 72989aff461f01b000bb8f35e35ce1699d27e50b
>>>>>>> 6c32097dd8a02fed993934f15e57fc0c47512aad
=======
>>>>>>> 72989aff461f01b000bb8f35e35ce1699d27e50b
>>>>>>> 6c32097dd8a02fed993934f15e57fc0c47512aad
       "    </tr>\n",
       "  </tbody>\n",
       "</table>\n",
       "</div>"
      ],
      "text/plain": [
       "                          2019/2020 2018/2019 2017/2018 2016/2017 2015/2016  \\\n",
       "labels                                                                        \n",
<<<<<<< HEAD
<<<<<<< HEAD
=======
<<<<<<< HEAD
=======
>>>>>>> 6c32097dd8a02fed993934f15e57fc0c47512aad
       "Goals                            61        67        74        86        69   \n",
       "Goals per match                1.61      1.76      1.95      2.26      1.82   \n",
       "Shots                           444       537       623       669       659   \n",
       "Shots on target                 160       189       216       257       252   \n",
       "Shooting accuracy %              36        35        35        38        38   \n",
       "Penalties scored                  3         4         2         7         5   \n",
       "Big Chances Created              48        64        76        53        64   \n",
       "Hit woodwork                      7        13        13        22        19   \n",
       "Passes                        18644     21295     21660     20150     18649   \n",
       "Passes per match             490.63    560.39    570.00    530.26    490.76   \n",
       "Pass accuracy %                  81        83        84        82        80   \n",
       "Crosses                         641       643       825       761       738   \n",
       "Cross accuracy %                 17        26        20        20        21   \n",
       "Clean sheets                      8        13        16        17        13   \n",
       "Goals Conceded                   47        39        36        26        35   \n",
       "Goals conceded per match       1.24      1.03      0.95      0.68      0.92   \n",
       "Saves                           140       121        93        85        89   \n",
       "Tackles                         665       626       618       661       805   \n",
       "Tackle success %                 62        60        65        75        77   \n",
       "Blocked shots                   126       142       182       183       180   \n",
       "Interceptions                   381       326       380       314       645   \n",
       "Clearances                      841       770       825      1003      1046   \n",
       "Headed Clearance                433       411       422       515       502   \n",
       "Aerial Battles/Duels Won       2830      2566      2673      2696      2619   \n",
       "Errors leading to goal            8         6         9         7         6   \n",
       "Own goals                         2         3         1         1         3   \n",
       "Yellow cards                     82        56        50        62        72   \n",
       "Red cards                         3         3         2         0         0   \n",
       "Fouls                           262       225       217       238       236   \n",
       "Offsides                         66        74        88        74        72   \n",
       "\n",
       "                          2014/2015 2013/2014 2012/2013  \n",
       "labels                                                   \n",
       "Goals                            58        55        66  \n",
       "Goals per match                1.53      1.45      1.74  \n",
       "Shots                           527       588       681  \n",
       "Shots on target                 171       192       241  \n",
       "Shooting accuracy %              32        33        35  \n",
       "Penalties scored                  3         5         0  \n",
       "Big Chances Created              51        68        50  \n",
       "Hit woodwork                     11        12        17  \n",
       "Passes                        19322     17933     16647  \n",
       "Passes per match             508.47    471.92    438.08  \n",
       "Pass accuracy %                  81        82        83  \n",
       "Crosses                         742       849       884  \n",
       "Cross accuracy %                 20        20        21  \n",
       "Clean sheets                      9        14         9  \n",
       "Goals Conceded                   53        51        46  \n",
       "Goals conceded per match       1.39      1.34      1.21  \n",
       "Saves                           119       106         0  \n",
       "Tackles                         815       750       745  \n",
       "Tackle success %                 80        79        76  \n",
       "Blocked shots                   153       168       193  \n",
       "Interceptions                   674       560       721  \n",
       "Clearances                     1047       974      1595  \n",
       "Headed Clearance                636       585       468  \n",
       "Aerial Battles/Duels Won       2809      2671      2551  \n",
       "Errors leading to goal           11        21         8  \n",
       "Own goals                         2         3         1  \n",
       "Yellow cards                     79        66        55  \n",
       "Red cards                         4         4         2  \n",
       "Fouls                           218       138         0  \n",
       "Offsides                         77        64        77  "
      ]
     },
     "execution_count": 211,
=======
<<<<<<< HEAD
>>>>>>> 6c32097dd8a02fed993934f15e57fc0c47512aad
=======
>>>>>>> 6c32097dd8a02fed993934f15e57fc0c47512aad
       "Goals                            66        65        68        54        49   \n",
       "Goals per match                1.74      1.67      1.79      1.42      1.29   \n",
       "Shots                           544       526       512       591       430   \n",
       "Shots on target                 216       225       178       210       144   \n",
       "Shooting accuracy %              40        43        35        36        33   \n",
       "Penalties scored                 10         9         1         3         3   \n",
       "Big Chances Created              55        65        60        62        44   \n",
       "Hit woodwork                     15         9        16        19         9   \n",
       "Passes                        20059     19202     20064     20245     20070   \n",
       "Passes per match             527.87    492.36    528.00    532.76    528.16   \n",
       "Pass accuracy %                  84        82        84        84        82   \n",
       "Crosses                         635       638       753       848       786   \n",
       "Cross accuracy %                 20        20        20        24        19   \n",
       "Clean sheets                     13         7        19        17        18   \n",
       "Goals Conceded                   36        54        28        29        35   \n",
       "Goals conceded per match       0.95      1.38      0.74      0.76      0.92   \n",
       "Saves                            96       122       118        85        90   \n",
       "Tackles                         580       581       564       690       760   \n",
       "Tackle success %                 57        60        65        71        76   \n",
       "Blocked shots                   128       130       168       154       137   \n",
       "Interceptions                   379       355       481       584       594   \n",
       "Clearances                      627       785       853      1112       755   \n",
       "Headed Clearance                327       370       436       572       321   \n",
       "Aerial Battles/Duels Won       2582      2683      2699      2766      2482   \n",
       "Errors leading to goal            7         8         4         3         2   \n",
       "Own goals                         1         3         2         1         2   \n",
       "Yellow cards                     73        73        64        78        65   \n",
       "Red cards                         0         4         1         2         1   \n",
       "Fouls                           243       221       237       268       261   \n",
       "Offsides                         56        90        88        99        75   \n",
       "\n",
       "                          2014/2015 2013/2014 2012/2013  \n",
       "labels                                                   \n",
       "Goals                            62        64        86  \n",
       "Goals per match                1.63      1.68      2.26  \n",
       "Shots                           512       526       561  \n",
       "Shots on target                 180       183       213  \n",
       "Shooting accuracy %              35        35        38  \n",
       "Penalties scored                  3         5         4  \n",
       "Big Chances Created              54        53        89  \n",
       "Hit woodwork                     11        16        24  \n",
       "Passes                        21311     18894     19696  \n",
       "Passes per match             560.82    497.21    518.32  \n",
       "Pass accuracy %                  85        84        86  \n",
       "Crosses                         908      1000       962  \n",
       "Cross accuracy %                 22        21        22  \n",
       "Clean sheets                     11        13        13  \n",
       "Goals Conceded                   37        43        43  \n",
       "Goals conceded per match       0.97      1.13      1.13  \n",
       "Saves                           100       103         1  \n",
       "Tackles                         739       676       731  \n",
       "Tackle success %                 74        75        77  \n",
       "Blocked shots                   144       130       127  \n",
       "Interceptions                   679       595       514  \n",
       "Clearances                     1118      1382      1319  \n",
       "Headed Clearance                638       856       473  \n",
       "Aerial Battles/Duels Won       2689      2597      2477  \n",
       "Errors leading to goal            3         7         7  \n",
       "Own goals                         1         1         4  \n",
       "Yellow cards                     64        66        57  \n",
       "Red cards                         5         3         1  \n",
       "Fouls                           241       130         0  \n",
       "Offsides                         87        97        96  "
      ]
     },
     "execution_count": 66,
<<<<<<< HEAD
<<<<<<< HEAD
=======
>>>>>>> 72989aff461f01b000bb8f35e35ce1699d27e50b
>>>>>>> 6c32097dd8a02fed993934f15e57fc0c47512aad
=======
>>>>>>> 72989aff461f01b000bb8f35e35ce1699d27e50b
>>>>>>> 6c32097dd8a02fed993934f15e57fc0c47512aad
     "metadata": {},
     "output_type": "execute_result"
    }
   ],
   "source": [
    "df_final"
   ]
  },
  {
   "cell_type": "code",
<<<<<<< HEAD
<<<<<<< HEAD
=======
<<<<<<< HEAD
=======
>>>>>>> 6c32097dd8a02fed993934f15e57fc0c47512aad
   "execution_count": 209,
   "metadata": {},
   "outputs": [],
   "source": [
    "df_final.to_csv('StatsSince2012Tottenham.csv',index=False)"
   ]
  },
  {
   "cell_type": "code",
   "execution_count": null,
   "metadata": {},
   "outputs": [],
   "source": []
  },
  {
=======
<<<<<<< HEAD
>>>>>>> 6c32097dd8a02fed993934f15e57fc0c47512aad
=======
>>>>>>> 6c32097dd8a02fed993934f15e57fc0c47512aad
   "execution_count": 67,
   "metadata": {},
   "outputs": [],
   "source": [
    "df_final.to_csv('StatsSince2012ManUnited.csv',index=True)"
   ]
  },
  {
<<<<<<< HEAD
<<<<<<< HEAD
=======
>>>>>>> 72989aff461f01b000bb8f35e35ce1699d27e50b
>>>>>>> 6c32097dd8a02fed993934f15e57fc0c47512aad
=======
>>>>>>> 72989aff461f01b000bb8f35e35ce1699d27e50b
>>>>>>> 6c32097dd8a02fed993934f15e57fc0c47512aad
   "cell_type": "markdown",
   "metadata": {},
   "source": [
    "### RECHERCHE et TEST"
   ]
  },
  {
   "cell_type": "code",
   "execution_count": 25,
   "metadata": {},
   "outputs": [],
   "source": [
    "element = driver.find_elements_by_xpath('//div[@class=\"statsListBlock\"] //div[@class=\"normalStat\"] //span[@class=\"stat\"] ')\n",
    "rubrique = [x.text for x in element]\n"
   ]
  },
  {
   "cell_type": "code",
   "execution_count": 27,
   "metadata": {},
   "outputs": [],
   "source": [
    "donnees=[]\n",
    "for line in rubrique:\n",
    "    line=line.replace('\\n',' ')\n",
    "    line=line.replace(',','')\n",
    "    donnees.append(line)"
   ]
  },
  {
   "cell_type": "code",
   "execution_count": 29,
   "metadata": {},
   "outputs": [],
   "source": [
    "res=[]\n",
    "for line in donnees:\n",
    "    res.append(re.split('([-+]?\\d+\\.\\d+)|([-+]?\\d+)',line))"
   ]
  },
  {
   "cell_type": "code",
   "execution_count": 30,
   "metadata": {},
   "outputs": [],
   "source": [
    "for element in res :\n",
    "    if None in element :\n",
    "        element.remove(None)\n",
    "        if None in element :\n",
    "            element.remove(None)\n",
    "    if '' in element:\n",
    "        element.remove('')\n",
    "    if '%' in element:\n",
    "        element.remove('%')\n"
   ]
  },
  {
   "cell_type": "code",
   "execution_count": null,
   "metadata": {},
   "outputs": [],
   "source": [
    "ind=[i[1] for i in res]\n",
    "print(ind)"
   ]
  }
 ],
 "metadata": {
  "kernelspec": {
   "display_name": "Python 3",
   "language": "python",
   "name": "python3"
  },
  "language_info": {
   "codemirror_mode": {
    "name": "ipython",
    "version": 3
   },
   "file_extension": ".py",
   "mimetype": "text/x-python",
   "name": "python",
   "nbconvert_exporter": "python",
   "pygments_lexer": "ipython3",
   "version": "3.7.1"
  }
 },
 "nbformat": 4,
 "nbformat_minor": 2
}
